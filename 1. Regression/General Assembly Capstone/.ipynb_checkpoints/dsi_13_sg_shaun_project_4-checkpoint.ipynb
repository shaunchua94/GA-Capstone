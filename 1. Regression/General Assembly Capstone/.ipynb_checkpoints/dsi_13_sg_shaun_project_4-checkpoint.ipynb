{
 "cells": [
  {
   "cell_type": "markdown",
   "metadata": {},
   "source": [
    "<img src=\"./images/dsi_13_sg_shaun_project_4_banner.jpg\" width=1000>"
   ]
  },
  {
   "cell_type": "markdown",
   "metadata": {},
   "source": [
    "# Project 4: West Nile Virus Prediction\n",
    "**<font color = blue> Shaun Chua \n",
    "<br> (DSI-13) </font>**\n",
    "\n",
    "---"
   ]
  },
  {
   "cell_type": "markdown",
   "metadata": {},
   "source": [
    "# Table of Contents: <a id=\"top\"></a>\n",
    "[**1. Problem Statement**](#1)\n",
    "<br> [**2. Importing Libraries**](#2)\n",
    "<br> [**3. EDA and Cleaning**](#3)\n",
    "<br> &emsp; [3.1 EDA and Cleaning: Weather](#3.1)\n",
    "<br> &emsp; [3.2 Creating a Function to Get Posts](#3.2)\n",
    "<br> &emsp; [3.3 Data Collection from r/gambling](#3.3)\n",
    "<br> &emsp; [3.4 Data Collection from r/problemgambling](#3.4)\n",
    "<br> [**4. Data Cleaning & EDA**](#4)\n",
    "<br> &emsp; [4.1 Creating a Function to Preview Data](#4.1)\n",
    "<br> &emsp; [4.2 Reading and Previewing Datasets](#4.2)\n",
    "<br> &emsp; [4.3 Cleaning the Datasets](#4.3)\n",
    "<br> &emsp;&emsp;&emsp; [4.3.1 Selecting Columns](#4.3.1)\n",
    "<br> &emsp;&emsp;&emsp; [4.3.2 Combining Datasets](#4.3.2)\n",
    "<br> &emsp;&emsp;&emsp; [4.3.3 Dropping Duplicates](#4.3.3)\n",
    "<br> &emsp;&emsp;&emsp; [4.3.4 Resolving Missing Values for `title`](#4.3.4)\n",
    "<br> &emsp;&emsp;&emsp; [4.3.5 Resolving Missing Values for `subreddit`](#4.3.5)\n",
    "<br> &emsp;&emsp;&emsp; [4.3.6 Resolving Missing Values for `selftext`](#4.3.6)\n",
    "<br> &emsp;&emsp;&emsp; [4.3.7 Mapping `subreddit`](#4.3.7)\n",
    "<br> &emsp;&emsp;&emsp; [4.3.8 Cleaning with RegEx](#4.3.8)\n",
    "<br> &emsp;&emsp;&emsp; [4.3.9 Cleaning with Stop Words](#4.3.9)\n",
    "<br> &emsp;&emsp;&emsp; [4.3.10 Cleaning with Lemmetisation](#4.3.10)\n",
    "<br> &emsp; [4.4 EDA: Visualisation](#4.4)\n",
    "<br> &emsp;&emsp;&emsp; [4.4.1 Word Cloud](#4.4.1)\n",
    "<br> &emsp;&emsp;&emsp; [4.4.2 Barh Plot](#4.4.2)\n",
    "<br> [**5. Preprocessing and Modelling**](#5)\n",
    "<br> &emsp; [5.1 Train Test Split](#5.1)\n",
    "<br> &emsp; [5.2 MultinomialNB](#5.2)\n",
    "<br> &emsp; [5.3 Logistic Regression](#5.3)\n",
    "<br> &emsp; [5.4 Model Optimisation](#5.4)\n",
    "<br> &emsp;&emsp;&emsp; [5.4.1 GridSearchCV](#5.4.1)\n",
    "<br> &emsp;&emsp;&emsp; [5.4.2 Optimised MultinomialNB](#5.4.2)\n",
    "<br> &emsp;&emsp;&emsp; [5.4.3 Optimised Logistic Regression](#5.4.3)\n",
    "<br> &emsp; [5.5 Summary of Classification Metrics](#5.5)\n",
    "<br> &emsp; [5.6 Fitting the Chosen Model](#5.6)\n",
    "<br> &emsp; [5.7 Feature Words and Coefficients](#5.7)\n",
    "<br> &emsp;&emsp;&emsp; [5.7.1 Feature Words](#5.7.1)\n",
    "<br> &emsp;&emsp;&emsp; [5.7.2 Coefficients](#5.7.2)\n",
    "<br> &emsp; [5.8 The ROC Curve](#5.8)\n",
    "<br> [**6. Conclusion and Recommendations**](#6)\n",
    "<br> [**7. Limitations**](#7)\n",
    "<br> [**8. Future Directions**](#8)"
   ]
  },
  {
   "cell_type": "markdown",
   "metadata": {},
   "source": [
    "# 1. Problem Statement <a id=\"1\"></a> <font color = red> Come back to this </font>\n",
    "\n",
    "West Nile virus (WNV) is the leading cause of mosquito-borne disease in the continental United States.  It is most commonly spread to people by the bite of an infected mosquito. Cases of WNV occur during mosquito season, which starts in the summer and continues through fall. There are no vaccines to prevent or medications to treat WNV in people. Fortunately, most people infected with WNV do not feel sick. About 1 in 5 people who are infected develop a fever and other symptoms. About 1 out of 150 infected people develop a serious, sometimes fatal, illness. You can reduce your risk of WNV by using insect repellent and wearing long-sleeved shirts and long pants to prevent mosquito bites\n",
    "\n",
    "**The goal of this project is two-fold:**\n",
    "<br> (1) Utilise Reddit's Application Programming Interface (API) to collect posts from **two** subreddits\n",
    "<br> (2) Utilise Natural Language Processsing (NLP) to train **at least two** models which can be used to classify posts based on which of the two subreddits it came from. \n",
    "\n",
    "The two subreddits I will be using are <a href=\"https://www.reddit.com/r/problemgambling/\">**r/problemgambling**</a> and <a href=\"https://www.reddit.com/r/gambling/\">**r/gambling**</a>. \n",
    "\n",
    "The **Multinomial Naive Bayes Model** and **Logistic Regression Model** will be used.\n",
    "\n",
    "Several classification metrics will be considered, and these include: \n",
    "<br> 1) Accuracy (not the final indicator of success)\n",
    "<br> 2) Sensitivity\n",
    "<br> 3) Specificity\n",
    "<br> 4) ROC_AUC Score\n",
    "\n",
    "**I will most likely focus on sensitivity** as the main criteria, because I am predicting problemgambling. So I would rather correctly predict individuals heading towards/or currently experiencing problemgambling. I will discuss this again at the [summary scores section](#5.4.4) later.\n",
    "\n",
    "<br> The findings of this project may provide insight which caters to **two main stakeholder groups**. \n",
    "\n",
    "First, to the NCPG Management, and second, to the NCPG Data Science Team. \n",
    "\n",
    "I believe that the findings of this project, in particular the keywords that tend to distinguish between gambling and problem gambling, will aid in identifiying Singaporeans headed towards, or are currently facing, problem gambling. \n",
    "\n",
    "<br> This will be elaborated on more in the [Conclusions and Recommendations](#6) section. "
   ]
  },
  {
   "cell_type": "code",
   "execution_count": 1,
   "metadata": {},
   "outputs": [],
   "source": [
    "# pip install seaborn"
   ]
  },
  {
   "cell_type": "markdown",
   "metadata": {},
   "source": [
    "# 2. Importing Libraries <a id=\"2\"></a>"
   ]
  },
  {
   "cell_type": "code",
   "execution_count": 2,
   "metadata": {},
   "outputs": [],
   "source": [
    "#pip install imblearn"
   ]
  },
  {
   "cell_type": "code",
   "execution_count": 3,
   "metadata": {
    "scrolled": false
   },
   "outputs": [],
   "source": [
    "# Standard Libraries\n",
    "import pandas as pd\n",
    "import numpy as np\n",
    "import matplotlib.pyplot as plt\n",
    "import seaborn as sns\n",
    "from matplotlib.pylab import rcParams\n",
    "\n",
    "# SMOTE for imbalanced classes\n",
    "from imblearn.combine import SMOTETomek\n",
    "\n",
    "# Datetime\n",
    "from datetime import datetime\n",
    "\n",
    "# Sklearn\n",
    "from sklearn.preprocessing import StandardScaler\n",
    "from sklearn.model_selection import train_test_split, GridSearchCV \n",
    "from sklearn import tree\n",
    "from sklearn.tree import DecisionTreeClassifier\n",
    "from sklearn.ensemble import AdaBoostClassifier, GradientBoostingClassifier, RandomForestClassifier\n",
    "from sklearn.decomposition import PCA\n",
    "from sklearn.svm import SVC\n",
    "from sklearn.metrics import confusion_matrix, roc_auc_score\n",
    "\n",
    "# For bolding fonts\n",
    "class color:\n",
    "   PURPLE = '\\033[95m'\n",
    "   CYAN = '\\033[96m'\n",
    "   DARKCYAN = '\\033[36m'\n",
    "   BLUE = '\\033[94m'\n",
    "   GREEN = '\\033[92m'\n",
    "   YELLOW = '\\033[93m'\n",
    "   RED = '\\033[91m'\n",
    "   BOLD = '\\033[1m'\n",
    "   UNDERLINE = '\\033[4m'\n",
    "   END = '\\033[0m'\n",
    "\n",
    "# Time\n",
    "import time\n",
    "\n",
    "%matplotlib inline"
   ]
  },
  {
   "cell_type": "code",
   "execution_count": 4,
   "metadata": {},
   "outputs": [],
   "source": [
    "# Starting timer for notebook \n",
    "\n",
    "t0 = time.time()"
   ]
  },
  {
   "cell_type": "markdown",
   "metadata": {},
   "source": [
    "# 3. EDA and Cleaning <a id=\"3\"></a>\n",
    "\n",
    "A total of 4 datasets will be explored, cleaned, and saved: \n",
    "<br> **1) Weather\n",
    "<br> 2) Spray\n",
    "<br> 3) Train\n",
    "<br> 4) Test** "
   ]
  },
  {
   "cell_type": "markdown",
   "metadata": {},
   "source": [
    "## 3.1 EDA and Cleaning: Weather <a id=\"3.1\"></a>"
   ]
  },
  {
   "cell_type": "markdown",
   "metadata": {},
   "source": [
    "##### <font color = blue> Shaun: </font>\n",
    "\n",
    "To be completely honest, at this juncture, I have no idea what I have to do. I'll just do some EDA and look around to see if I am violently shaken by a sudden stroke of brilliance. "
   ]
  },
  {
   "cell_type": "code",
   "execution_count": 5,
   "metadata": {},
   "outputs": [],
   "source": [
    "# Reading weather.csv as weather_df\n",
    "\n",
    "weather_df = pd.read_csv(\"./datasets/weather.csv\")"
   ]
  },
  {
   "cell_type": "code",
   "execution_count": 6,
   "metadata": {},
   "outputs": [],
   "source": [
    "# Creating function to view dataframes\n",
    "\n",
    "def preview(dataframe):\n",
    "    dataframe_name = [x for x in globals() if globals()[x] is dataframe][0]\n",
    "    print(f\"{dataframe_name} has shape: {dataframe.shape}.\")\n",
    "    \n",
    "    print(\"\")\n",
    "    print(f\"{dataframe_name} has the following columns: {dataframe.columns}\")\n",
    "    \n",
    "    print(\"\")\n",
    "    print(f\"These are the top 5 rows of {dataframe_name}:\")\n",
    "    display(dataframe.head())\n",
    "\n",
    "    print(\"\")\n",
    "    print(f\"These are the bottom 5 rows of {dataframe_name}:\")\n",
    "    display(dataframe.tail())\n",
    "    \n",
    "    print(\"\")\n",
    "    print(f\"An overview of {dataframe_name}'s feature types, counts, and nulls:\")\n",
    "    print(\"\")\n",
    "    display(dataframe.info())\n",
    "    \n",
    "    print(\"\")\n",
    "    nulls = dataframe.isnull().sum()\n",
    "    total_nulls = dataframe.isnull().sum().sum()\n",
    "    if total_nulls > 0:\n",
    "        print(f\"{dataframe_name} has a total {total_nulls} of nulls.\")\n",
    "        print(\"\")\n",
    "        print(f\"The columns in {dataframe_name} with nulls are: {list(nulls[nulls>0].index)}\") \n",
    "      \n",
    "        print(\"\")\n",
    "        print(f\"The variables with nulls in {dataframe_name} are:\")\n",
    "        display(nulls)\n",
    "\n",
    "        print(\"\")\n",
    "        print(f\"The top 5 variables in {dataframe_name} with the highest percentage of missing values are:\")\n",
    "        display(dataframe.isnull().mean().sort_values(ascending=False)[:5])\n",
    "\n",
    "    else:\n",
    "        print(f\"{dataframe_name} does not contain nulls.\")"
   ]
  },
  {
   "cell_type": "markdown",
   "metadata": {},
   "source": [
    "##### Using `preview` function to view weather_df"
   ]
  },
  {
   "cell_type": "code",
   "execution_count": 37,
   "metadata": {
    "scrolled": true
   },
   "outputs": [
    {
     "name": "stdout",
     "output_type": "stream",
     "text": [
      "weather_df has shape: (2929, 22).\n",
      "\n",
      "weather_df has the following columns: Index(['Station', 'Date', 'Tmax', 'Tmin', 'Tavg', 'Depart', 'DewPoint',\n",
      "       'WetBulb', 'Heat', 'Cool', 'Sunrise', 'Sunset', 'CodeSum', 'Depth',\n",
      "       'Water1', 'SnowFall', 'PrecipTotal', 'StnPressure', 'SeaLevel',\n",
      "       'ResultSpeed', 'ResultDir', 'AvgSpeed'],\n",
      "      dtype='object')\n",
      "\n",
      "These are the top 5 rows of weather_df:\n"
     ]
    },
    {
     "data": {
      "text/html": [
       "<div>\n",
       "<style scoped>\n",
       "    .dataframe tbody tr th:only-of-type {\n",
       "        vertical-align: middle;\n",
       "    }\n",
       "\n",
       "    .dataframe tbody tr th {\n",
       "        vertical-align: top;\n",
       "    }\n",
       "\n",
       "    .dataframe thead th {\n",
       "        text-align: right;\n",
       "    }\n",
       "</style>\n",
       "<table border=\"1\" class=\"dataframe\">\n",
       "  <thead>\n",
       "    <tr style=\"text-align: right;\">\n",
       "      <th></th>\n",
       "      <th>Station</th>\n",
       "      <th>Date</th>\n",
       "      <th>Tmax</th>\n",
       "      <th>Tmin</th>\n",
       "      <th>Tavg</th>\n",
       "      <th>Depart</th>\n",
       "      <th>DewPoint</th>\n",
       "      <th>WetBulb</th>\n",
       "      <th>Heat</th>\n",
       "      <th>Cool</th>\n",
       "      <th>...</th>\n",
       "      <th>CodeSum</th>\n",
       "      <th>Depth</th>\n",
       "      <th>Water1</th>\n",
       "      <th>SnowFall</th>\n",
       "      <th>PrecipTotal</th>\n",
       "      <th>StnPressure</th>\n",
       "      <th>SeaLevel</th>\n",
       "      <th>ResultSpeed</th>\n",
       "      <th>ResultDir</th>\n",
       "      <th>AvgSpeed</th>\n",
       "    </tr>\n",
       "  </thead>\n",
       "  <tbody>\n",
       "    <tr>\n",
       "      <th>0</th>\n",
       "      <td>1</td>\n",
       "      <td>2007-05-01</td>\n",
       "      <td>83</td>\n",
       "      <td>50</td>\n",
       "      <td>67</td>\n",
       "      <td>14</td>\n",
       "      <td>51</td>\n",
       "      <td>56</td>\n",
       "      <td>0</td>\n",
       "      <td>2</td>\n",
       "      <td>...</td>\n",
       "      <td></td>\n",
       "      <td>0</td>\n",
       "      <td>M</td>\n",
       "      <td>0.0</td>\n",
       "      <td>0.00</td>\n",
       "      <td>29.10</td>\n",
       "      <td>29.82</td>\n",
       "      <td>1.7</td>\n",
       "      <td>27</td>\n",
       "      <td>9.2</td>\n",
       "    </tr>\n",
       "    <tr>\n",
       "      <th>1</th>\n",
       "      <td>2</td>\n",
       "      <td>2007-05-01</td>\n",
       "      <td>84</td>\n",
       "      <td>52</td>\n",
       "      <td>68</td>\n",
       "      <td>M</td>\n",
       "      <td>51</td>\n",
       "      <td>57</td>\n",
       "      <td>0</td>\n",
       "      <td>3</td>\n",
       "      <td>...</td>\n",
       "      <td></td>\n",
       "      <td>M</td>\n",
       "      <td>M</td>\n",
       "      <td>M</td>\n",
       "      <td>0.00</td>\n",
       "      <td>29.18</td>\n",
       "      <td>29.82</td>\n",
       "      <td>2.7</td>\n",
       "      <td>25</td>\n",
       "      <td>9.6</td>\n",
       "    </tr>\n",
       "    <tr>\n",
       "      <th>2</th>\n",
       "      <td>1</td>\n",
       "      <td>2007-05-02</td>\n",
       "      <td>59</td>\n",
       "      <td>42</td>\n",
       "      <td>51</td>\n",
       "      <td>-3</td>\n",
       "      <td>42</td>\n",
       "      <td>47</td>\n",
       "      <td>14</td>\n",
       "      <td>0</td>\n",
       "      <td>...</td>\n",
       "      <td>BR</td>\n",
       "      <td>0</td>\n",
       "      <td>M</td>\n",
       "      <td>0.0</td>\n",
       "      <td>0.00</td>\n",
       "      <td>29.38</td>\n",
       "      <td>30.09</td>\n",
       "      <td>13.0</td>\n",
       "      <td>4</td>\n",
       "      <td>13.4</td>\n",
       "    </tr>\n",
       "    <tr>\n",
       "      <th>3</th>\n",
       "      <td>2</td>\n",
       "      <td>2007-05-02</td>\n",
       "      <td>60</td>\n",
       "      <td>43</td>\n",
       "      <td>52</td>\n",
       "      <td>M</td>\n",
       "      <td>42</td>\n",
       "      <td>47</td>\n",
       "      <td>13</td>\n",
       "      <td>0</td>\n",
       "      <td>...</td>\n",
       "      <td>BR HZ</td>\n",
       "      <td>M</td>\n",
       "      <td>M</td>\n",
       "      <td>M</td>\n",
       "      <td>0.00</td>\n",
       "      <td>29.44</td>\n",
       "      <td>30.08</td>\n",
       "      <td>13.3</td>\n",
       "      <td>2</td>\n",
       "      <td>13.4</td>\n",
       "    </tr>\n",
       "    <tr>\n",
       "      <th>4</th>\n",
       "      <td>1</td>\n",
       "      <td>2007-05-03</td>\n",
       "      <td>66</td>\n",
       "      <td>46</td>\n",
       "      <td>56</td>\n",
       "      <td>2</td>\n",
       "      <td>40</td>\n",
       "      <td>48</td>\n",
       "      <td>9</td>\n",
       "      <td>0</td>\n",
       "      <td>...</td>\n",
       "      <td></td>\n",
       "      <td>0</td>\n",
       "      <td>M</td>\n",
       "      <td>0.0</td>\n",
       "      <td>0.00</td>\n",
       "      <td>29.39</td>\n",
       "      <td>30.12</td>\n",
       "      <td>11.7</td>\n",
       "      <td>7</td>\n",
       "      <td>11.9</td>\n",
       "    </tr>\n",
       "  </tbody>\n",
       "</table>\n",
       "<p>5 rows × 22 columns</p>\n",
       "</div>"
      ],
      "text/plain": [
       "   Station       Date  Tmax  Tmin Tavg Depart  DewPoint WetBulb Heat Cool  \\\n",
       "0        1 2007-05-01    83    50   67     14        51      56    0    2   \n",
       "1        2 2007-05-01    84    52   68      M        51      57    0    3   \n",
       "2        1 2007-05-02    59    42   51     -3        42      47   14    0   \n",
       "3        2 2007-05-02    60    43   52      M        42      47   13    0   \n",
       "4        1 2007-05-03    66    46   56      2        40      48    9    0   \n",
       "\n",
       "   ... CodeSum Depth Water1 SnowFall PrecipTotal StnPressure SeaLevel  \\\n",
       "0  ...             0      M      0.0        0.00       29.10    29.82   \n",
       "1  ...             M      M        M        0.00       29.18    29.82   \n",
       "2  ...      BR     0      M      0.0        0.00       29.38    30.09   \n",
       "3  ...   BR HZ     M      M        M        0.00       29.44    30.08   \n",
       "4  ...             0      M      0.0        0.00       29.39    30.12   \n",
       "\n",
       "  ResultSpeed ResultDir  AvgSpeed  \n",
       "0         1.7        27       9.2  \n",
       "1         2.7        25       9.6  \n",
       "2        13.0         4      13.4  \n",
       "3        13.3         2      13.4  \n",
       "4        11.7         7      11.9  \n",
       "\n",
       "[5 rows x 22 columns]"
      ]
     },
     "metadata": {},
     "output_type": "display_data"
    },
    {
     "name": "stdout",
     "output_type": "stream",
     "text": [
      "\n",
      "These are the bottom 5 rows of weather_df:\n"
     ]
    },
    {
     "data": {
      "text/html": [
       "<div>\n",
       "<style scoped>\n",
       "    .dataframe tbody tr th:only-of-type {\n",
       "        vertical-align: middle;\n",
       "    }\n",
       "\n",
       "    .dataframe tbody tr th {\n",
       "        vertical-align: top;\n",
       "    }\n",
       "\n",
       "    .dataframe thead th {\n",
       "        text-align: right;\n",
       "    }\n",
       "</style>\n",
       "<table border=\"1\" class=\"dataframe\">\n",
       "  <thead>\n",
       "    <tr style=\"text-align: right;\">\n",
       "      <th></th>\n",
       "      <th>Station</th>\n",
       "      <th>Date</th>\n",
       "      <th>Tmax</th>\n",
       "      <th>Tmin</th>\n",
       "      <th>Tavg</th>\n",
       "      <th>Depart</th>\n",
       "      <th>DewPoint</th>\n",
       "      <th>WetBulb</th>\n",
       "      <th>Heat</th>\n",
       "      <th>Cool</th>\n",
       "      <th>...</th>\n",
       "      <th>CodeSum</th>\n",
       "      <th>Depth</th>\n",
       "      <th>Water1</th>\n",
       "      <th>SnowFall</th>\n",
       "      <th>PrecipTotal</th>\n",
       "      <th>StnPressure</th>\n",
       "      <th>SeaLevel</th>\n",
       "      <th>ResultSpeed</th>\n",
       "      <th>ResultDir</th>\n",
       "      <th>AvgSpeed</th>\n",
       "    </tr>\n",
       "  </thead>\n",
       "  <tbody>\n",
       "    <tr>\n",
       "      <th>2939</th>\n",
       "      <td>2</td>\n",
       "      <td>2014-10-29</td>\n",
       "      <td>49</td>\n",
       "      <td>40</td>\n",
       "      <td>45</td>\n",
       "      <td>M</td>\n",
       "      <td>34</td>\n",
       "      <td>42</td>\n",
       "      <td>20</td>\n",
       "      <td>0</td>\n",
       "      <td>...</td>\n",
       "      <td></td>\n",
       "      <td>M</td>\n",
       "      <td>M</td>\n",
       "      <td>M</td>\n",
       "      <td>0.00</td>\n",
       "      <td>29.42</td>\n",
       "      <td>30.07</td>\n",
       "      <td>8.5</td>\n",
       "      <td>29</td>\n",
       "      <td>9.0</td>\n",
       "    </tr>\n",
       "    <tr>\n",
       "      <th>2940</th>\n",
       "      <td>1</td>\n",
       "      <td>2014-10-30</td>\n",
       "      <td>51</td>\n",
       "      <td>32</td>\n",
       "      <td>42</td>\n",
       "      <td>-4</td>\n",
       "      <td>34</td>\n",
       "      <td>40</td>\n",
       "      <td>23</td>\n",
       "      <td>0</td>\n",
       "      <td>...</td>\n",
       "      <td></td>\n",
       "      <td>0</td>\n",
       "      <td>M</td>\n",
       "      <td>0.0</td>\n",
       "      <td>0.00</td>\n",
       "      <td>29.34</td>\n",
       "      <td>30.09</td>\n",
       "      <td>5.1</td>\n",
       "      <td>24</td>\n",
       "      <td>5.5</td>\n",
       "    </tr>\n",
       "    <tr>\n",
       "      <th>2941</th>\n",
       "      <td>2</td>\n",
       "      <td>2014-10-30</td>\n",
       "      <td>53</td>\n",
       "      <td>37</td>\n",
       "      <td>45</td>\n",
       "      <td>M</td>\n",
       "      <td>35</td>\n",
       "      <td>42</td>\n",
       "      <td>20</td>\n",
       "      <td>0</td>\n",
       "      <td>...</td>\n",
       "      <td>RA</td>\n",
       "      <td>M</td>\n",
       "      <td>M</td>\n",
       "      <td>M</td>\n",
       "      <td>T</td>\n",
       "      <td>29.41</td>\n",
       "      <td>30.10</td>\n",
       "      <td>5.9</td>\n",
       "      <td>23</td>\n",
       "      <td>6.5</td>\n",
       "    </tr>\n",
       "    <tr>\n",
       "      <th>2942</th>\n",
       "      <td>1</td>\n",
       "      <td>2014-10-31</td>\n",
       "      <td>47</td>\n",
       "      <td>33</td>\n",
       "      <td>40</td>\n",
       "      <td>-6</td>\n",
       "      <td>25</td>\n",
       "      <td>33</td>\n",
       "      <td>25</td>\n",
       "      <td>0</td>\n",
       "      <td>...</td>\n",
       "      <td>RA SN</td>\n",
       "      <td>0</td>\n",
       "      <td>M</td>\n",
       "      <td>0.1</td>\n",
       "      <td>0.03</td>\n",
       "      <td>29.49</td>\n",
       "      <td>30.20</td>\n",
       "      <td>22.6</td>\n",
       "      <td>34</td>\n",
       "      <td>22.9</td>\n",
       "    </tr>\n",
       "    <tr>\n",
       "      <th>2943</th>\n",
       "      <td>2</td>\n",
       "      <td>2014-10-31</td>\n",
       "      <td>49</td>\n",
       "      <td>34</td>\n",
       "      <td>42</td>\n",
       "      <td>M</td>\n",
       "      <td>29</td>\n",
       "      <td>36</td>\n",
       "      <td>23</td>\n",
       "      <td>0</td>\n",
       "      <td>...</td>\n",
       "      <td>RA SN BR</td>\n",
       "      <td>M</td>\n",
       "      <td>M</td>\n",
       "      <td>M</td>\n",
       "      <td>0.04</td>\n",
       "      <td>29.54</td>\n",
       "      <td>30.20</td>\n",
       "      <td>21.7</td>\n",
       "      <td>34</td>\n",
       "      <td>22.6</td>\n",
       "    </tr>\n",
       "  </tbody>\n",
       "</table>\n",
       "<p>5 rows × 22 columns</p>\n",
       "</div>"
      ],
      "text/plain": [
       "      Station       Date  Tmax  Tmin Tavg Depart  DewPoint WetBulb Heat Cool  \\\n",
       "2939        2 2014-10-29    49    40   45      M        34      42   20    0   \n",
       "2940        1 2014-10-30    51    32   42     -4        34      40   23    0   \n",
       "2941        2 2014-10-30    53    37   45      M        35      42   20    0   \n",
       "2942        1 2014-10-31    47    33   40     -6        25      33   25    0   \n",
       "2943        2 2014-10-31    49    34   42      M        29      36   23    0   \n",
       "\n",
       "      ...   CodeSum Depth Water1 SnowFall PrecipTotal StnPressure SeaLevel  \\\n",
       "2939  ...               M      M        M        0.00       29.42    30.07   \n",
       "2940  ...               0      M      0.0        0.00       29.34    30.09   \n",
       "2941  ...        RA     M      M        M           T       29.41    30.10   \n",
       "2942  ...     RA SN     0      M      0.1        0.03       29.49    30.20   \n",
       "2943  ...  RA SN BR     M      M        M        0.04       29.54    30.20   \n",
       "\n",
       "     ResultSpeed ResultDir  AvgSpeed  \n",
       "2939         8.5        29       9.0  \n",
       "2940         5.1        24       5.5  \n",
       "2941         5.9        23       6.5  \n",
       "2942        22.6        34      22.9  \n",
       "2943        21.7        34      22.6  \n",
       "\n",
       "[5 rows x 22 columns]"
      ]
     },
     "metadata": {},
     "output_type": "display_data"
    },
    {
     "name": "stdout",
     "output_type": "stream",
     "text": [
      "\n",
      "An overview of weather_df's feature types, counts, and nulls:\n",
      "\n",
      "<class 'pandas.core.frame.DataFrame'>\n",
      "Int64Index: 2929 entries, 0 to 2943\n",
      "Data columns (total 22 columns):\n",
      " #   Column       Non-Null Count  Dtype         \n",
      "---  ------       --------------  -----         \n",
      " 0   Station      2929 non-null   int64         \n",
      " 1   Date         2929 non-null   datetime64[ns]\n",
      " 2   Tmax         2929 non-null   int64         \n",
      " 3   Tmin         2929 non-null   int64         \n",
      " 4   Tavg         2929 non-null   object        \n",
      " 5   Depart       2929 non-null   object        \n",
      " 6   DewPoint     2929 non-null   int64         \n",
      " 7   WetBulb      2929 non-null   object        \n",
      " 8   Heat         2929 non-null   object        \n",
      " 9   Cool         2929 non-null   object        \n",
      " 10  Sunrise      2929 non-null   object        \n",
      " 11  Sunset       2929 non-null   object        \n",
      " 12  CodeSum      2929 non-null   object        \n",
      " 13  Depth        2929 non-null   object        \n",
      " 14  Water1       2929 non-null   object        \n",
      " 15  SnowFall     2929 non-null   object        \n",
      " 16  PrecipTotal  2929 non-null   object        \n",
      " 17  StnPressure  2929 non-null   object        \n",
      " 18  SeaLevel     2929 non-null   object        \n",
      " 19  ResultSpeed  2929 non-null   float64       \n",
      " 20  ResultDir    2929 non-null   int64         \n",
      " 21  AvgSpeed     2929 non-null   object        \n",
      "dtypes: datetime64[ns](1), float64(1), int64(5), object(15)\n",
      "memory usage: 526.3+ KB\n"
     ]
    },
    {
     "data": {
      "text/plain": [
       "None"
      ]
     },
     "metadata": {},
     "output_type": "display_data"
    },
    {
     "name": "stdout",
     "output_type": "stream",
     "text": [
      "\n",
      "weather_df does not contain nulls.\n"
     ]
    }
   ],
   "source": [
    "preview(weather_df)"
   ]
  },
  {
   "cell_type": "markdown",
   "metadata": {},
   "source": [
    "##### <font color = blue> Shaun: </font>\n",
    "\n",
    "No Nulls, but according to the PDF file `noaa_weather_qclcd_documentation.pdf`:\n",
    "<br> 1) `M` represents NaNs\n",
    "<br> 2) `T` represents \"trace\". At this juncture, I assume it means a small amount, but not small enough to be neglected. \n",
    "\n",
    "<a id=\"here\"></a>"
   ]
  },
  {
   "cell_type": "markdown",
   "metadata": {},
   "source": [
    "##### Finding out number of `M`, which represent `NaN` in each column"
   ]
  },
  {
   "cell_type": "code",
   "execution_count": 43,
   "metadata": {},
   "outputs": [
    {
     "name": "stdout",
     "output_type": "stream",
     "text": [
      "Station 0\n",
      "Date 0\n",
      "Tmax 0\n",
      "Tmin 0\n",
      "Tavg 0\n",
      "Depart 1460\n",
      "DewPoint 0\n",
      "WetBulb 0\n",
      "Heat 0\n",
      "Cool 0\n",
      "Sunrise 0\n",
      "Sunset 0\n",
      "CodeSum 0\n",
      "Depth 1460\n",
      "Water1 2929\n",
      "SnowFall 1460\n",
      "PrecipTotal 2\n",
      "StnPressure 2\n",
      "SeaLevel 8\n",
      "ResultSpeed 0\n",
      "ResultDir 0\n",
      "AvgSpeed 2\n"
     ]
    }
   ],
   "source": [
    "for i, column in enumerate(weather_df):\n",
    "    print(weather_df.columns[i], weather_df[weather_df[column]=='M'][column].count())"
   ]
  },
  {
   "cell_type": "markdown",
   "metadata": {},
   "source": [
    "##### Finding out number of `T`, which represent \"trace\" in each column"
   ]
  },
  {
   "cell_type": "code",
   "execution_count": 201,
   "metadata": {},
   "outputs": [
    {
     "name": "stdout",
     "output_type": "stream",
     "text": [
      "Station 0\n",
      "Date 0\n",
      "Tmax 0\n",
      "Tmin 0\n",
      "Tavg 0\n",
      "Depart 0\n",
      "DewPoint 0\n",
      "WetBulb 0\n",
      "Heat 0\n",
      "Cool 0\n",
      "Sunrise 0\n",
      "Sunset 0\n",
      "CodeSum 0\n",
      "Depth 0\n",
      "Water1 0\n",
      "SnowFall 0\n",
      "PrecipTotal 0\n",
      "StnPressure 0\n",
      "SeaLevel 0\n",
      "ResultSpeed 0\n",
      "ResultDir 0\n",
      "AvgSpeed 0\n"
     ]
    },
    {
     "name": "stderr",
     "output_type": "stream",
     "text": [
      "C:\\Users\\Shaun\\anaconda3\\lib\\site-packages\\pandas\\core\\ops\\array_ops.py:253: FutureWarning: elementwise comparison failed; returning scalar instead, but in the future will perform elementwise comparison\n",
      "  res_values = method(rvalues)\n"
     ]
    }
   ],
   "source": [
    "for i, column in enumerate(weather_df):\n",
    "    print(weather_df.columns[i], weather_df[weather_df[column]=='T'][column].count())"
   ]
  },
  {
   "cell_type": "markdown",
   "metadata": {},
   "source": [
    "##### <font color = blue> Shaun: </font>\n",
    "\n",
    "Thankful there aren't any `T`, but I'll have to deal with the `M` in each column. \n",
    "\n",
    "I will now examine each column."
   ]
  },
  {
   "cell_type": "markdown",
   "metadata": {},
   "source": [
    "### 3.1.1 `Station` <a id=\"3.1.1\"></a>"
   ]
  },
  {
   "cell_type": "code",
   "execution_count": 9,
   "metadata": {},
   "outputs": [
    {
     "data": {
      "text/plain": [
       "array([1, 2], dtype=int64)"
      ]
     },
     "execution_count": 9,
     "metadata": {},
     "output_type": "execute_result"
    }
   ],
   "source": [
    "# Station does not have null values, checking the UNIQUE values it contains\n",
    "\n",
    "weather_df[\"Station\"].unique()"
   ]
  },
  {
   "cell_type": "code",
   "execution_count": 10,
   "metadata": {},
   "outputs": [
    {
     "data": {
      "text/plain": [
       "1    1472\n",
       "2    1472\n",
       "Name: Station, dtype: int64"
      ]
     },
     "execution_count": 10,
     "metadata": {},
     "output_type": "execute_result"
    }
   ],
   "source": [
    "# Checking how many of each UNIQUE value \"Station\" contains\n",
    "\n",
    "weather_df[\"Station\"].value_counts()"
   ]
  },
  {
   "cell_type": "code",
   "execution_count": 35,
   "metadata": {},
   "outputs": [
    {
     "data": {
      "text/plain": [
       "dtype('int64')"
      ]
     },
     "execution_count": 35,
     "metadata": {},
     "output_type": "execute_result"
    }
   ],
   "source": [
    "# Checking dtype\n",
    "\n",
    "weather_df[\"Station\"].dtype"
   ]
  },
  {
   "cell_type": "markdown",
   "metadata": {},
   "source": [
    "##### <font color = blue> Shaun: </font>\n",
    "\n",
    "I stared at this longer than I'd like to admit, before finally realising that `1` and `2` obviously meant the station number, and 1472 + 1472 = 2994 #quickmath, which is the total number of rows. \n",
    "\n",
    "From the <a href=\"https://www.kaggle.com/c/predict-west-nile-virus/data\">data description</a>:\n",
    "<br> Station 1: CHICAGO O'HARE INTERNATIONAL AIRPORT Lat: 41.995 Lon: -87.933 Elev: 662 ft. above sea level\n",
    "<br> Station 2: CHICAGO MIDWAY INTL ARPT Lat: 41.786 Lon: -87.752 Elev: 612 ft. above sea level\n",
    "\n",
    "OTL. \n",
    "\n",
    "`dtype` seems to be correct.\n",
    "\n",
    "**Conclusion:** \n",
    "<br> There are 2 stations used to capture weather data, everyone except me knew that already. Next."
   ]
  },
  {
   "cell_type": "markdown",
   "metadata": {},
   "source": [
    "### 3.1.2 `Date` <a id=\"3.1.2\"></a>"
   ]
  },
  {
   "cell_type": "code",
   "execution_count": 11,
   "metadata": {},
   "outputs": [
    {
     "data": {
      "text/plain": [
       "count           2944\n",
       "unique          1472\n",
       "top       2013-07-06\n",
       "freq               2\n",
       "Name: Date, dtype: object"
      ]
     },
     "execution_count": 11,
     "metadata": {},
     "output_type": "execute_result"
    }
   ],
   "source": [
    "# Date does not have null values, checking the values it contains\n",
    "\n",
    "weather_df[\"Date\"].describe()"
   ]
  },
  {
   "cell_type": "markdown",
   "metadata": {},
   "source": [
    "##### <font color = blue> Shaun: </font>\n",
    "\n",
    "Okay I guess this makes sense. \n",
    "\n",
    "Since there are 2 weather stations, it is understandable that the dates come in pairs since the same day is measured twice, once by each station. "
   ]
  },
  {
   "cell_type": "markdown",
   "metadata": {},
   "source": [
    "##### Using `pd.to_datetime` to automatically change `weather_df[\"Date\"]` into `datetime` format"
   ]
  },
  {
   "cell_type": "code",
   "execution_count": 12,
   "metadata": {
    "scrolled": false
   },
   "outputs": [
    {
     "data": {
      "text/plain": [
       "0      2007-05-01\n",
       "1      2007-05-01\n",
       "2      2007-05-02\n",
       "3      2007-05-02\n",
       "4      2007-05-03\n",
       "          ...    \n",
       "2939   2014-10-29\n",
       "2940   2014-10-30\n",
       "2941   2014-10-30\n",
       "2942   2014-10-31\n",
       "2943   2014-10-31\n",
       "Name: Date, Length: 2944, dtype: datetime64[ns]"
      ]
     },
     "execution_count": 12,
     "metadata": {},
     "output_type": "execute_result"
    }
   ],
   "source": [
    "weather_df[\"Date\"] = pd.to_datetime(weather_df[\"Date\"])\n",
    "weather_df[\"Date\"]"
   ]
  },
  {
   "cell_type": "code",
   "execution_count": 36,
   "metadata": {},
   "outputs": [
    {
     "data": {
      "text/plain": [
       "dtype('<M8[ns]')"
      ]
     },
     "execution_count": 36,
     "metadata": {},
     "output_type": "execute_result"
    }
   ],
   "source": [
    "# Checking dtype\n",
    "\n",
    "weather_df[\"Date\"].dtype"
   ]
  },
  {
   "cell_type": "markdown",
   "metadata": {},
   "source": [
    "##### Organising `weather_df[\"Date\"] by `year`"
   ]
  },
  {
   "cell_type": "code",
   "execution_count": 13,
   "metadata": {},
   "outputs": [
    {
     "data": {
      "text/plain": [
       "0       2007\n",
       "1       2007\n",
       "2       2007\n",
       "3       2007\n",
       "4       2007\n",
       "        ... \n",
       "2939    2014\n",
       "2940    2014\n",
       "2941    2014\n",
       "2942    2014\n",
       "2943    2014\n",
       "Name: Date, Length: 2944, dtype: int64"
      ]
     },
     "execution_count": 13,
     "metadata": {},
     "output_type": "execute_result"
    }
   ],
   "source": [
    "weather_df[\"Date\"].dt.year"
   ]
  },
  {
   "cell_type": "code",
   "execution_count": 14,
   "metadata": {},
   "outputs": [
    {
     "data": {
      "text/html": [
       "<div>\n",
       "<style scoped>\n",
       "    .dataframe tbody tr th:only-of-type {\n",
       "        vertical-align: middle;\n",
       "    }\n",
       "\n",
       "    .dataframe tbody tr th {\n",
       "        vertical-align: top;\n",
       "    }\n",
       "\n",
       "    .dataframe thead th {\n",
       "        text-align: right;\n",
       "    }\n",
       "</style>\n",
       "<table border=\"1\" class=\"dataframe\">\n",
       "  <thead>\n",
       "    <tr style=\"text-align: right;\">\n",
       "      <th></th>\n",
       "      <th>Station</th>\n",
       "      <th>Date</th>\n",
       "      <th>Tmax</th>\n",
       "      <th>Tmin</th>\n",
       "      <th>Tavg</th>\n",
       "      <th>Depart</th>\n",
       "      <th>DewPoint</th>\n",
       "      <th>WetBulb</th>\n",
       "      <th>Heat</th>\n",
       "      <th>Cool</th>\n",
       "      <th>...</th>\n",
       "      <th>CodeSum</th>\n",
       "      <th>Depth</th>\n",
       "      <th>Water1</th>\n",
       "      <th>SnowFall</th>\n",
       "      <th>PrecipTotal</th>\n",
       "      <th>StnPressure</th>\n",
       "      <th>SeaLevel</th>\n",
       "      <th>ResultSpeed</th>\n",
       "      <th>ResultDir</th>\n",
       "      <th>AvgSpeed</th>\n",
       "    </tr>\n",
       "  </thead>\n",
       "  <tbody>\n",
       "    <tr>\n",
       "      <th>0</th>\n",
       "      <td>1</td>\n",
       "      <td>2007-05-01</td>\n",
       "      <td>83</td>\n",
       "      <td>50</td>\n",
       "      <td>67</td>\n",
       "      <td>14</td>\n",
       "      <td>51</td>\n",
       "      <td>56</td>\n",
       "      <td>0</td>\n",
       "      <td>2</td>\n",
       "      <td>...</td>\n",
       "      <td></td>\n",
       "      <td>0</td>\n",
       "      <td>M</td>\n",
       "      <td>0.0</td>\n",
       "      <td>0.00</td>\n",
       "      <td>29.10</td>\n",
       "      <td>29.82</td>\n",
       "      <td>1.7</td>\n",
       "      <td>27</td>\n",
       "      <td>9.2</td>\n",
       "    </tr>\n",
       "    <tr>\n",
       "      <th>1</th>\n",
       "      <td>2</td>\n",
       "      <td>2007-05-01</td>\n",
       "      <td>84</td>\n",
       "      <td>52</td>\n",
       "      <td>68</td>\n",
       "      <td>M</td>\n",
       "      <td>51</td>\n",
       "      <td>57</td>\n",
       "      <td>0</td>\n",
       "      <td>3</td>\n",
       "      <td>...</td>\n",
       "      <td></td>\n",
       "      <td>M</td>\n",
       "      <td>M</td>\n",
       "      <td>M</td>\n",
       "      <td>0.00</td>\n",
       "      <td>29.18</td>\n",
       "      <td>29.82</td>\n",
       "      <td>2.7</td>\n",
       "      <td>25</td>\n",
       "      <td>9.6</td>\n",
       "    </tr>\n",
       "    <tr>\n",
       "      <th>2</th>\n",
       "      <td>1</td>\n",
       "      <td>2007-05-02</td>\n",
       "      <td>59</td>\n",
       "      <td>42</td>\n",
       "      <td>51</td>\n",
       "      <td>-3</td>\n",
       "      <td>42</td>\n",
       "      <td>47</td>\n",
       "      <td>14</td>\n",
       "      <td>0</td>\n",
       "      <td>...</td>\n",
       "      <td>BR</td>\n",
       "      <td>0</td>\n",
       "      <td>M</td>\n",
       "      <td>0.0</td>\n",
       "      <td>0.00</td>\n",
       "      <td>29.38</td>\n",
       "      <td>30.09</td>\n",
       "      <td>13.0</td>\n",
       "      <td>4</td>\n",
       "      <td>13.4</td>\n",
       "    </tr>\n",
       "    <tr>\n",
       "      <th>3</th>\n",
       "      <td>2</td>\n",
       "      <td>2007-05-02</td>\n",
       "      <td>60</td>\n",
       "      <td>43</td>\n",
       "      <td>52</td>\n",
       "      <td>M</td>\n",
       "      <td>42</td>\n",
       "      <td>47</td>\n",
       "      <td>13</td>\n",
       "      <td>0</td>\n",
       "      <td>...</td>\n",
       "      <td>BR HZ</td>\n",
       "      <td>M</td>\n",
       "      <td>M</td>\n",
       "      <td>M</td>\n",
       "      <td>0.00</td>\n",
       "      <td>29.44</td>\n",
       "      <td>30.08</td>\n",
       "      <td>13.3</td>\n",
       "      <td>2</td>\n",
       "      <td>13.4</td>\n",
       "    </tr>\n",
       "    <tr>\n",
       "      <th>4</th>\n",
       "      <td>1</td>\n",
       "      <td>2007-05-03</td>\n",
       "      <td>66</td>\n",
       "      <td>46</td>\n",
       "      <td>56</td>\n",
       "      <td>2</td>\n",
       "      <td>40</td>\n",
       "      <td>48</td>\n",
       "      <td>9</td>\n",
       "      <td>0</td>\n",
       "      <td>...</td>\n",
       "      <td></td>\n",
       "      <td>0</td>\n",
       "      <td>M</td>\n",
       "      <td>0.0</td>\n",
       "      <td>0.00</td>\n",
       "      <td>29.39</td>\n",
       "      <td>30.12</td>\n",
       "      <td>11.7</td>\n",
       "      <td>7</td>\n",
       "      <td>11.9</td>\n",
       "    </tr>\n",
       "    <tr>\n",
       "      <th>...</th>\n",
       "      <td>...</td>\n",
       "      <td>...</td>\n",
       "      <td>...</td>\n",
       "      <td>...</td>\n",
       "      <td>...</td>\n",
       "      <td>...</td>\n",
       "      <td>...</td>\n",
       "      <td>...</td>\n",
       "      <td>...</td>\n",
       "      <td>...</td>\n",
       "      <td>...</td>\n",
       "      <td>...</td>\n",
       "      <td>...</td>\n",
       "      <td>...</td>\n",
       "      <td>...</td>\n",
       "      <td>...</td>\n",
       "      <td>...</td>\n",
       "      <td>...</td>\n",
       "      <td>...</td>\n",
       "      <td>...</td>\n",
       "      <td>...</td>\n",
       "    </tr>\n",
       "    <tr>\n",
       "      <th>2939</th>\n",
       "      <td>2</td>\n",
       "      <td>2014-10-29</td>\n",
       "      <td>49</td>\n",
       "      <td>40</td>\n",
       "      <td>45</td>\n",
       "      <td>M</td>\n",
       "      <td>34</td>\n",
       "      <td>42</td>\n",
       "      <td>20</td>\n",
       "      <td>0</td>\n",
       "      <td>...</td>\n",
       "      <td></td>\n",
       "      <td>M</td>\n",
       "      <td>M</td>\n",
       "      <td>M</td>\n",
       "      <td>0.00</td>\n",
       "      <td>29.42</td>\n",
       "      <td>30.07</td>\n",
       "      <td>8.5</td>\n",
       "      <td>29</td>\n",
       "      <td>9.0</td>\n",
       "    </tr>\n",
       "    <tr>\n",
       "      <th>2940</th>\n",
       "      <td>1</td>\n",
       "      <td>2014-10-30</td>\n",
       "      <td>51</td>\n",
       "      <td>32</td>\n",
       "      <td>42</td>\n",
       "      <td>-4</td>\n",
       "      <td>34</td>\n",
       "      <td>40</td>\n",
       "      <td>23</td>\n",
       "      <td>0</td>\n",
       "      <td>...</td>\n",
       "      <td></td>\n",
       "      <td>0</td>\n",
       "      <td>M</td>\n",
       "      <td>0.0</td>\n",
       "      <td>0.00</td>\n",
       "      <td>29.34</td>\n",
       "      <td>30.09</td>\n",
       "      <td>5.1</td>\n",
       "      <td>24</td>\n",
       "      <td>5.5</td>\n",
       "    </tr>\n",
       "    <tr>\n",
       "      <th>2941</th>\n",
       "      <td>2</td>\n",
       "      <td>2014-10-30</td>\n",
       "      <td>53</td>\n",
       "      <td>37</td>\n",
       "      <td>45</td>\n",
       "      <td>M</td>\n",
       "      <td>35</td>\n",
       "      <td>42</td>\n",
       "      <td>20</td>\n",
       "      <td>0</td>\n",
       "      <td>...</td>\n",
       "      <td>RA</td>\n",
       "      <td>M</td>\n",
       "      <td>M</td>\n",
       "      <td>M</td>\n",
       "      <td>T</td>\n",
       "      <td>29.41</td>\n",
       "      <td>30.10</td>\n",
       "      <td>5.9</td>\n",
       "      <td>23</td>\n",
       "      <td>6.5</td>\n",
       "    </tr>\n",
       "    <tr>\n",
       "      <th>2942</th>\n",
       "      <td>1</td>\n",
       "      <td>2014-10-31</td>\n",
       "      <td>47</td>\n",
       "      <td>33</td>\n",
       "      <td>40</td>\n",
       "      <td>-6</td>\n",
       "      <td>25</td>\n",
       "      <td>33</td>\n",
       "      <td>25</td>\n",
       "      <td>0</td>\n",
       "      <td>...</td>\n",
       "      <td>RA SN</td>\n",
       "      <td>0</td>\n",
       "      <td>M</td>\n",
       "      <td>0.1</td>\n",
       "      <td>0.03</td>\n",
       "      <td>29.49</td>\n",
       "      <td>30.20</td>\n",
       "      <td>22.6</td>\n",
       "      <td>34</td>\n",
       "      <td>22.9</td>\n",
       "    </tr>\n",
       "    <tr>\n",
       "      <th>2943</th>\n",
       "      <td>2</td>\n",
       "      <td>2014-10-31</td>\n",
       "      <td>49</td>\n",
       "      <td>34</td>\n",
       "      <td>42</td>\n",
       "      <td>M</td>\n",
       "      <td>29</td>\n",
       "      <td>36</td>\n",
       "      <td>23</td>\n",
       "      <td>0</td>\n",
       "      <td>...</td>\n",
       "      <td>RA SN BR</td>\n",
       "      <td>M</td>\n",
       "      <td>M</td>\n",
       "      <td>M</td>\n",
       "      <td>0.04</td>\n",
       "      <td>29.54</td>\n",
       "      <td>30.20</td>\n",
       "      <td>21.7</td>\n",
       "      <td>34</td>\n",
       "      <td>22.6</td>\n",
       "    </tr>\n",
       "  </tbody>\n",
       "</table>\n",
       "<p>2944 rows × 22 columns</p>\n",
       "</div>"
      ],
      "text/plain": [
       "      Station       Date  Tmax  Tmin Tavg Depart  DewPoint WetBulb Heat Cool  \\\n",
       "0           1 2007-05-01    83    50   67     14        51      56    0    2   \n",
       "1           2 2007-05-01    84    52   68      M        51      57    0    3   \n",
       "2           1 2007-05-02    59    42   51     -3        42      47   14    0   \n",
       "3           2 2007-05-02    60    43   52      M        42      47   13    0   \n",
       "4           1 2007-05-03    66    46   56      2        40      48    9    0   \n",
       "...       ...        ...   ...   ...  ...    ...       ...     ...  ...  ...   \n",
       "2939        2 2014-10-29    49    40   45      M        34      42   20    0   \n",
       "2940        1 2014-10-30    51    32   42     -4        34      40   23    0   \n",
       "2941        2 2014-10-30    53    37   45      M        35      42   20    0   \n",
       "2942        1 2014-10-31    47    33   40     -6        25      33   25    0   \n",
       "2943        2 2014-10-31    49    34   42      M        29      36   23    0   \n",
       "\n",
       "      ...   CodeSum Depth Water1 SnowFall PrecipTotal StnPressure SeaLevel  \\\n",
       "0     ...               0      M      0.0        0.00       29.10    29.82   \n",
       "1     ...               M      M        M        0.00       29.18    29.82   \n",
       "2     ...        BR     0      M      0.0        0.00       29.38    30.09   \n",
       "3     ...     BR HZ     M      M        M        0.00       29.44    30.08   \n",
       "4     ...               0      M      0.0        0.00       29.39    30.12   \n",
       "...   ...       ...   ...    ...      ...         ...         ...      ...   \n",
       "2939  ...               M      M        M        0.00       29.42    30.07   \n",
       "2940  ...               0      M      0.0        0.00       29.34    30.09   \n",
       "2941  ...        RA     M      M        M           T       29.41    30.10   \n",
       "2942  ...     RA SN     0      M      0.1        0.03       29.49    30.20   \n",
       "2943  ...  RA SN BR     M      M        M        0.04       29.54    30.20   \n",
       "\n",
       "     ResultSpeed ResultDir  AvgSpeed  \n",
       "0            1.7        27       9.2  \n",
       "1            2.7        25       9.6  \n",
       "2           13.0         4      13.4  \n",
       "3           13.3         2      13.4  \n",
       "4           11.7         7      11.9  \n",
       "...          ...       ...       ...  \n",
       "2939         8.5        29       9.0  \n",
       "2940         5.1        24       5.5  \n",
       "2941         5.9        23       6.5  \n",
       "2942        22.6        34      22.9  \n",
       "2943        21.7        34      22.6  \n",
       "\n",
       "[2944 rows x 22 columns]"
      ]
     },
     "execution_count": 14,
     "metadata": {},
     "output_type": "execute_result"
    }
   ],
   "source": [
    "weather_df"
   ]
  },
  {
   "cell_type": "markdown",
   "metadata": {},
   "source": [
    "##### <font color = blue> Shaun: </font>\n",
    "\n",
    "I might organise `weather_df[\"Date\"]` by year, seems like that would be most helpful, but I'm not assigning it just yet. "
   ]
  },
  {
   "cell_type": "markdown",
   "metadata": {},
   "source": [
    "### 3.1.3 `Tmax` <a id=\"3.1.3\"></a>\n",
    "Maximum temperature in **Farenheit** ($\\&deg;F\\$)"
   ]
  },
  {
   "cell_type": "code",
   "execution_count": 90,
   "metadata": {},
   "outputs": [
    {
     "data": {
      "text/plain": [
       "0"
      ]
     },
     "execution_count": 90,
     "metadata": {},
     "output_type": "execute_result"
    }
   ],
   "source": [
    "# Checking for nulls\n",
    "\n",
    "weather_df[\"Tmax\"].isnull().sum()"
   ]
  },
  {
   "cell_type": "code",
   "execution_count": 93,
   "metadata": {},
   "outputs": [
    {
     "data": {
      "text/plain": [
       "False    2929\n",
       "Name: Tmax, dtype: int64"
      ]
     },
     "execution_count": 93,
     "metadata": {},
     "output_type": "execute_result"
    }
   ],
   "source": [
    "# Checking for \"M\", which indicates nulls\n",
    "\n",
    "tmax_nulls = weather_df[\"Tmax\"].map(lambda x: x == \"M\")\n",
    "tmax_nulls.value_counts()"
   ]
  },
  {
   "cell_type": "code",
   "execution_count": 15,
   "metadata": {},
   "outputs": [
    {
     "data": {
      "text/plain": [
       "{41,\n",
       " 42,\n",
       " 44,\n",
       " 45,\n",
       " 46,\n",
       " 47,\n",
       " 48,\n",
       " 49,\n",
       " 50,\n",
       " 51,\n",
       " 52,\n",
       " 53,\n",
       " 54,\n",
       " 55,\n",
       " 56,\n",
       " 57,\n",
       " 58,\n",
       " 59,\n",
       " 60,\n",
       " 61,\n",
       " 62,\n",
       " 63,\n",
       " 64,\n",
       " 65,\n",
       " 66,\n",
       " 67,\n",
       " 68,\n",
       " 69,\n",
       " 70,\n",
       " 71,\n",
       " 72,\n",
       " 73,\n",
       " 74,\n",
       " 75,\n",
       " 76,\n",
       " 77,\n",
       " 78,\n",
       " 79,\n",
       " 80,\n",
       " 81,\n",
       " 82,\n",
       " 83,\n",
       " 84,\n",
       " 85,\n",
       " 86,\n",
       " 87,\n",
       " 88,\n",
       " 89,\n",
       " 90,\n",
       " 91,\n",
       " 92,\n",
       " 93,\n",
       " 94,\n",
       " 95,\n",
       " 96,\n",
       " 97,\n",
       " 98,\n",
       " 99,\n",
       " 100,\n",
       " 101,\n",
       " 102,\n",
       " 103,\n",
       " 104}"
      ]
     },
     "execution_count": 15,
     "metadata": {},
     "output_type": "execute_result"
    }
   ],
   "source": [
    "# Getting unique values sorted, I just found out that sets does that for you, coolmax. \n",
    "\n",
    "set(weather_df[\"Tmax\"].unique())"
   ]
  },
  {
   "cell_type": "code",
   "execution_count": 89,
   "metadata": {},
   "outputs": [
    {
     "data": {
      "text/plain": [
       "84    126\n",
       "79    121\n",
       "82    118\n",
       "81    115\n",
       "83    109\n",
       "Name: Tmax, dtype: int64"
      ]
     },
     "execution_count": 89,
     "metadata": {},
     "output_type": "execute_result"
    }
   ],
   "source": [
    "# Checking what the top most occuring values are\n",
    "\n",
    "weather_df[\"Tmax\"].value_counts().head().sort_values(ascending=False)"
   ]
  },
  {
   "cell_type": "code",
   "execution_count": 38,
   "metadata": {},
   "outputs": [
    {
     "data": {
      "text/plain": [
       "dtype('int64')"
      ]
     },
     "execution_count": 38,
     "metadata": {},
     "output_type": "execute_result"
    }
   ],
   "source": [
    "# Checking dtype\n",
    "\n",
    "weather_df[\"Tmax\"].dtype"
   ]
  },
  {
   "cell_type": "code",
   "execution_count": 17,
   "metadata": {},
   "outputs": [
    {
     "data": {
      "text/plain": [
       "count    2944.000000\n",
       "mean       76.166101\n",
       "std        11.461970\n",
       "min        41.000000\n",
       "25%        69.000000\n",
       "50%        78.000000\n",
       "75%        85.000000\n",
       "max       104.000000\n",
       "Name: Tmax, dtype: float64"
      ]
     },
     "execution_count": 17,
     "metadata": {},
     "output_type": "execute_result"
    }
   ],
   "source": [
    "# Getting summary statistics\n",
    "\n",
    "weather_df[\"Tmax\"].describe()"
   ]
  },
  {
   "cell_type": "markdown",
   "metadata": {},
   "source": [
    "##### <font color = blue> Shaun: </font>\n",
    "\n",
    "**$T_{max}$ Range**: 41&deg;F - 104&deg;F  **or**  05&deg;C - 40&deg;C\n",
    "\n",
    "$T_{max}$ seems to commonly fall within 77&deg;F and 86&deg;F, and the mean $T_{max}$ is 76.2&deg;F **or** 24.6&deg;C\n",
    "\n",
    "The takeaway here is that there does not appear to be any erroneous data, such as inordinately high or low temperatures.\n",
    "\n",
    "`dtype` seems to be correct"
   ]
  },
  {
   "cell_type": "markdown",
   "metadata": {},
   "source": [
    "### 3.1.4 `Tmin` <a id=\"3.1.4\"></a>\n",
    "Minimum temperature in **Farenheit** ($\\&deg;F\\$)"
   ]
  },
  {
   "cell_type": "code",
   "execution_count": 85,
   "metadata": {},
   "outputs": [
    {
     "data": {
      "text/plain": [
       "0"
      ]
     },
     "execution_count": 85,
     "metadata": {},
     "output_type": "execute_result"
    }
   ],
   "source": [
    "# Checking for nulls\n",
    "\n",
    "weather_df[\"Tmin\"].isnull().sum()"
   ]
  },
  {
   "cell_type": "code",
   "execution_count": 86,
   "metadata": {},
   "outputs": [
    {
     "data": {
      "text/plain": [
       "False    2929\n",
       "Name: Tmin, dtype: int64"
      ]
     },
     "execution_count": 86,
     "metadata": {},
     "output_type": "execute_result"
    }
   ],
   "source": [
    "# Checking for \"M\", which indicates nulls\n",
    "\n",
    "tmin_nulls = weather_df[\"Tmin\"].map(lambda x: x == \"M\")\n",
    "tmin_nulls.value_counts()"
   ]
  },
  {
   "cell_type": "code",
   "execution_count": 18,
   "metadata": {},
   "outputs": [
    {
     "data": {
      "text/plain": [
       "{29,\n",
       " 31,\n",
       " 32,\n",
       " 33,\n",
       " 34,\n",
       " 35,\n",
       " 36,\n",
       " 37,\n",
       " 38,\n",
       " 39,\n",
       " 40,\n",
       " 41,\n",
       " 42,\n",
       " 43,\n",
       " 44,\n",
       " 45,\n",
       " 46,\n",
       " 47,\n",
       " 48,\n",
       " 49,\n",
       " 50,\n",
       " 51,\n",
       " 52,\n",
       " 53,\n",
       " 54,\n",
       " 55,\n",
       " 56,\n",
       " 57,\n",
       " 58,\n",
       " 59,\n",
       " 60,\n",
       " 61,\n",
       " 62,\n",
       " 63,\n",
       " 64,\n",
       " 65,\n",
       " 66,\n",
       " 67,\n",
       " 68,\n",
       " 69,\n",
       " 70,\n",
       " 71,\n",
       " 72,\n",
       " 73,\n",
       " 74,\n",
       " 75,\n",
       " 76,\n",
       " 77,\n",
       " 78,\n",
       " 79,\n",
       " 80,\n",
       " 81,\n",
       " 82,\n",
       " 83}"
      ]
     },
     "execution_count": 18,
     "metadata": {},
     "output_type": "execute_result"
    }
   ],
   "source": [
    "# Getting unique values sorted\n",
    "\n",
    "set(weather_df[\"Tmin\"].unique())"
   ]
  },
  {
   "cell_type": "code",
   "execution_count": 84,
   "metadata": {},
   "outputs": [
    {
     "data": {
      "text/plain": [
       "63    121\n",
       "65    111\n",
       "60    108\n",
       "61    106\n",
       "62    105\n",
       "Name: Tmin, dtype: int64"
      ]
     },
     "execution_count": 84,
     "metadata": {},
     "output_type": "execute_result"
    }
   ],
   "source": [
    "# Checking what the top most occuring values are\n",
    "\n",
    "weather_df[\"Tmin\"].value_counts().head().sort_values(ascending=False)"
   ]
  },
  {
   "cell_type": "code",
   "execution_count": 39,
   "metadata": {},
   "outputs": [
    {
     "data": {
      "text/plain": [
       "dtype('int64')"
      ]
     },
     "execution_count": 39,
     "metadata": {},
     "output_type": "execute_result"
    }
   ],
   "source": [
    "# Checking dtype\n",
    "\n",
    "weather_df[\"Tmin\"].dtype"
   ]
  },
  {
   "cell_type": "code",
   "execution_count": 20,
   "metadata": {},
   "outputs": [
    {
     "data": {
      "text/plain": [
       "count    2944.000000\n",
       "mean       57.810462\n",
       "std        10.381939\n",
       "min        29.000000\n",
       "25%        50.000000\n",
       "50%        59.000000\n",
       "75%        66.000000\n",
       "max        83.000000\n",
       "Name: Tmin, dtype: float64"
      ]
     },
     "execution_count": 20,
     "metadata": {},
     "output_type": "execute_result"
    }
   ],
   "source": [
    "# Getting summary statistics\n",
    "\n",
    "weather_df[\"Tmin\"].describe()"
   ]
  },
  {
   "cell_type": "markdown",
   "metadata": {},
   "source": [
    "##### <font color = blue> Shaun: </font>\n",
    "\n",
    "**$T_{min}$ Range**: 29&deg;F - 83&deg;F  **or**  -1.67&deg;C - 28.3&deg;C\n",
    "\n",
    "$T_{min}$ seems to commonly fall within 49&deg;F and 71&deg;F, and the mean $T_{min}$ is 57.8&deg;F **or** 14.3&deg;C\n",
    "\n",
    "Again, the salient point here is that there does not appear to be any erroneous data, such as inordinately high or low temperatures. \n",
    "\n",
    "`dtype` seems to be correct"
   ]
  },
  {
   "cell_type": "markdown",
   "metadata": {},
   "source": [
    "### 3.1.5 `Tavg` <a id=\"3.1.5\"></a>\n",
    "Average temperature in **Farenheit** ($\\&deg;F\\$)"
   ]
  },
  {
   "cell_type": "code",
   "execution_count": 88,
   "metadata": {},
   "outputs": [
    {
     "data": {
      "text/plain": [
       "0"
      ]
     },
     "execution_count": 88,
     "metadata": {},
     "output_type": "execute_result"
    }
   ],
   "source": [
    "# Checking for nulls\n",
    "\n",
    "weather_df[\"Tavg\"].isnull().sum()"
   ]
  },
  {
   "cell_type": "code",
   "execution_count": 31,
   "metadata": {},
   "outputs": [
    {
     "data": {
      "text/plain": [
       "False    2933\n",
       "Name: Tavg, dtype: int64"
      ]
     },
     "execution_count": 31,
     "metadata": {},
     "output_type": "execute_result"
    }
   ],
   "source": [
    "# Since \"M\" represents NaNs, I will drop rows with \"M\"\n",
    "# Mapping True and False, to see which are rows containing M\n",
    "\n",
    "tavg_nulls = weather_df[\"Tavg\"].map(lambda x: x == \"M\")\n",
    "#tavg_nulls.unique()\n",
    "tavg_nulls.value_counts()"
   ]
  },
  {
   "cell_type": "code",
   "execution_count": 21,
   "metadata": {},
   "outputs": [
    {
     "data": {
      "text/plain": [
       "array(['67', '68', '51', '52', '56', '58', 'M', '60', '59', '65', '70',\n",
       "       '69', '71', '61', '55', '57', '73', '72', '53', '62', '63', '74',\n",
       "       '75', '78', '76', '77', '66', '80', '64', '81', '82', '79', '85',\n",
       "       '84', '83', '50', '49', '46', '48', '45', '54', '47', '44', '40',\n",
       "       '41', '38', '39', '42', '37', '43', '86', '87', '89', '92', '88',\n",
       "       '91', '93', '94', '90', '36'], dtype=object)"
      ]
     },
     "execution_count": 21,
     "metadata": {},
     "output_type": "execute_result"
    }
   ],
   "source": [
    "# Looking at unique values \n",
    "\n",
    "weather_df[\"Tavg\"].unique()"
   ]
  },
  {
   "cell_type": "markdown",
   "metadata": {},
   "source": [
    "##### <font color = blue> Shaun: </font>\n",
    "\n",
    "The total number of rows in the `Tavg` column containing `M` is 11, which tallies with what I found in [3.1](#here).\n",
    "\n",
    "I will drop these rows."
   ]
  },
  {
   "cell_type": "markdown",
   "metadata": {},
   "source": [
    "##### Dropping rows with `M` for `Tavg` column"
   ]
  },
  {
   "cell_type": "code",
   "execution_count": 150,
   "metadata": {},
   "outputs": [
    {
     "name": "stderr",
     "output_type": "stream",
     "text": [
      "C:\\Users\\Shaun\\anaconda3\\lib\\site-packages\\ipykernel_launcher.py:3: UserWarning: Boolean Series key will be reindexed to match DataFrame index.\n",
      "  This is separate from the ipykernel package so we can avoid doing imports until\n",
      "C:\\Users\\Shaun\\anaconda3\\lib\\site-packages\\pandas\\core\\ops\\array_ops.py:253: FutureWarning: elementwise comparison failed; returning scalar instead, but in the future will perform elementwise comparison\n",
      "  res_values = method(rvalues)\n"
     ]
    },
    {
     "data": {
      "text/html": [
       "<div>\n",
       "<style scoped>\n",
       "    .dataframe tbody tr th:only-of-type {\n",
       "        vertical-align: middle;\n",
       "    }\n",
       "\n",
       "    .dataframe tbody tr th {\n",
       "        vertical-align: top;\n",
       "    }\n",
       "\n",
       "    .dataframe thead th {\n",
       "        text-align: right;\n",
       "    }\n",
       "</style>\n",
       "<table border=\"1\" class=\"dataframe\">\n",
       "  <thead>\n",
       "    <tr style=\"text-align: right;\">\n",
       "      <th></th>\n",
       "      <th>Station</th>\n",
       "      <th>Date</th>\n",
       "      <th>Tmax</th>\n",
       "      <th>Tmin</th>\n",
       "      <th>Tavg</th>\n",
       "      <th>Depart</th>\n",
       "      <th>DewPoint</th>\n",
       "      <th>WetBulb</th>\n",
       "      <th>Heat</th>\n",
       "      <th>Cool</th>\n",
       "      <th>...</th>\n",
       "      <th>CodeSum</th>\n",
       "      <th>Depth</th>\n",
       "      <th>Water1</th>\n",
       "      <th>SnowFall</th>\n",
       "      <th>PrecipTotal</th>\n",
       "      <th>StnPressure</th>\n",
       "      <th>SeaLevel</th>\n",
       "      <th>ResultSpeed</th>\n",
       "      <th>ResultDir</th>\n",
       "      <th>AvgSpeed</th>\n",
       "    </tr>\n",
       "  </thead>\n",
       "  <tbody>\n",
       "  </tbody>\n",
       "</table>\n",
       "<p>0 rows × 22 columns</p>\n",
       "</div>"
      ],
      "text/plain": [
       "Empty DataFrame\n",
       "Columns: [Station, Date, Tmax, Tmin, Tavg, Depart, DewPoint, WetBulb, Heat, Cool, Sunrise, Sunset, CodeSum, Depth, Water1, SnowFall, PrecipTotal, StnPressure, SeaLevel, ResultSpeed, ResultDir, AvgSpeed]\n",
       "Index: []\n",
       "\n",
       "[0 rows x 22 columns]"
      ]
     },
     "execution_count": 150,
     "metadata": {},
     "output_type": "execute_result"
    }
   ],
   "source": [
    "# Found out we can use \"~\" to drop rows, seems faster than using a for loop \n",
    "\n",
    "weather_df = weather_df[~tavg_nulls]\n",
    "weather_df[weather_df[\"Tavg\"] == \"M\"]"
   ]
  },
  {
   "cell_type": "code",
   "execution_count": 83,
   "metadata": {},
   "outputs": [
    {
     "data": {
      "text/plain": [
       "73.0    137\n",
       "70.0    117\n",
       "77.0    116\n",
       "75.0    110\n",
       "71.0    108\n",
       "Name: Tavg, dtype: int64"
      ]
     },
     "execution_count": 83,
     "metadata": {},
     "output_type": "execute_result"
    }
   ],
   "source": [
    "# Checking what the top most occuring values are\n",
    "\n",
    "weather_df[\"Tavg\"].value_counts().head().sort_values(ascending=False)"
   ]
  },
  {
   "cell_type": "code",
   "execution_count": 41,
   "metadata": {},
   "outputs": [
    {
     "data": {
      "text/plain": [
       "dtype('O')"
      ]
     },
     "execution_count": 41,
     "metadata": {},
     "output_type": "execute_result"
    }
   ],
   "source": [
    "# Checking dtype\n",
    "\n",
    "weather_df[\"Tavg\"].dtype"
   ]
  },
  {
   "cell_type": "markdown",
   "metadata": {},
   "source": [
    "##### <font color = blue> Shaun: </font>\n",
    "\n",
    "`dtype` should be a float in my opinion, so I'm going to change it."
   ]
  },
  {
   "cell_type": "markdown",
   "metadata": {},
   "source": [
    "##### Changing dtype of `Tavg` to `float`"
   ]
  },
  {
   "cell_type": "code",
   "execution_count": 48,
   "metadata": {},
   "outputs": [
    {
     "data": {
      "text/plain": [
       "dtype('float64')"
      ]
     },
     "execution_count": 48,
     "metadata": {},
     "output_type": "execute_result"
    }
   ],
   "source": [
    "# Changing dtype to float\n",
    "\n",
    "weather_df[\"Tavg\"] = weather_df[\"Tavg\"].astype(float)\n",
    "weather_df[\"Tavg\"].dtype"
   ]
  },
  {
   "cell_type": "markdown",
   "metadata": {},
   "source": [
    "### 3.1.6 `Depart` <a id=\"3.1.6\"></a>\n",
    "Departure from normal temperature in **Farenheit** ($\\&deg;F\\$)"
   ]
  },
  {
   "cell_type": "code",
   "execution_count": 24,
   "metadata": {},
   "outputs": [
    {
     "data": {
      "text/plain": [
       "0"
      ]
     },
     "execution_count": 24,
     "metadata": {},
     "output_type": "execute_result"
    }
   ],
   "source": [
    "# Checking for nulls\n",
    "\n",
    "weather_df[\"Depart\"].isnull().sum()"
   ]
  },
  {
   "cell_type": "code",
   "execution_count": 26,
   "metadata": {},
   "outputs": [
    {
     "data": {
      "text/plain": [
       "False    1472\n",
       "True     1461\n",
       "Name: Depart, dtype: int64"
      ]
     },
     "execution_count": 26,
     "metadata": {},
     "output_type": "execute_result"
    }
   ],
   "source": [
    "# Checking for \"M\", which indicates nulls\n",
    "\n",
    "depart_nulls = weather_df[\"Depart\"].map(lambda x: x == \"M\")\n",
    "depart_nulls.value_counts()"
   ]
  },
  {
   "cell_type": "code",
   "execution_count": 82,
   "metadata": {},
   "outputs": [
    {
     "data": {
      "text/plain": [
       "M     1460\n",
       " 2      93\n",
       "-1      84\n",
       "-2      79\n",
       " 5      77\n",
       "Name: Depart, dtype: int64"
      ]
     },
     "execution_count": 82,
     "metadata": {},
     "output_type": "execute_result"
    }
   ],
   "source": [
    "# Checking what the top most occuring values are\n",
    "\n",
    "weather_df[\"Depart\"].value_counts().head().sort_values(ascending=False)"
   ]
  },
  {
   "cell_type": "markdown",
   "metadata": {},
   "source": [
    "##### <font color = blue> Shaun: </font>\n",
    "\n",
    "Wow if I have to drop these many rows, I'm dropping half the dataset. I'll hold on first, I may end up not using this column, so it doesn't make sense to drop rows with `M` for `Depart` if I end up not using it anyway."
   ]
  },
  {
   "cell_type": "markdown",
   "metadata": {},
   "source": [
    "### 3.1.7 `DewPoint` <a id=\"3.1.7\"></a>\n",
    "Average <a href=\"https://www.weather.gov/arx/why_dewpoint_vs_humidity\">dew point</a>"
   ]
  },
  {
   "cell_type": "code",
   "execution_count": 27,
   "metadata": {},
   "outputs": [
    {
     "data": {
      "text/plain": [
       "0"
      ]
     },
     "execution_count": 27,
     "metadata": {},
     "output_type": "execute_result"
    }
   ],
   "source": [
    "# Checking for nulls \n",
    "\n",
    "weather_df[\"DewPoint\"].isnull().sum()"
   ]
  },
  {
   "cell_type": "code",
   "execution_count": 28,
   "metadata": {},
   "outputs": [
    {
     "data": {
      "text/plain": [
       "False    2933\n",
       "Name: DewPoint, dtype: int64"
      ]
     },
     "execution_count": 28,
     "metadata": {},
     "output_type": "execute_result"
    }
   ],
   "source": [
    "# Checking for \"M\", which indicates nulls\n",
    "\n",
    "dewpoint_nulls = weather_df[\"DewPoint\"].map(lambda x: x == \"M\")\n",
    "dewpoint_nulls.value_counts()"
   ]
  },
  {
   "cell_type": "code",
   "execution_count": 80,
   "metadata": {},
   "outputs": [
    {
     "data": {
      "text/plain": [
       "59    128\n",
       "54    125\n",
       "55    114\n",
       "60    112\n",
       "61    109\n",
       "Name: DewPoint, dtype: int64"
      ]
     },
     "execution_count": 80,
     "metadata": {},
     "output_type": "execute_result"
    }
   ],
   "source": [
    "# Checking what the top most occuring values are\n",
    "\n",
    "weather_df[\"DewPoint\"].value_counts().head().sort_values(ascending=False)"
   ]
  },
  {
   "cell_type": "code",
   "execution_count": 53,
   "metadata": {},
   "outputs": [
    {
     "data": {
      "text/plain": [
       "dtype('int64')"
      ]
     },
     "execution_count": 53,
     "metadata": {},
     "output_type": "execute_result"
    }
   ],
   "source": [
    "# Checking dtype\n",
    "\n",
    "weather_df[\"DewPoint\"].dtype"
   ]
  },
  {
   "cell_type": "markdown",
   "metadata": {},
   "source": [
    "##### <font color = blue> Shaun: </font>\n",
    "\n",
    "DewPoint looking good, no nulls, no `M` either.\n",
    "\n",
    "`dtype` seems correct"
   ]
  },
  {
   "cell_type": "markdown",
   "metadata": {},
   "source": [
    "### 3.1.8 `Wet Bulb` <a id=\"3.1.8\"></a>\n",
    "Average <a href=\"https://www.sciencedirect.com/topics/engineering/wet-bulb-temperature\">Wet Bulb Temperature</a>"
   ]
  },
  {
   "cell_type": "code",
   "execution_count": 29,
   "metadata": {},
   "outputs": [
    {
     "data": {
      "text/plain": [
       "0"
      ]
     },
     "execution_count": 29,
     "metadata": {},
     "output_type": "execute_result"
    }
   ],
   "source": [
    "# Checking for nulls \n",
    "\n",
    "weather_df[\"WetBulb\"].isnull().sum()"
   ]
  },
  {
   "cell_type": "code",
   "execution_count": 30,
   "metadata": {},
   "outputs": [
    {
     "data": {
      "text/plain": [
       "False    2929\n",
       "True        4\n",
       "Name: WetBulb, dtype: int64"
      ]
     },
     "execution_count": 30,
     "metadata": {},
     "output_type": "execute_result"
    }
   ],
   "source": [
    "# Checking for \"M\", which indicates nulls\n",
    "\n",
    "wetbulb_nulls = weather_df[\"WetBulb\"].map(lambda x: x == \"M\")\n",
    "wetbulb_nulls.value_counts()"
   ]
  },
  {
   "cell_type": "markdown",
   "metadata": {},
   "source": [
    "##### <font color = blue> Shaun: </font>\n",
    "\n",
    "4 rows with value `M` for `Wet Bulb` column will be dropped."
   ]
  },
  {
   "cell_type": "markdown",
   "metadata": {},
   "source": [
    "##### Dropping rows with `M` for `WetBulb` column"
   ]
  },
  {
   "cell_type": "code",
   "execution_count": 32,
   "metadata": {},
   "outputs": [
    {
     "data": {
      "text/plain": [
       "0"
      ]
     },
     "execution_count": 32,
     "metadata": {},
     "output_type": "execute_result"
    }
   ],
   "source": [
    "weather_df = weather_df[~wetbulb_nulls]\n",
    "weather_df[\"WetBulb\"].isnull().sum()"
   ]
  },
  {
   "cell_type": "code",
   "execution_count": 76,
   "metadata": {},
   "outputs": [
    {
     "data": {
      "text/plain": [
       "63.0    135\n",
       "65.0    131\n",
       "59.0    129\n",
       "61.0    122\n",
       "64.0    121\n",
       "Name: WetBulb, dtype: int64"
      ]
     },
     "execution_count": 76,
     "metadata": {},
     "output_type": "execute_result"
    }
   ],
   "source": [
    "# Checking what the top most occuring values are\n",
    "\n",
    "weather_df[\"WetBulb\"].value_counts().head().sort_values(ascending=False)"
   ]
  },
  {
   "cell_type": "code",
   "execution_count": 52,
   "metadata": {},
   "outputs": [
    {
     "data": {
      "text/plain": [
       "dtype('O')"
      ]
     },
     "execution_count": 52,
     "metadata": {},
     "output_type": "execute_result"
    }
   ],
   "source": [
    "# Checking dtype\n",
    "\n",
    "weather_df[\"WetBulb\"].dtype"
   ]
  },
  {
   "cell_type": "markdown",
   "metadata": {},
   "source": [
    "##### <font color = blue> Shaun: </font>\n",
    "\n",
    "`dtype` should be a float in my opinion, so I'm going to change it."
   ]
  },
  {
   "cell_type": "markdown",
   "metadata": {},
   "source": [
    "##### Changing dtype of `WetBulb` to `float`"
   ]
  },
  {
   "cell_type": "code",
   "execution_count": 54,
   "metadata": {},
   "outputs": [
    {
     "data": {
      "text/plain": [
       "dtype('float64')"
      ]
     },
     "execution_count": 54,
     "metadata": {},
     "output_type": "execute_result"
    }
   ],
   "source": [
    "weather_df[\"WetBulb\"] = weather_df[\"WetBulb\"].astype(float)\n",
    "weather_df[\"WetBulb\"].dtype"
   ]
  },
  {
   "cell_type": "markdown",
   "metadata": {},
   "source": [
    "### 3.1.9 `Heat` <a id=\"3.1.9\"></a>\n",
    "Heating (Season beings in July) \n",
    "##### <font color = blue> Shaun: </font> \n",
    "I assume this means the beginning of the hot season "
   ]
  },
  {
   "cell_type": "code",
   "execution_count": 33,
   "metadata": {},
   "outputs": [
    {
     "data": {
      "text/plain": [
       "0"
      ]
     },
     "execution_count": 33,
     "metadata": {},
     "output_type": "execute_result"
    }
   ],
   "source": [
    "# Checking for nulls \n",
    "\n",
    "weather_df[\"Heat\"].isnull().sum()"
   ]
  },
  {
   "cell_type": "code",
   "execution_count": 34,
   "metadata": {},
   "outputs": [
    {
     "data": {
      "text/plain": [
       "False    2929\n",
       "Name: Heat, dtype: int64"
      ]
     },
     "execution_count": 34,
     "metadata": {},
     "output_type": "execute_result"
    }
   ],
   "source": [
    "# Checking for \"M\", which indicates nulls\n",
    "\n",
    "heat_nulls = weather_df[\"Heat\"].map(lambda x: x == \"M\")\n",
    "heat_nulls.value_counts()"
   ]
  },
  {
   "cell_type": "code",
   "execution_count": 79,
   "metadata": {},
   "outputs": [
    {
     "data": {
      "text/plain": [
       "0.0    1866\n",
       "4.0      88\n",
       "1.0      86\n",
       "2.0      81\n",
       "8.0      67\n",
       "Name: Heat, dtype: int64"
      ]
     },
     "execution_count": 79,
     "metadata": {},
     "output_type": "execute_result"
    }
   ],
   "source": [
    "# Checking what the top most occuring values are\n",
    "\n",
    "weather_df[\"Heat\"].value_counts().head().sort_values(ascending=False)"
   ]
  },
  {
   "cell_type": "code",
   "execution_count": 50,
   "metadata": {},
   "outputs": [
    {
     "data": {
      "text/plain": [
       "dtype('O')"
      ]
     },
     "execution_count": 50,
     "metadata": {},
     "output_type": "execute_result"
    }
   ],
   "source": [
    "weather_df[\"Heat\"].dtype"
   ]
  },
  {
   "cell_type": "markdown",
   "metadata": {},
   "source": [
    "##### Changing dtype of `heat` to `float`"
   ]
  },
  {
   "cell_type": "code",
   "execution_count": 55,
   "metadata": {},
   "outputs": [
    {
     "data": {
      "text/plain": [
       "dtype('float64')"
      ]
     },
     "execution_count": 55,
     "metadata": {},
     "output_type": "execute_result"
    }
   ],
   "source": [
    "weather_df[\"Heat\"] = weather_df[\"Heat\"].astype(float)\n",
    "weather_df[\"Heat\"].dtype"
   ]
  },
  {
   "cell_type": "markdown",
   "metadata": {},
   "source": [
    "##### <font color = blue> Shaun: </font> \n",
    "No `NaN` or `M` for `Heat`, changed dtype to `float`  "
   ]
  },
  {
   "cell_type": "markdown",
   "metadata": {},
   "source": [
    "### 3.1.10 `Cool` <a id=\"3.1.10\"></a>\n",
    "Cooling (Season beings in January)\n",
    "##### <font color = blue> Shaun: </font> \n",
    "I assume this means the beginning of the cool season "
   ]
  },
  {
   "cell_type": "code",
   "execution_count": 56,
   "metadata": {},
   "outputs": [
    {
     "data": {
      "text/plain": [
       "0"
      ]
     },
     "execution_count": 56,
     "metadata": {},
     "output_type": "execute_result"
    }
   ],
   "source": [
    "# Checking for nulls \n",
    "\n",
    "weather_df[\"Cool\"].isnull().sum()"
   ]
  },
  {
   "cell_type": "code",
   "execution_count": 58,
   "metadata": {},
   "outputs": [
    {
     "data": {
      "text/plain": [
       "False    2929\n",
       "Name: Cool, dtype: int64"
      ]
     },
     "execution_count": 58,
     "metadata": {},
     "output_type": "execute_result"
    }
   ],
   "source": [
    "# Checking for \"M\", which indicates nulls\n",
    "\n",
    "cool_nulls = weather_df[\"Cool\"].map(lambda x: x == \"M\")\n",
    "cool_nulls.value_counts()"
   ]
  },
  {
   "cell_type": "code",
   "execution_count": 78,
   "metadata": {},
   "outputs": [
    {
     "data": {
      "text/plain": [
       "0.0     1147\n",
       "8.0      137\n",
       "5.0      117\n",
       "12.0     116\n",
       "10.0     110\n",
       "Name: Cool, dtype: int64"
      ]
     },
     "execution_count": 78,
     "metadata": {},
     "output_type": "execute_result"
    }
   ],
   "source": [
    "# Checking what the top most occuring values are\n",
    "\n",
    "weather_df[\"Cool\"].value_counts().head().sort_values(ascending=False)"
   ]
  },
  {
   "cell_type": "code",
   "execution_count": 60,
   "metadata": {},
   "outputs": [
    {
     "data": {
      "text/plain": [
       "dtype('O')"
      ]
     },
     "execution_count": 60,
     "metadata": {},
     "output_type": "execute_result"
    }
   ],
   "source": [
    "# Checking dtype\n",
    "\n",
    "weather_df[\"Cool\"].dtype"
   ]
  },
  {
   "cell_type": "markdown",
   "metadata": {},
   "source": [
    "##### Changing dtype of `Cool` to `float`"
   ]
  },
  {
   "cell_type": "code",
   "execution_count": 62,
   "metadata": {},
   "outputs": [
    {
     "data": {
      "text/plain": [
       "dtype('float64')"
      ]
     },
     "execution_count": 62,
     "metadata": {},
     "output_type": "execute_result"
    }
   ],
   "source": [
    "weather_df[\"Cool\"] = weather_df[\"Cool\"].astype(float)\n",
    "weather_df[\"Cool\"].dtype"
   ]
  },
  {
   "cell_type": "markdown",
   "metadata": {},
   "source": [
    "### 3.1.11 `Sunrise` <a id=\"3.1.11\"></a>\n",
    "Sunrise (Calculated, not observed)\n",
    "\n",
    "##### <font color = blue> Shaun: </font> \n",
    "Not sure what this means ... "
   ]
  },
  {
   "cell_type": "code",
   "execution_count": 97,
   "metadata": {},
   "outputs": [
    {
     "data": {
      "text/plain": [
       "0"
      ]
     },
     "execution_count": 97,
     "metadata": {},
     "output_type": "execute_result"
    }
   ],
   "source": [
    "# Checking for nulls \n",
    "\n",
    "weather_df[\"Sunrise\"].isnull().sum()"
   ]
  },
  {
   "cell_type": "code",
   "execution_count": 68,
   "metadata": {},
   "outputs": [
    {
     "data": {
      "text/plain": [
       "False    2929\n",
       "Name: Sunrise, dtype: int64"
      ]
     },
     "execution_count": 68,
     "metadata": {},
     "output_type": "execute_result"
    }
   ],
   "source": [
    "# Checking for \"M\", which indicates nulls\n",
    "\n",
    "sunrise_nulls = weather_df[\"Sunrise\"].map(lambda x: x == \"M\")\n",
    "sunrise_nulls.value_counts()"
   ]
  },
  {
   "cell_type": "code",
   "execution_count": 71,
   "metadata": {},
   "outputs": [
    {
     "data": {
      "text/plain": [
       "-       1460\n",
       "0416     104\n",
       "0417      64\n",
       "0419      40\n",
       "0422      32\n",
       "Name: Sunrise, dtype: int64"
      ]
     },
     "execution_count": 71,
     "metadata": {},
     "output_type": "execute_result"
    }
   ],
   "source": [
    "# Checking what the top most occuring values are\n",
    "\n",
    "weather_df[\"Sunrise\"].value_counts().head()"
   ]
  },
  {
   "cell_type": "code",
   "execution_count": 65,
   "metadata": {},
   "outputs": [
    {
     "data": {
      "text/plain": [
       "dtype('O')"
      ]
     },
     "execution_count": 65,
     "metadata": {},
     "output_type": "execute_result"
    }
   ],
   "source": [
    "# Checking dtype\n",
    "\n",
    "weather_df[\"Sunrise\"].dtype"
   ]
  },
  {
   "cell_type": "markdown",
   "metadata": {},
   "source": [
    "##### <font color = blue> Shaun: </font> \n",
    "It seems that `-` means Nulls in this case ... probably will end up dropping `Sunrise` in the next section since about 50% is missing data (1460/2929 = 49.8%)."
   ]
  },
  {
   "cell_type": "markdown",
   "metadata": {},
   "source": [
    "### 3.1.12 `Sunset` <a id=\"3.1.12\"></a>\n",
    "Sunset (Calculated, not observed)\n",
    "\n",
    "##### <font color = blue> Shaun: </font> \n",
    "Same thing, not sure what this means ... I'll be darned if 50% of the data is missing yet again."
   ]
  },
  {
   "cell_type": "code",
   "execution_count": 98,
   "metadata": {},
   "outputs": [
    {
     "data": {
      "text/plain": [
       "0"
      ]
     },
     "execution_count": 98,
     "metadata": {},
     "output_type": "execute_result"
    }
   ],
   "source": [
    "# Checking for nulls \n",
    "\n",
    "weather_df[\"Sunset\"].isnull().sum()"
   ]
  },
  {
   "cell_type": "code",
   "execution_count": 99,
   "metadata": {},
   "outputs": [
    {
     "data": {
      "text/plain": [
       "False    2929\n",
       "Name: Sunset, dtype: int64"
      ]
     },
     "execution_count": 99,
     "metadata": {},
     "output_type": "execute_result"
    }
   ],
   "source": [
    "# Checking for \"M\", which indicates nulls\n",
    "\n",
    "sunset_nulls = weather_df[\"Sunset\"].map(lambda x: x == \"M\")\n",
    "sunset_nulls.value_counts()"
   ]
  },
  {
   "cell_type": "code",
   "execution_count": 102,
   "metadata": {},
   "outputs": [
    {
     "data": {
      "text/plain": [
       "-       1460\n",
       "1931      95\n",
       "1930      56\n",
       "1929      48\n",
       "1928      32\n",
       "Name: Sunset, dtype: int64"
      ]
     },
     "execution_count": 102,
     "metadata": {},
     "output_type": "execute_result"
    }
   ],
   "source": [
    "# Checking what the top most occuring values are\n",
    "\n",
    "weather_df[\"Sunset\"].value_counts().head().sort_values(ascending=False)"
   ]
  },
  {
   "cell_type": "code",
   "execution_count": 100,
   "metadata": {},
   "outputs": [
    {
     "data": {
      "text/plain": [
       "dtype('O')"
      ]
     },
     "execution_count": 100,
     "metadata": {},
     "output_type": "execute_result"
    }
   ],
   "source": [
    "# Checking dtype\n",
    "\n",
    "weather_df[\"Sunset\"].dtype"
   ]
  },
  {
   "cell_type": "markdown",
   "metadata": {},
   "source": [
    "##### <font color = blue> Shaun: </font> \n",
    "\n",
    "Yup, confirmed that `-` means Nulls in this case, and will probably end up dropping `Sunset` in the next section since about 50% is missing data (1460/2929 = 49.8%). "
   ]
  },
  {
   "cell_type": "markdown",
   "metadata": {},
   "source": [
    "### 3.1.13 `CodeSum` <a id=\"3.1.13\"></a>\n",
    "Significant weather types"
   ]
  },
  {
   "cell_type": "code",
   "execution_count": 115,
   "metadata": {},
   "outputs": [
    {
     "data": {
      "text/plain": [
       "0"
      ]
     },
     "execution_count": 115,
     "metadata": {},
     "output_type": "execute_result"
    }
   ],
   "source": [
    "# Checking for nulls \n",
    "\n",
    "weather_df[\"CodeSum\"].isnull().sum()"
   ]
  },
  {
   "cell_type": "code",
   "execution_count": 116,
   "metadata": {},
   "outputs": [
    {
     "data": {
      "text/plain": [
       "False    2929\n",
       "Name: CodeSum, dtype: int64"
      ]
     },
     "execution_count": 116,
     "metadata": {},
     "output_type": "execute_result"
    }
   ],
   "source": [
    "# Checking for \"M\", which indicates nulls\n",
    "\n",
    "codesum_nulls = weather_df[\"CodeSum\"].map(lambda x: x == \"M\")\n",
    "codesum_nulls.value_counts()"
   ]
  },
  {
   "cell_type": "code",
   "execution_count": 117,
   "metadata": {
    "scrolled": true
   },
   "outputs": [
    {
     "data": {
      "text/plain": [
       "              1601\n",
       "RA             293\n",
       "RA BR          237\n",
       "BR             110\n",
       "TSRA RA BR      92\n",
       "Name: CodeSum, dtype: int64"
      ]
     },
     "execution_count": 117,
     "metadata": {},
     "output_type": "execute_result"
    }
   ],
   "source": [
    "# Checking what the top most occuring values are\n",
    "\n",
    "weather_df[\"CodeSum\"].value_counts().head().sort_values(ascending=False)"
   ]
  },
  {
   "cell_type": "code",
   "execution_count": 118,
   "metadata": {},
   "outputs": [
    {
     "data": {
      "text/plain": [
       "dtype('O')"
      ]
     },
     "execution_count": 118,
     "metadata": {},
     "output_type": "execute_result"
    }
   ],
   "source": [
    "# Checking dtype\n",
    "\n",
    "weather_df[\"CodeSum\"].dtype"
   ]
  },
  {
   "cell_type": "markdown",
   "metadata": {},
   "source": [
    "##### <font color = blue> Shaun: </font> \n",
    "\n",
    "No wonder the isnull() check did not return anything, the most occurring values are in fact what I think are <a href=\"https://www.w3schools.com/html/html_entities.asp\"> non breaking spaces (`&nbsp;`)</a> \n",
    "\n",
    "I may consider dropping this feature altogether, since more than 50% of the data are in fact missing data, and there is no way I know that can tell me what type of weather to impute. "
   ]
  },
  {
   "cell_type": "markdown",
   "metadata": {},
   "source": [
    "### 3.1.14 `Depth` <a id=\"3.1.14\"></a>\n",
    "Snow/Ice (On Ground) (UTC 1200) "
   ]
  },
  {
   "cell_type": "code",
   "execution_count": 119,
   "metadata": {},
   "outputs": [
    {
     "data": {
      "text/plain": [
       "0"
      ]
     },
     "execution_count": 119,
     "metadata": {},
     "output_type": "execute_result"
    }
   ],
   "source": [
    "# Checking for Nulls\n",
    "\n",
    "weather_df[\"Depth\"].isnull().sum()"
   ]
  },
  {
   "cell_type": "code",
   "execution_count": 121,
   "metadata": {},
   "outputs": [
    {
     "data": {
      "text/plain": [
       "False    1469\n",
       "True     1460\n",
       "Name: Depth, dtype: int64"
      ]
     },
     "execution_count": 121,
     "metadata": {},
     "output_type": "execute_result"
    }
   ],
   "source": [
    "# Checking for \"M\", which indicates nulls\n",
    "\n",
    "depth_nulls = weather_df[\"Depth\"].map(lambda x:x == \"M\")\n",
    "depth_nulls.value_counts()"
   ]
  },
  {
   "cell_type": "code",
   "execution_count": 125,
   "metadata": {},
   "outputs": [
    {
     "data": {
      "text/plain": [
       "array(['0', 'M'], dtype=object)"
      ]
     },
     "execution_count": 125,
     "metadata": {},
     "output_type": "execute_result"
    }
   ],
   "source": [
    "# Checking what the top most occuring values are\n",
    "\n",
    "weather_df[\"Depth\"].unique()"
   ]
  },
  {
   "cell_type": "markdown",
   "metadata": {},
   "source": [
    "### 3.1.15 `Water1` <a id=\"3.1.15\"></a>\n",
    "\n",
    "Water equivalent (1800 UTC)\n",
    "\n",
    "<font color = blue> Shaun: </font>\n",
    "<br> I suppose this means the water content of snow/ice combined, measured at 1800 UTC $\\approx\\$ 0200 GMT+8"
   ]
  },
  {
   "cell_type": "code",
   "execution_count": 126,
   "metadata": {},
   "outputs": [
    {
     "data": {
      "text/plain": [
       "0"
      ]
     },
     "execution_count": 126,
     "metadata": {},
     "output_type": "execute_result"
    }
   ],
   "source": [
    "# Checking for Nulls\n",
    "\n",
    "weather_df[\"Water1\"].isnull().sum()"
   ]
  },
  {
   "cell_type": "code",
   "execution_count": 127,
   "metadata": {},
   "outputs": [
    {
     "data": {
      "text/plain": [
       "True    2929\n",
       "Name: Water1, dtype: int64"
      ]
     },
     "execution_count": 127,
     "metadata": {},
     "output_type": "execute_result"
    }
   ],
   "source": [
    "# Checking for \"M\", which indicates nulls\n",
    "\n",
    "water1_nulls = weather_df[\"Water1\"].map(lambda x:x == \"M\")\n",
    "water1_nulls.value_counts()"
   ]
  },
  {
   "cell_type": "markdown",
   "metadata": {},
   "source": [
    "<font color = blue> Shaun: </font>\n",
    "\n",
    "So literally the entire dataset is missing for Water1, 100% of it are `M`.\n",
    "\n",
    "Will drop this in the next section."
   ]
  },
  {
   "cell_type": "markdown",
   "metadata": {},
   "source": [
    "### 3.1.16 `SnowFall` <a id=\"3.1.16\"></a>\n",
    "Snowfall (Inches and Tenths) (2400 <a href=\"http://cci.esa.int/lst\">LST</a>), not all stations report snowfall"
   ]
  },
  {
   "cell_type": "code",
   "execution_count": 128,
   "metadata": {},
   "outputs": [
    {
     "data": {
      "text/plain": [
       "0"
      ]
     },
     "execution_count": 128,
     "metadata": {},
     "output_type": "execute_result"
    }
   ],
   "source": [
    "# Checking for Nulls\n",
    "\n",
    "weather_df[\"SnowFall\"].isnull().sum()"
   ]
  },
  {
   "cell_type": "code",
   "execution_count": 129,
   "metadata": {},
   "outputs": [
    {
     "data": {
      "text/plain": [
       "False    1469\n",
       "True     1460\n",
       "Name: SnowFall, dtype: int64"
      ]
     },
     "execution_count": 129,
     "metadata": {},
     "output_type": "execute_result"
    }
   ],
   "source": [
    "# Checking for \"M\", which indicates nulls\n",
    "\n",
    "snowfall_nulls = weather_df[\"SnowFall\"].map(lambda x:x == \"M\")\n",
    "snowfall_nulls.value_counts()"
   ]
  },
  {
   "cell_type": "code",
   "execution_count": 135,
   "metadata": {},
   "outputs": [
    {
     "data": {
      "text/plain": [
       "M      1460\n",
       "0.0    1456\n",
       "  T      12\n",
       "0.1       1\n",
       "Name: SnowFall, dtype: int64"
      ]
     },
     "execution_count": 135,
     "metadata": {},
     "output_type": "execute_result"
    }
   ],
   "source": [
    "# Checking what the top most occuring values are\n",
    "\n",
    "weather_df[\"SnowFall\"].value_counts()"
   ]
  },
  {
   "cell_type": "markdown",
   "metadata": {},
   "source": [
    "<font color = blue> Shaun: </font>\n",
    "\n",
    "It looks like only **one** observation is actually useful here. 12 `T` means out of the 13 potentially insightful observations, 12 are trace amounts.  "
   ]
  },
  {
   "cell_type": "markdown",
   "metadata": {},
   "source": [
    "### 3.1.17 `PrecipTotal` <a id=\"3.1.17\"></a>\n",
    "Water equivalent from rainfall and melted snow (Inches and Hundredths) (2400 <a href=\"http://cci.esa.int/lst\">LST</a>)\n"
   ]
  },
  {
   "cell_type": "code",
   "execution_count": 137,
   "metadata": {},
   "outputs": [
    {
     "data": {
      "text/plain": [
       "0"
      ]
     },
     "execution_count": 137,
     "metadata": {},
     "output_type": "execute_result"
    }
   ],
   "source": [
    "# Checking for Nulls\n",
    "\n",
    "weather_df[\"PrecipTotal\"].isnull().sum()"
   ]
  },
  {
   "cell_type": "code",
   "execution_count": 143,
   "metadata": {},
   "outputs": [
    {
     "data": {
      "text/plain": [
       "False    2927\n",
       "True        2\n",
       "Name: PrecipTotal, dtype: int64"
      ]
     },
     "execution_count": 143,
     "metadata": {},
     "output_type": "execute_result"
    }
   ],
   "source": [
    "# Checking for \"M\", which indicates nulls\n",
    "\n",
    "preciptotal_nulls = weather_df[\"PrecipTotal\"].map(lambda x: x == \"M\")\n",
    "preciptotal_nulls.value_counts()"
   ]
  },
  {
   "cell_type": "markdown",
   "metadata": {},
   "source": [
    "##### Dropping rows with `M` for `PrecipTotal` column"
   ]
  },
  {
   "cell_type": "code",
   "execution_count": 151,
   "metadata": {},
   "outputs": [
    {
     "name": "stderr",
     "output_type": "stream",
     "text": [
      "C:\\Users\\Shaun\\anaconda3\\lib\\site-packages\\ipykernel_launcher.py:1: UserWarning: Boolean Series key will be reindexed to match DataFrame index.\n",
      "  \"\"\"Entry point for launching an IPython kernel.\n"
     ]
    },
    {
     "data": {
      "text/html": [
       "<div>\n",
       "<style scoped>\n",
       "    .dataframe tbody tr th:only-of-type {\n",
       "        vertical-align: middle;\n",
       "    }\n",
       "\n",
       "    .dataframe tbody tr th {\n",
       "        vertical-align: top;\n",
       "    }\n",
       "\n",
       "    .dataframe thead th {\n",
       "        text-align: right;\n",
       "    }\n",
       "</style>\n",
       "<table border=\"1\" class=\"dataframe\">\n",
       "  <thead>\n",
       "    <tr style=\"text-align: right;\">\n",
       "      <th></th>\n",
       "      <th>Station</th>\n",
       "      <th>Date</th>\n",
       "      <th>Tmax</th>\n",
       "      <th>Tmin</th>\n",
       "      <th>Tavg</th>\n",
       "      <th>Depart</th>\n",
       "      <th>DewPoint</th>\n",
       "      <th>WetBulb</th>\n",
       "      <th>Heat</th>\n",
       "      <th>Cool</th>\n",
       "      <th>...</th>\n",
       "      <th>CodeSum</th>\n",
       "      <th>Depth</th>\n",
       "      <th>Water1</th>\n",
       "      <th>SnowFall</th>\n",
       "      <th>PrecipTotal</th>\n",
       "      <th>StnPressure</th>\n",
       "      <th>SeaLevel</th>\n",
       "      <th>ResultSpeed</th>\n",
       "      <th>ResultDir</th>\n",
       "      <th>AvgSpeed</th>\n",
       "    </tr>\n",
       "  </thead>\n",
       "  <tbody>\n",
       "  </tbody>\n",
       "</table>\n",
       "<p>0 rows × 22 columns</p>\n",
       "</div>"
      ],
      "text/plain": [
       "Empty DataFrame\n",
       "Columns: [Station, Date, Tmax, Tmin, Tavg, Depart, DewPoint, WetBulb, Heat, Cool, Sunrise, Sunset, CodeSum, Depth, Water1, SnowFall, PrecipTotal, StnPressure, SeaLevel, ResultSpeed, ResultDir, AvgSpeed]\n",
       "Index: []\n",
       "\n",
       "[0 rows x 22 columns]"
      ]
     },
     "execution_count": 151,
     "metadata": {},
     "output_type": "execute_result"
    }
   ],
   "source": [
    "weather_df = weather_df[~preciptotal_nulls]\n",
    "weather_df[weather_df[\"PrecipTotal\"] == \"M\"]"
   ]
  },
  {
   "cell_type": "markdown",
   "metadata": {},
   "source": [
    "##### <font color = blue> Shaun: </font> \n",
    "\n",
    "It appears that `T` is between 0.00 and 0.01. I'd want to use this column so I'll be assigning `T` to a value of 0.001 for this column, intead of dropping 10% of my observations."
   ]
  },
  {
   "cell_type": "code",
   "execution_count": 156,
   "metadata": {
    "collapsed": true
   },
   "outputs": [
    {
     "data": {
      "text/plain": [
       "{'0.00': 1570,\n",
       " '  T': 317,\n",
       " '0.01': 126,\n",
       " '0.02': 63,\n",
       " '0.03': 46,\n",
       " '0.04': 35,\n",
       " '0.05': 32,\n",
       " '0.08': 28,\n",
       " '0.12': 28,\n",
       " '0.06': 26,\n",
       " '0.07': 23,\n",
       " '0.16': 21,\n",
       " '0.09': 21,\n",
       " '0.11': 20,\n",
       " '0.14': 19,\n",
       " '0.17': 17,\n",
       " '0.13': 14,\n",
       " '0.28': 14,\n",
       " '0.18': 14,\n",
       " '0.19': 14,\n",
       " '0.15': 13,\n",
       " '0.20': 13,\n",
       " '0.23': 11,\n",
       " '0.26': 11,\n",
       " '0.25': 11,\n",
       " '0.24': 10,\n",
       " '0.10': 10,\n",
       " '0.29': 9,\n",
       " '0.43': 9,\n",
       " '0.40': 9,\n",
       " '0.39': 9,\n",
       " '0.21': 9,\n",
       " '0.31': 9,\n",
       " '0.32': 8,\n",
       " '0.34': 8,\n",
       " '0.30': 7,\n",
       " '0.50': 7,\n",
       " '0.37': 7,\n",
       " '0.41': 7,\n",
       " '0.48': 7,\n",
       " '0.45': 7,\n",
       " '0.59': 7,\n",
       " '0.33': 7,\n",
       " '0.22': 7,\n",
       " '0.27': 6,\n",
       " '0.84': 6,\n",
       " '0.65': 6,\n",
       " '0.80': 6,\n",
       " '0.63': 6,\n",
       " '0.36': 5,\n",
       " '0.85': 5,\n",
       " '0.54': 5,\n",
       " '0.93': 5,\n",
       " '0.92': 5,\n",
       " '0.44': 5,\n",
       " '0.68': 5,\n",
       " '0.75': 4,\n",
       " '0.55': 4,\n",
       " '0.97': 4,\n",
       " '0.72': 4,\n",
       " '0.89': 4,\n",
       " '0.58': 4,\n",
       " '0.64': 4,\n",
       " '0.52': 4,\n",
       " '0.70': 4,\n",
       " '0.51': 4,\n",
       " '1.23': 4,\n",
       " '0.35': 3,\n",
       " '0.60': 3,\n",
       " '0.82': 3,\n",
       " '1.03': 3,\n",
       " '0.88': 3,\n",
       " '1.01': 3,\n",
       " '1.31': 3,\n",
       " '0.87': 3,\n",
       " '0.56': 3,\n",
       " '1.55': 3,\n",
       " '0.71': 3,\n",
       " '0.42': 3,\n",
       " '0.47': 3,\n",
       " '0.77': 3,\n",
       " '0.66': 3,\n",
       " '1.05': 3,\n",
       " '0.74': 3,\n",
       " '0.53': 2,\n",
       " '0.38': 2,\n",
       " '0.95': 2,\n",
       " '1.15': 2,\n",
       " '0.83': 2,\n",
       " '0.86': 2,\n",
       " '0.61': 2,\n",
       " '0.79': 2,\n",
       " '0.73': 2,\n",
       " '1.16': 2,\n",
       " '1.33': 2,\n",
       " '0.69': 2,\n",
       " '0.78': 2,\n",
       " '1.61': 2,\n",
       " '1.02': 2,\n",
       " '0.57': 2,\n",
       " '0.49': 2,\n",
       " '0.46': 2,\n",
       " '1.12': 2,\n",
       " '1.43': 2,\n",
       " '1.29': 2,\n",
       " '1.28': 2,\n",
       " '0.67': 2,\n",
       " '0.81': 2,\n",
       " '0.76': 1,\n",
       " '6.86': 1,\n",
       " '1.82': 1,\n",
       " '1.30': 1,\n",
       " '1.19': 1,\n",
       " '2.24': 1,\n",
       " '1.09': 1,\n",
       " '3.17': 1,\n",
       " '2.06': 1,\n",
       " '1.96': 1,\n",
       " '0.96': 1,\n",
       " '2.17': 1,\n",
       " '1.48': 1,\n",
       " '3.15': 1,\n",
       " '1.22': 1,\n",
       " '1.11': 1,\n",
       " '1.46': 1,\n",
       " '0.90': 1,\n",
       " '2.03': 1,\n",
       " '4.73': 1,\n",
       " '1.07': 1,\n",
       " '1.75': 1,\n",
       " '1.57': 1,\n",
       " '1.73': 1,\n",
       " '1.90': 1,\n",
       " '0.62': 1,\n",
       " '2.09': 1,\n",
       " '3.31': 1,\n",
       " '3.07': 1,\n",
       " '2.79': 1,\n",
       " '3.97': 1,\n",
       " '1.60': 1,\n",
       " '2.20': 1,\n",
       " '1.49': 1,\n",
       " '1.58': 1,\n",
       " '2.76': 1,\n",
       " '1.44': 1,\n",
       " '1.14': 1,\n",
       " '1.25': 1,\n",
       " '1.21': 1,\n",
       " '3.64': 1,\n",
       " '1.18': 1,\n",
       " '1.35': 1,\n",
       " '1.34': 1,\n",
       " '2.90': 1,\n",
       " '1.26': 1,\n",
       " '2.68': 1,\n",
       " '2.35': 1,\n",
       " '2.60': 1,\n",
       " '1.88': 1,\n",
       " '0.91': 1,\n",
       " '1.04': 1,\n",
       " '2.43': 1,\n",
       " '0.98': 1,\n",
       " '1.38': 1,\n",
       " '1.24': 1,\n",
       " '1.06': 1,\n",
       " '3.66': 1,\n",
       " '6.64': 1}"
      ]
     },
     "execution_count": 156,
     "metadata": {},
     "output_type": "execute_result"
    }
   ],
   "source": [
    "weather_df[\"PrecipTotal\"].value_counts().to_dict()"
   ]
  },
  {
   "cell_type": "markdown",
   "metadata": {},
   "source": [
    "##### Replacing `T` with `0.001` then converting all replacements to `float`"
   ]
  },
  {
   "cell_type": "code",
   "execution_count": 159,
   "metadata": {
    "collapsed": true
   },
   "outputs": [
    {
     "ename": "AttributeError",
     "evalue": "'float' object has no attribute 'replace'",
     "output_type": "error",
     "traceback": [
      "\u001b[1;31m---------------------------------------------------------------------------\u001b[0m",
      "\u001b[1;31mAttributeError\u001b[0m                            Traceback (most recent call last)",
      "\u001b[1;32m<ipython-input-159-efec696e1187>\u001b[0m in \u001b[0;36m<module>\u001b[1;34m\u001b[0m\n\u001b[1;32m----> 1\u001b[1;33m \u001b[0mweather_df\u001b[0m\u001b[1;33m[\u001b[0m\u001b[1;34m\"PrecipTotal\"\u001b[0m\u001b[1;33m]\u001b[0m \u001b[1;33m=\u001b[0m \u001b[0mweather_df\u001b[0m\u001b[1;33m[\u001b[0m\u001b[1;34m\"PrecipTotal\"\u001b[0m\u001b[1;33m]\u001b[0m\u001b[1;33m.\u001b[0m\u001b[0mmap\u001b[0m\u001b[1;33m(\u001b[0m\u001b[1;32mlambda\u001b[0m \u001b[0mx\u001b[0m\u001b[1;33m:\u001b[0m \u001b[0mx\u001b[0m\u001b[1;33m.\u001b[0m\u001b[0mreplace\u001b[0m\u001b[1;33m(\u001b[0m\u001b[1;34m\"T\"\u001b[0m\u001b[1;33m,\u001b[0m \u001b[1;34m\"0.001\"\u001b[0m\u001b[1;33m)\u001b[0m\u001b[1;33m)\u001b[0m\u001b[1;33m.\u001b[0m\u001b[0mastype\u001b[0m\u001b[1;33m(\u001b[0m\u001b[0mfloat\u001b[0m\u001b[1;33m)\u001b[0m\u001b[1;33m\u001b[0m\u001b[1;33m\u001b[0m\u001b[0m\n\u001b[0m\u001b[0;32m      2\u001b[0m \u001b[0mweather_df\u001b[0m\u001b[1;33m[\u001b[0m\u001b[1;33m[\u001b[0m\u001b[1;34m\"PrecipTotal\"\u001b[0m\u001b[1;33m]\u001b[0m\u001b[1;33m]\u001b[0m\u001b[1;33m\u001b[0m\u001b[1;33m\u001b[0m\u001b[0m\n",
      "\u001b[1;32m~\\anaconda3\\lib\\site-packages\\pandas\\core\\series.py\u001b[0m in \u001b[0;36mmap\u001b[1;34m(self, arg, na_action)\u001b[0m\n\u001b[0;32m   3628\u001b[0m         \u001b[0mdtype\u001b[0m\u001b[1;33m:\u001b[0m \u001b[0mobject\u001b[0m\u001b[1;33m\u001b[0m\u001b[1;33m\u001b[0m\u001b[0m\n\u001b[0;32m   3629\u001b[0m         \"\"\"\n\u001b[1;32m-> 3630\u001b[1;33m         \u001b[0mnew_values\u001b[0m \u001b[1;33m=\u001b[0m \u001b[0msuper\u001b[0m\u001b[1;33m(\u001b[0m\u001b[1;33m)\u001b[0m\u001b[1;33m.\u001b[0m\u001b[0m_map_values\u001b[0m\u001b[1;33m(\u001b[0m\u001b[0marg\u001b[0m\u001b[1;33m,\u001b[0m \u001b[0mna_action\u001b[0m\u001b[1;33m=\u001b[0m\u001b[0mna_action\u001b[0m\u001b[1;33m)\u001b[0m\u001b[1;33m\u001b[0m\u001b[1;33m\u001b[0m\u001b[0m\n\u001b[0m\u001b[0;32m   3631\u001b[0m         \u001b[1;32mreturn\u001b[0m \u001b[0mself\u001b[0m\u001b[1;33m.\u001b[0m\u001b[0m_constructor\u001b[0m\u001b[1;33m(\u001b[0m\u001b[0mnew_values\u001b[0m\u001b[1;33m,\u001b[0m \u001b[0mindex\u001b[0m\u001b[1;33m=\u001b[0m\u001b[0mself\u001b[0m\u001b[1;33m.\u001b[0m\u001b[0mindex\u001b[0m\u001b[1;33m)\u001b[0m\u001b[1;33m.\u001b[0m\u001b[0m__finalize__\u001b[0m\u001b[1;33m(\u001b[0m\u001b[0mself\u001b[0m\u001b[1;33m)\u001b[0m\u001b[1;33m\u001b[0m\u001b[1;33m\u001b[0m\u001b[0m\n\u001b[0;32m   3632\u001b[0m \u001b[1;33m\u001b[0m\u001b[0m\n",
      "\u001b[1;32m~\\anaconda3\\lib\\site-packages\\pandas\\core\\base.py\u001b[0m in \u001b[0;36m_map_values\u001b[1;34m(self, mapper, na_action)\u001b[0m\n\u001b[0;32m   1152\u001b[0m \u001b[1;33m\u001b[0m\u001b[0m\n\u001b[0;32m   1153\u001b[0m         \u001b[1;31m# mapper is a function\u001b[0m\u001b[1;33m\u001b[0m\u001b[1;33m\u001b[0m\u001b[1;33m\u001b[0m\u001b[0m\n\u001b[1;32m-> 1154\u001b[1;33m         \u001b[0mnew_values\u001b[0m \u001b[1;33m=\u001b[0m \u001b[0mmap_f\u001b[0m\u001b[1;33m(\u001b[0m\u001b[0mvalues\u001b[0m\u001b[1;33m,\u001b[0m \u001b[0mmapper\u001b[0m\u001b[1;33m)\u001b[0m\u001b[1;33m\u001b[0m\u001b[1;33m\u001b[0m\u001b[0m\n\u001b[0m\u001b[0;32m   1155\u001b[0m \u001b[1;33m\u001b[0m\u001b[0m\n\u001b[0;32m   1156\u001b[0m         \u001b[1;32mreturn\u001b[0m \u001b[0mnew_values\u001b[0m\u001b[1;33m\u001b[0m\u001b[1;33m\u001b[0m\u001b[0m\n",
      "\u001b[1;32mpandas\\_libs\\lib.pyx\u001b[0m in \u001b[0;36mpandas._libs.lib.map_infer\u001b[1;34m()\u001b[0m\n",
      "\u001b[1;32m<ipython-input-159-efec696e1187>\u001b[0m in \u001b[0;36m<lambda>\u001b[1;34m(x)\u001b[0m\n\u001b[1;32m----> 1\u001b[1;33m \u001b[0mweather_df\u001b[0m\u001b[1;33m[\u001b[0m\u001b[1;34m\"PrecipTotal\"\u001b[0m\u001b[1;33m]\u001b[0m \u001b[1;33m=\u001b[0m \u001b[0mweather_df\u001b[0m\u001b[1;33m[\u001b[0m\u001b[1;34m\"PrecipTotal\"\u001b[0m\u001b[1;33m]\u001b[0m\u001b[1;33m.\u001b[0m\u001b[0mmap\u001b[0m\u001b[1;33m(\u001b[0m\u001b[1;32mlambda\u001b[0m \u001b[0mx\u001b[0m\u001b[1;33m:\u001b[0m \u001b[0mx\u001b[0m\u001b[1;33m.\u001b[0m\u001b[0mreplace\u001b[0m\u001b[1;33m(\u001b[0m\u001b[1;34m\"T\"\u001b[0m\u001b[1;33m,\u001b[0m \u001b[1;34m\"0.001\"\u001b[0m\u001b[1;33m)\u001b[0m\u001b[1;33m)\u001b[0m\u001b[1;33m.\u001b[0m\u001b[0mastype\u001b[0m\u001b[1;33m(\u001b[0m\u001b[0mfloat\u001b[0m\u001b[1;33m)\u001b[0m\u001b[1;33m\u001b[0m\u001b[1;33m\u001b[0m\u001b[0m\n\u001b[0m\u001b[0;32m      2\u001b[0m \u001b[0mweather_df\u001b[0m\u001b[1;33m[\u001b[0m\u001b[1;33m[\u001b[0m\u001b[1;34m\"PrecipTotal\"\u001b[0m\u001b[1;33m]\u001b[0m\u001b[1;33m]\u001b[0m\u001b[1;33m\u001b[0m\u001b[1;33m\u001b[0m\u001b[0m\n",
      "\u001b[1;31mAttributeError\u001b[0m: 'float' object has no attribute 'replace'"
     ]
    }
   ],
   "source": [
    "weather_df[\"PrecipTotal\"] = weather_df[\"PrecipTotal\"].map(lambda x: x.replace(\"T\", \"0.001\")).astype(float)\n"
   ]
  },
  {
   "cell_type": "code",
   "execution_count": 163,
   "metadata": {},
   "outputs": [
    {
     "data": {
      "text/plain": [
       "0.000    1570\n",
       "0.001     317\n",
       "0.010     126\n",
       "0.020      63\n",
       "0.030      46\n",
       "         ... \n",
       "0.760       1\n",
       "4.730       1\n",
       "2.760       1\n",
       "1.090       1\n",
       "2.240       1\n",
       "Name: PrecipTotal, Length: 167, dtype: int64"
      ]
     },
     "execution_count": 163,
     "metadata": {},
     "output_type": "execute_result"
    }
   ],
   "source": [
    "weather_df[\"PrecipTotal\"].value_counts()"
   ]
  },
  {
   "cell_type": "markdown",
   "metadata": {},
   "source": [
    "### 3.1.18 `StnPressure` <a id=\"3.1.18\"></a>\n",
    "Average station pressure (inches mercury(hg))"
   ]
  },
  {
   "cell_type": "code",
   "execution_count": 165,
   "metadata": {},
   "outputs": [
    {
     "data": {
      "text/plain": [
       "0"
      ]
     },
     "execution_count": 165,
     "metadata": {},
     "output_type": "execute_result"
    }
   ],
   "source": [
    "# Checking for Nulls\n",
    "\n",
    "weather_df[\"StnPressure\"].isnull().sum()"
   ]
  },
  {
   "cell_type": "code",
   "execution_count": 166,
   "metadata": {},
   "outputs": [
    {
     "data": {
      "text/plain": [
       "False    2925\n",
       "True        2\n",
       "Name: StnPressure, dtype: int64"
      ]
     },
     "execution_count": 166,
     "metadata": {},
     "output_type": "execute_result"
    }
   ],
   "source": [
    "# Checking for \"M\", which indicates nulls\n",
    "\n",
    "stnpressure_nulls = weather_df[\"StnPressure\"].map(lambda x: x == \"M\")\n",
    "stnpressure_nulls.value_counts()"
   ]
  },
  {
   "cell_type": "markdown",
   "metadata": {},
   "source": [
    "<font color = blue> Shaun: </font>\n",
    "\n",
    "Seems like sea level pressure is another measure of pressure, so I'll hold first and see what the EDA reveals about sea level pressure. "
   ]
  },
  {
   "cell_type": "markdown",
   "metadata": {},
   "source": [
    "### 3.1.19 `SeaLevel` <a id=\"3.1.19\"></a>\n",
    "Average sea level pressure (inches mercury(hg))"
   ]
  },
  {
   "cell_type": "code",
   "execution_count": 167,
   "metadata": {},
   "outputs": [
    {
     "data": {
      "text/plain": [
       "0"
      ]
     },
     "execution_count": 167,
     "metadata": {},
     "output_type": "execute_result"
    }
   ],
   "source": [
    "# Checking for Nulls\n",
    "\n",
    "weather_df[\"SeaLevel\"].isnull().sum()"
   ]
  },
  {
   "cell_type": "code",
   "execution_count": 169,
   "metadata": {
    "scrolled": true
   },
   "outputs": [
    {
     "data": {
      "text/plain": [
       "False    2919\n",
       "True        8\n",
       "Name: SeaLevel, dtype: int64"
      ]
     },
     "execution_count": 169,
     "metadata": {},
     "output_type": "execute_result"
    }
   ],
   "source": [
    "# Checking for \"M\", which indicates nulls\n",
    "\n",
    "sealevel_nulls = weather_df[\"SeaLevel\"].map(lambda x: x == \"M\")\n",
    "sealevel_nulls.value_counts()"
   ]
  },
  {
   "cell_type": "markdown",
   "metadata": {},
   "source": [
    "<font color = blue> Shaun: </font>\n",
    "\n",
    "Apparently, Sea Level Pressure is the <a href=\"https://community.weatherflow.com/t/pressure-local-station-vs-sea-level/1416/3\">more standard</a> measure of pressure. So I will drop `StnPressure` later even though it has 6 less missing observations. \n",
    "\n",
    "In the grand scheme of things, I don't think 6 makes that big a difference."
   ]
  },
  {
   "cell_type": "markdown",
   "metadata": {},
   "source": [
    "##### Dropping rows with `M` for `SeaLevel` column"
   ]
  },
  {
   "cell_type": "code",
   "execution_count": 170,
   "metadata": {},
   "outputs": [],
   "source": [
    "weather_df = weather_df[~sealevel_nulls]"
   ]
  },
  {
   "cell_type": "code",
   "execution_count": 172,
   "metadata": {},
   "outputs": [
    {
     "data": {
      "text/plain": [
       "dtype('O')"
      ]
     },
     "execution_count": 172,
     "metadata": {},
     "output_type": "execute_result"
    }
   ],
   "source": [
    "# Checking datatype\n",
    "\n",
    "weather_df[\"SeaLevel\"].dtype"
   ]
  },
  {
   "cell_type": "markdown",
   "metadata": {},
   "source": [
    "##### Changing dtype of `SeaLevel` to `float`"
   ]
  },
  {
   "cell_type": "code",
   "execution_count": 176,
   "metadata": {},
   "outputs": [
    {
     "name": "stderr",
     "output_type": "stream",
     "text": [
      "C:\\Users\\Shaun\\anaconda3\\lib\\site-packages\\ipykernel_launcher.py:1: SettingWithCopyWarning: \n",
      "A value is trying to be set on a copy of a slice from a DataFrame.\n",
      "Try using .loc[row_indexer,col_indexer] = value instead\n",
      "\n",
      "See the caveats in the documentation: https://pandas.pydata.org/pandas-docs/stable/user_guide/indexing.html#returning-a-view-versus-a-copy\n",
      "  \"\"\"Entry point for launching an IPython kernel.\n"
     ]
    },
    {
     "data": {
      "text/plain": [
       "dtype('float64')"
      ]
     },
     "execution_count": 176,
     "metadata": {},
     "output_type": "execute_result"
    }
   ],
   "source": [
    "weather_df[\"SeaLevel\"] = weather_df[\"SeaLevel\"].astype(float)\n",
    "weather_df[\"SeaLevel\"].dtype"
   ]
  },
  {
   "cell_type": "markdown",
   "metadata": {},
   "source": [
    "### 3.1.20 `ResultSpeed` <a id=\"3.1.20\"></a>\n",
    "Resultant wind speed in mph"
   ]
  },
  {
   "cell_type": "code",
   "execution_count": 177,
   "metadata": {},
   "outputs": [
    {
     "data": {
      "text/plain": [
       "0"
      ]
     },
     "execution_count": 177,
     "metadata": {},
     "output_type": "execute_result"
    }
   ],
   "source": [
    "# Checking for Nulls\n",
    "\n",
    "weather_df[\"ResultSpeed\"].isnull().sum()"
   ]
  },
  {
   "cell_type": "code",
   "execution_count": 178,
   "metadata": {},
   "outputs": [
    {
     "data": {
      "text/plain": [
       "False    2919\n",
       "Name: ResultSpeed, dtype: int64"
      ]
     },
     "execution_count": 178,
     "metadata": {},
     "output_type": "execute_result"
    }
   ],
   "source": [
    "# Checking for \"M\", which indicates nulls\n",
    "\n",
    "resultspeed_nulls = weather_df[\"ResultSpeed\"].map(lambda x: x == \"M\")\n",
    "resultspeed_nulls.value_counts()"
   ]
  },
  {
   "cell_type": "code",
   "execution_count": 179,
   "metadata": {},
   "outputs": [
    {
     "data": {
      "text/plain": [
       "dtype('float64')"
      ]
     },
     "execution_count": 179,
     "metadata": {},
     "output_type": "execute_result"
    }
   ],
   "source": [
    "# Checking dtype\n",
    "\n",
    "weather_df[\"ResultSpeed\"].dtype"
   ]
  },
  {
   "cell_type": "markdown",
   "metadata": {},
   "source": [
    "#### <font color = blue> Shaun: </font>\n",
    "\n",
    "Finally a feature that seems to be cleaned already."
   ]
  },
  {
   "cell_type": "markdown",
   "metadata": {},
   "source": [
    "### 3.1.21 `ResultDir` <a id=\"3.1.21\"></a>\n",
    "Resultant wind direction, in **whole degrees**, to tens of degrees"
   ]
  },
  {
   "cell_type": "code",
   "execution_count": 180,
   "metadata": {},
   "outputs": [
    {
     "data": {
      "text/plain": [
       "0"
      ]
     },
     "execution_count": 180,
     "metadata": {},
     "output_type": "execute_result"
    }
   ],
   "source": [
    "# Checking for Nulls\n",
    "\n",
    "weather_df[\"ResultDir\"].isnull().sum()"
   ]
  },
  {
   "cell_type": "code",
   "execution_count": 181,
   "metadata": {},
   "outputs": [
    {
     "data": {
      "text/plain": [
       "False    2919\n",
       "Name: ResultDir, dtype: int64"
      ]
     },
     "execution_count": 181,
     "metadata": {},
     "output_type": "execute_result"
    }
   ],
   "source": [
    "# Checking for \"M\", which indicates nulls\n",
    "\n",
    "resultdir_nulls = weather_df[\"ResultDir\"].map(lambda x: x == \"M\")\n",
    "resultdir_nulls.value_counts()"
   ]
  },
  {
   "cell_type": "code",
   "execution_count": 182,
   "metadata": {},
   "outputs": [
    {
     "data": {
      "text/plain": [
       "dtype('int64')"
      ]
     },
     "execution_count": 182,
     "metadata": {},
     "output_type": "execute_result"
    }
   ],
   "source": [
    "# Checking dtype\n",
    "\n",
    "weather_df[\"ResultDir\"].dtype"
   ]
  },
  {
   "cell_type": "code",
   "execution_count": 183,
   "metadata": {},
   "outputs": [
    {
     "data": {
      "text/plain": [
       "0       27\n",
       "1       25\n",
       "2        4\n",
       "3        2\n",
       "4        7\n",
       "        ..\n",
       "2939    29\n",
       "2940    24\n",
       "2941    23\n",
       "2942    34\n",
       "2943    34\n",
       "Name: ResultDir, Length: 2919, dtype: int64"
      ]
     },
     "execution_count": 183,
     "metadata": {},
     "output_type": "execute_result"
    }
   ],
   "source": [
    "weather_df[\"ResultDir\"]"
   ]
  },
  {
   "cell_type": "code",
   "execution_count": 185,
   "metadata": {},
   "outputs": [
    {
     "data": {
      "text/plain": [
       "0     27\n",
       "1     25\n",
       "2      4\n",
       "3      2\n",
       "4      7\n",
       "5      6\n",
       "6      8\n",
       "8      7\n",
       "9      7\n",
       "10    11\n",
       "11    10\n",
       "12    18\n",
       "13    17\n",
       "14    11\n",
       "15     8\n",
       "16     9\n",
       "17     7\n",
       "18    17\n",
       "19     9\n",
       "20     3\n",
       "21    36\n",
       "22     3\n",
       "23     1\n",
       "24    14\n",
       "25    11\n",
       "26    21\n",
       "27    21\n",
       "28    27\n",
       "29    25\n",
       "30    36\n",
       "Name: ResultDir, dtype: int64"
      ]
     },
     "execution_count": 185,
     "metadata": {},
     "output_type": "execute_result"
    }
   ],
   "source": [
    "weather_df[\"ResultDir\"].head(30)"
   ]
  },
  {
   "cell_type": "markdown",
   "metadata": {},
   "source": [
    "##### <font color = blue> Shaun: </font>\n",
    "Initially I was going to convert this to a float, but then I read the data description and realised that observations here are in **whole degrees**.\n",
    "\n",
    "Visual inspection in the cell above confirms this, so I guess for now I won't change it. \n",
    "\n",
    "Might come back to it later."
   ]
  },
  {
   "cell_type": "markdown",
   "metadata": {},
   "source": [
    "### 3.1.22 `AvgSpeed` <a id=\"3.1.22\"></a>\n",
    "Average wind speed"
   ]
  },
  {
   "cell_type": "code",
   "execution_count": 186,
   "metadata": {},
   "outputs": [
    {
     "data": {
      "text/plain": [
       "0"
      ]
     },
     "execution_count": 186,
     "metadata": {},
     "output_type": "execute_result"
    }
   ],
   "source": [
    "# Checking for Nulls\n",
    "\n",
    "weather_df[\"AvgSpeed\"].isnull().sum()"
   ]
  },
  {
   "cell_type": "code",
   "execution_count": 187,
   "metadata": {},
   "outputs": [
    {
     "data": {
      "text/plain": [
       "False    2919\n",
       "Name: AvgSpeed, dtype: int64"
      ]
     },
     "execution_count": 187,
     "metadata": {},
     "output_type": "execute_result"
    }
   ],
   "source": [
    "# Checking for \"M\", which indicates nulls\n",
    "\n",
    "avgspeed_nulls = weather_df[\"AvgSpeed\"].map(lambda x: x == \"M\")\n",
    "avgspeed_nulls.value_counts()"
   ]
  },
  {
   "cell_type": "code",
   "execution_count": 189,
   "metadata": {},
   "outputs": [
    {
     "data": {
      "text/plain": [
       "dtype('O')"
      ]
     },
     "execution_count": 189,
     "metadata": {},
     "output_type": "execute_result"
    }
   ],
   "source": [
    "# Checking dtype\n",
    "\n",
    "weather_df[\"AvgSpeed\"].dtype"
   ]
  },
  {
   "cell_type": "code",
   "execution_count": 190,
   "metadata": {},
   "outputs": [
    {
     "data": {
      "text/plain": [
       "0        9.2\n",
       "1        9.6\n",
       "2       13.4\n",
       "3       13.4\n",
       "4       11.9\n",
       "        ... \n",
       "2939     9.0\n",
       "2940     5.5\n",
       "2941     6.5\n",
       "2942    22.9\n",
       "2943    22.6\n",
       "Name: AvgSpeed, Length: 2919, dtype: object"
      ]
     },
     "execution_count": 190,
     "metadata": {},
     "output_type": "execute_result"
    }
   ],
   "source": [
    "weather_df[\"AvgSpeed\"]"
   ]
  },
  {
   "cell_type": "markdown",
   "metadata": {},
   "source": [
    "##### <font color = blue> Shaun: </font>\n",
    "Average speed should definitely be a float, so converting it into a float."
   ]
  },
  {
   "cell_type": "markdown",
   "metadata": {},
   "source": [
    "##### Changing dtype of `AvgSpeed` to `float` "
   ]
  },
  {
   "cell_type": "code",
   "execution_count": 193,
   "metadata": {
    "scrolled": true
   },
   "outputs": [
    {
     "name": "stderr",
     "output_type": "stream",
     "text": [
      "C:\\Users\\Shaun\\anaconda3\\lib\\site-packages\\ipykernel_launcher.py:1: SettingWithCopyWarning: \n",
      "A value is trying to be set on a copy of a slice from a DataFrame.\n",
      "Try using .loc[row_indexer,col_indexer] = value instead\n",
      "\n",
      "See the caveats in the documentation: https://pandas.pydata.org/pandas-docs/stable/user_guide/indexing.html#returning-a-view-versus-a-copy\n",
      "  \"\"\"Entry point for launching an IPython kernel.\n"
     ]
    },
    {
     "data": {
      "text/plain": [
       "dtype('float64')"
      ]
     },
     "execution_count": 193,
     "metadata": {},
     "output_type": "execute_result"
    }
   ],
   "source": [
    "weather_df[\"AvgSpeed\"] = weather_df[\"AvgSpeed\"].astype(float)\n",
    "weather_df[\"AvgSpeed\"].dtype"
   ]
  },
  {
   "cell_type": "markdown",
   "metadata": {},
   "source": [
    "## <font color = red> A final look at weather_df </font> "
   ]
  },
  {
   "cell_type": "code",
   "execution_count": 200,
   "metadata": {},
   "outputs": [
    {
     "name": "stdout",
     "output_type": "stream",
     "text": [
      "weather_df has shape: (2919, 22).\n",
      "\n",
      "weather_df has the following columns: Index(['Station', 'Date', 'Tmax', 'Tmin', 'Tavg', 'Depart', 'DewPoint',\n",
      "       'WetBulb', 'Heat', 'Cool', 'Sunrise', 'Sunset', 'CodeSum', 'Depth',\n",
      "       'Water1', 'SnowFall', 'PrecipTotal', 'StnPressure', 'SeaLevel',\n",
      "       'ResultSpeed', 'ResultDir', 'AvgSpeed'],\n",
      "      dtype='object')\n",
      "\n",
      "These are the top 5 rows of weather_df:\n"
     ]
    },
    {
     "data": {
      "text/html": [
       "<div>\n",
       "<style scoped>\n",
       "    .dataframe tbody tr th:only-of-type {\n",
       "        vertical-align: middle;\n",
       "    }\n",
       "\n",
       "    .dataframe tbody tr th {\n",
       "        vertical-align: top;\n",
       "    }\n",
       "\n",
       "    .dataframe thead th {\n",
       "        text-align: right;\n",
       "    }\n",
       "</style>\n",
       "<table border=\"1\" class=\"dataframe\">\n",
       "  <thead>\n",
       "    <tr style=\"text-align: right;\">\n",
       "      <th></th>\n",
       "      <th>Station</th>\n",
       "      <th>Date</th>\n",
       "      <th>Tmax</th>\n",
       "      <th>Tmin</th>\n",
       "      <th>Tavg</th>\n",
       "      <th>Depart</th>\n",
       "      <th>DewPoint</th>\n",
       "      <th>WetBulb</th>\n",
       "      <th>Heat</th>\n",
       "      <th>Cool</th>\n",
       "      <th>...</th>\n",
       "      <th>CodeSum</th>\n",
       "      <th>Depth</th>\n",
       "      <th>Water1</th>\n",
       "      <th>SnowFall</th>\n",
       "      <th>PrecipTotal</th>\n",
       "      <th>StnPressure</th>\n",
       "      <th>SeaLevel</th>\n",
       "      <th>ResultSpeed</th>\n",
       "      <th>ResultDir</th>\n",
       "      <th>AvgSpeed</th>\n",
       "    </tr>\n",
       "  </thead>\n",
       "  <tbody>\n",
       "    <tr>\n",
       "      <th>0</th>\n",
       "      <td>1</td>\n",
       "      <td>2007-05-01</td>\n",
       "      <td>83</td>\n",
       "      <td>50</td>\n",
       "      <td>67.0</td>\n",
       "      <td>14</td>\n",
       "      <td>51</td>\n",
       "      <td>56.0</td>\n",
       "      <td>0.0</td>\n",
       "      <td>2.0</td>\n",
       "      <td>...</td>\n",
       "      <td></td>\n",
       "      <td>0</td>\n",
       "      <td>M</td>\n",
       "      <td>0.0</td>\n",
       "      <td>0.0</td>\n",
       "      <td>29.10</td>\n",
       "      <td>29.82</td>\n",
       "      <td>1.7</td>\n",
       "      <td>27</td>\n",
       "      <td>9.2</td>\n",
       "    </tr>\n",
       "    <tr>\n",
       "      <th>1</th>\n",
       "      <td>2</td>\n",
       "      <td>2007-05-01</td>\n",
       "      <td>84</td>\n",
       "      <td>52</td>\n",
       "      <td>68.0</td>\n",
       "      <td>M</td>\n",
       "      <td>51</td>\n",
       "      <td>57.0</td>\n",
       "      <td>0.0</td>\n",
       "      <td>3.0</td>\n",
       "      <td>...</td>\n",
       "      <td></td>\n",
       "      <td>M</td>\n",
       "      <td>M</td>\n",
       "      <td>M</td>\n",
       "      <td>0.0</td>\n",
       "      <td>29.18</td>\n",
       "      <td>29.82</td>\n",
       "      <td>2.7</td>\n",
       "      <td>25</td>\n",
       "      <td>9.6</td>\n",
       "    </tr>\n",
       "    <tr>\n",
       "      <th>2</th>\n",
       "      <td>1</td>\n",
       "      <td>2007-05-02</td>\n",
       "      <td>59</td>\n",
       "      <td>42</td>\n",
       "      <td>51.0</td>\n",
       "      <td>-3</td>\n",
       "      <td>42</td>\n",
       "      <td>47.0</td>\n",
       "      <td>14.0</td>\n",
       "      <td>0.0</td>\n",
       "      <td>...</td>\n",
       "      <td>BR</td>\n",
       "      <td>0</td>\n",
       "      <td>M</td>\n",
       "      <td>0.0</td>\n",
       "      <td>0.0</td>\n",
       "      <td>29.38</td>\n",
       "      <td>30.09</td>\n",
       "      <td>13.0</td>\n",
       "      <td>4</td>\n",
       "      <td>13.4</td>\n",
       "    </tr>\n",
       "    <tr>\n",
       "      <th>3</th>\n",
       "      <td>2</td>\n",
       "      <td>2007-05-02</td>\n",
       "      <td>60</td>\n",
       "      <td>43</td>\n",
       "      <td>52.0</td>\n",
       "      <td>M</td>\n",
       "      <td>42</td>\n",
       "      <td>47.0</td>\n",
       "      <td>13.0</td>\n",
       "      <td>0.0</td>\n",
       "      <td>...</td>\n",
       "      <td>BR HZ</td>\n",
       "      <td>M</td>\n",
       "      <td>M</td>\n",
       "      <td>M</td>\n",
       "      <td>0.0</td>\n",
       "      <td>29.44</td>\n",
       "      <td>30.08</td>\n",
       "      <td>13.3</td>\n",
       "      <td>2</td>\n",
       "      <td>13.4</td>\n",
       "    </tr>\n",
       "    <tr>\n",
       "      <th>4</th>\n",
       "      <td>1</td>\n",
       "      <td>2007-05-03</td>\n",
       "      <td>66</td>\n",
       "      <td>46</td>\n",
       "      <td>56.0</td>\n",
       "      <td>2</td>\n",
       "      <td>40</td>\n",
       "      <td>48.0</td>\n",
       "      <td>9.0</td>\n",
       "      <td>0.0</td>\n",
       "      <td>...</td>\n",
       "      <td></td>\n",
       "      <td>0</td>\n",
       "      <td>M</td>\n",
       "      <td>0.0</td>\n",
       "      <td>0.0</td>\n",
       "      <td>29.39</td>\n",
       "      <td>30.12</td>\n",
       "      <td>11.7</td>\n",
       "      <td>7</td>\n",
       "      <td>11.9</td>\n",
       "    </tr>\n",
       "  </tbody>\n",
       "</table>\n",
       "<p>5 rows × 22 columns</p>\n",
       "</div>"
      ],
      "text/plain": [
       "   Station       Date  Tmax  Tmin  Tavg Depart  DewPoint  WetBulb  Heat  Cool  \\\n",
       "0        1 2007-05-01    83    50  67.0     14        51     56.0   0.0   2.0   \n",
       "1        2 2007-05-01    84    52  68.0      M        51     57.0   0.0   3.0   \n",
       "2        1 2007-05-02    59    42  51.0     -3        42     47.0  14.0   0.0   \n",
       "3        2 2007-05-02    60    43  52.0      M        42     47.0  13.0   0.0   \n",
       "4        1 2007-05-03    66    46  56.0      2        40     48.0   9.0   0.0   \n",
       "\n",
       "   ... CodeSum Depth Water1 SnowFall PrecipTotal StnPressure  SeaLevel  \\\n",
       "0  ...             0      M      0.0         0.0       29.10     29.82   \n",
       "1  ...             M      M        M         0.0       29.18     29.82   \n",
       "2  ...      BR     0      M      0.0         0.0       29.38     30.09   \n",
       "3  ...   BR HZ     M      M        M         0.0       29.44     30.08   \n",
       "4  ...             0      M      0.0         0.0       29.39     30.12   \n",
       "\n",
       "  ResultSpeed  ResultDir  AvgSpeed  \n",
       "0         1.7         27       9.2  \n",
       "1         2.7         25       9.6  \n",
       "2        13.0          4      13.4  \n",
       "3        13.3          2      13.4  \n",
       "4        11.7          7      11.9  \n",
       "\n",
       "[5 rows x 22 columns]"
      ]
     },
     "metadata": {},
     "output_type": "display_data"
    },
    {
     "name": "stdout",
     "output_type": "stream",
     "text": [
      "\n",
      "These are the bottom 5 rows of weather_df:\n"
     ]
    },
    {
     "data": {
      "text/html": [
       "<div>\n",
       "<style scoped>\n",
       "    .dataframe tbody tr th:only-of-type {\n",
       "        vertical-align: middle;\n",
       "    }\n",
       "\n",
       "    .dataframe tbody tr th {\n",
       "        vertical-align: top;\n",
       "    }\n",
       "\n",
       "    .dataframe thead th {\n",
       "        text-align: right;\n",
       "    }\n",
       "</style>\n",
       "<table border=\"1\" class=\"dataframe\">\n",
       "  <thead>\n",
       "    <tr style=\"text-align: right;\">\n",
       "      <th></th>\n",
       "      <th>Station</th>\n",
       "      <th>Date</th>\n",
       "      <th>Tmax</th>\n",
       "      <th>Tmin</th>\n",
       "      <th>Tavg</th>\n",
       "      <th>Depart</th>\n",
       "      <th>DewPoint</th>\n",
       "      <th>WetBulb</th>\n",
       "      <th>Heat</th>\n",
       "      <th>Cool</th>\n",
       "      <th>...</th>\n",
       "      <th>CodeSum</th>\n",
       "      <th>Depth</th>\n",
       "      <th>Water1</th>\n",
       "      <th>SnowFall</th>\n",
       "      <th>PrecipTotal</th>\n",
       "      <th>StnPressure</th>\n",
       "      <th>SeaLevel</th>\n",
       "      <th>ResultSpeed</th>\n",
       "      <th>ResultDir</th>\n",
       "      <th>AvgSpeed</th>\n",
       "    </tr>\n",
       "  </thead>\n",
       "  <tbody>\n",
       "    <tr>\n",
       "      <th>2939</th>\n",
       "      <td>2</td>\n",
       "      <td>2014-10-29</td>\n",
       "      <td>49</td>\n",
       "      <td>40</td>\n",
       "      <td>45.0</td>\n",
       "      <td>M</td>\n",
       "      <td>34</td>\n",
       "      <td>42.0</td>\n",
       "      <td>20.0</td>\n",
       "      <td>0.0</td>\n",
       "      <td>...</td>\n",
       "      <td></td>\n",
       "      <td>M</td>\n",
       "      <td>M</td>\n",
       "      <td>M</td>\n",
       "      <td>0.000</td>\n",
       "      <td>29.42</td>\n",
       "      <td>30.07</td>\n",
       "      <td>8.5</td>\n",
       "      <td>29</td>\n",
       "      <td>9.0</td>\n",
       "    </tr>\n",
       "    <tr>\n",
       "      <th>2940</th>\n",
       "      <td>1</td>\n",
       "      <td>2014-10-30</td>\n",
       "      <td>51</td>\n",
       "      <td>32</td>\n",
       "      <td>42.0</td>\n",
       "      <td>-4</td>\n",
       "      <td>34</td>\n",
       "      <td>40.0</td>\n",
       "      <td>23.0</td>\n",
       "      <td>0.0</td>\n",
       "      <td>...</td>\n",
       "      <td></td>\n",
       "      <td>0</td>\n",
       "      <td>M</td>\n",
       "      <td>0.0</td>\n",
       "      <td>0.000</td>\n",
       "      <td>29.34</td>\n",
       "      <td>30.09</td>\n",
       "      <td>5.1</td>\n",
       "      <td>24</td>\n",
       "      <td>5.5</td>\n",
       "    </tr>\n",
       "    <tr>\n",
       "      <th>2941</th>\n",
       "      <td>2</td>\n",
       "      <td>2014-10-30</td>\n",
       "      <td>53</td>\n",
       "      <td>37</td>\n",
       "      <td>45.0</td>\n",
       "      <td>M</td>\n",
       "      <td>35</td>\n",
       "      <td>42.0</td>\n",
       "      <td>20.0</td>\n",
       "      <td>0.0</td>\n",
       "      <td>...</td>\n",
       "      <td>RA</td>\n",
       "      <td>M</td>\n",
       "      <td>M</td>\n",
       "      <td>M</td>\n",
       "      <td>0.001</td>\n",
       "      <td>29.41</td>\n",
       "      <td>30.10</td>\n",
       "      <td>5.9</td>\n",
       "      <td>23</td>\n",
       "      <td>6.5</td>\n",
       "    </tr>\n",
       "    <tr>\n",
       "      <th>2942</th>\n",
       "      <td>1</td>\n",
       "      <td>2014-10-31</td>\n",
       "      <td>47</td>\n",
       "      <td>33</td>\n",
       "      <td>40.0</td>\n",
       "      <td>-6</td>\n",
       "      <td>25</td>\n",
       "      <td>33.0</td>\n",
       "      <td>25.0</td>\n",
       "      <td>0.0</td>\n",
       "      <td>...</td>\n",
       "      <td>RA SN</td>\n",
       "      <td>0</td>\n",
       "      <td>M</td>\n",
       "      <td>0.1</td>\n",
       "      <td>0.030</td>\n",
       "      <td>29.49</td>\n",
       "      <td>30.20</td>\n",
       "      <td>22.6</td>\n",
       "      <td>34</td>\n",
       "      <td>22.9</td>\n",
       "    </tr>\n",
       "    <tr>\n",
       "      <th>2943</th>\n",
       "      <td>2</td>\n",
       "      <td>2014-10-31</td>\n",
       "      <td>49</td>\n",
       "      <td>34</td>\n",
       "      <td>42.0</td>\n",
       "      <td>M</td>\n",
       "      <td>29</td>\n",
       "      <td>36.0</td>\n",
       "      <td>23.0</td>\n",
       "      <td>0.0</td>\n",
       "      <td>...</td>\n",
       "      <td>RA SN BR</td>\n",
       "      <td>M</td>\n",
       "      <td>M</td>\n",
       "      <td>M</td>\n",
       "      <td>0.040</td>\n",
       "      <td>29.54</td>\n",
       "      <td>30.20</td>\n",
       "      <td>21.7</td>\n",
       "      <td>34</td>\n",
       "      <td>22.6</td>\n",
       "    </tr>\n",
       "  </tbody>\n",
       "</table>\n",
       "<p>5 rows × 22 columns</p>\n",
       "</div>"
      ],
      "text/plain": [
       "      Station       Date  Tmax  Tmin  Tavg Depart  DewPoint  WetBulb  Heat  \\\n",
       "2939        2 2014-10-29    49    40  45.0      M        34     42.0  20.0   \n",
       "2940        1 2014-10-30    51    32  42.0     -4        34     40.0  23.0   \n",
       "2941        2 2014-10-30    53    37  45.0      M        35     42.0  20.0   \n",
       "2942        1 2014-10-31    47    33  40.0     -6        25     33.0  25.0   \n",
       "2943        2 2014-10-31    49    34  42.0      M        29     36.0  23.0   \n",
       "\n",
       "      Cool  ...   CodeSum Depth Water1 SnowFall PrecipTotal StnPressure  \\\n",
       "2939   0.0  ...               M      M        M       0.000       29.42   \n",
       "2940   0.0  ...               0      M      0.0       0.000       29.34   \n",
       "2941   0.0  ...        RA     M      M        M       0.001       29.41   \n",
       "2942   0.0  ...     RA SN     0      M      0.1       0.030       29.49   \n",
       "2943   0.0  ...  RA SN BR     M      M        M       0.040       29.54   \n",
       "\n",
       "      SeaLevel ResultSpeed  ResultDir  AvgSpeed  \n",
       "2939     30.07         8.5         29       9.0  \n",
       "2940     30.09         5.1         24       5.5  \n",
       "2941     30.10         5.9         23       6.5  \n",
       "2942     30.20        22.6         34      22.9  \n",
       "2943     30.20        21.7         34      22.6  \n",
       "\n",
       "[5 rows x 22 columns]"
      ]
     },
     "metadata": {},
     "output_type": "display_data"
    },
    {
     "name": "stdout",
     "output_type": "stream",
     "text": [
      "\n",
      "An overview of weather_df's feature types, counts, and nulls:\n",
      "\n",
      "<class 'pandas.core.frame.DataFrame'>\n",
      "Int64Index: 2919 entries, 0 to 2943\n",
      "Data columns (total 22 columns):\n",
      " #   Column       Non-Null Count  Dtype         \n",
      "---  ------       --------------  -----         \n",
      " 0   Station      2919 non-null   int64         \n",
      " 1   Date         2919 non-null   datetime64[ns]\n",
      " 2   Tmax         2919 non-null   int64         \n",
      " 3   Tmin         2919 non-null   int64         \n",
      " 4   Tavg         2919 non-null   float64       \n",
      " 5   Depart       2919 non-null   object        \n",
      " 6   DewPoint     2919 non-null   int64         \n",
      " 7   WetBulb      2919 non-null   float64       \n",
      " 8   Heat         2919 non-null   float64       \n",
      " 9   Cool         2919 non-null   float64       \n",
      " 10  Sunrise      2919 non-null   object        \n",
      " 11  Sunset       2919 non-null   object        \n",
      " 12  CodeSum      2919 non-null   object        \n",
      " 13  Depth        2919 non-null   object        \n",
      " 14  Water1       2919 non-null   object        \n",
      " 15  SnowFall     2919 non-null   object        \n",
      " 16  PrecipTotal  2919 non-null   float64       \n",
      " 17  StnPressure  2919 non-null   object        \n",
      " 18  SeaLevel     2919 non-null   float64       \n",
      " 19  ResultSpeed  2919 non-null   float64       \n",
      " 20  ResultDir    2919 non-null   int64         \n",
      " 21  AvgSpeed     2919 non-null   float64       \n",
      "dtypes: datetime64[ns](1), float64(8), int64(5), object(8)\n",
      "memory usage: 524.5+ KB\n"
     ]
    },
    {
     "data": {
      "text/plain": [
       "None"
      ]
     },
     "metadata": {},
     "output_type": "display_data"
    },
    {
     "name": "stdout",
     "output_type": "stream",
     "text": [
      "\n",
      "weather_df does not contain nulls.\n"
     ]
    }
   ],
   "source": [
    "preview(weather_df)"
   ]
  },
  {
   "cell_type": "markdown",
   "metadata": {},
   "source": [
    "## <font color = red> Feature Engineering </font>"
   ]
  },
  {
   "cell_type": "code",
   "execution_count": 74,
   "metadata": {},
   "outputs": [
    {
     "data": {
      "text/html": [
       "<div>\n",
       "<style scoped>\n",
       "    .dataframe tbody tr th:only-of-type {\n",
       "        vertical-align: middle;\n",
       "    }\n",
       "\n",
       "    .dataframe tbody tr th {\n",
       "        vertical-align: top;\n",
       "    }\n",
       "\n",
       "    .dataframe thead th {\n",
       "        text-align: right;\n",
       "    }\n",
       "</style>\n",
       "<table border=\"1\" class=\"dataframe\">\n",
       "  <thead>\n",
       "    <tr style=\"text-align: right;\">\n",
       "      <th></th>\n",
       "      <th>subreddit</th>\n",
       "      <th>posts</th>\n",
       "      <th>posts_tokenised</th>\n",
       "      <th>posts_tokenised_stopped</th>\n",
       "    </tr>\n",
       "  </thead>\n",
       "  <tbody>\n",
       "    <tr>\n",
       "      <td>0</td>\n",
       "      <td>1</td>\n",
       "      <td>Weekly Community Support Thread: Monday, Febru...</td>\n",
       "      <td>[weekly, community, support, thread, monday, f...</td>\n",
       "      <td>[weekly, community, support, thread, monday, f...</td>\n",
       "    </tr>\n",
       "    <tr>\n",
       "      <td>1</td>\n",
       "      <td>1</td>\n",
       "      <td>Even if this sounds ridiculous, i just want to...</td>\n",
       "      <td>[even, if, this, sounds, ridiculous, i, just, ...</td>\n",
       "      <td>[even, sounds, ridiculous, want, say, thank, e...</td>\n",
       "    </tr>\n",
       "    <tr>\n",
       "      <td>2</td>\n",
       "      <td>1</td>\n",
       "      <td>Please Help Me - I don't know how to fix my li...</td>\n",
       "      <td>[please, help, me, i, dont, know, how, to, fix...</td>\n",
       "      <td>[please, help, dont, know, fix, lifethis, firs...</td>\n",
       "    </tr>\n",
       "    <tr>\n",
       "      <td>3</td>\n",
       "      <td>1</td>\n",
       "      <td>Day 12Spending more time with my family , read...</td>\n",
       "      <td>[day, 12spending, more, time, with, my, family...</td>\n",
       "      <td>[day, 12spending, time, family, reading, valua...</td>\n",
       "    </tr>\n",
       "    <tr>\n",
       "      <td>4</td>\n",
       "      <td>1</td>\n",
       "      <td>How to stay positive and motivated when not ga...</td>\n",
       "      <td>[how, to, stay, positive, and, motivated, when...</td>\n",
       "      <td>[stay, positive, motivated, gamblingi, see, dr...</td>\n",
       "    </tr>\n",
       "    <tr>\n",
       "      <td>...</td>\n",
       "      <td>...</td>\n",
       "      <td>...</td>\n",
       "      <td>...</td>\n",
       "      <td>...</td>\n",
       "    </tr>\n",
       "    <tr>\n",
       "      <td>1570</td>\n",
       "      <td>0</td>\n",
       "      <td>14th birthday cake</td>\n",
       "      <td>[14th, birthday, cake]</td>\n",
       "      <td>[14th, birthday, cake]</td>\n",
       "    </tr>\n",
       "    <tr>\n",
       "      <td>1571</td>\n",
       "      <td>0</td>\n",
       "      <td>Heavy horse favorites to showI was listening t...</td>\n",
       "      <td>[heavy, horse, favorites, to, showi, was, list...</td>\n",
       "      <td>[heavy, horse, favorites, showi, listening, fr...</td>\n",
       "    </tr>\n",
       "    <tr>\n",
       "      <td>1572</td>\n",
       "      <td>0</td>\n",
       "      <td>Another parlay</td>\n",
       "      <td>[another, parlay]</td>\n",
       "      <td>[another, parlay]</td>\n",
       "    </tr>\n",
       "    <tr>\n",
       "      <td>1573</td>\n",
       "      <td>0</td>\n",
       "      <td>Taruhan Slot Online Terpercaya</td>\n",
       "      <td>[taruhan, slot, online, terpercaya]</td>\n",
       "      <td>[taruhan, slot, online, terpercaya]</td>\n",
       "    </tr>\n",
       "    <tr>\n",
       "      <td>1574</td>\n",
       "      <td>0</td>\n",
       "      <td>Are casino dealers meant to confuse youHi, all...</td>\n",
       "      <td>[are, casino, dealers, meant, to, confuse, you...</td>\n",
       "      <td>[casino, dealers, meant, confuse, youhi, ive, ...</td>\n",
       "    </tr>\n",
       "  </tbody>\n",
       "</table>\n",
       "<p>1395 rows × 4 columns</p>\n",
       "</div>"
      ],
      "text/plain": [
       "      subreddit                                              posts  \\\n",
       "0             1  Weekly Community Support Thread: Monday, Febru...   \n",
       "1             1  Even if this sounds ridiculous, i just want to...   \n",
       "2             1  Please Help Me - I don't know how to fix my li...   \n",
       "3             1  Day 12Spending more time with my family , read...   \n",
       "4             1  How to stay positive and motivated when not ga...   \n",
       "...         ...                                                ...   \n",
       "1570          0                                 14th birthday cake   \n",
       "1571          0  Heavy horse favorites to showI was listening t...   \n",
       "1572          0                                     Another parlay   \n",
       "1573          0                     Taruhan Slot Online Terpercaya   \n",
       "1574          0  Are casino dealers meant to confuse youHi, all...   \n",
       "\n",
       "                                        posts_tokenised  \\\n",
       "0     [weekly, community, support, thread, monday, f...   \n",
       "1     [even, if, this, sounds, ridiculous, i, just, ...   \n",
       "2     [please, help, me, i, dont, know, how, to, fix...   \n",
       "3     [day, 12spending, more, time, with, my, family...   \n",
       "4     [how, to, stay, positive, and, motivated, when...   \n",
       "...                                                 ...   \n",
       "1570                             [14th, birthday, cake]   \n",
       "1571  [heavy, horse, favorites, to, showi, was, list...   \n",
       "1572                                  [another, parlay]   \n",
       "1573                [taruhan, slot, online, terpercaya]   \n",
       "1574  [are, casino, dealers, meant, to, confuse, you...   \n",
       "\n",
       "                                posts_tokenised_stopped  \n",
       "0     [weekly, community, support, thread, monday, f...  \n",
       "1     [even, sounds, ridiculous, want, say, thank, e...  \n",
       "2     [please, help, dont, know, fix, lifethis, firs...  \n",
       "3     [day, 12spending, time, family, reading, valua...  \n",
       "4     [stay, positive, motivated, gamblingi, see, dr...  \n",
       "...                                                 ...  \n",
       "1570                             [14th, birthday, cake]  \n",
       "1571  [heavy, horse, favorites, showi, listening, fr...  \n",
       "1572                                  [another, parlay]  \n",
       "1573                [taruhan, slot, online, terpercaya]  \n",
       "1574  [casino, dealers, meant, confuse, youhi, ive, ...  \n",
       "\n",
       "[1395 rows x 4 columns]"
      ]
     },
     "execution_count": 74,
     "metadata": {},
     "output_type": "execute_result"
    }
   ],
   "source": [
    "# Looking at the updated DF\n",
    "combined_df"
   ]
  },
  {
   "cell_type": "markdown",
   "metadata": {},
   "source": [
    "#### 4.3.10 Cleaning with Lemmatisation <a id=\"4.3.10\"></a>"
   ]
  },
  {
   "cell_type": "code",
   "execution_count": 75,
   "metadata": {},
   "outputs": [],
   "source": [
    "lemmatiser = WordNetLemmatizer()\n",
    "\n",
    "def lemmatise(posts_tokenised_stopped):\n",
    "    posts_tokenised_stopped_lem = [lemmatiser.lemmatize(word) for word in posts_tokenised_stopped]\n",
    "    return posts_tokenised_stopped_lem"
   ]
  },
  {
   "cell_type": "code",
   "execution_count": 76,
   "metadata": {},
   "outputs": [],
   "source": [
    "combined_df[\"posts_tokenised_stopped_lem\"] = combined_df[\"posts_tokenised_stopped\"].apply(lambda x: lemmatise(x)) \n",
    "combined_df = combined_df[[\"subreddit\", \"posts\", \"posts_tokenised\", \"posts_tokenised_stopped\", \"posts_tokenised_stopped_lem\"]]"
   ]
  },
  {
   "cell_type": "code",
   "execution_count": 77,
   "metadata": {},
   "outputs": [
    {
     "data": {
      "text/html": [
       "<div>\n",
       "<style scoped>\n",
       "    .dataframe tbody tr th:only-of-type {\n",
       "        vertical-align: middle;\n",
       "    }\n",
       "\n",
       "    .dataframe tbody tr th {\n",
       "        vertical-align: top;\n",
       "    }\n",
       "\n",
       "    .dataframe thead th {\n",
       "        text-align: right;\n",
       "    }\n",
       "</style>\n",
       "<table border=\"1\" class=\"dataframe\">\n",
       "  <thead>\n",
       "    <tr style=\"text-align: right;\">\n",
       "      <th></th>\n",
       "      <th>subreddit</th>\n",
       "      <th>posts</th>\n",
       "      <th>posts_tokenised</th>\n",
       "      <th>posts_tokenised_stopped</th>\n",
       "      <th>posts_tokenised_stopped_lem</th>\n",
       "    </tr>\n",
       "  </thead>\n",
       "  <tbody>\n",
       "    <tr>\n",
       "      <td>0</td>\n",
       "      <td>1</td>\n",
       "      <td>Weekly Community Support Thread: Monday, Febru...</td>\n",
       "      <td>[weekly, community, support, thread, monday, f...</td>\n",
       "      <td>[weekly, community, support, thread, monday, f...</td>\n",
       "      <td>[weekly, community, support, thread, monday, f...</td>\n",
       "    </tr>\n",
       "    <tr>\n",
       "      <td>1</td>\n",
       "      <td>1</td>\n",
       "      <td>Even if this sounds ridiculous, i just want to...</td>\n",
       "      <td>[even, if, this, sounds, ridiculous, i, just, ...</td>\n",
       "      <td>[even, sounds, ridiculous, want, say, thank, e...</td>\n",
       "      <td>[even, sound, ridiculous, want, say, thank, ev...</td>\n",
       "    </tr>\n",
       "    <tr>\n",
       "      <td>2</td>\n",
       "      <td>1</td>\n",
       "      <td>Please Help Me - I don't know how to fix my li...</td>\n",
       "      <td>[please, help, me, i, dont, know, how, to, fix...</td>\n",
       "      <td>[please, help, dont, know, fix, lifethis, firs...</td>\n",
       "      <td>[please, help, dont, know, fix, lifethis, firs...</td>\n",
       "    </tr>\n",
       "    <tr>\n",
       "      <td>3</td>\n",
       "      <td>1</td>\n",
       "      <td>Day 12Spending more time with my family , read...</td>\n",
       "      <td>[day, 12spending, more, time, with, my, family...</td>\n",
       "      <td>[day, 12spending, time, family, reading, valua...</td>\n",
       "      <td>[day, 12spending, time, family, reading, valua...</td>\n",
       "    </tr>\n",
       "    <tr>\n",
       "      <td>4</td>\n",
       "      <td>1</td>\n",
       "      <td>How to stay positive and motivated when not ga...</td>\n",
       "      <td>[how, to, stay, positive, and, motivated, when...</td>\n",
       "      <td>[stay, positive, motivated, gamblingi, see, dr...</td>\n",
       "      <td>[stay, positive, motivated, gamblingi, see, dr...</td>\n",
       "    </tr>\n",
       "    <tr>\n",
       "      <td>...</td>\n",
       "      <td>...</td>\n",
       "      <td>...</td>\n",
       "      <td>...</td>\n",
       "      <td>...</td>\n",
       "      <td>...</td>\n",
       "    </tr>\n",
       "    <tr>\n",
       "      <td>1570</td>\n",
       "      <td>0</td>\n",
       "      <td>14th birthday cake</td>\n",
       "      <td>[14th, birthday, cake]</td>\n",
       "      <td>[14th, birthday, cake]</td>\n",
       "      <td>[14th, birthday, cake]</td>\n",
       "    </tr>\n",
       "    <tr>\n",
       "      <td>1571</td>\n",
       "      <td>0</td>\n",
       "      <td>Heavy horse favorites to showI was listening t...</td>\n",
       "      <td>[heavy, horse, favorites, to, showi, was, list...</td>\n",
       "      <td>[heavy, horse, favorites, showi, listening, fr...</td>\n",
       "      <td>[heavy, horse, favorite, showi, listening, fre...</td>\n",
       "    </tr>\n",
       "    <tr>\n",
       "      <td>1572</td>\n",
       "      <td>0</td>\n",
       "      <td>Another parlay</td>\n",
       "      <td>[another, parlay]</td>\n",
       "      <td>[another, parlay]</td>\n",
       "      <td>[another, parlay]</td>\n",
       "    </tr>\n",
       "    <tr>\n",
       "      <td>1573</td>\n",
       "      <td>0</td>\n",
       "      <td>Taruhan Slot Online Terpercaya</td>\n",
       "      <td>[taruhan, slot, online, terpercaya]</td>\n",
       "      <td>[taruhan, slot, online, terpercaya]</td>\n",
       "      <td>[taruhan, slot, online, terpercaya]</td>\n",
       "    </tr>\n",
       "    <tr>\n",
       "      <td>1574</td>\n",
       "      <td>0</td>\n",
       "      <td>Are casino dealers meant to confuse youHi, all...</td>\n",
       "      <td>[are, casino, dealers, meant, to, confuse, you...</td>\n",
       "      <td>[casino, dealers, meant, confuse, youhi, ive, ...</td>\n",
       "      <td>[casino, dealer, meant, confuse, youhi, ive, a...</td>\n",
       "    </tr>\n",
       "  </tbody>\n",
       "</table>\n",
       "<p>1395 rows × 5 columns</p>\n",
       "</div>"
      ],
      "text/plain": [
       "      subreddit                                              posts  \\\n",
       "0             1  Weekly Community Support Thread: Monday, Febru...   \n",
       "1             1  Even if this sounds ridiculous, i just want to...   \n",
       "2             1  Please Help Me - I don't know how to fix my li...   \n",
       "3             1  Day 12Spending more time with my family , read...   \n",
       "4             1  How to stay positive and motivated when not ga...   \n",
       "...         ...                                                ...   \n",
       "1570          0                                 14th birthday cake   \n",
       "1571          0  Heavy horse favorites to showI was listening t...   \n",
       "1572          0                                     Another parlay   \n",
       "1573          0                     Taruhan Slot Online Terpercaya   \n",
       "1574          0  Are casino dealers meant to confuse youHi, all...   \n",
       "\n",
       "                                        posts_tokenised  \\\n",
       "0     [weekly, community, support, thread, monday, f...   \n",
       "1     [even, if, this, sounds, ridiculous, i, just, ...   \n",
       "2     [please, help, me, i, dont, know, how, to, fix...   \n",
       "3     [day, 12spending, more, time, with, my, family...   \n",
       "4     [how, to, stay, positive, and, motivated, when...   \n",
       "...                                                 ...   \n",
       "1570                             [14th, birthday, cake]   \n",
       "1571  [heavy, horse, favorites, to, showi, was, list...   \n",
       "1572                                  [another, parlay]   \n",
       "1573                [taruhan, slot, online, terpercaya]   \n",
       "1574  [are, casino, dealers, meant, to, confuse, you...   \n",
       "\n",
       "                                posts_tokenised_stopped  \\\n",
       "0     [weekly, community, support, thread, monday, f...   \n",
       "1     [even, sounds, ridiculous, want, say, thank, e...   \n",
       "2     [please, help, dont, know, fix, lifethis, firs...   \n",
       "3     [day, 12spending, time, family, reading, valua...   \n",
       "4     [stay, positive, motivated, gamblingi, see, dr...   \n",
       "...                                                 ...   \n",
       "1570                             [14th, birthday, cake]   \n",
       "1571  [heavy, horse, favorites, showi, listening, fr...   \n",
       "1572                                  [another, parlay]   \n",
       "1573                [taruhan, slot, online, terpercaya]   \n",
       "1574  [casino, dealers, meant, confuse, youhi, ive, ...   \n",
       "\n",
       "                            posts_tokenised_stopped_lem  \n",
       "0     [weekly, community, support, thread, monday, f...  \n",
       "1     [even, sound, ridiculous, want, say, thank, ev...  \n",
       "2     [please, help, dont, know, fix, lifethis, firs...  \n",
       "3     [day, 12spending, time, family, reading, valua...  \n",
       "4     [stay, positive, motivated, gamblingi, see, dr...  \n",
       "...                                                 ...  \n",
       "1570                             [14th, birthday, cake]  \n",
       "1571  [heavy, horse, favorite, showi, listening, fre...  \n",
       "1572                                  [another, parlay]  \n",
       "1573                [taruhan, slot, online, terpercaya]  \n",
       "1574  [casino, dealer, meant, confuse, youhi, ive, a...  \n",
       "\n",
       "[1395 rows x 5 columns]"
      ]
     },
     "execution_count": 77,
     "metadata": {},
     "output_type": "execute_result"
    }
   ],
   "source": [
    "# Looking at updated DF\n",
    "\n",
    "combined_df"
   ]
  },
  {
   "cell_type": "code",
   "execution_count": 78,
   "metadata": {},
   "outputs": [],
   "source": [
    "# Resetting index\n",
    "\n",
    "combined_df = combined_df.reset_index(drop=True)"
   ]
  },
  {
   "cell_type": "markdown",
   "metadata": {},
   "source": [
    "<br> [Back to Content Page](#top)"
   ]
  },
  {
   "cell_type": "markdown",
   "metadata": {},
   "source": [
    "## 4.4 EDA: Visualisation <a id=\"4.4\"></a>"
   ]
  },
  {
   "cell_type": "markdown",
   "metadata": {},
   "source": [
    "#### 4.4.1 Visualising Word Count: Word Cloud <a id=\"4.4.1\"></a>"
   ]
  },
  {
   "cell_type": "code",
   "execution_count": 79,
   "metadata": {
    "scrolled": true
   },
   "outputs": [
    {
     "data": {
      "image/png": "[encoded data removed]",
      "text/plain": [
       "<Figure size 720x720 with 1 Axes>"
      ]
     },
     "metadata": {
      "needs_background": "light"
     },
     "output_type": "display_data"
    }
   ],
   "source": [
    "# Generating a word cloud \n",
    "\n",
    "stopwords_eng = stopwords.words(\"english\")\n",
    "text = \" \"\n",
    "  \n",
    "# iterate through the lemmatised post text column of the combined dataframe\n",
    "for x in combined_df[\"posts_tokenised_stopped_lem\"]: \n",
    "          \n",
    "    for words in x: \n",
    "        text = text + words + \" \"\n",
    "  \n",
    "words_wc = WordCloud(max_words= 50,\n",
    "                      width = 795, # standard image_size for website: https://www.jimdo.com/blog/optimize-website-images-for-better-design-seo/\n",
    "                      height = 300,\n",
    "                      background_color =\"white\",\n",
    "                      stopwords=stopwords_eng, \n",
    "                      contour_width=3, \n",
    "                      contour_color=\"green\",\n",
    "                      min_font_size = 10).generate(text) \n",
    "  \n",
    "# Returning a wordcloud                        \n",
    "plt.figure(figsize = (10, 10)) \n",
    "plt.imshow(words_wc) \n",
    "plt.axis(\"off\")\n",
    "plt.savefig(\"./images/wordcloud.png\")"
   ]
  },
  {
   "cell_type": "markdown",
   "metadata": {},
   "source": [
    "#### 4.4.2 Visualising Word Count: Barh Plot <a id=\"4.4.2\"></a>"
   ]
  },
  {
   "cell_type": "code",
   "execution_count": 80,
   "metadata": {},
   "outputs": [],
   "source": [
    "# Defining a Function to get me the counts of words (after they are stopped and lemmed)\n",
    "\n",
    "def word_count(string):\n",
    "    counts = {}\n",
    "    words = string.split()\n",
    "\n",
    "    for word in words:\n",
    "        if word in counts:\n",
    "            counts[word] += 1\n",
    "        else:\n",
    "            counts[word] = 1\n",
    "\n",
    "    return counts"
   ]
  },
  {
   "cell_type": "code",
   "execution_count": 81,
   "metadata": {},
   "outputs": [],
   "source": [
    "# Getting total number of words into a dataframe, using \"text\" variable \n",
    "# from the wordcloud cell which contains a string of words NOT a list \n",
    "\n",
    "wordcount_df = pd.DataFrame(word_count(text),index=['word_count']).T.sort_values(by='word_count',ascending=False).reset_index()\n",
    "wordcount_df = wordcount_df.rename(index=str,columns={'index':'word'})"
   ]
  },
  {
   "cell_type": "code",
   "execution_count": 82,
   "metadata": {},
   "outputs": [
    {
     "data": {
      "image/png": "[encoded data removed]",
      "text/plain": [
       "<Figure size 720x576 with 1 Axes>"
      ]
     },
     "metadata": {
      "needs_background": "light"
     },
     "output_type": "display_data"
    }
   ],
   "source": [
    "# Plotting Barh ONLY for top 25 words\n",
    "\n",
    "plt.figure(figsize=(10,8))\n",
    "\n",
    "plt.barh(y=wordcount_df['word'].head(25)[::-1],\n",
    "         width=wordcount_df['word_count'].head(25)[::-1])\n",
    "\n",
    "plt.savefig('./images/wordcount.png')"
   ]
  },
  {
   "cell_type": "code",
   "execution_count": 83,
   "metadata": {},
   "outputs": [],
   "source": [
    "combined_df.to_csv('./datasets/combined_df.csv')"
   ]
  },
  {
   "cell_type": "markdown",
   "metadata": {},
   "source": [
    "<br> [Back to Content Page](#top)"
   ]
  },
  {
   "cell_type": "markdown",
   "metadata": {},
   "source": [
    "# 5. Preprocessing and Modelling <a id=\"5\"></a>"
   ]
  },
  {
   "cell_type": "code",
   "execution_count": 84,
   "metadata": {},
   "outputs": [],
   "source": [
    "combined_df = pd.read_csv('./datasets/combined_df.csv')"
   ]
  },
  {
   "cell_type": "code",
   "execution_count": 85,
   "metadata": {},
   "outputs": [
    {
     "data": {
      "text/html": [
       "<div>\n",
       "<style scoped>\n",
       "    .dataframe tbody tr th:only-of-type {\n",
       "        vertical-align: middle;\n",
       "    }\n",
       "\n",
       "    .dataframe tbody tr th {\n",
       "        vertical-align: top;\n",
       "    }\n",
       "\n",
       "    .dataframe thead th {\n",
       "        text-align: right;\n",
       "    }\n",
       "</style>\n",
       "<table border=\"1\" class=\"dataframe\">\n",
       "  <thead>\n",
       "    <tr style=\"text-align: right;\">\n",
       "      <th></th>\n",
       "      <th>Unnamed: 0</th>\n",
       "      <th>subreddit</th>\n",
       "      <th>posts</th>\n",
       "      <th>posts_tokenised</th>\n",
       "      <th>posts_tokenised_stopped</th>\n",
       "      <th>posts_tokenised_stopped_lem</th>\n",
       "    </tr>\n",
       "  </thead>\n",
       "  <tbody>\n",
       "    <tr>\n",
       "      <td>0</td>\n",
       "      <td>0</td>\n",
       "      <td>1</td>\n",
       "      <td>Weekly Community Support Thread: Monday, Febru...</td>\n",
       "      <td>['weekly', 'community', 'support', 'thread', '...</td>\n",
       "      <td>['weekly', 'community', 'support', 'thread', '...</td>\n",
       "      <td>['weekly', 'community', 'support', 'thread', '...</td>\n",
       "    </tr>\n",
       "    <tr>\n",
       "      <td>1</td>\n",
       "      <td>1</td>\n",
       "      <td>1</td>\n",
       "      <td>Even if this sounds ridiculous, i just want to...</td>\n",
       "      <td>['even', 'if', 'this', 'sounds', 'ridiculous',...</td>\n",
       "      <td>['even', 'sounds', 'ridiculous', 'want', 'say'...</td>\n",
       "      <td>['even', 'sound', 'ridiculous', 'want', 'say',...</td>\n",
       "    </tr>\n",
       "    <tr>\n",
       "      <td>2</td>\n",
       "      <td>2</td>\n",
       "      <td>1</td>\n",
       "      <td>Please Help Me - I don't know how to fix my li...</td>\n",
       "      <td>['please', 'help', 'me', 'i', 'dont', 'know', ...</td>\n",
       "      <td>['please', 'help', 'dont', 'know', 'fix', 'lif...</td>\n",
       "      <td>['please', 'help', 'dont', 'know', 'fix', 'lif...</td>\n",
       "    </tr>\n",
       "    <tr>\n",
       "      <td>3</td>\n",
       "      <td>3</td>\n",
       "      <td>1</td>\n",
       "      <td>Day 12Spending more time with my family , read...</td>\n",
       "      <td>['day', '12spending', 'more', 'time', 'with', ...</td>\n",
       "      <td>['day', '12spending', 'time', 'family', 'readi...</td>\n",
       "      <td>['day', '12spending', 'time', 'family', 'readi...</td>\n",
       "    </tr>\n",
       "    <tr>\n",
       "      <td>4</td>\n",
       "      <td>4</td>\n",
       "      <td>1</td>\n",
       "      <td>How to stay positive and motivated when not ga...</td>\n",
       "      <td>['how', 'to', 'stay', 'positive', 'and', 'moti...</td>\n",
       "      <td>['stay', 'positive', 'motivated', 'gamblingi',...</td>\n",
       "      <td>['stay', 'positive', 'motivated', 'gamblingi',...</td>\n",
       "    </tr>\n",
       "    <tr>\n",
       "      <td>...</td>\n",
       "      <td>...</td>\n",
       "      <td>...</td>\n",
       "      <td>...</td>\n",
       "      <td>...</td>\n",
       "      <td>...</td>\n",
       "      <td>...</td>\n",
       "    </tr>\n",
       "    <tr>\n",
       "      <td>1390</td>\n",
       "      <td>1390</td>\n",
       "      <td>0</td>\n",
       "      <td>14th birthday cake</td>\n",
       "      <td>['14th', 'birthday', 'cake']</td>\n",
       "      <td>['14th', 'birthday', 'cake']</td>\n",
       "      <td>['14th', 'birthday', 'cake']</td>\n",
       "    </tr>\n",
       "    <tr>\n",
       "      <td>1391</td>\n",
       "      <td>1391</td>\n",
       "      <td>0</td>\n",
       "      <td>Heavy horse favorites to showI was listening t...</td>\n",
       "      <td>['heavy', 'horse', 'favorites', 'to', 'showi',...</td>\n",
       "      <td>['heavy', 'horse', 'favorites', 'showi', 'list...</td>\n",
       "      <td>['heavy', 'horse', 'favorite', 'showi', 'liste...</td>\n",
       "    </tr>\n",
       "    <tr>\n",
       "      <td>1392</td>\n",
       "      <td>1392</td>\n",
       "      <td>0</td>\n",
       "      <td>Another parlay</td>\n",
       "      <td>['another', 'parlay']</td>\n",
       "      <td>['another', 'parlay']</td>\n",
       "      <td>['another', 'parlay']</td>\n",
       "    </tr>\n",
       "    <tr>\n",
       "      <td>1393</td>\n",
       "      <td>1393</td>\n",
       "      <td>0</td>\n",
       "      <td>Taruhan Slot Online Terpercaya</td>\n",
       "      <td>['taruhan', 'slot', 'online', 'terpercaya']</td>\n",
       "      <td>['taruhan', 'slot', 'online', 'terpercaya']</td>\n",
       "      <td>['taruhan', 'slot', 'online', 'terpercaya']</td>\n",
       "    </tr>\n",
       "    <tr>\n",
       "      <td>1394</td>\n",
       "      <td>1394</td>\n",
       "      <td>0</td>\n",
       "      <td>Are casino dealers meant to confuse youHi, all...</td>\n",
       "      <td>['are', 'casino', 'dealers', 'meant', 'to', 'c...</td>\n",
       "      <td>['casino', 'dealers', 'meant', 'confuse', 'you...</td>\n",
       "      <td>['casino', 'dealer', 'meant', 'confuse', 'youh...</td>\n",
       "    </tr>\n",
       "  </tbody>\n",
       "</table>\n",
       "<p>1395 rows × 6 columns</p>\n",
       "</div>"
      ],
      "text/plain": [
       "      Unnamed: 0  subreddit  \\\n",
       "0              0          1   \n",
       "1              1          1   \n",
       "2              2          1   \n",
       "3              3          1   \n",
       "4              4          1   \n",
       "...          ...        ...   \n",
       "1390        1390          0   \n",
       "1391        1391          0   \n",
       "1392        1392          0   \n",
       "1393        1393          0   \n",
       "1394        1394          0   \n",
       "\n",
       "                                                  posts  \\\n",
       "0     Weekly Community Support Thread: Monday, Febru...   \n",
       "1     Even if this sounds ridiculous, i just want to...   \n",
       "2     Please Help Me - I don't know how to fix my li...   \n",
       "3     Day 12Spending more time with my family , read...   \n",
       "4     How to stay positive and motivated when not ga...   \n",
       "...                                                 ...   \n",
       "1390                                 14th birthday cake   \n",
       "1391  Heavy horse favorites to showI was listening t...   \n",
       "1392                                     Another parlay   \n",
       "1393                     Taruhan Slot Online Terpercaya   \n",
       "1394  Are casino dealers meant to confuse youHi, all...   \n",
       "\n",
       "                                        posts_tokenised  \\\n",
       "0     ['weekly', 'community', 'support', 'thread', '...   \n",
       "1     ['even', 'if', 'this', 'sounds', 'ridiculous',...   \n",
       "2     ['please', 'help', 'me', 'i', 'dont', 'know', ...   \n",
       "3     ['day', '12spending', 'more', 'time', 'with', ...   \n",
       "4     ['how', 'to', 'stay', 'positive', 'and', 'moti...   \n",
       "...                                                 ...   \n",
       "1390                       ['14th', 'birthday', 'cake']   \n",
       "1391  ['heavy', 'horse', 'favorites', 'to', 'showi',...   \n",
       "1392                              ['another', 'parlay']   \n",
       "1393        ['taruhan', 'slot', 'online', 'terpercaya']   \n",
       "1394  ['are', 'casino', 'dealers', 'meant', 'to', 'c...   \n",
       "\n",
       "                                posts_tokenised_stopped  \\\n",
       "0     ['weekly', 'community', 'support', 'thread', '...   \n",
       "1     ['even', 'sounds', 'ridiculous', 'want', 'say'...   \n",
       "2     ['please', 'help', 'dont', 'know', 'fix', 'lif...   \n",
       "3     ['day', '12spending', 'time', 'family', 'readi...   \n",
       "4     ['stay', 'positive', 'motivated', 'gamblingi',...   \n",
       "...                                                 ...   \n",
       "1390                       ['14th', 'birthday', 'cake']   \n",
       "1391  ['heavy', 'horse', 'favorites', 'showi', 'list...   \n",
       "1392                              ['another', 'parlay']   \n",
       "1393        ['taruhan', 'slot', 'online', 'terpercaya']   \n",
       "1394  ['casino', 'dealers', 'meant', 'confuse', 'you...   \n",
       "\n",
       "                            posts_tokenised_stopped_lem  \n",
       "0     ['weekly', 'community', 'support', 'thread', '...  \n",
       "1     ['even', 'sound', 'ridiculous', 'want', 'say',...  \n",
       "2     ['please', 'help', 'dont', 'know', 'fix', 'lif...  \n",
       "3     ['day', '12spending', 'time', 'family', 'readi...  \n",
       "4     ['stay', 'positive', 'motivated', 'gamblingi',...  \n",
       "...                                                 ...  \n",
       "1390                       ['14th', 'birthday', 'cake']  \n",
       "1391  ['heavy', 'horse', 'favorite', 'showi', 'liste...  \n",
       "1392                              ['another', 'parlay']  \n",
       "1393        ['taruhan', 'slot', 'online', 'terpercaya']  \n",
       "1394  ['casino', 'dealer', 'meant', 'confuse', 'youh...  \n",
       "\n",
       "[1395 rows x 6 columns]"
      ]
     },
     "execution_count": 85,
     "metadata": {},
     "output_type": "execute_result"
    }
   ],
   "source": [
    "combined_df"
   ]
  },
  {
   "cell_type": "code",
   "execution_count": 86,
   "metadata": {},
   "outputs": [
    {
     "name": "stdout",
     "output_type": "stream",
     "text": [
      "_ has shape: (1395, 6).\n",
      "\n",
      "\n",
      "These are the top 5 rows of _:\n"
     ]
    },
    {
     "data": {
      "text/html": [
       "<div>\n",
       "<style scoped>\n",
       "    .dataframe tbody tr th:only-of-type {\n",
       "        vertical-align: middle;\n",
       "    }\n",
       "\n",
       "    .dataframe tbody tr th {\n",
       "        vertical-align: top;\n",
       "    }\n",
       "\n",
       "    .dataframe thead th {\n",
       "        text-align: right;\n",
       "    }\n",
       "</style>\n",
       "<table border=\"1\" class=\"dataframe\">\n",
       "  <thead>\n",
       "    <tr style=\"text-align: right;\">\n",
       "      <th></th>\n",
       "      <th>Unnamed: 0</th>\n",
       "      <th>subreddit</th>\n",
       "      <th>posts</th>\n",
       "      <th>posts_tokenised</th>\n",
       "      <th>posts_tokenised_stopped</th>\n",
       "      <th>posts_tokenised_stopped_lem</th>\n",
       "    </tr>\n",
       "  </thead>\n",
       "  <tbody>\n",
       "    <tr>\n",
       "      <td>0</td>\n",
       "      <td>0</td>\n",
       "      <td>1</td>\n",
       "      <td>Weekly Community Support Thread: Monday, Febru...</td>\n",
       "      <td>['weekly', 'community', 'support', 'thread', '...</td>\n",
       "      <td>['weekly', 'community', 'support', 'thread', '...</td>\n",
       "      <td>['weekly', 'community', 'support', 'thread', '...</td>\n",
       "    </tr>\n",
       "    <tr>\n",
       "      <td>1</td>\n",
       "      <td>1</td>\n",
       "      <td>1</td>\n",
       "      <td>Even if this sounds ridiculous, i just want to...</td>\n",
       "      <td>['even', 'if', 'this', 'sounds', 'ridiculous',...</td>\n",
       "      <td>['even', 'sounds', 'ridiculous', 'want', 'say'...</td>\n",
       "      <td>['even', 'sound', 'ridiculous', 'want', 'say',...</td>\n",
       "    </tr>\n",
       "    <tr>\n",
       "      <td>2</td>\n",
       "      <td>2</td>\n",
       "      <td>1</td>\n",
       "      <td>Please Help Me - I don't know how to fix my li...</td>\n",
       "      <td>['please', 'help', 'me', 'i', 'dont', 'know', ...</td>\n",
       "      <td>['please', 'help', 'dont', 'know', 'fix', 'lif...</td>\n",
       "      <td>['please', 'help', 'dont', 'know', 'fix', 'lif...</td>\n",
       "    </tr>\n",
       "    <tr>\n",
       "      <td>3</td>\n",
       "      <td>3</td>\n",
       "      <td>1</td>\n",
       "      <td>Day 12Spending more time with my family , read...</td>\n",
       "      <td>['day', '12spending', 'more', 'time', 'with', ...</td>\n",
       "      <td>['day', '12spending', 'time', 'family', 'readi...</td>\n",
       "      <td>['day', '12spending', 'time', 'family', 'readi...</td>\n",
       "    </tr>\n",
       "    <tr>\n",
       "      <td>4</td>\n",
       "      <td>4</td>\n",
       "      <td>1</td>\n",
       "      <td>How to stay positive and motivated when not ga...</td>\n",
       "      <td>['how', 'to', 'stay', 'positive', 'and', 'moti...</td>\n",
       "      <td>['stay', 'positive', 'motivated', 'gamblingi',...</td>\n",
       "      <td>['stay', 'positive', 'motivated', 'gamblingi',...</td>\n",
       "    </tr>\n",
       "  </tbody>\n",
       "</table>\n",
       "</div>"
      ],
      "text/plain": [
       "   Unnamed: 0  subreddit                                              posts  \\\n",
       "0           0          1  Weekly Community Support Thread: Monday, Febru...   \n",
       "1           1          1  Even if this sounds ridiculous, i just want to...   \n",
       "2           2          1  Please Help Me - I don't know how to fix my li...   \n",
       "3           3          1  Day 12Spending more time with my family , read...   \n",
       "4           4          1  How to stay positive and motivated when not ga...   \n",
       "\n",
       "                                     posts_tokenised  \\\n",
       "0  ['weekly', 'community', 'support', 'thread', '...   \n",
       "1  ['even', 'if', 'this', 'sounds', 'ridiculous',...   \n",
       "2  ['please', 'help', 'me', 'i', 'dont', 'know', ...   \n",
       "3  ['day', '12spending', 'more', 'time', 'with', ...   \n",
       "4  ['how', 'to', 'stay', 'positive', 'and', 'moti...   \n",
       "\n",
       "                             posts_tokenised_stopped  \\\n",
       "0  ['weekly', 'community', 'support', 'thread', '...   \n",
       "1  ['even', 'sounds', 'ridiculous', 'want', 'say'...   \n",
       "2  ['please', 'help', 'dont', 'know', 'fix', 'lif...   \n",
       "3  ['day', '12spending', 'time', 'family', 'readi...   \n",
       "4  ['stay', 'positive', 'motivated', 'gamblingi',...   \n",
       "\n",
       "                         posts_tokenised_stopped_lem  \n",
       "0  ['weekly', 'community', 'support', 'thread', '...  \n",
       "1  ['even', 'sound', 'ridiculous', 'want', 'say',...  \n",
       "2  ['please', 'help', 'dont', 'know', 'fix', 'lif...  \n",
       "3  ['day', '12spending', 'time', 'family', 'readi...  \n",
       "4  ['stay', 'positive', 'motivated', 'gamblingi',...  "
      ]
     },
     "metadata": {},
     "output_type": "display_data"
    },
    {
     "name": "stdout",
     "output_type": "stream",
     "text": [
      "\n",
      "\n",
      "These are the bottom 5 rows of _:\n"
     ]
    },
    {
     "data": {
      "text/html": [
       "<div>\n",
       "<style scoped>\n",
       "    .dataframe tbody tr th:only-of-type {\n",
       "        vertical-align: middle;\n",
       "    }\n",
       "\n",
       "    .dataframe tbody tr th {\n",
       "        vertical-align: top;\n",
       "    }\n",
       "\n",
       "    .dataframe thead th {\n",
       "        text-align: right;\n",
       "    }\n",
       "</style>\n",
       "<table border=\"1\" class=\"dataframe\">\n",
       "  <thead>\n",
       "    <tr style=\"text-align: right;\">\n",
       "      <th></th>\n",
       "      <th>Unnamed: 0</th>\n",
       "      <th>subreddit</th>\n",
       "      <th>posts</th>\n",
       "      <th>posts_tokenised</th>\n",
       "      <th>posts_tokenised_stopped</th>\n",
       "      <th>posts_tokenised_stopped_lem</th>\n",
       "    </tr>\n",
       "  </thead>\n",
       "  <tbody>\n",
       "    <tr>\n",
       "      <td>1390</td>\n",
       "      <td>1390</td>\n",
       "      <td>0</td>\n",
       "      <td>14th birthday cake</td>\n",
       "      <td>['14th', 'birthday', 'cake']</td>\n",
       "      <td>['14th', 'birthday', 'cake']</td>\n",
       "      <td>['14th', 'birthday', 'cake']</td>\n",
       "    </tr>\n",
       "    <tr>\n",
       "      <td>1391</td>\n",
       "      <td>1391</td>\n",
       "      <td>0</td>\n",
       "      <td>Heavy horse favorites to showI was listening t...</td>\n",
       "      <td>['heavy', 'horse', 'favorites', 'to', 'showi',...</td>\n",
       "      <td>['heavy', 'horse', 'favorites', 'showi', 'list...</td>\n",
       "      <td>['heavy', 'horse', 'favorite', 'showi', 'liste...</td>\n",
       "    </tr>\n",
       "    <tr>\n",
       "      <td>1392</td>\n",
       "      <td>1392</td>\n",
       "      <td>0</td>\n",
       "      <td>Another parlay</td>\n",
       "      <td>['another', 'parlay']</td>\n",
       "      <td>['another', 'parlay']</td>\n",
       "      <td>['another', 'parlay']</td>\n",
       "    </tr>\n",
       "    <tr>\n",
       "      <td>1393</td>\n",
       "      <td>1393</td>\n",
       "      <td>0</td>\n",
       "      <td>Taruhan Slot Online Terpercaya</td>\n",
       "      <td>['taruhan', 'slot', 'online', 'terpercaya']</td>\n",
       "      <td>['taruhan', 'slot', 'online', 'terpercaya']</td>\n",
       "      <td>['taruhan', 'slot', 'online', 'terpercaya']</td>\n",
       "    </tr>\n",
       "    <tr>\n",
       "      <td>1394</td>\n",
       "      <td>1394</td>\n",
       "      <td>0</td>\n",
       "      <td>Are casino dealers meant to confuse youHi, all...</td>\n",
       "      <td>['are', 'casino', 'dealers', 'meant', 'to', 'c...</td>\n",
       "      <td>['casino', 'dealers', 'meant', 'confuse', 'you...</td>\n",
       "      <td>['casino', 'dealer', 'meant', 'confuse', 'youh...</td>\n",
       "    </tr>\n",
       "  </tbody>\n",
       "</table>\n",
       "</div>"
      ],
      "text/plain": [
       "      Unnamed: 0  subreddit  \\\n",
       "1390        1390          0   \n",
       "1391        1391          0   \n",
       "1392        1392          0   \n",
       "1393        1393          0   \n",
       "1394        1394          0   \n",
       "\n",
       "                                                  posts  \\\n",
       "1390                                 14th birthday cake   \n",
       "1391  Heavy horse favorites to showI was listening t...   \n",
       "1392                                     Another parlay   \n",
       "1393                     Taruhan Slot Online Terpercaya   \n",
       "1394  Are casino dealers meant to confuse youHi, all...   \n",
       "\n",
       "                                        posts_tokenised  \\\n",
       "1390                       ['14th', 'birthday', 'cake']   \n",
       "1391  ['heavy', 'horse', 'favorites', 'to', 'showi',...   \n",
       "1392                              ['another', 'parlay']   \n",
       "1393        ['taruhan', 'slot', 'online', 'terpercaya']   \n",
       "1394  ['are', 'casino', 'dealers', 'meant', 'to', 'c...   \n",
       "\n",
       "                                posts_tokenised_stopped  \\\n",
       "1390                       ['14th', 'birthday', 'cake']   \n",
       "1391  ['heavy', 'horse', 'favorites', 'showi', 'list...   \n",
       "1392                              ['another', 'parlay']   \n",
       "1393        ['taruhan', 'slot', 'online', 'terpercaya']   \n",
       "1394  ['casino', 'dealers', 'meant', 'confuse', 'you...   \n",
       "\n",
       "                            posts_tokenised_stopped_lem  \n",
       "1390                       ['14th', 'birthday', 'cake']  \n",
       "1391  ['heavy', 'horse', 'favorite', 'showi', 'liste...  \n",
       "1392                              ['another', 'parlay']  \n",
       "1393        ['taruhan', 'slot', 'online', 'terpercaya']  \n",
       "1394  ['casino', 'dealer', 'meant', 'confuse', 'youh...  "
      ]
     },
     "metadata": {},
     "output_type": "display_data"
    },
    {
     "name": "stdout",
     "output_type": "stream",
     "text": [
      "\n",
      "\n",
      "_ does not contain nulls\n"
     ]
    }
   ],
   "source": [
    "# Just checking the dataframe again\n",
    "\n",
    "preview(combined_df)"
   ]
  },
  {
   "cell_type": "markdown",
   "metadata": {},
   "source": [
    "## 5.1 Preprocessing: Train-Test Split <a id=\"5.1\"></a>"
   ]
  },
  {
   "cell_type": "code",
   "execution_count": 87,
   "metadata": {},
   "outputs": [],
   "source": [
    "# Specifying X and y\n",
    "X = combined_df[\"posts_tokenised_stopped_lem\"]\n",
    "y = combined_df[\"subreddit\"]\n",
    "\n",
    "# Train-test-split\n",
    "X_train, X_test, y_train, y_test = train_test_split(X, y, stratify=y, random_state=42)"
   ]
  },
  {
   "cell_type": "markdown",
   "metadata": {},
   "source": [
    "## 5.2 Modelling: Multinomial Naive Bayes <a id=\"5.2\"></a>"
   ]
  },
  {
   "cell_type": "code",
   "execution_count": 88,
   "metadata": {
    "scrolled": false
   },
   "outputs": [
    {
     "data": {
      "text/plain": [
       "1    0.670487\n",
       "0    0.329513\n",
       "Name: subreddit, dtype: float64"
      ]
     },
     "execution_count": 88,
     "metadata": {},
     "output_type": "execute_result"
    }
   ],
   "source": [
    "baseline_score = y_test.value_counts(normalize=True)\n",
    "baseline_score"
   ]
  },
  {
   "cell_type": "markdown",
   "metadata": {},
   "source": [
    "##### <font color = blue> Shaun: </font>\n",
    "\n",
    "Storing baseline score in a ~~dataframe~~ series, to append into a summary table later at [5.4.3.2](#5.4.3.2). \n",
    "\n",
    "EDIT: Initially I stored it in a dataframe, but had problems joining, so I found out that a series worked instead. Not sure why but hey pragmatism. "
   ]
  },
  {
   "cell_type": "code",
   "execution_count": 89,
   "metadata": {},
   "outputs": [
    {
     "data": {
      "text/plain": [
       "Accuracy    0.670487\n",
       "NaN              NaN\n",
       "NaN              NaN\n",
       "NaN              NaN\n",
       "Name: Baseline, dtype: object"
      ]
     },
     "execution_count": 89,
     "metadata": {},
     "output_type": "execute_result"
    }
   ],
   "source": [
    "baseline_score_series = pd.Series(data=[baseline_score[1], \n",
    "                                        \"NaN\", \n",
    "                                        \"NaN\", \n",
    "                                        \"NaN\"],\n",
    "                                  \n",
    "                                  index=[\"Accuracy\", \n",
    "                                         \"NaN\", \n",
    "                                         \"NaN\", \n",
    "                                         \"NaN\"],\n",
    "                                  \n",
    "                                  name=\"Baseline\")\n",
    "\n",
    "baseline_score_series"
   ]
  },
  {
   "cell_type": "markdown",
   "metadata": {},
   "source": [
    "### 5.2.1 Creating a Pipeline: MultinomialNB <a id=\"5.2.1\"></a>"
   ]
  },
  {
   "cell_type": "code",
   "execution_count": 90,
   "metadata": {},
   "outputs": [],
   "source": [
    "# Creating pipeline for NB\n",
    "nb = Pipeline([(\"tvec\",TfidfVectorizer()), \n",
    "               (\"multi_nb\", MultinomialNB())\n",
    "              ]) "
   ]
  },
  {
   "cell_type": "code",
   "execution_count": 91,
   "metadata": {
    "scrolled": false
   },
   "outputs": [],
   "source": [
    "nb.fit(X_train, y_train)\n",
    "\n",
    "nb_ypred = nb.predict(X_test) \n",
    "\n",
    "# Accuracy Score\n",
    "nb_accuracy = accuracy_score(y_test, nb_ypred)\n",
    "nb_accuracy\n",
    "\n",
    "# ROC Score\n",
    "nb_roc_score = roc_auc_score(y_test, nb_ypred)"
   ]
  },
  {
   "cell_type": "markdown",
   "metadata": {},
   "source": [
    "### 5.2.2 Classification Metrics: MultinomialNB <a id=\"5.2.1\"></a>"
   ]
  },
  {
   "cell_type": "code",
   "execution_count": 92,
   "metadata": {},
   "outputs": [
    {
     "name": "stdout",
     "output_type": "stream",
     "text": [
      "The Accuracy Score for \u001b[1mMultinomialNB\u001b[0m is 0.7392550143266475\n",
      "The Sensitivity Score for \u001b[1mMultinomialNB\u001b[0m is 1.0\n",
      "The Specificity Score for \u001b[1mMultinomialNB\u001b[0m is 0.20869565217391303\n",
      "The ROC AUC Score for \u001b[1mMultinomialNB\u001b[0m is 0.6043478260869566\n"
     ]
    }
   ],
   "source": [
    "cm_nb = confusion_matrix(y_test, nb_ypred)\n",
    "tn_nb, fp_nb, fn_nb, tp_nb = cm_nb.ravel()\n",
    "\n",
    "nb_sensitivity = tp_nb/(tp_nb+fn_nb)\n",
    "nb_specificity = tn_nb/(tn_nb+fp_nb)\n",
    "\n",
    "print(\"The Accuracy Score for\", color.BOLD + \"MultinomialNB\" + color.END, f\"is {nb_accuracy}\")\n",
    "print(\"The Sensitivity Score for\", color.BOLD + \"MultinomialNB\" + color.END, f\"is {nb_sensitivity}\")\n",
    "print(\"The Specificity Score for\", color.BOLD + \"MultinomialNB\" + color.END, f\"is {nb_specificity}\")\n",
    "print(\"The ROC AUC Score for\", color.BOLD + \"MultinomialNB\" + color.END, f\"is {nb_roc_score}\")"
   ]
  },
  {
   "cell_type": "code",
   "execution_count": 93,
   "metadata": {},
   "outputs": [
    {
     "data": {
      "text/html": [
       "<div>\n",
       "<style scoped>\n",
       "    .dataframe tbody tr th:only-of-type {\n",
       "        vertical-align: middle;\n",
       "    }\n",
       "\n",
       "    .dataframe tbody tr th {\n",
       "        vertical-align: top;\n",
       "    }\n",
       "\n",
       "    .dataframe thead th {\n",
       "        text-align: right;\n",
       "    }\n",
       "</style>\n",
       "<table border=\"1\" class=\"dataframe\">\n",
       "  <thead>\n",
       "    <tr style=\"text-align: right;\">\n",
       "      <th></th>\n",
       "      <th>MultinomialNB</th>\n",
       "    </tr>\n",
       "  </thead>\n",
       "  <tbody>\n",
       "    <tr>\n",
       "      <td>Accuracy</td>\n",
       "      <td>0.739255</td>\n",
       "    </tr>\n",
       "    <tr>\n",
       "      <td>Sensitivity (TPR)</td>\n",
       "      <td>1.000000</td>\n",
       "    </tr>\n",
       "    <tr>\n",
       "      <td>Specificity (FPR)</td>\n",
       "      <td>0.208696</td>\n",
       "    </tr>\n",
       "    <tr>\n",
       "      <td>ROC AUC Score</td>\n",
       "      <td>0.604348</td>\n",
       "    </tr>\n",
       "  </tbody>\n",
       "</table>\n",
       "</div>"
      ],
      "text/plain": [
       "                   MultinomialNB\n",
       "Accuracy                0.739255\n",
       "Sensitivity (TPR)       1.000000\n",
       "Specificity (FPR)       0.208696\n",
       "ROC AUC Score           0.604348"
      ]
     },
     "execution_count": 93,
     "metadata": {},
     "output_type": "execute_result"
    }
   ],
   "source": [
    "# Creating DF to store classification metrics\n",
    "\n",
    "metrics_df = pd.DataFrame(data=[nb_accuracy, \n",
    "                                nb_sensitivity, \n",
    "                                nb_specificity, \n",
    "                                nb_roc_score],\n",
    "                          \n",
    "                          index=[\"Accuracy\", \n",
    "                                 \"Sensitivity (TPR)\", \n",
    "                                 \"Specificity (FPR)\", \n",
    "                                 \"ROC AUC Score\"], \n",
    "                          \n",
    "                           columns=[\"MultinomialNB\"])\n",
    "\n",
    "metrics_df"
   ]
  },
  {
   "cell_type": "code",
   "execution_count": 94,
   "metadata": {},
   "outputs": [],
   "source": [
    "# print(classification_report(y_test, nb_pipeline_ypred, target_names=[\"problemgambling\",\"gambling\"]))"
   ]
  },
  {
   "cell_type": "markdown",
   "metadata": {},
   "source": [
    "## 5.3 Modelling: Logistic Regression <a id=\"5.3\"></a>"
   ]
  },
  {
   "cell_type": "markdown",
   "metadata": {},
   "source": [
    "### 5.3.1 Creating a Pipeline: Logistic Regression <a id=\"5.3.1\"></a>"
   ]
  },
  {
   "cell_type": "code",
   "execution_count": 95,
   "metadata": {},
   "outputs": [],
   "source": [
    "# Creating pipeline for Log Reg\n",
    "logreg = Pipeline([(\"tvec\", TfidfVectorizer()),\n",
    "                   (\"logreg\", LogisticRegression(solver=\"liblinear\", random_state=42))\n",
    "                  ])\n"
   ]
  },
  {
   "cell_type": "code",
   "execution_count": 96,
   "metadata": {},
   "outputs": [],
   "source": [
    "logreg.fit(X_train, y_train)\n",
    "\n",
    "logreg_ypred = logreg.predict(X_test)\n",
    "logreg_accuracy = accuracy_score(y_test, logreg_ypred)\n",
    "\n",
    "# Accuracy Score\n",
    "logreg_accuracy\n",
    "\n",
    "# ROC AUC Score\n",
    "logreg_roc_score = roc_auc_score(y_test, logreg_ypred)"
   ]
  },
  {
   "cell_type": "markdown",
   "metadata": {},
   "source": [
    "### 5.3.2 Classification Metrics: Logistic Regression <a id=\"5.3.2\"></a>"
   ]
  },
  {
   "cell_type": "code",
   "execution_count": 97,
   "metadata": {},
   "outputs": [
    {
     "name": "stdout",
     "output_type": "stream",
     "text": [
      "The Accuracy Score for \u001b[1mLogistic Regression\u001b[0m is 0.9111747851002865\n",
      "The Sensitivity Score for \u001b[1mLogistic Regression\u001b[0m is 0.9658119658119658\n",
      "The Specificity Score for \u001b[1mLogistic Regression\u001b[0m is 0.8\n",
      "The ROC AUC Score for \u001b[1mLogistic Regression\u001b[0m is 0.882905982905983\n"
     ]
    }
   ],
   "source": [
    "cm_logreg = confusion_matrix(y_test, logreg_ypred)\n",
    "tn_logreg, fp_logreg, fn_logreg, tp_logreg = cm_logreg.ravel()\n",
    "\n",
    "logreg_sensitivity = tp_logreg/(tp_logreg+fn_logreg)\n",
    "logreg_specificity = tn_logreg/(tn_logreg+fp_logreg)\n",
    "\n",
    "print(\"The Accuracy Score for\", color.BOLD + \"Logistic Regression\" + color.END, f\"is {logreg_accuracy}\")\n",
    "print(\"The Sensitivity Score for\", color.BOLD + \"Logistic Regression\" + color.END, f\"is {logreg_sensitivity}\")\n",
    "print(\"The Specificity Score for\", color.BOLD + \"Logistic Regression\" + color.END, f\"is {logreg_specificity}\")\n",
    "print(\"The ROC AUC Score for\", color.BOLD + \"Logistic Regression\" + color.END, f\"is {logreg_roc_score}\")"
   ]
  },
  {
   "cell_type": "code",
   "execution_count": 98,
   "metadata": {
    "scrolled": true
   },
   "outputs": [
    {
     "data": {
      "text/html": [
       "<div>\n",
       "<style scoped>\n",
       "    .dataframe tbody tr th:only-of-type {\n",
       "        vertical-align: middle;\n",
       "    }\n",
       "\n",
       "    .dataframe tbody tr th {\n",
       "        vertical-align: top;\n",
       "    }\n",
       "\n",
       "    .dataframe thead th {\n",
       "        text-align: right;\n",
       "    }\n",
       "</style>\n",
       "<table border=\"1\" class=\"dataframe\">\n",
       "  <thead>\n",
       "    <tr style=\"text-align: right;\">\n",
       "      <th></th>\n",
       "      <th>MultinomialNB</th>\n",
       "      <th>Logistic Regression</th>\n",
       "    </tr>\n",
       "  </thead>\n",
       "  <tbody>\n",
       "    <tr>\n",
       "      <td>Accuracy</td>\n",
       "      <td>0.739255</td>\n",
       "      <td>0.911175</td>\n",
       "    </tr>\n",
       "    <tr>\n",
       "      <td>Sensitivity (TPR)</td>\n",
       "      <td>1.000000</td>\n",
       "      <td>0.965812</td>\n",
       "    </tr>\n",
       "    <tr>\n",
       "      <td>Specificity (FPR)</td>\n",
       "      <td>0.208696</td>\n",
       "      <td>0.800000</td>\n",
       "    </tr>\n",
       "    <tr>\n",
       "      <td>ROC AUC Score</td>\n",
       "      <td>0.604348</td>\n",
       "      <td>0.882906</td>\n",
       "    </tr>\n",
       "  </tbody>\n",
       "</table>\n",
       "</div>"
      ],
      "text/plain": [
       "                   MultinomialNB  Logistic Regression\n",
       "Accuracy                0.739255             0.911175\n",
       "Sensitivity (TPR)       1.000000             0.965812\n",
       "Specificity (FPR)       0.208696             0.800000\n",
       "ROC AUC Score           0.604348             0.882906"
      ]
     },
     "execution_count": 98,
     "metadata": {},
     "output_type": "execute_result"
    }
   ],
   "source": [
    "logreg_metrics_df = pd.DataFrame(data=[logreg_accuracy, \n",
    "                                       logreg_sensitivity, \n",
    "                                       logreg_specificity, \n",
    "                                       logreg_roc_score],\n",
    "                          \n",
    "                                 index=[\"Accuracy\", \n",
    "                                        \"Sensitivity (TPR)\", \n",
    "                                        \"Specificity (FPR)\", \n",
    "                                        \"ROC AUC Score\"], \n",
    "                          \n",
    "                                 columns=[\"Logistic Regression\"])\n",
    "\n",
    "metrics_df = metrics_df.join(logreg_metrics_df)\n",
    "metrics_df"
   ]
  },
  {
   "cell_type": "code",
   "execution_count": 99,
   "metadata": {},
   "outputs": [],
   "source": [
    "# Found this cool thing that seems to generate the accuracy, sensitivity, and specificity, but idk how to interpret. \n",
    "# My guess it is something similar, since the parameters look similar to the confusion matrix parameters\n",
    "# If you have time, can take a look and run it and see if make sense to you haha.\n",
    "\n",
    "# print(classification_report(y_test, logreg_ypred, target_names=[\"problemgambling\",\"gambling\"]))"
   ]
  },
  {
   "cell_type": "markdown",
   "metadata": {},
   "source": [
    "## 5.4 Model Optimisation <a id=\"5.4\"></a>"
   ]
  },
  {
   "cell_type": "markdown",
   "metadata": {},
   "source": [
    "### 5.4.1 Optimisation Parameters for GridSearchCV <a id=\"5.4.1\"></a>"
   ]
  },
  {
   "cell_type": "code",
   "execution_count": 100,
   "metadata": {},
   "outputs": [],
   "source": [
    "# Just listing them out here first before I throw them into GridSearchCV one at a time\n",
    "\n",
    "# Parameters to try for NB\n",
    "nb_param_grid = [{\"tvec__max_features\": [200, 300],\n",
    "                  \"tvec__ngram_range\":[(1,1),(1,2)],\n",
    "                  \"tvec__max_df\":[0.9,0.95],\n",
    "                  \"tvec__min_df\":[0.0001,0.001,0.01]\n",
    "                 }]\n",
    "\n",
    "# Parameters to try for logreg\n",
    "logreg_param_grid = [{\"tvec__max_features\": [50, 250, 500],\n",
    "                      \"tvec__ngram_range\": [(1,1),(1,2)],\n",
    "                      \"tvec__max_df\":[0.9,0.95],\n",
    "                      \"tvec__min_df\":[0.0001,0.001,0.01],                        \n",
    "                      \"logreg__C\":np.linspace(0.1,1,3),\n",
    "                     }]"
   ]
  },
  {
   "cell_type": "markdown",
   "metadata": {},
   "source": [
    "### 5.4.2 Optimised MultinomialNB <a id=\"5.4.2\"></a>"
   ]
  },
  {
   "cell_type": "markdown",
   "metadata": {},
   "source": [
    "#### 5.4.2.1 Optimised MultinomialNB: Modelling <a id=\"5.4.2.1\"></a>"
   ]
  },
  {
   "cell_type": "code",
   "execution_count": 101,
   "metadata": {},
   "outputs": [],
   "source": [
    "# Creating an optimised MultinomialNB using GridSearchCV to get best parameters\n",
    "\n",
    "nb_optimised = GridSearchCV(estimator = nb,\n",
    "                            param_grid = nb_param_grid,\n",
    "                            scoring = \"accuracy\"\n",
    "                           )"
   ]
  },
  {
   "cell_type": "code",
   "execution_count": 102,
   "metadata": {},
   "outputs": [
    {
     "name": "stderr",
     "output_type": "stream",
     "text": [
      "C:\\Users\\Shaun\\Anaconda3\\lib\\site-packages\\sklearn\\model_selection\\_split.py:1978: FutureWarning: The default value of cv will change from 3 to 5 in version 0.22. Specify it explicitly to silence this warning.\n",
      "  warnings.warn(CV_WARNING, FutureWarning)\n"
     ]
    },
    {
     "data": {
      "text/plain": [
       "{'tvec__max_df': 0.9,\n",
       " 'tvec__max_features': 300,\n",
       " 'tvec__min_df': 0.01,\n",
       " 'tvec__ngram_range': (1, 1)}"
      ]
     },
     "metadata": {},
     "output_type": "display_data"
    },
    {
     "data": {
      "text/plain": [
       "array([1, 1, 1, 1, 1, 0, 1, 1, 1, 1, 1, 1, 1, 1, 1, 1, 0, 1, 1, 0, 0, 1,\n",
       "       1, 1, 1, 1, 1, 1, 0, 1, 1, 1, 1, 0, 0, 1, 1, 1, 0, 0, 1, 1, 1, 1,\n",
       "       0, 1, 0, 1, 1, 1, 1, 0, 0, 1, 1, 0, 1, 1, 0, 1, 1, 1, 0, 1, 1, 0,\n",
       "       1, 1, 1, 1, 1, 1, 0, 0, 1, 1, 1, 1, 1, 1, 1, 0, 1, 1, 0, 0, 1, 1,\n",
       "       1, 1, 1, 1, 1, 1, 0, 1, 1, 0, 1, 0, 0, 1, 1, 1, 1, 1, 1, 1, 1, 1,\n",
       "       1, 1, 1, 1, 1, 0, 1, 1, 1, 1, 0, 1, 0, 1, 0, 1, 1, 1, 1, 0, 1, 0,\n",
       "       1, 0, 1, 1, 1, 1, 1, 1, 0, 0, 1, 0, 0, 1, 1, 1, 0, 1, 1, 1, 1, 1,\n",
       "       1, 1, 1, 0, 1, 1, 1, 1, 1, 1, 1, 0, 1, 1, 1, 1, 1, 1, 1, 1, 1, 0,\n",
       "       1, 1, 1, 0, 1, 1, 1, 1, 0, 1, 1, 1, 1, 0, 1, 0, 1, 0, 1, 1, 0, 1,\n",
       "       1, 0, 1, 1, 1, 1, 1, 1, 1, 1, 1, 0, 1, 1, 1, 1, 1, 1, 1, 0, 1, 1,\n",
       "       1, 1, 1, 1, 0, 0, 0, 1, 0, 1, 1, 0, 1, 1, 1, 1, 1, 1, 1, 1, 1, 1,\n",
       "       1, 1, 0, 1, 0, 1, 1, 1, 1, 1, 1, 1, 1, 1, 1, 0, 1, 1, 0, 1, 1, 0,\n",
       "       1, 1, 1, 1, 1, 1, 1, 1, 1, 0, 1, 0, 0, 0, 1, 1, 1, 0, 1, 0, 0, 1,\n",
       "       0, 1, 1, 1, 1, 1, 0, 1, 1, 0, 0, 1, 1, 1, 1, 1, 1, 1, 1, 1, 1, 1,\n",
       "       1, 1, 1, 0, 0, 1, 1, 0, 1, 1, 1, 1, 1, 1, 1, 1, 1, 1, 1, 0, 1, 0,\n",
       "       1, 1, 1, 1, 1, 1, 1, 0, 1, 1, 1, 0, 0, 1, 1, 1, 1, 1, 1],\n",
       "      dtype=int64)"
      ]
     },
     "metadata": {},
     "output_type": "display_data"
    }
   ],
   "source": [
    "nb_optimised.fit(X_train, y_train)\n",
    "\n",
    "# Best score possible, with above param_grid\n",
    "nb_optimised_accuracy = nb_optimised.best_score_\n",
    "\n",
    "# Best parameters that returned that score\n",
    "nb_optimised_best_params = nb_optimised.best_params_\n",
    "\n",
    "# Predicting Y using X_text (for confusion matrix later)\n",
    "nb_optimised_ypred = nb_optimised.predict(X_test)\n",
    "\n",
    "# ROC AUC Score\n",
    "nb_optimised_roc_score = roc_auc_score(y_test, nb_optimised_ypred)\n",
    "\n",
    "display(nb_optimised_best_params)\n",
    "display(nb_optimised_ypred)"
   ]
  },
  {
   "cell_type": "markdown",
   "metadata": {},
   "source": [
    "#### 5.4.2.2 Optimised MultinomialNB: Classification Metrics <a id=\"5.4.2.2\"></a>"
   ]
  },
  {
   "cell_type": "code",
   "execution_count": 103,
   "metadata": {},
   "outputs": [
    {
     "name": "stdout",
     "output_type": "stream",
     "text": [
      "The Accuracy Score for the \u001b[1mOptimised MultinomialNB\u001b[0m is 0.8451242829827916\n",
      "The Sensitivity Score for the \u001b[1mOptimised MultinomialNB\u001b[0m is 0.9743589743589743\n",
      "The Specificity Score for the \u001b[1mOptimised MultinomialNB\u001b[0m is 0.6347826086956522\n",
      "The ROC AUC Score for the \u001b[1mOptimised MultinomialNB\u001b[0m is 0.8045707915273133\n"
     ]
    }
   ],
   "source": [
    "cm_nb_optimised = confusion_matrix(y_test, nb_optimised_ypred)\n",
    "tn_nb_optimised, fp_nb_optimised, fn_nb_optimised, tp_nb_optimised = cm_nb_optimised.ravel()\n",
    "\n",
    "nb_optimised_sensitivity = tp_nb_optimised/(tp_nb_optimised+fn_nb_optimised)\n",
    "nb_optimised_specificity = tn_nb_optimised/(tn_nb_optimised+fp_nb_optimised)\n",
    "\n",
    "print(\"The Accuracy Score for the\", color.BOLD + \"Optimised MultinomialNB\" + color.END, f\"is {nb_optimised_accuracy}\")\n",
    "print(\"The Sensitivity Score for the\", color.BOLD + \"Optimised MultinomialNB\" + color.END, f\"is {nb_optimised_sensitivity}\")\n",
    "print(\"The Specificity Score for the\", color.BOLD + \"Optimised MultinomialNB\" + color.END, f\"is {nb_optimised_specificity}\")\n",
    "print(\"The ROC AUC Score for the\", color.BOLD + \"Optimised MultinomialNB\" + color.END, f\"is {nb_optimised_roc_score}\")"
   ]
  },
  {
   "cell_type": "code",
   "execution_count": 104,
   "metadata": {},
   "outputs": [
    {
     "data": {
      "text/html": [
       "<div>\n",
       "<style scoped>\n",
       "    .dataframe tbody tr th:only-of-type {\n",
       "        vertical-align: middle;\n",
       "    }\n",
       "\n",
       "    .dataframe tbody tr th {\n",
       "        vertical-align: top;\n",
       "    }\n",
       "\n",
       "    .dataframe thead th {\n",
       "        text-align: right;\n",
       "    }\n",
       "</style>\n",
       "<table border=\"1\" class=\"dataframe\">\n",
       "  <thead>\n",
       "    <tr style=\"text-align: right;\">\n",
       "      <th></th>\n",
       "      <th>MultinomialNB</th>\n",
       "      <th>Logistic Regression</th>\n",
       "      <th>Optimised MultinomialNB</th>\n",
       "    </tr>\n",
       "  </thead>\n",
       "  <tbody>\n",
       "    <tr>\n",
       "      <td>Accuracy</td>\n",
       "      <td>0.739255</td>\n",
       "      <td>0.911175</td>\n",
       "      <td>0.845124</td>\n",
       "    </tr>\n",
       "    <tr>\n",
       "      <td>Sensitivity (TPR)</td>\n",
       "      <td>1.000000</td>\n",
       "      <td>0.965812</td>\n",
       "      <td>0.974359</td>\n",
       "    </tr>\n",
       "    <tr>\n",
       "      <td>Specificity (FPR)</td>\n",
       "      <td>0.208696</td>\n",
       "      <td>0.800000</td>\n",
       "      <td>0.634783</td>\n",
       "    </tr>\n",
       "    <tr>\n",
       "      <td>ROC AUC Score</td>\n",
       "      <td>0.604348</td>\n",
       "      <td>0.882906</td>\n",
       "      <td>0.804571</td>\n",
       "    </tr>\n",
       "  </tbody>\n",
       "</table>\n",
       "</div>"
      ],
      "text/plain": [
       "                   MultinomialNB  Logistic Regression  Optimised MultinomialNB\n",
       "Accuracy                0.739255             0.911175                 0.845124\n",
       "Sensitivity (TPR)       1.000000             0.965812                 0.974359\n",
       "Specificity (FPR)       0.208696             0.800000                 0.634783\n",
       "ROC AUC Score           0.604348             0.882906                 0.804571"
      ]
     },
     "execution_count": 104,
     "metadata": {},
     "output_type": "execute_result"
    }
   ],
   "source": [
    "optimised_nb_metrics_df = pd.DataFrame(data=[nb_optimised_accuracy, \n",
    "                                       nb_optimised_sensitivity, \n",
    "                                       nb_optimised_specificity, \n",
    "                                       nb_optimised_roc_score],\n",
    "                          \n",
    "                                 index=[\"Accuracy\", \n",
    "                                        \"Sensitivity (TPR)\", \n",
    "                                        \"Specificity (FPR)\", \n",
    "                                        \"ROC AUC Score\"], \n",
    "                          \n",
    "                                 columns=[\"Optimised MultinomialNB\"])\n",
    "\n",
    "metrics_df = metrics_df.join(optimised_nb_metrics_df)\n",
    "metrics_df"
   ]
  },
  {
   "cell_type": "markdown",
   "metadata": {},
   "source": [
    "### 5.4.3 Optimised Logistic Regression <a id=\"5.4.3\"></a>"
   ]
  },
  {
   "cell_type": "markdown",
   "metadata": {},
   "source": [
    "#### 5.4.3.1 Optimised Logistic Regression: Modelling <a id=\"5.4.3.1\"></a>"
   ]
  },
  {
   "cell_type": "code",
   "execution_count": 105,
   "metadata": {},
   "outputs": [],
   "source": [
    "logreg_optimised = GridSearchCV(estimator = logreg,\n",
    "                                param_grid = logreg_param_grid,\n",
    "                                scoring = \"accuracy\"\n",
    "                               )"
   ]
  },
  {
   "cell_type": "code",
   "execution_count": 106,
   "metadata": {},
   "outputs": [
    {
     "name": "stderr",
     "output_type": "stream",
     "text": [
      "C:\\Users\\Shaun\\Anaconda3\\lib\\site-packages\\sklearn\\model_selection\\_split.py:1978: FutureWarning: The default value of cv will change from 3 to 5 in version 0.22. Specify it explicitly to silence this warning.\n",
      "  warnings.warn(CV_WARNING, FutureWarning)\n"
     ]
    },
    {
     "data": {
      "text/plain": [
       "{'logreg__C': 1.0,\n",
       " 'tvec__max_df': 0.9,\n",
       " 'tvec__max_features': 500,\n",
       " 'tvec__min_df': 0.0001,\n",
       " 'tvec__ngram_range': (1, 1)}"
      ]
     },
     "metadata": {},
     "output_type": "display_data"
    },
    {
     "data": {
      "text/plain": [
       "array([1, 1, 1, 1, 1, 0, 1, 1, 1, 1, 1, 1, 1, 1, 1, 1, 0, 1, 1, 0, 0, 1,\n",
       "       1, 1, 1, 1, 1, 1, 0, 1, 1, 1, 1, 0, 0, 1, 1, 1, 0, 0, 1, 1, 1, 1,\n",
       "       0, 1, 0, 1, 1, 1, 1, 0, 0, 1, 1, 0, 0, 1, 0, 1, 1, 1, 0, 1, 1, 0,\n",
       "       1, 1, 1, 1, 1, 1, 0, 0, 1, 0, 1, 0, 1, 1, 0, 0, 1, 1, 0, 0, 0, 1,\n",
       "       1, 1, 1, 1, 1, 1, 0, 1, 1, 0, 1, 0, 1, 1, 1, 1, 1, 1, 1, 1, 0, 1,\n",
       "       1, 1, 1, 0, 1, 0, 1, 1, 1, 1, 0, 0, 0, 1, 0, 1, 1, 1, 1, 0, 1, 0,\n",
       "       1, 0, 0, 0, 1, 0, 1, 1, 0, 0, 1, 0, 0, 1, 1, 0, 0, 1, 1, 1, 1, 1,\n",
       "       1, 1, 1, 0, 1, 1, 1, 0, 1, 1, 0, 0, 1, 1, 1, 1, 1, 1, 1, 1, 1, 0,\n",
       "       1, 1, 1, 0, 1, 1, 1, 1, 0, 1, 0, 1, 1, 0, 1, 0, 1, 1, 1, 1, 0, 1,\n",
       "       1, 0, 1, 1, 0, 1, 0, 1, 1, 1, 0, 0, 1, 0, 1, 1, 1, 1, 1, 0, 1, 0,\n",
       "       1, 0, 1, 1, 0, 0, 0, 1, 0, 1, 1, 0, 1, 0, 1, 0, 1, 1, 1, 1, 1, 1,\n",
       "       1, 1, 0, 1, 0, 1, 1, 0, 1, 1, 1, 1, 1, 1, 0, 0, 1, 1, 0, 1, 0, 0,\n",
       "       1, 1, 1, 1, 1, 1, 1, 1, 1, 0, 1, 0, 0, 0, 1, 1, 1, 0, 1, 0, 0, 1,\n",
       "       0, 0, 1, 1, 1, 0, 0, 1, 1, 0, 0, 1, 1, 1, 1, 1, 1, 1, 1, 1, 1, 1,\n",
       "       1, 1, 1, 0, 0, 1, 0, 0, 1, 1, 1, 1, 1, 1, 1, 1, 0, 1, 1, 0, 1, 0,\n",
       "       1, 1, 0, 1, 1, 1, 1, 1, 1, 0, 1, 0, 0, 1, 1, 0, 1, 0, 1],\n",
       "      dtype=int64)"
      ]
     },
     "metadata": {},
     "output_type": "display_data"
    }
   ],
   "source": [
    "logreg_optimised.fit(X_train, y_train)\n",
    "\n",
    "# Best accuracy score possible, with above param_grid\n",
    "logreg_optimised_accuracy = logreg_optimised.best_score_\n",
    "\n",
    "# Best parameters that returned that score\n",
    "logreg_optimised_best_params = logreg_optimised.best_params_\n",
    "\n",
    "# Predicting Y using X_text (for confusion matrix later)\n",
    "logreg_optimised_ypred = logreg_optimised.predict(X_test)\n",
    "\n",
    "# ROC AUC Score\n",
    "logreg_optimised_roc_score = roc_auc_score(y_test, logreg_optimised_ypred)\n",
    "\n",
    "display(logreg_optimised_best_params)\n",
    "display(logreg_optimised_ypred)"
   ]
  },
  {
   "cell_type": "markdown",
   "metadata": {},
   "source": [
    "#### 5.4.3.2 Optimised Logistic Regression: Classification Metrics <a id=\"5.4.3.2\"></a>"
   ]
  },
  {
   "cell_type": "code",
   "execution_count": 107,
   "metadata": {
    "scrolled": false
   },
   "outputs": [
    {
     "name": "stdout",
     "output_type": "stream",
     "text": [
      "The Accuracy Score for the \u001b[1mOptimised Logistic Regression\u001b[0m is 0.9149139579349904\n",
      "The Sensitivity Score for the \u001b[1mOptimised Logistic Regression\u001b[0m is 0.9444444444444444\n",
      "The Specificity Score for the \u001b[1mOptimised Logistic Regression\u001b[0m is 0.8434782608695652\n",
      "The ROC AUC Score for the \u001b[1mOptimised Logistic Regression\u001b[0m is 0.8939613526570048\n"
     ]
    }
   ],
   "source": [
    "cm_logreg_optimised = confusion_matrix(y_test, logreg_optimised_ypred)\n",
    "tn_logreg_optimised, fp_logreg_optimised, fn_logreg_optimised, tp_logreg_optimised = cm_logreg_optimised.ravel()\n",
    "\n",
    "logreg_optimised_sensitivity = tp_logreg_optimised/(tp_logreg_optimised+fn_logreg_optimised)\n",
    "logreg_optimised_specificity = tn_logreg_optimised/(tn_logreg_optimised+fp_logreg_optimised)\n",
    "\n",
    "print(\"The Accuracy Score for the\", color.BOLD + \"Optimised Logistic Regression\" + color.END, f\"is {logreg_optimised_accuracy}\")\n",
    "print(\"The Sensitivity Score for the\", color.BOLD + \"Optimised Logistic Regression\" + color.END, f\"is {logreg_optimised_sensitivity}\")\n",
    "print(\"The Specificity Score for the\", color.BOLD + \"Optimised Logistic Regression\" + color.END, f\"is {logreg_optimised_specificity}\")\n",
    "print(\"The ROC AUC Score for the\", color.BOLD + \"Optimised Logistic Regression\" + color.END, f\"is {logreg_optimised_roc_score}\")"
   ]
  },
  {
   "cell_type": "code",
   "execution_count": 108,
   "metadata": {},
   "outputs": [
    {
     "data": {
      "text/html": [
       "<div>\n",
       "<style scoped>\n",
       "    .dataframe tbody tr th:only-of-type {\n",
       "        vertical-align: middle;\n",
       "    }\n",
       "\n",
       "    .dataframe tbody tr th {\n",
       "        vertical-align: top;\n",
       "    }\n",
       "\n",
       "    .dataframe thead th {\n",
       "        text-align: right;\n",
       "    }\n",
       "</style>\n",
       "<table border=\"1\" class=\"dataframe\">\n",
       "  <thead>\n",
       "    <tr style=\"text-align: right;\">\n",
       "      <th></th>\n",
       "      <th>MultinomialNB</th>\n",
       "      <th>Logistic Regression</th>\n",
       "      <th>Optimised MultinomialNB</th>\n",
       "      <th>Optimised Logistic Regression</th>\n",
       "    </tr>\n",
       "  </thead>\n",
       "  <tbody>\n",
       "    <tr>\n",
       "      <td>Accuracy</td>\n",
       "      <td>0.739255</td>\n",
       "      <td>0.911175</td>\n",
       "      <td>0.845124</td>\n",
       "      <td>0.914914</td>\n",
       "    </tr>\n",
       "    <tr>\n",
       "      <td>Sensitivity (TPR)</td>\n",
       "      <td>1.000000</td>\n",
       "      <td>0.965812</td>\n",
       "      <td>0.974359</td>\n",
       "      <td>0.944444</td>\n",
       "    </tr>\n",
       "    <tr>\n",
       "      <td>Specificity (FPR)</td>\n",
       "      <td>0.208696</td>\n",
       "      <td>0.800000</td>\n",
       "      <td>0.634783</td>\n",
       "      <td>0.843478</td>\n",
       "    </tr>\n",
       "    <tr>\n",
       "      <td>ROC AUC Score</td>\n",
       "      <td>0.604348</td>\n",
       "      <td>0.882906</td>\n",
       "      <td>0.804571</td>\n",
       "      <td>0.893961</td>\n",
       "    </tr>\n",
       "  </tbody>\n",
       "</table>\n",
       "</div>"
      ],
      "text/plain": [
       "                   MultinomialNB  Logistic Regression  \\\n",
       "Accuracy                0.739255             0.911175   \n",
       "Sensitivity (TPR)       1.000000             0.965812   \n",
       "Specificity (FPR)       0.208696             0.800000   \n",
       "ROC AUC Score           0.604348             0.882906   \n",
       "\n",
       "                   Optimised MultinomialNB  Optimised Logistic Regression  \n",
       "Accuracy                          0.845124                       0.914914  \n",
       "Sensitivity (TPR)                 0.974359                       0.944444  \n",
       "Specificity (FPR)                 0.634783                       0.843478  \n",
       "ROC AUC Score                     0.804571                       0.893961  "
      ]
     },
     "execution_count": 108,
     "metadata": {},
     "output_type": "execute_result"
    }
   ],
   "source": [
    "optimised_logreg_metrics_df = pd.DataFrame(data=[logreg_optimised_accuracy, \n",
    "                                       logreg_optimised_sensitivity, \n",
    "                                       logreg_optimised_specificity, \n",
    "                                       logreg_optimised_roc_score],\n",
    "                          \n",
    "                                 index=[\"Accuracy\", \n",
    "                                        \"Sensitivity (TPR)\", \n",
    "                                        \"Specificity (FPR)\", \n",
    "                                        \"ROC AUC Score\"], \n",
    "                          \n",
    "                                 columns=[\"Optimised Logistic Regression\"])\n",
    "\n",
    "metrics_df = metrics_df.join(optimised_logreg_metrics_df)\n",
    "metrics_df"
   ]
  },
  {
   "cell_type": "markdown",
   "metadata": {},
   "source": [
    "##### <font color = blue> Shaun: </font>\n",
    "\n",
    "Joining `baseline_score_series` which I created at [5.2](#5.2), to `metrics_df` \n"
   ]
  },
  {
   "cell_type": "code",
   "execution_count": 109,
   "metadata": {},
   "outputs": [
    {
     "data": {
      "text/html": [
       "<div>\n",
       "<style scoped>\n",
       "    .dataframe tbody tr th:only-of-type {\n",
       "        vertical-align: middle;\n",
       "    }\n",
       "\n",
       "    .dataframe tbody tr th {\n",
       "        vertical-align: top;\n",
       "    }\n",
       "\n",
       "    .dataframe thead th {\n",
       "        text-align: right;\n",
       "    }\n",
       "</style>\n",
       "<table border=\"1\" class=\"dataframe\">\n",
       "  <thead>\n",
       "    <tr style=\"text-align: right;\">\n",
       "      <th></th>\n",
       "      <th>MultinomialNB</th>\n",
       "      <th>Logistic Regression</th>\n",
       "      <th>Optimised MultinomialNB</th>\n",
       "      <th>Optimised Logistic Regression</th>\n",
       "      <th>Baseline</th>\n",
       "    </tr>\n",
       "  </thead>\n",
       "  <tbody>\n",
       "    <tr>\n",
       "      <td>Accuracy</td>\n",
       "      <td>0.739255</td>\n",
       "      <td>0.911175</td>\n",
       "      <td>0.845124</td>\n",
       "      <td>0.914914</td>\n",
       "      <td>0.670487</td>\n",
       "    </tr>\n",
       "    <tr>\n",
       "      <td>ROC AUC Score</td>\n",
       "      <td>0.604348</td>\n",
       "      <td>0.882906</td>\n",
       "      <td>0.804571</td>\n",
       "      <td>0.893961</td>\n",
       "      <td>NaN</td>\n",
       "    </tr>\n",
       "    <tr>\n",
       "      <td>Sensitivity (TPR)</td>\n",
       "      <td>1.000000</td>\n",
       "      <td>0.965812</td>\n",
       "      <td>0.974359</td>\n",
       "      <td>0.944444</td>\n",
       "      <td>NaN</td>\n",
       "    </tr>\n",
       "    <tr>\n",
       "      <td>Specificity (FPR)</td>\n",
       "      <td>0.208696</td>\n",
       "      <td>0.800000</td>\n",
       "      <td>0.634783</td>\n",
       "      <td>0.843478</td>\n",
       "      <td>NaN</td>\n",
       "    </tr>\n",
       "  </tbody>\n",
       "</table>\n",
       "</div>"
      ],
      "text/plain": [
       "                   MultinomialNB  Logistic Regression  \\\n",
       "Accuracy                0.739255             0.911175   \n",
       "ROC AUC Score           0.604348             0.882906   \n",
       "Sensitivity (TPR)       1.000000             0.965812   \n",
       "Specificity (FPR)       0.208696             0.800000   \n",
       "\n",
       "                   Optimised MultinomialNB  Optimised Logistic Regression  \\\n",
       "Accuracy                          0.845124                       0.914914   \n",
       "ROC AUC Score                     0.804571                       0.893961   \n",
       "Sensitivity (TPR)                 0.974359                       0.944444   \n",
       "Specificity (FPR)                 0.634783                       0.843478   \n",
       "\n",
       "                   Baseline  \n",
       "Accuracy           0.670487  \n",
       "ROC AUC Score           NaN  \n",
       "Sensitivity (TPR)       NaN  \n",
       "Specificity (FPR)       NaN  "
      ]
     },
     "execution_count": 109,
     "metadata": {},
     "output_type": "execute_result"
    }
   ],
   "source": [
    "metrics_df = metrics_df.join(baseline_score_series)\n",
    "metrics_df"
   ]
  },
  {
   "cell_type": "markdown",
   "metadata": {},
   "source": [
    "## 5.5 Summary of Classification Metrics <a id=\"5.5\"></a>"
   ]
  },
  {
   "cell_type": "code",
   "execution_count": 110,
   "metadata": {
    "scrolled": true
   },
   "outputs": [
    {
     "data": {
      "text/html": [
       "<style  type=\"text/css\" >\n",
       "    #T_22a0dc42_66b2_11ea_b5ef_983b8f9adf98row3_col0 {\n",
       "            font-weight: bold;\n",
       "        }    #T_22a0dc42_66b2_11ea_b5ef_983b8f9adf98row3_col1 {\n",
       "            font-weight: bold;\n",
       "        }    #T_22a0dc42_66b2_11ea_b5ef_983b8f9adf98row3_col2 {\n",
       "            font-weight: bold;\n",
       "        }    #T_22a0dc42_66b2_11ea_b5ef_983b8f9adf98row3_col3 {\n",
       "            font-weight: bold;\n",
       "        }</style><table id=\"T_22a0dc42_66b2_11ea_b5ef_983b8f9adf98\" ><thead>    <tr>        <th class=\"blank level0\" ></th>        <th class=\"col_heading level0 col0\" >Accuracy</th>        <th class=\"col_heading level0 col1\" >ROC AUC Score</th>        <th class=\"col_heading level0 col2\" >Sensitivity (TPR)</th>        <th class=\"col_heading level0 col3\" >Specificity (FPR)</th>    </tr></thead><tbody>\n",
       "                <tr>\n",
       "                        <th id=\"T_22a0dc42_66b2_11ea_b5ef_983b8f9adf98level0_row0\" class=\"row_heading level0 row0\" >MultinomialNB</th>\n",
       "                        <td id=\"T_22a0dc42_66b2_11ea_b5ef_983b8f9adf98row0_col0\" class=\"data row0 col0\" >0.739255</td>\n",
       "                        <td id=\"T_22a0dc42_66b2_11ea_b5ef_983b8f9adf98row0_col1\" class=\"data row0 col1\" >0.604348</td>\n",
       "                        <td id=\"T_22a0dc42_66b2_11ea_b5ef_983b8f9adf98row0_col2\" class=\"data row0 col2\" >1</td>\n",
       "                        <td id=\"T_22a0dc42_66b2_11ea_b5ef_983b8f9adf98row0_col3\" class=\"data row0 col3\" >0.208696</td>\n",
       "            </tr>\n",
       "            <tr>\n",
       "                        <th id=\"T_22a0dc42_66b2_11ea_b5ef_983b8f9adf98level0_row1\" class=\"row_heading level0 row1\" >Logistic Regression</th>\n",
       "                        <td id=\"T_22a0dc42_66b2_11ea_b5ef_983b8f9adf98row1_col0\" class=\"data row1 col0\" >0.911175</td>\n",
       "                        <td id=\"T_22a0dc42_66b2_11ea_b5ef_983b8f9adf98row1_col1\" class=\"data row1 col1\" >0.882906</td>\n",
       "                        <td id=\"T_22a0dc42_66b2_11ea_b5ef_983b8f9adf98row1_col2\" class=\"data row1 col2\" >0.965812</td>\n",
       "                        <td id=\"T_22a0dc42_66b2_11ea_b5ef_983b8f9adf98row1_col3\" class=\"data row1 col3\" >0.8</td>\n",
       "            </tr>\n",
       "            <tr>\n",
       "                        <th id=\"T_22a0dc42_66b2_11ea_b5ef_983b8f9adf98level0_row2\" class=\"row_heading level0 row2\" >Optimised MultinomialNB</th>\n",
       "                        <td id=\"T_22a0dc42_66b2_11ea_b5ef_983b8f9adf98row2_col0\" class=\"data row2 col0\" >0.845124</td>\n",
       "                        <td id=\"T_22a0dc42_66b2_11ea_b5ef_983b8f9adf98row2_col1\" class=\"data row2 col1\" >0.804571</td>\n",
       "                        <td id=\"T_22a0dc42_66b2_11ea_b5ef_983b8f9adf98row2_col2\" class=\"data row2 col2\" >0.974359</td>\n",
       "                        <td id=\"T_22a0dc42_66b2_11ea_b5ef_983b8f9adf98row2_col3\" class=\"data row2 col3\" >0.634783</td>\n",
       "            </tr>\n",
       "            <tr>\n",
       "                        <th id=\"T_22a0dc42_66b2_11ea_b5ef_983b8f9adf98level0_row3\" class=\"row_heading level0 row3\" >Optimised Logistic Regression</th>\n",
       "                        <td id=\"T_22a0dc42_66b2_11ea_b5ef_983b8f9adf98row3_col0\" class=\"data row3 col0\" >0.914914</td>\n",
       "                        <td id=\"T_22a0dc42_66b2_11ea_b5ef_983b8f9adf98row3_col1\" class=\"data row3 col1\" >0.893961</td>\n",
       "                        <td id=\"T_22a0dc42_66b2_11ea_b5ef_983b8f9adf98row3_col2\" class=\"data row3 col2\" >0.944444</td>\n",
       "                        <td id=\"T_22a0dc42_66b2_11ea_b5ef_983b8f9adf98row3_col3\" class=\"data row3 col3\" >0.843478</td>\n",
       "            </tr>\n",
       "            <tr>\n",
       "                        <th id=\"T_22a0dc42_66b2_11ea_b5ef_983b8f9adf98level0_row4\" class=\"row_heading level0 row4\" >Baseline</th>\n",
       "                        <td id=\"T_22a0dc42_66b2_11ea_b5ef_983b8f9adf98row4_col0\" class=\"data row4 col0\" >0.670487</td>\n",
       "                        <td id=\"T_22a0dc42_66b2_11ea_b5ef_983b8f9adf98row4_col1\" class=\"data row4 col1\" >nan</td>\n",
       "                        <td id=\"T_22a0dc42_66b2_11ea_b5ef_983b8f9adf98row4_col2\" class=\"data row4 col2\" >nan</td>\n",
       "                        <td id=\"T_22a0dc42_66b2_11ea_b5ef_983b8f9adf98row4_col3\" class=\"data row4 col3\" >nan</td>\n",
       "            </tr>\n",
       "    </tbody></table>"
      ],
      "text/plain": [
       "<pandas.io.formats.style.Styler at 0x1edc0f4b508>"
      ]
     },
     "execution_count": 110,
     "metadata": {},
     "output_type": "execute_result"
    }
   ],
   "source": [
    "# Transposing cos it looks nicer to me\n",
    "metrics_df = metrics_df.T\n",
    "\n",
    "# Cool function to bold text in DF\n",
    "metrics_df.style.apply(lambda x: [\"font-weight:bold\" if x.name in [\"Optimised Logistic Regression\"] \n",
    "                                  else \"\" for i in x], axis=1)\n",
    "\n",
    "# Can't seem to flush the model names to the left"
   ]
  },
  {
   "cell_type": "code",
   "execution_count": 111,
   "metadata": {},
   "outputs": [],
   "source": [
    "# Tried to save as a table by following this link, but the output doesn't seem nice but keeping it here for reference: \n",
    "# https://stackoverflow.com/questions/35634238/how-to-save-a-pandas-dataframe-table-as-a-png\n",
    "\n",
    "# ax = plt.subplot(frame_on=False) # no visible frame\n",
    "# ax.xaxis.set_visible(False)  # hide the x axis\n",
    "# ax.yaxis.set_visible(False)  # hide the y axis\n",
    "\n",
    "# table(ax, metrics_df)  # where df is your data frame\n",
    "\n",
    "# plt.savefig('mytable.png')"
   ]
  },
  {
   "cell_type": "markdown",
   "metadata": {},
   "source": [
    "##### <font color = blue> Shaun: </font>\n",
    "\n",
    "It would appear that the Optimised MultinomialNB gives the highest Sensitivity or True Positive Rate. At first in the [problem statement](#here), I had mentioned that I would likely be going with the model yielding the highest Sensitivity/TPR. \n",
    "\n",
    "However, it seems that the greater TPR of the Optimised MultinomialNB comes at a hefty cost of Specificity. \n",
    "\n",
    "While I may be able to catch more people who actually are headed towards problem gambling or are already facing problem gambling, I identify **disproportionately fewer** individuals who are not headed towards problem gambling nor are facing problem gambling.\n",
    "\n",
    "Therefore, I feel it may still be wise to head with the **Optimised Logistic Regression** model. Also, it has a higher ROC AUC Score, indicating that the model does a very good job distinguishing between r/problemgambling and r/gambling. In fact, it does the best job in this regard when compared to the other models."
   ]
  },
  {
   "cell_type": "markdown",
   "metadata": {},
   "source": [
    "## 5.6 Fitting the Model <a id=\"5.6\"></a>"
   ]
  },
  {
   "cell_type": "code",
   "execution_count": 112,
   "metadata": {},
   "outputs": [
    {
     "data": {
      "text/plain": [
       "{'logreg__C': 1.0,\n",
       " 'tvec__max_df': 0.9,\n",
       " 'tvec__max_features': 500,\n",
       " 'tvec__min_df': 0.0001,\n",
       " 'tvec__ngram_range': (1, 1)}"
      ]
     },
     "execution_count": 112,
     "metadata": {},
     "output_type": "execute_result"
    }
   ],
   "source": [
    "# Getting best params for optimised Logistic Regression as found above\n",
    "\n",
    "logreg_optimised_best_params"
   ]
  },
  {
   "cell_type": "code",
   "execution_count": 113,
   "metadata": {},
   "outputs": [],
   "source": [
    "# Pipeline for finalised model\n",
    "\n",
    "finalised_logreg = Pipeline([\n",
    "    (\"tvec\",TfidfVectorizer(max_df=0.9, max_features=500, min_df=0.0001,ngram_range=(1,1))),\n",
    "    (\"logreg\",LogisticRegression())])"
   ]
  },
  {
   "cell_type": "code",
   "execution_count": 114,
   "metadata": {},
   "outputs": [
    {
     "name": "stderr",
     "output_type": "stream",
     "text": [
      "C:\\Users\\Shaun\\Anaconda3\\lib\\site-packages\\sklearn\\linear_model\\logistic.py:432: FutureWarning: Default solver will be changed to 'lbfgs' in 0.22. Specify a solver to silence this warning.\n",
      "  FutureWarning)\n"
     ]
    },
    {
     "data": {
      "text/plain": [
       "Pipeline(memory=None,\n",
       "         steps=[('tvec',\n",
       "                 TfidfVectorizer(analyzer='word', binary=False,\n",
       "                                 decode_error='strict',\n",
       "                                 dtype=<class 'numpy.float64'>,\n",
       "                                 encoding='utf-8', input='content',\n",
       "                                 lowercase=True, max_df=0.9, max_features=500,\n",
       "                                 min_df=0.0001, ngram_range=(1, 1), norm='l2',\n",
       "                                 preprocessor=None, smooth_idf=True,\n",
       "                                 stop_words=None, strip_accents=None,\n",
       "                                 sublinear_tf=False,\n",
       "                                 token_pattern='(?u)\\\\b\\\\w\\\\w+\\\\b',\n",
       "                                 tokenizer=None, use_idf=True,\n",
       "                                 vocabulary=None)),\n",
       "                ('logreg',\n",
       "                 LogisticRegression(C=1.0, class_weight=None, dual=False,\n",
       "                                    fit_intercept=True, intercept_scaling=1,\n",
       "                                    l1_ratio=None, max_iter=100,\n",
       "                                    multi_class='warn', n_jobs=None,\n",
       "                                    penalty='l2', random_state=None,\n",
       "                                    solver='warn', tol=0.0001, verbose=0,\n",
       "                                    warm_start=False))],\n",
       "         verbose=False)"
      ]
     },
     "execution_count": 114,
     "metadata": {},
     "output_type": "execute_result"
    }
   ],
   "source": [
    "# Fitting final model\n",
    "\n",
    "finalised_logreg.fit(X, y)"
   ]
  },
  {
   "cell_type": "markdown",
   "metadata": {},
   "source": [
    "## 5.7 Feature Words and Coefficients <a id=\"5.7\"></a>"
   ]
  },
  {
   "cell_type": "markdown",
   "metadata": {},
   "source": [
    "### 5.7.1 Feature Words <a id=\"5.7.1\"></a>"
   ]
  },
  {
   "cell_type": "code",
   "execution_count": 115,
   "metadata": {},
   "outputs": [
    {
     "data": {
      "text/plain": [
       "['10',\n",
       " '100',\n",
       " '1000',\n",
       " '12',\n",
       " '15',\n",
       " '16',\n",
       " '18',\n",
       " '20',\n",
       " '200',\n",
       " '2019',\n",
       " '21',\n",
       " '25',\n",
       " '2nd',\n",
       " '30',\n",
       " '40',\n",
       " '400',\n",
       " '50',\n",
       " '500',\n",
       " 'able',\n",
       " 'absolutely',\n",
       " 'access',\n",
       " 'account',\n",
       " 'action',\n",
       " 'active',\n",
       " 'actually',\n",
       " 'addiction',\n",
       " 'advice',\n",
       " 'ago',\n",
       " 'almost',\n",
       " 'alone',\n",
       " 'already',\n",
       " 'also',\n",
       " 'always',\n",
       " 'amount',\n",
       " 'amp',\n",
       " 'ampx200b',\n",
       " 'another',\n",
       " 'anymore',\n",
       " 'anyone',\n",
       " 'anything',\n",
       " 'anyway',\n",
       " 'april',\n",
       " 'around',\n",
       " 'ask',\n",
       " 'asked',\n",
       " 'asking',\n",
       " 'away',\n",
       " 'back',\n",
       " 'bad',\n",
       " 'bank',\n",
       " 'become',\n",
       " 'believe',\n",
       " 'best',\n",
       " 'bet',\n",
       " 'better',\n",
       " 'betting',\n",
       " 'big',\n",
       " 'bill',\n",
       " 'bit',\n",
       " 'bitcoin',\n",
       " 'blackjack',\n",
       " 'bonus',\n",
       " 'book',\n",
       " 'bookie',\n",
       " 'brain',\n",
       " 'break',\n",
       " 'broke',\n",
       " 'business',\n",
       " 'buy',\n",
       " 'call',\n",
       " 'called',\n",
       " 'came',\n",
       " 'cannot',\n",
       " 'cant',\n",
       " 'car',\n",
       " 'card',\n",
       " 'care',\n",
       " 'cash',\n",
       " 'casino',\n",
       " 'cause',\n",
       " 'chance',\n",
       " 'change',\n",
       " 'chase',\n",
       " 'chasing',\n",
       " 'check',\n",
       " 'clean',\n",
       " 'close',\n",
       " 'come',\n",
       " 'coming',\n",
       " 'community',\n",
       " 'completely',\n",
       " 'compulsive',\n",
       " 'control',\n",
       " 'could',\n",
       " 'couldnt',\n",
       " 'couple',\n",
       " 'course',\n",
       " 'crap',\n",
       " 'crazy',\n",
       " 'credit',\n",
       " 'currently',\n",
       " 'cycle',\n",
       " 'dad',\n",
       " 'daily',\n",
       " 'day',\n",
       " 'deal',\n",
       " 'dealer',\n",
       " 'debt',\n",
       " 'decided',\n",
       " 'decision',\n",
       " 'deep',\n",
       " 'deposit',\n",
       " 'didnt',\n",
       " 'different',\n",
       " 'doesnt',\n",
       " 'dollar',\n",
       " 'done',\n",
       " 'dont',\n",
       " 'drink',\n",
       " 'due',\n",
       " 'early',\n",
       " 'easy',\n",
       " 'either',\n",
       " 'else',\n",
       " 'emotion',\n",
       " 'end',\n",
       " 'ended',\n",
       " 'enforcement',\n",
       " 'enjoy',\n",
       " 'enough',\n",
       " 'etc',\n",
       " 'euro',\n",
       " 'even',\n",
       " 'eventually',\n",
       " 'ever',\n",
       " 'every',\n",
       " 'everyone',\n",
       " 'everything',\n",
       " 'example',\n",
       " 'experience',\n",
       " 'extra',\n",
       " 'face',\n",
       " 'fact',\n",
       " 'fall',\n",
       " 'family',\n",
       " 'far',\n",
       " 'feel',\n",
       " 'feeling',\n",
       " 'felt',\n",
       " 'finally',\n",
       " 'financial',\n",
       " 'find',\n",
       " 'fine',\n",
       " 'first',\n",
       " 'focus',\n",
       " 'forward',\n",
       " 'found',\n",
       " 'free',\n",
       " 'friend',\n",
       " 'fuck',\n",
       " 'fucking',\n",
       " 'full',\n",
       " 'fun',\n",
       " 'future',\n",
       " 'ga',\n",
       " 'gamble',\n",
       " 'gambled',\n",
       " 'gambler',\n",
       " 'gambling',\n",
       " 'game',\n",
       " 'gave',\n",
       " 'get',\n",
       " 'getting',\n",
       " 'girlfriend',\n",
       " 'give',\n",
       " 'go',\n",
       " 'god',\n",
       " 'going',\n",
       " 'gone',\n",
       " 'gonna',\n",
       " 'good',\n",
       " 'got',\n",
       " 'gotten',\n",
       " 'great',\n",
       " 'group',\n",
       " 'guess',\n",
       " 'guy',\n",
       " 'half',\n",
       " 'hand',\n",
       " 'happen',\n",
       " 'happened',\n",
       " 'happy',\n",
       " 'hard',\n",
       " 'hate',\n",
       " 'havent',\n",
       " 'head',\n",
       " 'help',\n",
       " 'helped',\n",
       " 'high',\n",
       " 'hit',\n",
       " 'hold',\n",
       " 'home',\n",
       " 'honest',\n",
       " 'hope',\n",
       " 'horrible',\n",
       " 'hour',\n",
       " 'house',\n",
       " 'however',\n",
       " 'huge',\n",
       " 'hundred',\n",
       " 'hurt',\n",
       " 'husband',\n",
       " 'id',\n",
       " 'idea',\n",
       " 'ill',\n",
       " 'im',\n",
       " 'important',\n",
       " 'inside',\n",
       " 'instead',\n",
       " 'isnt',\n",
       " 'issue',\n",
       " 'ive',\n",
       " 'jackpot',\n",
       " 'job',\n",
       " 'keep',\n",
       " 'kept',\n",
       " 'kid',\n",
       " 'kind',\n",
       " 'knew',\n",
       " 'know',\n",
       " 'last',\n",
       " 'later',\n",
       " 'law',\n",
       " 'le',\n",
       " 'least',\n",
       " 'leave',\n",
       " 'left',\n",
       " 'let',\n",
       " 'lie',\n",
       " 'life',\n",
       " 'like',\n",
       " 'limit',\n",
       " 'line',\n",
       " 'literally',\n",
       " 'little',\n",
       " 'live',\n",
       " 'living',\n",
       " 'loan',\n",
       " 'local',\n",
       " 'long',\n",
       " 'longer',\n",
       " 'look',\n",
       " 'looking',\n",
       " 'lose',\n",
       " 'losing',\n",
       " 'loss',\n",
       " 'lost',\n",
       " 'lot',\n",
       " 'love',\n",
       " 'low',\n",
       " 'luck',\n",
       " 'lucky',\n",
       " 'machine',\n",
       " 'made',\n",
       " 'make',\n",
       " 'making',\n",
       " 'man',\n",
       " 'managed',\n",
       " 'many',\n",
       " 'mark',\n",
       " 'matter',\n",
       " 'may',\n",
       " 'maybe',\n",
       " 'mean',\n",
       " 'meeting',\n",
       " 'mentally',\n",
       " 'might',\n",
       " 'mind',\n",
       " 'mine',\n",
       " 'minute',\n",
       " 'mom',\n",
       " 'moment',\n",
       " 'money',\n",
       " 'month',\n",
       " 'morning',\n",
       " 'move',\n",
       " 'much',\n",
       " 'must',\n",
       " 'name',\n",
       " 'need',\n",
       " 'needed',\n",
       " 'never',\n",
       " 'new',\n",
       " 'next',\n",
       " 'nice',\n",
       " 'night',\n",
       " 'nothing',\n",
       " 'number',\n",
       " 'obviously',\n",
       " 'odds',\n",
       " 'offer',\n",
       " 'often',\n",
       " 'old',\n",
       " 'one',\n",
       " 'online',\n",
       " 'open',\n",
       " 'option',\n",
       " 'others',\n",
       " 'paid',\n",
       " 'parent',\n",
       " 'part',\n",
       " 'partner',\n",
       " 'past',\n",
       " 'pay',\n",
       " 'paycheck',\n",
       " 'payday',\n",
       " 'paying',\n",
       " 'payment',\n",
       " 'people',\n",
       " 'per',\n",
       " 'person',\n",
       " 'phase',\n",
       " 'phone',\n",
       " 'place',\n",
       " 'plan',\n",
       " 'play',\n",
       " 'played',\n",
       " 'player',\n",
       " 'playing',\n",
       " 'please',\n",
       " 'point',\n",
       " 'poker',\n",
       " 'positive',\n",
       " 'possible',\n",
       " 'post',\n",
       " 'pretty',\n",
       " 'probably',\n",
       " 'problem',\n",
       " 'profit',\n",
       " 'put',\n",
       " 'question',\n",
       " 'quick',\n",
       " 'quit',\n",
       " 'read',\n",
       " 'reading',\n",
       " 'ready',\n",
       " 'real',\n",
       " 'realize',\n",
       " 'really',\n",
       " 'reason',\n",
       " 'recently',\n",
       " 'recovery',\n",
       " 'reddit',\n",
       " 'relapse',\n",
       " 'relapsed',\n",
       " 'relationship',\n",
       " 'remember',\n",
       " 'rest',\n",
       " 'return',\n",
       " 'right',\n",
       " 'roll',\n",
       " 'room',\n",
       " 'roulette',\n",
       " 'round',\n",
       " 'run',\n",
       " 'said',\n",
       " 'save',\n",
       " 'saving',\n",
       " 'saw',\n",
       " 'say',\n",
       " 'saying',\n",
       " 'school',\n",
       " 'second',\n",
       " 'see',\n",
       " 'seem',\n",
       " 'seems',\n",
       " 'self',\n",
       " 'set',\n",
       " 'share',\n",
       " 'shit',\n",
       " 'show',\n",
       " 'sick',\n",
       " 'side',\n",
       " 'since',\n",
       " 'single',\n",
       " 'site',\n",
       " 'sitting',\n",
       " 'situation',\n",
       " 'slot',\n",
       " 'small',\n",
       " 'someone',\n",
       " 'something',\n",
       " 'sometimes',\n",
       " 'soon',\n",
       " 'sorry',\n",
       " 'spend',\n",
       " 'spending',\n",
       " 'spent',\n",
       " 'spin',\n",
       " 'sport',\n",
       " 'start',\n",
       " 'started',\n",
       " 'starting',\n",
       " 'state',\n",
       " 'stay',\n",
       " 'step',\n",
       " 'still',\n",
       " 'stop',\n",
       " 'stopped',\n",
       " 'story',\n",
       " 'strong',\n",
       " 'struggling',\n",
       " 'stupid',\n",
       " 'sub',\n",
       " 'super',\n",
       " 'support',\n",
       " 'sure',\n",
       " 'table',\n",
       " 'take',\n",
       " 'taken',\n",
       " 'taking',\n",
       " 'talk',\n",
       " 'talking',\n",
       " 'tax',\n",
       " 'tell',\n",
       " 'telling',\n",
       " 'term',\n",
       " 'thank',\n",
       " 'thanks',\n",
       " 'thats',\n",
       " 'there',\n",
       " 'thing',\n",
       " 'think',\n",
       " 'thinking',\n",
       " 'though',\n",
       " 'thought',\n",
       " 'thousand',\n",
       " 'thread',\n",
       " 'three',\n",
       " 'ticket',\n",
       " 'time',\n",
       " 'today',\n",
       " 'together',\n",
       " 'told',\n",
       " 'tomorrow',\n",
       " 'tonight',\n",
       " 'took',\n",
       " 'total',\n",
       " 'tried',\n",
       " 'trip',\n",
       " 'try',\n",
       " 'trying',\n",
       " 'turn',\n",
       " 'turned',\n",
       " 'two',\n",
       " 'understand',\n",
       " 'urge',\n",
       " 'use',\n",
       " 'used',\n",
       " 'using',\n",
       " 'usually',\n",
       " 'vega',\n",
       " 'video',\n",
       " 'walk',\n",
       " 'want',\n",
       " 'wanted',\n",
       " 'wasnt',\n",
       " 'way',\n",
       " 'website',\n",
       " 'week',\n",
       " 'weekend',\n",
       " 'well',\n",
       " 'went',\n",
       " 'whatever',\n",
       " 'whole',\n",
       " 'wife',\n",
       " 'win',\n",
       " 'winning',\n",
       " 'wish',\n",
       " 'withdraw',\n",
       " 'withdrawal',\n",
       " 'without',\n",
       " 'wont',\n",
       " 'work',\n",
       " 'worked',\n",
       " 'working',\n",
       " 'world',\n",
       " 'worse',\n",
       " 'worst',\n",
       " 'worth',\n",
       " 'would',\n",
       " 'wouldnt',\n",
       " 'write',\n",
       " 'writing',\n",
       " 'wrong',\n",
       " 'year',\n",
       " 'yesterday',\n",
       " 'yet',\n",
       " 'young',\n",
       " 'youre']"
      ]
     },
     "execution_count": 115,
     "metadata": {},
     "output_type": "execute_result"
    }
   ],
   "source": [
    "# Learnt that we can call out something from pipelin to use .get_feature_names()\n",
    "\n",
    "# getting features words from tfidf\n",
    "feature_words = finalised_logreg[\"tvec\"].get_feature_names()\n",
    "\n",
    "feature_words"
   ]
  },
  {
   "cell_type": "markdown",
   "metadata": {},
   "source": [
    "### 5.7.2 Coefficients <a id=\"5.5.2\"></a>"
   ]
  },
  {
   "cell_type": "code",
   "execution_count": 116,
   "metadata": {},
   "outputs": [
    {
     "data": {
      "text/html": [
       "<div>\n",
       "<style scoped>\n",
       "    .dataframe tbody tr th:only-of-type {\n",
       "        vertical-align: middle;\n",
       "    }\n",
       "\n",
       "    .dataframe tbody tr th {\n",
       "        vertical-align: top;\n",
       "    }\n",
       "\n",
       "    .dataframe thead th {\n",
       "        text-align: right;\n",
       "    }\n",
       "</style>\n",
       "<table border=\"1\" class=\"dataframe\">\n",
       "  <thead>\n",
       "    <tr style=\"text-align: right;\">\n",
       "      <th></th>\n",
       "      <th>coef</th>\n",
       "      <th>coef_abs</th>\n",
       "    </tr>\n",
       "  </thead>\n",
       "  <tbody>\n",
       "    <tr>\n",
       "      <td>10</td>\n",
       "      <td>0.274542</td>\n",
       "      <td>0.274542</td>\n",
       "    </tr>\n",
       "    <tr>\n",
       "      <td>100</td>\n",
       "      <td>-0.139990</td>\n",
       "      <td>0.139990</td>\n",
       "    </tr>\n",
       "    <tr>\n",
       "      <td>1000</td>\n",
       "      <td>-0.193037</td>\n",
       "      <td>0.193037</td>\n",
       "    </tr>\n",
       "    <tr>\n",
       "      <td>12</td>\n",
       "      <td>0.468819</td>\n",
       "      <td>0.468819</td>\n",
       "    </tr>\n",
       "    <tr>\n",
       "      <td>15</td>\n",
       "      <td>-0.231876</td>\n",
       "      <td>0.231876</td>\n",
       "    </tr>\n",
       "    <tr>\n",
       "      <td>...</td>\n",
       "      <td>...</td>\n",
       "      <td>...</td>\n",
       "    </tr>\n",
       "    <tr>\n",
       "      <td>year</td>\n",
       "      <td>1.034408</td>\n",
       "      <td>1.034408</td>\n",
       "    </tr>\n",
       "    <tr>\n",
       "      <td>yesterday</td>\n",
       "      <td>0.499460</td>\n",
       "      <td>0.499460</td>\n",
       "    </tr>\n",
       "    <tr>\n",
       "      <td>yet</td>\n",
       "      <td>0.249162</td>\n",
       "      <td>0.249162</td>\n",
       "    </tr>\n",
       "    <tr>\n",
       "      <td>young</td>\n",
       "      <td>0.027514</td>\n",
       "      <td>0.027514</td>\n",
       "    </tr>\n",
       "    <tr>\n",
       "      <td>youre</td>\n",
       "      <td>-0.132325</td>\n",
       "      <td>0.132325</td>\n",
       "    </tr>\n",
       "  </tbody>\n",
       "</table>\n",
       "<p>500 rows × 2 columns</p>\n",
       "</div>"
      ],
      "text/plain": [
       "               coef  coef_abs\n",
       "10         0.274542  0.274542\n",
       "100       -0.139990  0.139990\n",
       "1000      -0.193037  0.193037\n",
       "12         0.468819  0.468819\n",
       "15        -0.231876  0.231876\n",
       "...             ...       ...\n",
       "year       1.034408  1.034408\n",
       "yesterday  0.499460  0.499460\n",
       "yet        0.249162  0.249162\n",
       "young      0.027514  0.027514\n",
       "youre     -0.132325  0.132325\n",
       "\n",
       "[500 rows x 2 columns]"
      ]
     },
     "execution_count": 116,
     "metadata": {},
     "output_type": "execute_result"
    }
   ],
   "source": [
    "# Creating a DF to store coefficients\n",
    "\n",
    "coefs = [i for j in finalised_logreg[\"logreg\"].coef_ for i in j]\n",
    "word_coefs = pd.DataFrame([coefs,np.abs(coefs)], columns=feature_words, index=['coef','coef_abs']).transpose()\n",
    "\n",
    "word_coefs"
   ]
  },
  {
   "cell_type": "code",
   "execution_count": 117,
   "metadata": {},
   "outputs": [
    {
     "data": {
      "text/plain": [
       "<matplotlib.axes._subplots.AxesSubplot at 0x1edc037bf48>"
      ]
     },
     "execution_count": 117,
     "metadata": {},
     "output_type": "execute_result"
    },
    {
     "data": {
      "image/png": "[encoded data removed]",
      "text/plain": [
       "<Figure size 432x288 with 1 Axes>"
      ]
     },
     "metadata": {
      "needs_background": "light"
     },
     "output_type": "display_data"
    }
   ],
   "source": [
    "# Looking at the top 20 words that appear the most\n",
    "# Note: SORTING by coef_abs but DISPLAYING coefs\n",
    "\n",
    "word_coefs.sort_values(\"coef_abs\", ascending=False).coef[:20].plot(kind=\"barh\")"
   ]
  },
  {
   "cell_type": "markdown",
   "metadata": {},
   "source": [
    "##### <font color = blue> Shaun: </font>\n",
    "\n",
    "This visual representation of the top 20 words with the highest absolute coefficient might be something that will prove insightful.\n",
    "\n",
    "It is apparent that certain words are likely to be used in the context of `problemgambling`, such as `day` and `gambling`. In stark contrast, the opposite seems true as well - there are certain words that are likely to be used in the context of`gambling`. \n",
    "\n",
    "I will share more on how I think this can be applied at the [Conclusions and Recommendations](#6) section.\n"
   ]
  },
  {
   "cell_type": "markdown",
   "metadata": {},
   "source": [
    "## 5.8 The ROC Curve <a id=\"5.8\"></a>"
   ]
  },
  {
   "cell_type": "code",
   "execution_count": 118,
   "metadata": {},
   "outputs": [
    {
     "data": {
      "image/png": "[encoded data removed]",
      "text/plain": [
       "<Figure size 720x504 with 1 Axes>"
      ]
     },
     "metadata": {
      "needs_background": "light"
     },
     "output_type": "display_data"
    }
   ],
   "source": [
    "#codes supplied from ROC lecture\n",
    "# creating dataframe true value and predicted probabilities\n",
    "pred_proba = [i[1] for i in finalised_logreg.predict_proba(X)]\n",
    "\n",
    "pred_df = pd.DataFrame({'true_values': y,\n",
    "                        'pred_probs':pred_proba})\n",
    "# Create figure.\n",
    "plt.figure(figsize = (10,7))\n",
    "\n",
    "# Create threshold values. (Dashed red line in image.)\n",
    "thresholds = np.linspace(0, 1, 200)\n",
    "\n",
    "# Define function to calculate sensitivity. (True positive rate.)\n",
    "def TPR(df, true_col, pred_prob_col, threshold):\n",
    "    true_positive = df[(df[true_col] == 1) & (df[pred_prob_col] >= threshold)].shape[0]\n",
    "    false_negative = df[(df[true_col] == 1) & (df[pred_prob_col] < threshold)].shape[0]\n",
    "    return true_positive / (true_positive + false_negative)\n",
    "    \n",
    "# Define function to calculate 1 - specificity. (False positive rate.)\n",
    "def FPR(df, true_col, pred_prob_col, threshold):\n",
    "    true_negative = df[(df[true_col] == 0) & (df[pred_prob_col] <= threshold)].shape[0]\n",
    "    false_positive = df[(df[true_col] == 0) & (df[pred_prob_col] > threshold)].shape[0]\n",
    "    return 1 - (true_negative / (true_negative + false_positive))\n",
    "    \n",
    "# Calculate sensitivity & 1-specificity for each threshold between 0 and 1.\n",
    "tpr_values = [TPR(pred_df, 'true_values', 'pred_probs', prob) for prob in thresholds]\n",
    "fpr_values = [FPR(pred_df, 'true_values', 'pred_probs', prob) for prob in thresholds]\n",
    "\n",
    "# Plot ROC curve.\n",
    "plt.plot(fpr_values, # False Positive Rate on X-axis\n",
    "         tpr_values, # True Positive Rate on Y-axis\n",
    "         label='ROC Curve')\n",
    "\n",
    "# Plot baseline. (Perfect overlap between the two populations.)\n",
    "plt.plot(np.linspace(0, 1, 200),\n",
    "         np.linspace(0, 1, 200),\n",
    "         label='baseline',\n",
    "         linestyle='--')\n",
    "\n",
    "# Label axes.\n",
    "plt.title(f'ROC Curve with AUC =' + str({round((roc_auc_score(pred_df['true_values'], pred_df['pred_probs'])),3)}), fontsize=22)\n",
    "plt.ylabel('Sensitivity', fontsize=18)\n",
    "plt.xlabel('1 - Specificity', fontsize=18)\n",
    "\n",
    "# Create legend.\n",
    "plt.legend(fontsize=16);"
   ]
  },
  {
   "cell_type": "markdown",
   "metadata": {},
   "source": [
    "##### <font color = blue> Shaun: </font>\n",
    "<br>\n",
    "<img src=\"./images/dsi_13_sg_shaun_project_3_dontknowwhattofeel.jpg\" width=\"200\" height=\"80\" align=\"left\"/>\n",
    "\n"
   ]
  },
  {
   "cell_type": "markdown",
   "metadata": {},
   "source": [
    "I don't know whether this is a good or a bad thing. \n",
    "\n",
    "On one hand, we are trying to maximise the ROC AUC. On the otherhand, this could mean that our dataset was fundamentally too different to begin with, even though **both lexical and logical** reasons led us to think otherwise.\n",
    "\n",
    "We did read through some posts, and we also thought that gambling and problem gambling would be similar.\n",
    "\n",
    "Or it could mean that the model is really good. Eitherway, I think it is a good sign that the score is so high."
   ]
  },
  {
   "cell_type": "code",
   "execution_count": 119,
   "metadata": {},
   "outputs": [
    {
     "data": {
      "image/png": "[encoded data removed]",
      "text/plain": [
       "<Figure size 720x504 with 1 Axes>"
      ]
     },
     "metadata": {
      "needs_background": "light"
     },
     "output_type": "display_data"
    }
   ],
   "source": [
    "# This is something like a visual representation of the confusion matrix ...\n",
    "\n",
    "# Create figure.\n",
    "plt.figure(figsize = (10,7))\n",
    "\n",
    "# Create two histograms of observations.\n",
    "plt.hist(pred_df[pred_df['true_values'] == 0]['pred_probs'],\n",
    "         bins=25,\n",
    "         color='b',\n",
    "         alpha = 0.6,\n",
    "         label='Outcome = 0')\n",
    "plt.hist(pred_df[pred_df['true_values'] == 1]['pred_probs'],\n",
    "         bins=25,\n",
    "         color='orange',\n",
    "         alpha = 0.6,\n",
    "         label='Outcome = 1')\n",
    "\n",
    "# Add vertical line at P(Outcome = 1) = 0.5.\n",
    "plt.vlines(x=0.5,\n",
    "           ymin = 0,\n",
    "           ymax = 65,\n",
    "           color='r',\n",
    "           linestyle = '--')\n",
    "\n",
    "# Label axes.\n",
    "plt.title('Distribution of P(Outcome = 1)', fontsize=22)\n",
    "plt.ylabel('Frequency', fontsize=18)\n",
    "plt.xlabel('Predicted Probability that Outcome = 1', fontsize=18)\n",
    "\n",
    "# Create legend.\n",
    "plt.legend(fontsize=20);"
   ]
  },
  {
   "cell_type": "markdown",
   "metadata": {},
   "source": [
    "##### <font color = blue> Shaun: </font>\n",
    "\n",
    "This to me is a visual representation of the confusion matrix. \n",
    "\n",
    "So we can see here that the majority of posts have been correctly classified as positive(TP) and negative(TN). \n",
    "\n",
    "As a reminder, positive is `problemgambling` while negative is `gambling`.\n",
    "\n",
    "Notwithstanding a handful of posts:\n",
    "<br> 1) FN: Yellow bars crossing the red line indicates `problemgambling` wrongly classified as `gambling`\n",
    "<br> 2) FP: Blue bars crossing the red line indicates `gambling` wrongly classified as `problemgambling` \n",
    "\n",
    "<br> [Back to Content Page](#top)"
   ]
  },
  {
   "cell_type": "markdown",
   "metadata": {},
   "source": [
    "# 6. Conclusion and Recommendations <a id=\"6\"></a>"
   ]
  },
  {
   "cell_type": "markdown",
   "metadata": {},
   "source": [
    "Our [problem statement](#1) addressed the prevalent issue of problem gambling in Singapore, and outlined the potential utility of using NLP to train a model that attempts to classify posts from the two chosen subreddits: \n",
    "<br> (1) <a href=\"https://www.reddit.com/r/problemgambling/\">**r/problemgambling**</a> \n",
    "<br> (2) <a href=\"https://www.reddit.com/r/gambling/\">**r/gambling**</a>\n",
    "\n",
    "To recap, the main body addressing this issue in Singapore is the **National Council on Problem Gambling (NCPG)**.\n",
    "\n",
    "### The Model\n",
    "We managed to produce an **Optimised Logistic Regression** model that will correctly classify posts from `r/problemgambling` approximately 94% of the time. This same model achieved an **ROC AUC Score** of 0.898, significantly higher than our **[baseline score](#5.2)** of 0.670. In fact, the score ROC AUC Score of 0.898 was the highest ROC AUC score among all models. \n",
    "\n",
    "### Feature Words\n",
    "As determined [earlier](#5.5.2), certain words appeared to be suggestive of the subreddit it likely originated from. By extension, posts containing such words were also suggestive of the subreddit it originated from. \n",
    "\n",
    "In the evaluation of the model, words like `debt`, `addiction`, and `lost`, often led it to classify a post as one originating from **r/problemgambling**. \n",
    "\n",
    "In contrast, words like `casino`, `play`, and `bet`, often led the model to classify a post as one originating from **r/gambling**.\n",
    "\n",
    "### Basis of Recommendations\n",
    "We believe that our model is able to classify posts correctly to a large extent (ROC Score: 0.898, TPR: 94%), based on feature words (some more so than others). Therefore, we can **use these features words as a basis upon which to provide recommendations** to two distinct audiences.\n",
    "\n",
    "### <font color = green> Primary Audience Recommendations: NCPG Management </font>\n",
    "Recommendations for the NCPG can be split broadly into two categories: \n",
    "<br> (1) Early Intervention \n",
    "<br> (2) Post Intervention\n",
    "\n",
    "#### Early Intervention\n",
    "Feature words can be used by NCPG personnel to identify individuals who are at risk of developing debilitative gambling habits. \n",
    "\n",
    "Feature words can be incorporated into a variety of exisiting or potential means as a form of problem gambling identification. These methods may include but are not limited to:\n",
    "<br> **1) Consultations**\n",
    "<br> **2) Surveys**\n",
    "\n",
    "For example, NCPG counsellors may **pay special attention** to certain feature words identified by our model, since some of these feature words have helped our model to correctly classify a post originating from r/problemgambling. In context, NCPG counsellors may use these feature words to help assess if an individual is indeed heading towards problem gambling, or is currently facing problem gambling. \n",
    "\n",
    "Appropriate follow up action can then be considered, but this is **beyond the scope of our project**.\n",
    "\n",
    "#### Post Intervention\n",
    "The underlying principle remains the same for post-intervention recommendations - capitalise on feature words to identify whether an individual is recovering from or regressing to problem gambling. \n",
    "\n",
    "Likewise, this can be done in a variety of ways, most of which already exist within the NCPG. The findings of our project, feature words in particular, serve to enhance the efficiency and effectiveness of any existing or pre-existing initiatives.  \n",
    "### <font color = green> Secondary Audience Recommendations: NCPG Data Science Team </font>\n",
    "The findings of our project may assist the current data science team at the NCPG by providing a set of feature words, which may then be utilised to propel any current endeavours.\n",
    "\n",
    "Further, the team will have access to our model, which they can choose to utilise.\n",
    "\n",
    "Perhaps another pertinent application for the NCPG team is in fact the limitations of our project, which forms a basis upon which the team may establish a new project direction. \n",
    "\n",
    "We will now address the limitations of this project. \n",
    "\n",
    "<br> [Back to Content Page](#top)"
   ]
  },
  {
   "cell_type": "markdown",
   "metadata": {},
   "source": [
    "# 7. Limitations <a id=\"7\"></a>"
   ]
  },
  {
   "cell_type": "markdown",
   "metadata": {},
   "source": [
    "### <font color = red> Generalisability: Context </font> \n",
    "At the crux of our project lies the assumption that posts from Reddit will generalise to the Singaporean context. In reality, this can be no further from the truth. \n",
    "\n",
    "As of 2019 October, <a href=\"https://www.statista.com/statistics/325144/reddit-global-active-user-distribution/\">about half</a> of visitors to Reddit are American, which suggests that posts will more likely reflect the American context instead of the Singaporean context. \n",
    "\n",
    "### <font color = red> Generalisability: Gender </font> \n",
    "<a href=\"https://mediakix.com/blog/reddit-statistics-users-demographics/\">About 70%</a> of Redditors are male, which hints that the actual female experience may not be reflected sufficiently by posts on Reddit. We assumed that the majority of problem gamlers are male.\n",
    "\n",
    "<br> [Back to Content Page](#top)"
   ]
  },
  {
   "cell_type": "markdown",
   "metadata": {},
   "source": [
    "# 8. Future Directions <a id=\"8\"></a>"
   ]
  },
  {
   "cell_type": "markdown",
   "metadata": {},
   "source": [
    "### <font color = green> Areas for Study </font>\n",
    "Our projected looked at scrapped Reddit posts from two subreddits, r/problemgambling and r/gambling. We then used NLP to process these posts in order to train a model to classify them correctly. Ultimately, we wanted to be able to create a model to help identify individuals heading towards or who are currently experiencing problem gambling.\n",
    "\n",
    "One possible area of interest that awaits further study is the a potential follow-up to our project. While we aimed to identify current/potential problem gamblers, future studies can target recovering problem gamblers. In particular, investigating recovering and regressing problem gamblers. \n",
    "\n",
    "### <font color = green> Generalisability: Context </font>\n",
    "To address the issue of generalisability to the Singaporean context, we recommend considering Singaporean oriented forums such as HardwareZone.\n",
    "\n",
    "### <font color = green> Generalisability: Gender </font>\n",
    "On hindsight, there may not be a great impact of this assumption for the Singaporean context. It could be the case that the majority of problem gamblers are indeed male. However, it may be worth checking whether this is indeed the case by searching the records of the NPCG. \n",
    "\n",
    "This is beyond the scope of our project."
   ]
  },
  {
   "cell_type": "markdown",
   "metadata": {},
   "source": [
    "[Back to Content Page](#top)"
   ]
  },
  {
   "cell_type": "code",
   "execution_count": 120,
   "metadata": {},
   "outputs": [
    {
     "name": "stdout",
     "output_type": "stream",
     "text": [
      "Run complete, total time taken ≈ 41.27s\n"
     ]
    }
   ],
   "source": [
    "# Total run time\n",
    "\n",
    "print(f\"Run complete, total time taken \\u2248 {time.time()-t0:.2f}s\")"
   ]
  }
 ],
 "metadata": {
  "kernelspec": {
   "display_name": "Python 3",
   "language": "python",
   "name": "python3"
  },
  "language_info": {
   "codemirror_mode": {
    "name": "ipython",
    "version": 3
   },
   "file_extension": ".py",
   "mimetype": "text/x-python",
   "name": "python",
   "nbconvert_exporter": "python",
   "pygments_lexer": "ipython3",
   "version": "3.7.6"
  }
 },
 "nbformat": 4,
 "nbformat_minor": 2
}
