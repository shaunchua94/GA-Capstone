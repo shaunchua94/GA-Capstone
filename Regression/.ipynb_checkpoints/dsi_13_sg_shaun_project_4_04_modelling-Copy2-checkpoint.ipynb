{
 "cells": [
  {
   "cell_type": "markdown",
   "metadata": {},
   "source": [
    "<img src=\"./images/dsi_13_sg_shaun_project_4_banner.jpg\" width=1000>"
   ]
  },
  {
   "cell_type": "markdown",
   "metadata": {},
   "source": [
    "# Project 4: West Nile Virus Prediction (Modelling)\n",
    "**<font color = blue> Shaun Chua \n",
    "<br> (DSI-13) </font>**\n",
    "\n",
    "---"
   ]
  },
  {
   "cell_type": "markdown",
   "metadata": {},
   "source": [
    "# Table of Contents: <a id=\"top\"></a>\n",
    "[**1. Importing Libraries**](#1)\n",
    "<br> [**2. Importing weather.csv**](#2)\n",
    "<br> [**3. Cleaning weather_df**](#3)\n",
    "<br> &emsp; [3.01 Cleaning: `Station`](#3.01)\n",
    "<br> &emsp; [3.02 Cleaning: `Date`](#3.02)\n",
    "<br> &emsp; [3.03 Cleaning: `Tmax`](#3.03)\n",
    "<br> &emsp; [3.04 Cleaning: `Tmin`](#3.04)\n",
    "<br> &emsp; [3.05 Cleaning: `Tavg`](#3.05)\n",
    "<br> &emsp; [3.06 Cleaning: `Depart`](#3.06)\n",
    "<br> &emsp; [3.07 Cleaning: `DewPoint`](#3.07)\n",
    "<br> &emsp; [3.08 Cleaning: `WetBulb`](#3.08)\n",
    "<br> &emsp; [3.09 Cleaning: `Heat`](#3.09)\n",
    "<br> &emsp; [3.10 Cleaning: `Cool`](#3.10)\n",
    "<br> &emsp; [3.11 Cleaning: `Sunrise`](#3.11)\n",
    "<br> &emsp; [3.12 Cleaning: `Sunset`](#3.12)\n",
    "<br> &emsp; [3.13 Cleaning: `CodeSum`](#3.13)\n",
    "<br> &emsp; [3.14 Cleaning: `Depth`](#3.14)\n",
    "<br> &emsp; [3.15 Cleaning: `Water1`](#3.15)\n",
    "<br> &emsp; [3.16 Cleaning: `SnowFall`](#3.16)\n",
    "<br> &emsp; [3.17 Cleaning: `PrecipTotal`](#3.17)\n",
    "<br> &emsp; [3.18 Cleaning: `StnPressure`](#3.18)\n",
    "<br> &emsp; [3.19 Cleaning: `SeaLevel`](#3.19)\n",
    "<br> &emsp; [3.20 Cleaning: `ResultSpeed`](#3.20)\n",
    "<br> &emsp; [3.21 Cleaning: `ResultDir`](#3.21)\n",
    "<br> &emsp; [3.22 Cleaning: `AvgSpeed`](#3.22)\n",
    "<br> &emsp; [3.23 Post-Cleaning: weather_df](#3.23)\n",
    "<br> [**4. Feature Engineering**](#4)\n",
    "<br> &emsp; [4.1 Relative Humidity](#4.1)\n",
    "<br> &emsp; [4.2 Station Location (Longitude and Latitude)](#4.2)\n",
    "<br> [**5. Exporting Cleaned weather_df**](#5)"
   ]
  },
  {
   "cell_type": "markdown",
   "metadata": {},
   "source": [
    "# 1. Importing Libraries <a id=\"1\"></a>"
   ]
  },
  {
   "cell_type": "code",
   "execution_count": 1,
   "metadata": {},
   "outputs": [
    {
     "name": "stderr",
     "output_type": "stream",
     "text": [
      "Using TensorFlow backend.\n"
     ]
    }
   ],
   "source": [
    "import time\n",
    "import numpy as np\n",
    "import pandas as pd\n",
    "\n",
    "from sklearn.preprocessing import StandardScaler\n",
    "from sklearn.model_selection import train_test_split, GridSearchCV \n",
    "\n",
    "from sklearn import tree\n",
    "from sklearn.tree import DecisionTreeClassifier\n",
    "from sklearn.ensemble import AdaBoostClassifier,GradientBoostingClassifier,RandomForestClassifier\n",
    "from sklearn.svm import SVC\n",
    "\n",
    "from sklearn.decomposition import PCA\n",
    "\n",
    "from sklearn.metrics import confusion_matrix, roc_auc_score\n",
    "\n",
    "from matplotlib.pylab import rcParams\n",
    "\n",
    "from imblearn.combine import SMOTETomek\n",
    "\n",
    "class color:\n",
    "   PURPLE = '\\033[95m'\n",
    "   CYAN = '\\033[96m'\n",
    "   DARKCYAN = '\\033[36m'\n",
    "   BLUE = '\\033[94m'\n",
    "   GREEN = '\\033[92m'\n",
    "   YELLOW = '\\033[93m'\n",
    "   RED = '\\033[91m'\n",
    "   BOLD = '\\033[1m'\n",
    "   UNDERLINE = '\\033[4m'\n",
    "   END = '\\033[0m'"
   ]
  },
  {
   "cell_type": "code",
   "execution_count": 2,
   "metadata": {},
   "outputs": [],
   "source": [
    "# Starting timer for notebook \n",
    "\n",
    "t0 = time.time()"
   ]
  },
  {
   "cell_type": "markdown",
   "metadata": {},
   "source": [
    "# 2. Importing Datasets <a id=\"2\"></a>"
   ]
  },
  {
   "cell_type": "code",
   "execution_count": 3,
   "metadata": {},
   "outputs": [],
   "source": [
    "train_df = pd.read_csv(\"./datasets/train_cleaned_final.csv\")\n",
    "test_df = pd.read_csv(\"./datasets/test_cleaned_final.csv\")"
   ]
  },
  {
   "cell_type": "code",
   "execution_count": 4,
   "metadata": {},
   "outputs": [
    {
     "data": {
      "text/plain": [
       "(8523, 30)"
      ]
     },
     "metadata": {},
     "output_type": "display_data"
    },
    {
     "data": {
      "text/plain": [
       "(116293, 28)"
      ]
     },
     "metadata": {},
     "output_type": "display_data"
    }
   ],
   "source": [
    "display(train_df.shape, test_df.shape)"
   ]
  },
  {
   "cell_type": "markdown",
   "metadata": {},
   "source": [
    "# 3. Preprocessing: `train_df` <a id=\"3\"></a>"
   ]
  },
  {
   "cell_type": "markdown",
   "metadata": {},
   "source": [
    "##### Defining features and target "
   ]
  },
  {
   "cell_type": "code",
   "execution_count": 5,
   "metadata": {},
   "outputs": [],
   "source": [
    "X = train_df.drop(columns=[\"station\",\"wnvpresent\",\"trap\",\"date\",\"Unnamed: 0\",\"nummosquitos\",\"tot_mos_species\"])\n",
    "y = train_df[\"wnvpresent\"]"
   ]
  },
  {
   "cell_type": "code",
   "execution_count": 6,
   "metadata": {
    "scrolled": true
   },
   "outputs": [
    {
     "data": {
      "text/plain": [
       "0    8066\n",
       "1     457\n",
       "Name: wnvpresent, dtype: int64"
      ]
     },
     "execution_count": 6,
     "metadata": {},
     "output_type": "execute_result"
    }
   ],
   "source": [
    "y.value_counts()"
   ]
  },
  {
   "cell_type": "markdown",
   "metadata": {},
   "source": [
    "## 3.1 Using SMOTE to handle Imbalanced Classes"
   ]
  },
  {
   "cell_type": "code",
   "execution_count": 7,
   "metadata": {},
   "outputs": [],
   "source": [
    "# https://imbalanced-learn.readthedocs.io/en/stable/generated/imblearn.combine.SMOTETomek.html \n",
    "\n",
    "smt = SMOTETomek(sampling_strategy=\"auto\",\n",
    "                 random_state=42)\n",
    "\n",
    "X_smt, y_smt = smt.fit_sample(X, y)"
   ]
  },
  {
   "cell_type": "code",
   "execution_count": 8,
   "metadata": {},
   "outputs": [
    {
     "data": {
      "text/plain": [
       "(15722, 23)"
      ]
     },
     "metadata": {},
     "output_type": "display_data"
    },
    {
     "data": {
      "text/plain": [
       "(15722,)"
      ]
     },
     "metadata": {},
     "output_type": "display_data"
    }
   ],
   "source": [
    "# Shaun: Cool, so SMOTE helps me balance it to 50-50\n",
    "\n",
    "display(X_smt.shape, y_smt.shape)"
   ]
  },
  {
   "cell_type": "markdown",
   "metadata": {},
   "source": [
    "# 4. Baseline Accuracy <a id=\"4\"></a>"
   ]
  },
  {
   "cell_type": "code",
   "execution_count": 9,
   "metadata": {},
   "outputs": [
    {
     "data": {
      "text/plain": [
       "1    0.5\n",
       "0    0.5\n",
       "Name: wnvpresent, dtype: float64"
      ]
     },
     "execution_count": 9,
     "metadata": {},
     "output_type": "execute_result"
    }
   ],
   "source": [
    "baseline_score = y_smt.value_counts(normalize=True)\n",
    "baseline_score"
   ]
  },
  {
   "cell_type": "markdown",
   "metadata": {},
   "source": [
    "##### Storing Baseline Score in Series, to merge with metrics Dataframe later"
   ]
  },
  {
   "cell_type": "code",
   "execution_count": 10,
   "metadata": {},
   "outputs": [
    {
     "data": {
      "text/plain": [
       "Accuracy    0.5\n",
       "NaN         NaN\n",
       "NaN         NaN\n",
       "NaN         NaN\n",
       "Name: Baseline, dtype: object"
      ]
     },
     "execution_count": 10,
     "metadata": {},
     "output_type": "execute_result"
    }
   ],
   "source": [
    "baseline_score_series = pd.Series(data=[baseline_score[1], \n",
    "                                        \"NaN\", \n",
    "                                        \"NaN\", \n",
    "                                        \"NaN\"],\n",
    "                                  \n",
    "                                  index=[\"Accuracy\", \n",
    "                                         \"NaN\", \n",
    "                                         \"NaN\", \n",
    "                                         \"NaN\"],\n",
    "                                  \n",
    "                                  name=\"Baseline\")\n",
    "\n",
    "baseline_score_series"
   ]
  },
  {
   "cell_type": "code",
   "execution_count": 11,
   "metadata": {},
   "outputs": [],
   "source": [
    "#Shaun: Using the correct lingo? \"Train\" and \"Validation\", cost test is different thing\n",
    "\n",
    "X_train, X_val, y_train, y_val = train_test_split(X_smt, y_smt, random_state=42, stratify=y_smt) "
   ]
  },
  {
   "cell_type": "markdown",
   "metadata": {},
   "source": [
    "# 5. Modelling <a id=\"5\"></a>"
   ]
  },
  {
   "cell_type": "markdown",
   "metadata": {},
   "source": [
    "## 5.1 Decision Tree Classifier <a id=\"5.1\"></a>"
   ]
  },
  {
   "cell_type": "code",
   "execution_count": 12,
   "metadata": {},
   "outputs": [],
   "source": [
    "# Instantiating the classifier\n",
    "dt = DecisionTreeClassifier() "
   ]
  },
  {
   "cell_type": "markdown",
   "metadata": {},
   "source": [
    "##### Hyperparameter Tuning"
   ]
  },
  {
   "cell_type": "code",
   "execution_count": 13,
   "metadata": {},
   "outputs": [],
   "source": [
    "# Finding best parameter for classifier\n",
    "\n",
    "dt_optimised = GridSearchCV(estimator=DecisionTreeClassifier(),\n",
    "                            param_grid = {'max_depth':[3, 6, 8],\n",
    "                                          'min_samples_split' :[3, 6, 9, 12],\n",
    "                                          'min_samples_leaf':[2, 4, 6, 8]},\n",
    "                            cv=3)"
   ]
  },
  {
   "cell_type": "code",
   "execution_count": 14,
   "metadata": {},
   "outputs": [
    {
     "data": {
      "text/plain": [
       "GridSearchCV(cv=3, error_score=nan,\n",
       "             estimator=DecisionTreeClassifier(ccp_alpha=0.0, class_weight=None,\n",
       "                                              criterion='gini', max_depth=None,\n",
       "                                              max_features=None,\n",
       "                                              max_leaf_nodes=None,\n",
       "                                              min_impurity_decrease=0.0,\n",
       "                                              min_impurity_split=None,\n",
       "                                              min_samples_leaf=1,\n",
       "                                              min_samples_split=2,\n",
       "                                              min_weight_fraction_leaf=0.0,\n",
       "                                              presort='deprecated',\n",
       "                                              random_state=None,\n",
       "                                              splitter='best'),\n",
       "             iid='deprecated', n_jobs=None,\n",
       "             param_grid={'max_depth': [3, 6, 8],\n",
       "                         'min_samples_leaf': [2, 4, 6, 8],\n",
       "                         'min_samples_split': [3, 6, 9, 12]},\n",
       "             pre_dispatch='2*n_jobs', refit=True, return_train_score=False,\n",
       "             scoring=None, verbose=0)"
      ]
     },
     "execution_count": 14,
     "metadata": {},
     "output_type": "execute_result"
    }
   ],
   "source": [
    "dt_optimised.fit(X_train, y_train)"
   ]
  },
  {
   "cell_type": "markdown",
   "metadata": {},
   "source": [
    "##### Summary of Hyperparameter Tuning"
   ]
  },
  {
   "cell_type": "code",
   "execution_count": 15,
   "metadata": {},
   "outputs": [
    {
     "data": {
      "text/plain": [
       "{'max_depth': 8, 'min_samples_leaf': 4, 'min_samples_split': 9}"
      ]
     },
     "metadata": {},
     "output_type": "display_data"
    },
    {
     "data": {
      "text/plain": [
       "array([0, 0, 0, ..., 1, 0, 1], dtype=int64)"
      ]
     },
     "metadata": {},
     "output_type": "display_data"
    }
   ],
   "source": [
    "# Best score possible, with above param_grid\n",
    "dt_optimised_accuracy = dt_optimised.best_score_\n",
    "\n",
    "# Best parameters that returned that score\n",
    "dt_optimised_best_params = dt_optimised.best_params_\n",
    "\n",
    "# Predicting Y using X_text (for confusion matrix later)\n",
    "dt_optimised_ypred = dt_optimised.predict(X_val)\n",
    "\n",
    "# ROC AUC Score\n",
    "dt_optimised_roc_score = roc_auc_score(y_val, dt_optimised_ypred)\n",
    "\n",
    "display(dt_optimised_best_params)\n",
    "display(dt_optimised_ypred)"
   ]
  },
  {
   "cell_type": "markdown",
   "metadata": {},
   "source": [
    "##### Classification Metrics for Decision Tree Classifier"
   ]
  },
  {
   "cell_type": "code",
   "execution_count": 16,
   "metadata": {},
   "outputs": [
    {
     "name": "stdout",
     "output_type": "stream",
     "text": [
      "The Accuracy Score for the \u001b[1mOptimised Decision Tree\u001b[0m is 0.8513274683800218\n",
      "The Sensitivity Score for the \u001b[1mOptimised Decision Tree\u001b[0m is 0.9190839694656489\n",
      "The Specificity Score for the \u001b[1mOptimised Decision Tree\u001b[0m is 0.78382502543235\n",
      "The ROC AUC Score for the \u001b[1mOptimised Decision Tree\u001b[0m is 0.8514544974489995\n"
     ]
    }
   ],
   "source": [
    "cm_dt_optimised = confusion_matrix(y_val, dt_optimised_ypred)\n",
    "tn_dt_optimised, fp_dt_optimised, fn_dt_optimised, tp_dt_optimised = cm_dt_optimised.ravel()\n",
    "\n",
    "dt_optimised_sensitivity = tp_dt_optimised/(tp_dt_optimised+fn_dt_optimised)\n",
    "dt_optimised_specificity = tn_dt_optimised/(tn_dt_optimised+fp_dt_optimised)\n",
    "\n",
    "print(\"The Accuracy Score for the\", color.BOLD + \"Optimised Decision Tree\" + color.END, f\"is {dt_optimised_accuracy}\")\n",
    "print(\"The Sensitivity Score for the\", color.BOLD + \"Optimised Decision Tree\" + color.END, f\"is {dt_optimised_sensitivity}\")\n",
    "print(\"The Specificity Score for the\", color.BOLD + \"Optimised Decision Tree\" + color.END, f\"is {dt_optimised_specificity}\")\n",
    "print(\"The ROC AUC Score for the\", color.BOLD + \"Optimised Decision Tree\" + color.END, f\"is {dt_optimised_roc_score}\")"
   ]
  },
  {
   "cell_type": "markdown",
   "metadata": {},
   "source": [
    "##### Saving Decision Tree Metrics into a Dataframe"
   ]
  },
  {
   "cell_type": "code",
   "execution_count": 17,
   "metadata": {},
   "outputs": [
    {
     "data": {
      "text/html": [
       "<div>\n",
       "<style scoped>\n",
       "    .dataframe tbody tr th:only-of-type {\n",
       "        vertical-align: middle;\n",
       "    }\n",
       "\n",
       "    .dataframe tbody tr th {\n",
       "        vertical-align: top;\n",
       "    }\n",
       "\n",
       "    .dataframe thead th {\n",
       "        text-align: right;\n",
       "    }\n",
       "</style>\n",
       "<table border=\"1\" class=\"dataframe\">\n",
       "  <thead>\n",
       "    <tr style=\"text-align: right;\">\n",
       "      <th></th>\n",
       "      <th>Optimised Decision Tree</th>\n",
       "    </tr>\n",
       "  </thead>\n",
       "  <tbody>\n",
       "    <tr>\n",
       "      <th>Accuracy</th>\n",
       "      <td>0.851327</td>\n",
       "    </tr>\n",
       "    <tr>\n",
       "      <th>Sensitivity (TPR)</th>\n",
       "      <td>0.919084</td>\n",
       "    </tr>\n",
       "    <tr>\n",
       "      <th>Specificity (TNR)</th>\n",
       "      <td>0.783825</td>\n",
       "    </tr>\n",
       "    <tr>\n",
       "      <th>ROC AUC Score</th>\n",
       "      <td>0.851454</td>\n",
       "    </tr>\n",
       "  </tbody>\n",
       "</table>\n",
       "</div>"
      ],
      "text/plain": [
       "                   Optimised Decision Tree\n",
       "Accuracy                          0.851327\n",
       "Sensitivity (TPR)                 0.919084\n",
       "Specificity (TNR)                 0.783825\n",
       "ROC AUC Score                     0.851454"
      ]
     },
     "execution_count": 17,
     "metadata": {},
     "output_type": "execute_result"
    }
   ],
   "source": [
    "metrics_df = pd.DataFrame(data=[dt_optimised_accuracy, \n",
    "                                dt_optimised_sensitivity, \n",
    "                                dt_optimised_specificity, \n",
    "                                dt_optimised_roc_score],\n",
    "                          \n",
    "                          index=[\"Accuracy\", \n",
    "                                 \"Sensitivity (TPR)\", \n",
    "                                 \"Specificity (TNR)\", \n",
    "                                 \"ROC AUC Score\"], \n",
    "                          \n",
    "                           columns=[\"Optimised Decision Tree\"])\n",
    "\n",
    "metrics_df"
   ]
  },
  {
   "cell_type": "markdown",
   "metadata": {},
   "source": [
    "## 5.2 Random Forest Classifier <a id=\"5.2\"></a>"
   ]
  },
  {
   "cell_type": "code",
   "execution_count": 18,
   "metadata": {},
   "outputs": [],
   "source": [
    "# Instantiating the classifier\n",
    "rfc = RandomForestClassifier()"
   ]
  },
  {
   "cell_type": "markdown",
   "metadata": {},
   "source": [
    "##### Hyperparameter Tuning"
   ]
  },
  {
   "cell_type": "code",
   "execution_count": 19,
   "metadata": {},
   "outputs": [],
   "source": [
    "# Finding best parameters for rfc\n",
    "\n",
    "rfc_optimised = GridSearchCV(estimator = rfc,\n",
    "                             param_grid ={'n_estimators': [100, 150, 200],\n",
    "                                          'max_depth': [None, 1, 2, 3, 4, 5],}, \n",
    "                             cv=3)"
   ]
  },
  {
   "cell_type": "code",
   "execution_count": 20,
   "metadata": {},
   "outputs": [
    {
     "data": {
      "text/plain": [
       "GridSearchCV(cv=3, error_score=nan,\n",
       "             estimator=RandomForestClassifier(bootstrap=True, ccp_alpha=0.0,\n",
       "                                              class_weight=None,\n",
       "                                              criterion='gini', max_depth=None,\n",
       "                                              max_features='auto',\n",
       "                                              max_leaf_nodes=None,\n",
       "                                              max_samples=None,\n",
       "                                              min_impurity_decrease=0.0,\n",
       "                                              min_impurity_split=None,\n",
       "                                              min_samples_leaf=1,\n",
       "                                              min_samples_split=2,\n",
       "                                              min_weight_fraction_leaf=0.0,\n",
       "                                              n_estimators=100, n_jobs=None,\n",
       "                                              oob_score=False,\n",
       "                                              random_state=None, verbose=0,\n",
       "                                              warm_start=False),\n",
       "             iid='deprecated', n_jobs=None,\n",
       "             param_grid={'max_depth': [None, 1, 2, 3, 4, 5],\n",
       "                         'n_estimators': [100, 150, 200]},\n",
       "             pre_dispatch='2*n_jobs', refit=True, return_train_score=False,\n",
       "             scoring=None, verbose=0)"
      ]
     },
     "execution_count": 20,
     "metadata": {},
     "output_type": "execute_result"
    }
   ],
   "source": [
    "rfc_optimised.fit(X_train, y_train)"
   ]
  },
  {
   "cell_type": "markdown",
   "metadata": {},
   "source": [
    "##### Summary of Hyperparameter Tuning"
   ]
  },
  {
   "cell_type": "code",
   "execution_count": 21,
   "metadata": {},
   "outputs": [
    {
     "data": {
      "text/plain": [
       "{'max_depth': None, 'n_estimators': 150}"
      ]
     },
     "metadata": {},
     "output_type": "display_data"
    },
    {
     "data": {
      "text/plain": [
       "array([0, 0, 0, ..., 0, 0, 1], dtype=int64)"
      ]
     },
     "metadata": {},
     "output_type": "display_data"
    }
   ],
   "source": [
    "# Best score possible, with above param_grid\n",
    "rfc_optimised_accuracy = rfc_optimised.best_score_\n",
    "\n",
    "# Best parameters that returned that score\n",
    "rfc_optimised_best_params = rfc_optimised.best_params_\n",
    "\n",
    "# Predicting Y using X_text (for confusion matrix later)\n",
    "rfc_optimised_ypred = rfc_optimised.predict(X_val)\n",
    "\n",
    "# ROC AUC Score\n",
    "rfc_optimised_roc_score = roc_auc_score(y_val, rfc_optimised_ypred)\n",
    "\n",
    "display(rfc_optimised_best_params)\n",
    "display(rfc_optimised_ypred)"
   ]
  },
  {
   "cell_type": "markdown",
   "metadata": {},
   "source": [
    "##### Classification Metrics for Random Forest Classifier"
   ]
  },
  {
   "cell_type": "code",
   "execution_count": 22,
   "metadata": {},
   "outputs": [
    {
     "name": "stdout",
     "output_type": "stream",
     "text": [
      "The Accuracy Score for the \u001b[1mOptimised Random Forest Classifer\u001b[0m is 0.9296071611895528\n",
      "The Sensitivity Score for the \u001b[1mOptimised Random Forest Classifer\u001b[0m is 0.9669211195928753\n",
      "The Specificity Score for the \u001b[1mOptimised Random Forest Classifer\u001b[0m is 0.9211597151576806\n",
      "The ROC AUC Score for the \u001b[1mOptimised Random Forest Classifer\u001b[0m is 0.944040417375278\n"
     ]
    }
   ],
   "source": [
    "cm_rfc_optimised = confusion_matrix(y_val, rfc_optimised_ypred)\n",
    "tn_rfc_optimised, fp_rfc_optimised, fn_rfc_optimised, tp_rfc_optimised = cm_rfc_optimised.ravel()\n",
    "\n",
    "rfc_optimised_sensitivity = tp_rfc_optimised/(tp_rfc_optimised+fn_rfc_optimised)\n",
    "rfc_optimised_specificity = tn_rfc_optimised/(tn_rfc_optimised+fp_rfc_optimised)\n",
    "\n",
    "print(\"The Accuracy Score for the\", color.BOLD + \"Optimised Random Forest Classifer\" + color.END, f\"is {rfc_optimised_accuracy}\")\n",
    "print(\"The Sensitivity Score for the\", color.BOLD + \"Optimised Random Forest Classifer\" + color.END, f\"is {rfc_optimised_sensitivity}\")\n",
    "print(\"The Specificity Score for the\", color.BOLD + \"Optimised Random Forest Classifer\" + color.END, f\"is {rfc_optimised_specificity}\")\n",
    "print(\"The ROC AUC Score for the\", color.BOLD + \"Optimised Random Forest Classifer\" + color.END, f\"is {rfc_optimised_roc_score}\")"
   ]
  },
  {
   "cell_type": "markdown",
   "metadata": {},
   "source": [
    "##### Saving Random Forest Classification Metrics into a Dataframe"
   ]
  },
  {
   "cell_type": "code",
   "execution_count": 23,
   "metadata": {},
   "outputs": [
    {
     "data": {
      "text/html": [
       "<div>\n",
       "<style scoped>\n",
       "    .dataframe tbody tr th:only-of-type {\n",
       "        vertical-align: middle;\n",
       "    }\n",
       "\n",
       "    .dataframe tbody tr th {\n",
       "        vertical-align: top;\n",
       "    }\n",
       "\n",
       "    .dataframe thead th {\n",
       "        text-align: right;\n",
       "    }\n",
       "</style>\n",
       "<table border=\"1\" class=\"dataframe\">\n",
       "  <thead>\n",
       "    <tr style=\"text-align: right;\">\n",
       "      <th></th>\n",
       "      <th>Optimised Decision Tree</th>\n",
       "      <th>Optimised Random Forest Classifier</th>\n",
       "    </tr>\n",
       "  </thead>\n",
       "  <tbody>\n",
       "    <tr>\n",
       "      <th>Accuracy</th>\n",
       "      <td>0.851327</td>\n",
       "      <td>0.929607</td>\n",
       "    </tr>\n",
       "    <tr>\n",
       "      <th>Sensitivity (TPR)</th>\n",
       "      <td>0.919084</td>\n",
       "      <td>0.966921</td>\n",
       "    </tr>\n",
       "    <tr>\n",
       "      <th>Specificity (TNR)</th>\n",
       "      <td>0.783825</td>\n",
       "      <td>0.921160</td>\n",
       "    </tr>\n",
       "    <tr>\n",
       "      <th>ROC AUC Score</th>\n",
       "      <td>0.851454</td>\n",
       "      <td>0.944040</td>\n",
       "    </tr>\n",
       "  </tbody>\n",
       "</table>\n",
       "</div>"
      ],
      "text/plain": [
       "                   Optimised Decision Tree  Optimised Random Forest Classifier\n",
       "Accuracy                          0.851327                            0.929607\n",
       "Sensitivity (TPR)                 0.919084                            0.966921\n",
       "Specificity (TNR)                 0.783825                            0.921160\n",
       "ROC AUC Score                     0.851454                            0.944040"
      ]
     },
     "execution_count": 23,
     "metadata": {},
     "output_type": "execute_result"
    }
   ],
   "source": [
    "optimised_rfc_metrics_df = pd.DataFrame(data=[rfc_optimised_accuracy, \n",
    "                                       rfc_optimised_sensitivity, \n",
    "                                       rfc_optimised_specificity, \n",
    "                                       rfc_optimised_roc_score],\n",
    "                          \n",
    "                                 index=[\"Accuracy\", \n",
    "                                        \"Sensitivity (TPR)\", \n",
    "                                        \"Specificity (TNR)\", \n",
    "                                        \"ROC AUC Score\"], \n",
    "                          \n",
    "                                 columns=[\"Optimised Random Forest Classifier\"])\n",
    "\n",
    "metrics_df = metrics_df.join(optimised_rfc_metrics_df)\n",
    "metrics_df"
   ]
  },
  {
   "cell_type": "markdown",
   "metadata": {},
   "source": [
    "## 5.3 AdaBoost Classifier <a id=\"5.3\"></a>"
   ]
  },
  {
   "cell_type": "code",
   "execution_count": 24,
   "metadata": {},
   "outputs": [],
   "source": [
    "# Instantiating the classifier (Taken from 6.04)\n",
    "\n",
    "ada = AdaBoostClassifier(base_estimator=DecisionTreeClassifier())   "
   ]
  },
  {
   "cell_type": "markdown",
   "metadata": {},
   "source": [
    "##### Hyperparameter Tuning"
   ]
  },
  {
   "cell_type": "code",
   "execution_count": 25,
   "metadata": {},
   "outputs": [],
   "source": [
    "# Finding best parameter for model\n",
    "\n",
    "ada_optimised = GridSearchCV(estimator=ada, \n",
    "                             param_grid={'n_estimators':[50,100],\n",
    "                                         'learning_rate' : [0.9,1],\n",
    "                                         'base_estimator__max_depth': [1,2,3]},\n",
    "                             cv=3)"
   ]
  },
  {
   "cell_type": "code",
   "execution_count": 26,
   "metadata": {},
   "outputs": [
    {
     "data": {
      "text/plain": [
       "GridSearchCV(cv=3, error_score=nan,\n",
       "             estimator=AdaBoostClassifier(algorithm='SAMME.R',\n",
       "                                          base_estimator=DecisionTreeClassifier(ccp_alpha=0.0,\n",
       "                                                                                class_weight=None,\n",
       "                                                                                criterion='gini',\n",
       "                                                                                max_depth=None,\n",
       "                                                                                max_features=None,\n",
       "                                                                                max_leaf_nodes=None,\n",
       "                                                                                min_impurity_decrease=0.0,\n",
       "                                                                                min_impurity_split=None,\n",
       "                                                                                min_samples_leaf=1,\n",
       "                                                                                min_samples_split=2,\n",
       "                                                                                min_weight_fraction_leaf=0.0,\n",
       "                                                                                presort='deprecated',\n",
       "                                                                                random_state=None,\n",
       "                                                                                splitter='best'),\n",
       "                                          learning_rate=1.0, n_estimators=50,\n",
       "                                          random_state=None),\n",
       "             iid='deprecated', n_jobs=None,\n",
       "             param_grid={'base_estimator__max_depth': [1, 2, 3],\n",
       "                         'learning_rate': [0.9, 1], 'n_estimators': [50, 100]},\n",
       "             pre_dispatch='2*n_jobs', refit=True, return_train_score=False,\n",
       "             scoring=None, verbose=0)"
      ]
     },
     "execution_count": 26,
     "metadata": {},
     "output_type": "execute_result"
    }
   ],
   "source": [
    "ada_optimised.fit(X_train, y_train)"
   ]
  },
  {
   "cell_type": "markdown",
   "metadata": {},
   "source": [
    "##### Summary of Hyperparameter Tuning"
   ]
  },
  {
   "cell_type": "code",
   "execution_count": 27,
   "metadata": {},
   "outputs": [
    {
     "data": {
      "text/plain": [
       "{'base_estimator__max_depth': 3, 'learning_rate': 1, 'n_estimators': 100}"
      ]
     },
     "metadata": {},
     "output_type": "display_data"
    },
    {
     "data": {
      "text/plain": [
       "array([0, 0, 0, ..., 0, 0, 1], dtype=int64)"
      ]
     },
     "metadata": {},
     "output_type": "display_data"
    }
   ],
   "source": [
    "# Best score possible, with above param_grid\n",
    "ada_optimised_accuracy = ada_optimised.best_score_\n",
    "\n",
    "# Best parameters that returned that score\n",
    "ada_optimised_best_params = ada_optimised.best_params_\n",
    "\n",
    "# Predicting Y using X_text (for confusion matrix later)\n",
    "ada_optimised_ypred = ada_optimised.predict(X_val)\n",
    "\n",
    "# ROC AUC Score\n",
    "ada_optimised_roc_score = roc_auc_score(y_val, ada_optimised_ypred)\n",
    "\n",
    "display(ada_optimised_best_params)\n",
    "display(ada_optimised_ypred)"
   ]
  },
  {
   "cell_type": "markdown",
   "metadata": {},
   "source": [
    "##### Classification Metrics for AdaBoost Classifier"
   ]
  },
  {
   "cell_type": "code",
   "execution_count": 28,
   "metadata": {},
   "outputs": [
    {
     "name": "stdout",
     "output_type": "stream",
     "text": [
      "The Accuracy Score for the \u001b[1mOptimised AdaBoost Classifer\u001b[0m is 0.9408020111123842\n",
      "The Sensitivity Score for the \u001b[1mOptimised AdaBoost Classifer\u001b[0m is 0.9450381679389313\n",
      "The Specificity Score for the \u001b[1mOptimised AdaBoost Classifer\u001b[0m is 0.9491353001017294\n",
      "The ROC AUC Score for the \u001b[1mOptimised AdaBoost Classifer\u001b[0m is 0.9470867340203304\n"
     ]
    }
   ],
   "source": [
    "cm_ada_optimised = confusion_matrix(y_val, ada_optimised_ypred)\n",
    "tn_ada_optimised, fp_ada_optimised, fn_ada_optimised, tp_ada_optimised = cm_ada_optimised.ravel()\n",
    "\n",
    "ada_optimised_sensitivity = tp_ada_optimised/(tp_ada_optimised+fn_ada_optimised)\n",
    "ada_optimised_specificity = tn_ada_optimised/(tn_ada_optimised+fp_ada_optimised)\n",
    "\n",
    "print(\"The Accuracy Score for the\", color.BOLD + \"Optimised AdaBoost Classifer\" + color.END, f\"is {ada_optimised_accuracy}\")\n",
    "print(\"The Sensitivity Score for the\", color.BOLD + \"Optimised AdaBoost Classifer\" + color.END, f\"is {ada_optimised_sensitivity}\")\n",
    "print(\"The Specificity Score for the\", color.BOLD + \"Optimised AdaBoost Classifer\" + color.END, f\"is {ada_optimised_specificity}\")\n",
    "print(\"The ROC AUC Score for the\", color.BOLD + \"Optimised AdaBoost Classifer\" + color.END, f\"is {ada_optimised_roc_score}\")"
   ]
  },
  {
   "cell_type": "markdown",
   "metadata": {},
   "source": [
    "##### Saving AdaBoost Classification Metrics into a Dataframe"
   ]
  },
  {
   "cell_type": "code",
   "execution_count": 29,
   "metadata": {},
   "outputs": [
    {
     "data": {
      "text/html": [
       "<div>\n",
       "<style scoped>\n",
       "    .dataframe tbody tr th:only-of-type {\n",
       "        vertical-align: middle;\n",
       "    }\n",
       "\n",
       "    .dataframe tbody tr th {\n",
       "        vertical-align: top;\n",
       "    }\n",
       "\n",
       "    .dataframe thead th {\n",
       "        text-align: right;\n",
       "    }\n",
       "</style>\n",
       "<table border=\"1\" class=\"dataframe\">\n",
       "  <thead>\n",
       "    <tr style=\"text-align: right;\">\n",
       "      <th></th>\n",
       "      <th>Optimised Decision Tree</th>\n",
       "      <th>Optimised Random Forest Classifier</th>\n",
       "      <th>Optimised AdaBoost Classifier</th>\n",
       "    </tr>\n",
       "  </thead>\n",
       "  <tbody>\n",
       "    <tr>\n",
       "      <th>Accuracy</th>\n",
       "      <td>0.851327</td>\n",
       "      <td>0.929607</td>\n",
       "      <td>0.940802</td>\n",
       "    </tr>\n",
       "    <tr>\n",
       "      <th>Sensitivity (TPR)</th>\n",
       "      <td>0.919084</td>\n",
       "      <td>0.966921</td>\n",
       "      <td>0.945038</td>\n",
       "    </tr>\n",
       "    <tr>\n",
       "      <th>Specificity (TNR)</th>\n",
       "      <td>0.783825</td>\n",
       "      <td>0.921160</td>\n",
       "      <td>0.949135</td>\n",
       "    </tr>\n",
       "    <tr>\n",
       "      <th>ROC AUC Score</th>\n",
       "      <td>0.851454</td>\n",
       "      <td>0.944040</td>\n",
       "      <td>0.947087</td>\n",
       "    </tr>\n",
       "  </tbody>\n",
       "</table>\n",
       "</div>"
      ],
      "text/plain": [
       "                   Optimised Decision Tree  \\\n",
       "Accuracy                          0.851327   \n",
       "Sensitivity (TPR)                 0.919084   \n",
       "Specificity (TNR)                 0.783825   \n",
       "ROC AUC Score                     0.851454   \n",
       "\n",
       "                   Optimised Random Forest Classifier  \\\n",
       "Accuracy                                     0.929607   \n",
       "Sensitivity (TPR)                            0.966921   \n",
       "Specificity (TNR)                            0.921160   \n",
       "ROC AUC Score                                0.944040   \n",
       "\n",
       "                   Optimised AdaBoost Classifier  \n",
       "Accuracy                                0.940802  \n",
       "Sensitivity (TPR)                       0.945038  \n",
       "Specificity (TNR)                       0.949135  \n",
       "ROC AUC Score                           0.947087  "
      ]
     },
     "execution_count": 29,
     "metadata": {},
     "output_type": "execute_result"
    }
   ],
   "source": [
    "optimised_ada_metrics_df = pd.DataFrame(data=[ada_optimised_accuracy, \n",
    "                                       ada_optimised_sensitivity, \n",
    "                                       ada_optimised_specificity, \n",
    "                                       ada_optimised_roc_score],\n",
    "                          \n",
    "                                 index=[\"Accuracy\", \n",
    "                                        \"Sensitivity (TPR)\", \n",
    "                                        \"Specificity (TNR)\", \n",
    "                                        \"ROC AUC Score\"], \n",
    "                          \n",
    "                                 columns=[\"Optimised AdaBoost Classifier\"])\n",
    "\n",
    "metrics_df = metrics_df.join(optimised_ada_metrics_df)\n",
    "metrics_df"
   ]
  },
  {
   "cell_type": "markdown",
   "metadata": {},
   "source": [
    "## 5.4 Gradient Boosting Classifier <a id=\"5.4\"></a>"
   ]
  },
  {
   "cell_type": "code",
   "execution_count": 30,
   "metadata": {},
   "outputs": [],
   "source": [
    "# Instantiating the Classifier\n",
    "\n",
    "gbc = GradientBoostingClassifier()"
   ]
  },
  {
   "cell_type": "markdown",
   "metadata": {},
   "source": [
    "##### Hyperparameter Tuning"
   ]
  },
  {
   "cell_type": "code",
   "execution_count": 31,
   "metadata": {},
   "outputs": [],
   "source": [
    "# Finding best parameter for model\n",
    "\n",
    "gbc_optimised = GridSearchCV(estimator=gbc, \n",
    "                             param_grid={\"max_depth\": [2,3,4],\n",
    "                                         \"n_estimators\": [100, 125, 150],\n",
    "                                         \"learning_rate\": [.08, .1, .12]},\n",
    "                             cv=3)"
   ]
  },
  {
   "cell_type": "code",
   "execution_count": 32,
   "metadata": {},
   "outputs": [
    {
     "data": {
      "text/plain": [
       "GridSearchCV(cv=3, error_score=nan,\n",
       "             estimator=GradientBoostingClassifier(ccp_alpha=0.0,\n",
       "                                                  criterion='friedman_mse',\n",
       "                                                  init=None, learning_rate=0.1,\n",
       "                                                  loss='deviance', max_depth=3,\n",
       "                                                  max_features=None,\n",
       "                                                  max_leaf_nodes=None,\n",
       "                                                  min_impurity_decrease=0.0,\n",
       "                                                  min_impurity_split=None,\n",
       "                                                  min_samples_leaf=1,\n",
       "                                                  min_samples_split=2,\n",
       "                                                  min_weight_fraction_leaf=0.0,\n",
       "                                                  n_estimators=100,\n",
       "                                                  n_iter_no_change=None,\n",
       "                                                  presort='deprecated',\n",
       "                                                  random_state=None,\n",
       "                                                  subsample=1.0, tol=0.0001,\n",
       "                                                  validation_fraction=0.1,\n",
       "                                                  verbose=0, warm_start=False),\n",
       "             iid='deprecated', n_jobs=None,\n",
       "             param_grid={'learning_rate': [0.08, 0.1, 0.12],\n",
       "                         'max_depth': [2, 3, 4],\n",
       "                         'n_estimators': [100, 125, 150]},\n",
       "             pre_dispatch='2*n_jobs', refit=True, return_train_score=False,\n",
       "             scoring=None, verbose=0)"
      ]
     },
     "execution_count": 32,
     "metadata": {},
     "output_type": "execute_result"
    }
   ],
   "source": [
    "gbc_optimised.fit(X_train, y_train)"
   ]
  },
  {
   "cell_type": "markdown",
   "metadata": {},
   "source": [
    "##### Summary of Hyperparameter Tuning"
   ]
  },
  {
   "cell_type": "code",
   "execution_count": 33,
   "metadata": {},
   "outputs": [
    {
     "data": {
      "text/plain": [
       "{'learning_rate': 0.12, 'max_depth': 4, 'n_estimators': 150}"
      ]
     },
     "metadata": {},
     "output_type": "display_data"
    },
    {
     "data": {
      "text/plain": [
       "array([0, 0, 0, ..., 0, 0, 1], dtype=int64)"
      ]
     },
     "metadata": {},
     "output_type": "display_data"
    }
   ],
   "source": [
    "# Best score possible, with above param_grid\n",
    "gbc_optimised_accuracy = gbc_optimised.best_score_\n",
    "\n",
    "# Best parameters that returned that score\n",
    "gbc_optimised_best_params = gbc_optimised.best_params_\n",
    "\n",
    "# Predicting Y using X_text (for confusion matrix later)\n",
    "gbc_optimised_ypred = gbc_optimised.predict(X_val)\n",
    "\n",
    "# ROC AUC Score\n",
    "gbc_optimised_roc_score = roc_auc_score(y_val, gbc_optimised_ypred)\n",
    "\n",
    "display(gbc_optimised_best_params)\n",
    "display(gbc_optimised_ypred)"
   ]
  },
  {
   "cell_type": "markdown",
   "metadata": {},
   "source": [
    "##### Classification Metrics for Gradient Boosting Classifier"
   ]
  },
  {
   "cell_type": "code",
   "execution_count": 34,
   "metadata": {},
   "outputs": [
    {
     "name": "stdout",
     "output_type": "stream",
     "text": [
      "The Accuracy Score for the \u001b[1mOptimised Gradient Boosting Classifer\u001b[0m is 0.9197693719632274\n",
      "The Sensitivity Score for the \u001b[1mOptimised Gradient Boosting Classifer\u001b[0m is 0.9536895674300254\n",
      "The Specificity Score for the \u001b[1mOptimised Gradient Boosting Classifer\u001b[0m is 0.8952187182095626\n",
      "The ROC AUC Score for the \u001b[1mOptimised Gradient Boosting Classifer\u001b[0m is 0.924454142819794\n"
     ]
    }
   ],
   "source": [
    "cm_gbc_optimised = confusion_matrix(y_val, gbc_optimised_ypred)\n",
    "tn_gbc_optimised, fp_gbc_optimised, fn_gbc_optimised, tp_gbc_optimised = cm_gbc_optimised.ravel()\n",
    "\n",
    "gbc_optimised_sensitivity = tp_gbc_optimised/(tp_ada_optimised+fn_ada_optimised)\n",
    "gbc_optimised_specificity = tn_gbc_optimised/(tn_ada_optimised+fp_ada_optimised)\n",
    "\n",
    "print(\"The Accuracy Score for the\", color.BOLD + \"Optimised Gradient Boosting Classifer\" + color.END, f\"is {gbc_optimised_accuracy}\")\n",
    "print(\"The Sensitivity Score for the\", color.BOLD + \"Optimised Gradient Boosting Classifer\" + color.END, f\"is {gbc_optimised_sensitivity}\")\n",
    "print(\"The Specificity Score for the\", color.BOLD + \"Optimised Gradient Boosting Classifer\" + color.END, f\"is {gbc_optimised_specificity}\")\n",
    "print(\"The ROC AUC Score for the\", color.BOLD + \"Optimised Gradient Boosting Classifer\" + color.END, f\"is {gbc_optimised_roc_score}\")"
   ]
  },
  {
   "cell_type": "markdown",
   "metadata": {},
   "source": [
    "##### Saving Gradient Boosting Classification Metrics into a Dataframe"
   ]
  },
  {
   "cell_type": "code",
   "execution_count": 35,
   "metadata": {},
   "outputs": [
    {
     "data": {
      "text/html": [
       "<div>\n",
       "<style scoped>\n",
       "    .dataframe tbody tr th:only-of-type {\n",
       "        vertical-align: middle;\n",
       "    }\n",
       "\n",
       "    .dataframe tbody tr th {\n",
       "        vertical-align: top;\n",
       "    }\n",
       "\n",
       "    .dataframe thead th {\n",
       "        text-align: right;\n",
       "    }\n",
       "</style>\n",
       "<table border=\"1\" class=\"dataframe\">\n",
       "  <thead>\n",
       "    <tr style=\"text-align: right;\">\n",
       "      <th></th>\n",
       "      <th>Optimised Decision Tree</th>\n",
       "      <th>Optimised Random Forest Classifier</th>\n",
       "      <th>Optimised AdaBoost Classifier</th>\n",
       "      <th>Optimised Gradient Boosting Classifier</th>\n",
       "    </tr>\n",
       "  </thead>\n",
       "  <tbody>\n",
       "    <tr>\n",
       "      <th>Accuracy</th>\n",
       "      <td>0.851327</td>\n",
       "      <td>0.929607</td>\n",
       "      <td>0.940802</td>\n",
       "      <td>0.919769</td>\n",
       "    </tr>\n",
       "    <tr>\n",
       "      <th>Sensitivity (TPR)</th>\n",
       "      <td>0.919084</td>\n",
       "      <td>0.966921</td>\n",
       "      <td>0.945038</td>\n",
       "      <td>0.953690</td>\n",
       "    </tr>\n",
       "    <tr>\n",
       "      <th>Specificity (TNR)</th>\n",
       "      <td>0.783825</td>\n",
       "      <td>0.921160</td>\n",
       "      <td>0.949135</td>\n",
       "      <td>0.895219</td>\n",
       "    </tr>\n",
       "    <tr>\n",
       "      <th>ROC AUC Score</th>\n",
       "      <td>0.851454</td>\n",
       "      <td>0.944040</td>\n",
       "      <td>0.947087</td>\n",
       "      <td>0.924454</td>\n",
       "    </tr>\n",
       "  </tbody>\n",
       "</table>\n",
       "</div>"
      ],
      "text/plain": [
       "                   Optimised Decision Tree  \\\n",
       "Accuracy                          0.851327   \n",
       "Sensitivity (TPR)                 0.919084   \n",
       "Specificity (TNR)                 0.783825   \n",
       "ROC AUC Score                     0.851454   \n",
       "\n",
       "                   Optimised Random Forest Classifier  \\\n",
       "Accuracy                                     0.929607   \n",
       "Sensitivity (TPR)                            0.966921   \n",
       "Specificity (TNR)                            0.921160   \n",
       "ROC AUC Score                                0.944040   \n",
       "\n",
       "                   Optimised AdaBoost Classifier  \\\n",
       "Accuracy                                0.940802   \n",
       "Sensitivity (TPR)                       0.945038   \n",
       "Specificity (TNR)                       0.949135   \n",
       "ROC AUC Score                           0.947087   \n",
       "\n",
       "                   Optimised Gradient Boosting Classifier  \n",
       "Accuracy                                         0.919769  \n",
       "Sensitivity (TPR)                                0.953690  \n",
       "Specificity (TNR)                                0.895219  \n",
       "ROC AUC Score                                    0.924454  "
      ]
     },
     "execution_count": 35,
     "metadata": {},
     "output_type": "execute_result"
    }
   ],
   "source": [
    "optimised_gbc_metrics_df = pd.DataFrame(data=[gbc_optimised_accuracy, \n",
    "                                       gbc_optimised_sensitivity, \n",
    "                                       gbc_optimised_specificity, \n",
    "                                       gbc_optimised_roc_score],\n",
    "                          \n",
    "                                 index=[\"Accuracy\", \n",
    "                                        \"Sensitivity (TPR)\", \n",
    "                                        \"Specificity (TNR)\", \n",
    "                                        \"ROC AUC Score\"], \n",
    "                          \n",
    "                                 columns=[\"Optimised Gradient Boosting Classifier\"])\n",
    "\n",
    "metrics_df = metrics_df.join(optimised_gbc_metrics_df)\n",
    "metrics_df"
   ]
  },
  {
   "cell_type": "markdown",
   "metadata": {},
   "source": [
    "## 5.5 Summary of Classification Metrics <a id=\"5.5\"></a>"
   ]
  },
  {
   "cell_type": "code",
   "execution_count": 36,
   "metadata": {},
   "outputs": [
    {
     "data": {
      "text/html": [
       "<style  type=\"text/css\" >\n",
       "    #T_e396ff9e_6e86_11ea_92f0_983b8f9adf98row2_col0 {\n",
       "            font-weight: bold;\n",
       "        }    #T_e396ff9e_6e86_11ea_92f0_983b8f9adf98row2_col1 {\n",
       "            font-weight: bold;\n",
       "        }    #T_e396ff9e_6e86_11ea_92f0_983b8f9adf98row2_col2 {\n",
       "            font-weight: bold;\n",
       "        }    #T_e396ff9e_6e86_11ea_92f0_983b8f9adf98row2_col3 {\n",
       "            font-weight: bold;\n",
       "        }</style><table id=\"T_e396ff9e_6e86_11ea_92f0_983b8f9adf98\" ><thead>    <tr>        <th class=\"blank level0\" ></th>        <th class=\"col_heading level0 col0\" >Accuracy</th>        <th class=\"col_heading level0 col1\" >Sensitivity (TPR)</th>        <th class=\"col_heading level0 col2\" >Specificity (TNR)</th>        <th class=\"col_heading level0 col3\" >ROC AUC Score</th>    </tr></thead><tbody>\n",
       "                <tr>\n",
       "                        <th id=\"T_e396ff9e_6e86_11ea_92f0_983b8f9adf98level0_row0\" class=\"row_heading level0 row0\" >Optimised Decision Tree</th>\n",
       "                        <td id=\"T_e396ff9e_6e86_11ea_92f0_983b8f9adf98row0_col0\" class=\"data row0 col0\" >0.851327</td>\n",
       "                        <td id=\"T_e396ff9e_6e86_11ea_92f0_983b8f9adf98row0_col1\" class=\"data row0 col1\" >0.919084</td>\n",
       "                        <td id=\"T_e396ff9e_6e86_11ea_92f0_983b8f9adf98row0_col2\" class=\"data row0 col2\" >0.783825</td>\n",
       "                        <td id=\"T_e396ff9e_6e86_11ea_92f0_983b8f9adf98row0_col3\" class=\"data row0 col3\" >0.851454</td>\n",
       "            </tr>\n",
       "            <tr>\n",
       "                        <th id=\"T_e396ff9e_6e86_11ea_92f0_983b8f9adf98level0_row1\" class=\"row_heading level0 row1\" >Optimised Random Forest Classifier</th>\n",
       "                        <td id=\"T_e396ff9e_6e86_11ea_92f0_983b8f9adf98row1_col0\" class=\"data row1 col0\" >0.929607</td>\n",
       "                        <td id=\"T_e396ff9e_6e86_11ea_92f0_983b8f9adf98row1_col1\" class=\"data row1 col1\" >0.966921</td>\n",
       "                        <td id=\"T_e396ff9e_6e86_11ea_92f0_983b8f9adf98row1_col2\" class=\"data row1 col2\" >0.921160</td>\n",
       "                        <td id=\"T_e396ff9e_6e86_11ea_92f0_983b8f9adf98row1_col3\" class=\"data row1 col3\" >0.944040</td>\n",
       "            </tr>\n",
       "            <tr>\n",
       "                        <th id=\"T_e396ff9e_6e86_11ea_92f0_983b8f9adf98level0_row2\" class=\"row_heading level0 row2\" >Optimised AdaBoost Classifier</th>\n",
       "                        <td id=\"T_e396ff9e_6e86_11ea_92f0_983b8f9adf98row2_col0\" class=\"data row2 col0\" >0.940802</td>\n",
       "                        <td id=\"T_e396ff9e_6e86_11ea_92f0_983b8f9adf98row2_col1\" class=\"data row2 col1\" >0.945038</td>\n",
       "                        <td id=\"T_e396ff9e_6e86_11ea_92f0_983b8f9adf98row2_col2\" class=\"data row2 col2\" >0.949135</td>\n",
       "                        <td id=\"T_e396ff9e_6e86_11ea_92f0_983b8f9adf98row2_col3\" class=\"data row2 col3\" >0.947087</td>\n",
       "            </tr>\n",
       "            <tr>\n",
       "                        <th id=\"T_e396ff9e_6e86_11ea_92f0_983b8f9adf98level0_row3\" class=\"row_heading level0 row3\" >Optimised Gradient Boosting Classifier</th>\n",
       "                        <td id=\"T_e396ff9e_6e86_11ea_92f0_983b8f9adf98row3_col0\" class=\"data row3 col0\" >0.919769</td>\n",
       "                        <td id=\"T_e396ff9e_6e86_11ea_92f0_983b8f9adf98row3_col1\" class=\"data row3 col1\" >0.953690</td>\n",
       "                        <td id=\"T_e396ff9e_6e86_11ea_92f0_983b8f9adf98row3_col2\" class=\"data row3 col2\" >0.895219</td>\n",
       "                        <td id=\"T_e396ff9e_6e86_11ea_92f0_983b8f9adf98row3_col3\" class=\"data row3 col3\" >0.924454</td>\n",
       "            </tr>\n",
       "    </tbody></table>"
      ],
      "text/plain": [
       "<pandas.io.formats.style.Styler at 0x27e05b82c08>"
      ]
     },
     "execution_count": 36,
     "metadata": {},
     "output_type": "execute_result"
    }
   ],
   "source": [
    "# Transposing cos it looks nicer to me\n",
    "metrics_df = metrics_df.T\n",
    "\n",
    "# Cool function to bold text in DF\n",
    "metrics_df.style.apply(lambda x: [\"font-weight:bold\" if x.name in [\"Optimised AdaBoost Classifier\"] \n",
    "                                  else \"\" for i in x], axis=1)\n",
    "\n",
    "# Can't seem to flush the model names to the left"
   ]
  },
  {
   "cell_type": "markdown",
   "metadata": {},
   "source": [
    "##### <font color = blue> Shaun: </font>\n",
    "\n",
    "It would appear that the **Optimised Random Forest Classifier** gives the highest Sensitivity or True Positive Rate (TPR).\n",
    "\n",
    "However, it seems that the greater TPR of the **Optimised Random Forest Classifier** comes at a hefty cost of Specificity or True Negative Rate (TNR). \n",
    "\n",
    "While we may be able to correctly predict West Nile Virus, we face the possibility of predicting **disproportionately fewer** cases where no West Nile Virus is present.\n",
    "\n",
    "Therefore, I feel it may still be wise to head with the **Optimised AdaBoost Classifier** model. Also, it has a higher ROC AUC Score, indicating that the model does a very good job distinguishing between presence of WNV and absence of WNV. \n",
    "\n",
    "In fact, it does the best job in this regard when compared to all the other models created in this notebook."
   ]
  },
  {
   "cell_type": "markdown",
   "metadata": {},
   "source": [
    "## 5.6 Chosen Model: AdaBoost Classifier <a id=\"5.6\"></a>"
   ]
  },
  {
   "cell_type": "markdown",
   "metadata": {},
   "source": [
    "## 5.6.1 Cleaning test_df Columns <a id=\"5.6.1\"></a>"
   ]
  },
  {
   "cell_type": "code",
   "execution_count": 37,
   "metadata": {},
   "outputs": [
    {
     "data": {
      "text/plain": [
       "((15722, 23), (116293, 28))"
      ]
     },
     "execution_count": 37,
     "metadata": {},
     "output_type": "execute_result"
    }
   ],
   "source": [
    "# Checking columns in X_smt and test_df\n",
    "# Not using train_df because I already dropped some irrelevant columns in it, X_smt reflects this drop\n",
    "\n",
    "X_smt.shape, test_df.shape"
   ]
  },
  {
   "cell_type": "code",
   "execution_count": 38,
   "metadata": {},
   "outputs": [
    {
     "data": {
      "text/html": [
       "<div>\n",
       "<style scoped>\n",
       "    .dataframe tbody tr th:only-of-type {\n",
       "        vertical-align: middle;\n",
       "    }\n",
       "\n",
       "    .dataframe tbody tr th {\n",
       "        vertical-align: top;\n",
       "    }\n",
       "\n",
       "    .dataframe thead th {\n",
       "        text-align: right;\n",
       "    }\n",
       "</style>\n",
       "<table border=\"1\" class=\"dataframe\">\n",
       "  <thead>\n",
       "    <tr style=\"text-align: right;\">\n",
       "      <th></th>\n",
       "      <th>tavg</th>\n",
       "      <th>preciptotal</th>\n",
       "      <th>sealevel</th>\n",
       "      <th>resultspeed</th>\n",
       "      <th>resultdir</th>\n",
       "      <th>avgspeed</th>\n",
       "      <th>rel_hum</th>\n",
       "      <th>day</th>\n",
       "      <th>species_PIPIENS</th>\n",
       "      <th>species_PIPIENS/RESTUANS</th>\n",
       "      <th>...</th>\n",
       "      <th>year_2009</th>\n",
       "      <th>year_2011</th>\n",
       "      <th>year_2013</th>\n",
       "      <th>year_2010</th>\n",
       "      <th>year_2012</th>\n",
       "      <th>year_2014</th>\n",
       "      <th>month_7</th>\n",
       "      <th>month_8</th>\n",
       "      <th>month_9</th>\n",
       "      <th>month_10</th>\n",
       "    </tr>\n",
       "  </thead>\n",
       "  <tbody>\n",
       "    <tr>\n",
       "      <th>0</th>\n",
       "      <td>74.0</td>\n",
       "      <td>0.0</td>\n",
       "      <td>30.11</td>\n",
       "      <td>5.8</td>\n",
       "      <td>18</td>\n",
       "      <td>6.5</td>\n",
       "      <td>57.893159</td>\n",
       "      <td>29</td>\n",
       "      <td>0</td>\n",
       "      <td>1</td>\n",
       "      <td>...</td>\n",
       "      <td>0</td>\n",
       "      <td>0</td>\n",
       "      <td>0</td>\n",
       "      <td>0</td>\n",
       "      <td>0</td>\n",
       "      <td>0</td>\n",
       "      <td>0</td>\n",
       "      <td>0</td>\n",
       "      <td>0</td>\n",
       "      <td>0</td>\n",
       "    </tr>\n",
       "    <tr>\n",
       "      <th>1</th>\n",
       "      <td>74.0</td>\n",
       "      <td>0.0</td>\n",
       "      <td>30.11</td>\n",
       "      <td>5.8</td>\n",
       "      <td>18</td>\n",
       "      <td>6.5</td>\n",
       "      <td>57.893159</td>\n",
       "      <td>29</td>\n",
       "      <td>0</td>\n",
       "      <td>0</td>\n",
       "      <td>...</td>\n",
       "      <td>0</td>\n",
       "      <td>0</td>\n",
       "      <td>0</td>\n",
       "      <td>0</td>\n",
       "      <td>0</td>\n",
       "      <td>0</td>\n",
       "      <td>0</td>\n",
       "      <td>0</td>\n",
       "      <td>0</td>\n",
       "      <td>0</td>\n",
       "    </tr>\n",
       "    <tr>\n",
       "      <th>2</th>\n",
       "      <td>74.0</td>\n",
       "      <td>0.0</td>\n",
       "      <td>30.11</td>\n",
       "      <td>5.8</td>\n",
       "      <td>18</td>\n",
       "      <td>6.5</td>\n",
       "      <td>57.893159</td>\n",
       "      <td>29</td>\n",
       "      <td>0</td>\n",
       "      <td>0</td>\n",
       "      <td>...</td>\n",
       "      <td>0</td>\n",
       "      <td>0</td>\n",
       "      <td>0</td>\n",
       "      <td>0</td>\n",
       "      <td>0</td>\n",
       "      <td>0</td>\n",
       "      <td>0</td>\n",
       "      <td>0</td>\n",
       "      <td>0</td>\n",
       "      <td>0</td>\n",
       "    </tr>\n",
       "    <tr>\n",
       "      <th>3</th>\n",
       "      <td>74.0</td>\n",
       "      <td>0.0</td>\n",
       "      <td>30.11</td>\n",
       "      <td>5.8</td>\n",
       "      <td>18</td>\n",
       "      <td>6.5</td>\n",
       "      <td>57.893159</td>\n",
       "      <td>29</td>\n",
       "      <td>0</td>\n",
       "      <td>1</td>\n",
       "      <td>...</td>\n",
       "      <td>0</td>\n",
       "      <td>0</td>\n",
       "      <td>0</td>\n",
       "      <td>0</td>\n",
       "      <td>0</td>\n",
       "      <td>0</td>\n",
       "      <td>0</td>\n",
       "      <td>0</td>\n",
       "      <td>0</td>\n",
       "      <td>0</td>\n",
       "    </tr>\n",
       "    <tr>\n",
       "      <th>4</th>\n",
       "      <td>74.0</td>\n",
       "      <td>0.0</td>\n",
       "      <td>30.11</td>\n",
       "      <td>5.8</td>\n",
       "      <td>18</td>\n",
       "      <td>6.5</td>\n",
       "      <td>57.893159</td>\n",
       "      <td>29</td>\n",
       "      <td>0</td>\n",
       "      <td>0</td>\n",
       "      <td>...</td>\n",
       "      <td>0</td>\n",
       "      <td>0</td>\n",
       "      <td>0</td>\n",
       "      <td>0</td>\n",
       "      <td>0</td>\n",
       "      <td>0</td>\n",
       "      <td>0</td>\n",
       "      <td>0</td>\n",
       "      <td>0</td>\n",
       "      <td>0</td>\n",
       "    </tr>\n",
       "  </tbody>\n",
       "</table>\n",
       "<p>5 rows × 23 columns</p>\n",
       "</div>"
      ],
      "text/plain": [
       "   tavg  preciptotal  sealevel  resultspeed  resultdir  avgspeed    rel_hum  \\\n",
       "0  74.0          0.0     30.11          5.8         18       6.5  57.893159   \n",
       "1  74.0          0.0     30.11          5.8         18       6.5  57.893159   \n",
       "2  74.0          0.0     30.11          5.8         18       6.5  57.893159   \n",
       "3  74.0          0.0     30.11          5.8         18       6.5  57.893159   \n",
       "4  74.0          0.0     30.11          5.8         18       6.5  57.893159   \n",
       "\n",
       "   day  species_PIPIENS  species_PIPIENS/RESTUANS  ...  year_2009  year_2011  \\\n",
       "0   29                0                         1  ...          0          0   \n",
       "1   29                0                         0  ...          0          0   \n",
       "2   29                0                         0  ...          0          0   \n",
       "3   29                0                         1  ...          0          0   \n",
       "4   29                0                         0  ...          0          0   \n",
       "\n",
       "   year_2013  year_2010  year_2012  year_2014  month_7  month_8  month_9  \\\n",
       "0          0          0          0          0        0        0        0   \n",
       "1          0          0          0          0        0        0        0   \n",
       "2          0          0          0          0        0        0        0   \n",
       "3          0          0          0          0        0        0        0   \n",
       "4          0          0          0          0        0        0        0   \n",
       "\n",
       "   month_10  \n",
       "0         0  \n",
       "1         0  \n",
       "2         0  \n",
       "3         0  \n",
       "4         0  \n",
       "\n",
       "[5 rows x 23 columns]"
      ]
     },
     "metadata": {},
     "output_type": "display_data"
    },
    {
     "data": {
      "text/html": [
       "<div>\n",
       "<style scoped>\n",
       "    .dataframe tbody tr th:only-of-type {\n",
       "        vertical-align: middle;\n",
       "    }\n",
       "\n",
       "    .dataframe tbody tr th {\n",
       "        vertical-align: top;\n",
       "    }\n",
       "\n",
       "    .dataframe thead th {\n",
       "        text-align: right;\n",
       "    }\n",
       "</style>\n",
       "<table border=\"1\" class=\"dataframe\">\n",
       "  <thead>\n",
       "    <tr style=\"text-align: right;\">\n",
       "      <th></th>\n",
       "      <th>Unnamed: 0</th>\n",
       "      <th>station</th>\n",
       "      <th>date</th>\n",
       "      <th>tavg</th>\n",
       "      <th>preciptotal</th>\n",
       "      <th>sealevel</th>\n",
       "      <th>resultspeed</th>\n",
       "      <th>resultdir</th>\n",
       "      <th>avgspeed</th>\n",
       "      <th>rel_hum</th>\n",
       "      <th>...</th>\n",
       "      <th>year_2010</th>\n",
       "      <th>year_2012</th>\n",
       "      <th>year_2014</th>\n",
       "      <th>year_2009</th>\n",
       "      <th>year_2011</th>\n",
       "      <th>year_2013</th>\n",
       "      <th>month_7</th>\n",
       "      <th>month_8</th>\n",
       "      <th>month_9</th>\n",
       "      <th>month_10</th>\n",
       "    </tr>\n",
       "  </thead>\n",
       "  <tbody>\n",
       "    <tr>\n",
       "      <th>0</th>\n",
       "      <td>0</td>\n",
       "      <td>1</td>\n",
       "      <td>2008-06-11</td>\n",
       "      <td>74.0</td>\n",
       "      <td>0.0</td>\n",
       "      <td>29.99</td>\n",
       "      <td>8.9</td>\n",
       "      <td>18</td>\n",
       "      <td>10.0</td>\n",
       "      <td>53.941117</td>\n",
       "      <td>...</td>\n",
       "      <td>0</td>\n",
       "      <td>0</td>\n",
       "      <td>0</td>\n",
       "      <td>0</td>\n",
       "      <td>0</td>\n",
       "      <td>0</td>\n",
       "      <td>0</td>\n",
       "      <td>0</td>\n",
       "      <td>0</td>\n",
       "      <td>0</td>\n",
       "    </tr>\n",
       "    <tr>\n",
       "      <th>1</th>\n",
       "      <td>1</td>\n",
       "      <td>1</td>\n",
       "      <td>2008-06-11</td>\n",
       "      <td>74.0</td>\n",
       "      <td>0.0</td>\n",
       "      <td>29.99</td>\n",
       "      <td>8.9</td>\n",
       "      <td>18</td>\n",
       "      <td>10.0</td>\n",
       "      <td>53.941117</td>\n",
       "      <td>...</td>\n",
       "      <td>0</td>\n",
       "      <td>0</td>\n",
       "      <td>0</td>\n",
       "      <td>0</td>\n",
       "      <td>0</td>\n",
       "      <td>0</td>\n",
       "      <td>0</td>\n",
       "      <td>0</td>\n",
       "      <td>0</td>\n",
       "      <td>0</td>\n",
       "    </tr>\n",
       "    <tr>\n",
       "      <th>2</th>\n",
       "      <td>2</td>\n",
       "      <td>1</td>\n",
       "      <td>2008-06-11</td>\n",
       "      <td>74.0</td>\n",
       "      <td>0.0</td>\n",
       "      <td>29.99</td>\n",
       "      <td>8.9</td>\n",
       "      <td>18</td>\n",
       "      <td>10.0</td>\n",
       "      <td>53.941117</td>\n",
       "      <td>...</td>\n",
       "      <td>0</td>\n",
       "      <td>0</td>\n",
       "      <td>0</td>\n",
       "      <td>0</td>\n",
       "      <td>0</td>\n",
       "      <td>0</td>\n",
       "      <td>0</td>\n",
       "      <td>0</td>\n",
       "      <td>0</td>\n",
       "      <td>0</td>\n",
       "    </tr>\n",
       "    <tr>\n",
       "      <th>3</th>\n",
       "      <td>3</td>\n",
       "      <td>1</td>\n",
       "      <td>2008-06-11</td>\n",
       "      <td>74.0</td>\n",
       "      <td>0.0</td>\n",
       "      <td>29.99</td>\n",
       "      <td>8.9</td>\n",
       "      <td>18</td>\n",
       "      <td>10.0</td>\n",
       "      <td>53.941117</td>\n",
       "      <td>...</td>\n",
       "      <td>0</td>\n",
       "      <td>0</td>\n",
       "      <td>0</td>\n",
       "      <td>0</td>\n",
       "      <td>0</td>\n",
       "      <td>0</td>\n",
       "      <td>0</td>\n",
       "      <td>0</td>\n",
       "      <td>0</td>\n",
       "      <td>0</td>\n",
       "    </tr>\n",
       "    <tr>\n",
       "      <th>4</th>\n",
       "      <td>4</td>\n",
       "      <td>1</td>\n",
       "      <td>2008-06-11</td>\n",
       "      <td>74.0</td>\n",
       "      <td>0.0</td>\n",
       "      <td>29.99</td>\n",
       "      <td>8.9</td>\n",
       "      <td>18</td>\n",
       "      <td>10.0</td>\n",
       "      <td>53.941117</td>\n",
       "      <td>...</td>\n",
       "      <td>0</td>\n",
       "      <td>0</td>\n",
       "      <td>0</td>\n",
       "      <td>0</td>\n",
       "      <td>0</td>\n",
       "      <td>0</td>\n",
       "      <td>0</td>\n",
       "      <td>0</td>\n",
       "      <td>0</td>\n",
       "      <td>0</td>\n",
       "    </tr>\n",
       "  </tbody>\n",
       "</table>\n",
       "<p>5 rows × 28 columns</p>\n",
       "</div>"
      ],
      "text/plain": [
       "   Unnamed: 0  station        date  tavg  preciptotal  sealevel  resultspeed  \\\n",
       "0           0        1  2008-06-11  74.0          0.0     29.99          8.9   \n",
       "1           1        1  2008-06-11  74.0          0.0     29.99          8.9   \n",
       "2           2        1  2008-06-11  74.0          0.0     29.99          8.9   \n",
       "3           3        1  2008-06-11  74.0          0.0     29.99          8.9   \n",
       "4           4        1  2008-06-11  74.0          0.0     29.99          8.9   \n",
       "\n",
       "   resultdir  avgspeed    rel_hum  ...  year_2010 year_2012  year_2014  \\\n",
       "0         18      10.0  53.941117  ...          0         0          0   \n",
       "1         18      10.0  53.941117  ...          0         0          0   \n",
       "2         18      10.0  53.941117  ...          0         0          0   \n",
       "3         18      10.0  53.941117  ...          0         0          0   \n",
       "4         18      10.0  53.941117  ...          0         0          0   \n",
       "\n",
       "   year_2009  year_2011  year_2013  month_7  month_8  month_9  month_10  \n",
       "0          0          0          0        0        0        0         0  \n",
       "1          0          0          0        0        0        0         0  \n",
       "2          0          0          0        0        0        0         0  \n",
       "3          0          0          0        0        0        0         0  \n",
       "4          0          0          0        0        0        0         0  \n",
       "\n",
       "[5 rows x 28 columns]"
      ]
     },
     "metadata": {},
     "output_type": "display_data"
    }
   ],
   "source": [
    "display(X_smt.head(), test_df.head())"
   ]
  },
  {
   "cell_type": "code",
   "execution_count": 39,
   "metadata": {},
   "outputs": [
    {
     "data": {
      "text/plain": [
       "(Index(['tavg', 'preciptotal', 'sealevel', 'resultspeed', 'resultdir',\n",
       "        'avgspeed', 'rel_hum', 'day', 'species_PIPIENS',\n",
       "        'species_PIPIENS/RESTUANS', 'species_RESTUANS', 'latitude', 'longitude',\n",
       "        'year_2009', 'year_2011', 'year_2013', 'year_2010', 'year_2012',\n",
       "        'year_2014', 'month_7', 'month_8', 'month_9', 'month_10'],\n",
       "       dtype='object'),\n",
       " Index(['Unnamed: 0', 'station', 'date', 'tavg', 'preciptotal', 'sealevel',\n",
       "        'resultspeed', 'resultdir', 'avgspeed', 'rel_hum', 'id', 'trap', 'day',\n",
       "        'species_PIPIENS', 'species_PIPIENS/RESTUANS', 'species_RESTUANS',\n",
       "        'latitude', 'longitude', 'year_2010', 'year_2012', 'year_2014',\n",
       "        'year_2009', 'year_2011', 'year_2013', 'month_7', 'month_8', 'month_9',\n",
       "        'month_10'],\n",
       "       dtype='object'))"
      ]
     },
     "execution_count": 39,
     "metadata": {},
     "output_type": "execute_result"
    }
   ],
   "source": [
    "X_smt.columns, test_df.columns"
   ]
  },
  {
   "cell_type": "markdown",
   "metadata": {},
   "source": [
    "##### Dropping extra columns"
   ]
  },
  {
   "cell_type": "code",
   "execution_count": 40,
   "metadata": {},
   "outputs": [],
   "source": [
    "test_data = test_df.drop(columns=[\"Unnamed: 0\",\n",
    "                                  \"station\",\n",
    "                                  \"date\",\n",
    "                                  \"id\",\n",
    "                                  \"trap\"])"
   ]
  },
  {
   "cell_type": "markdown",
   "metadata": {},
   "source": [
    "##### Final check that test_data and X_smt have same columns"
   ]
  },
  {
   "cell_type": "code",
   "execution_count": 41,
   "metadata": {},
   "outputs": [
    {
     "data": {
      "text/plain": [
       "(Index(['tavg', 'preciptotal', 'sealevel', 'resultspeed', 'resultdir',\n",
       "        'avgspeed', 'rel_hum', 'day', 'species_PIPIENS',\n",
       "        'species_PIPIENS/RESTUANS', 'species_RESTUANS', 'latitude', 'longitude',\n",
       "        'year_2009', 'year_2011', 'year_2013', 'year_2010', 'year_2012',\n",
       "        'year_2014', 'month_7', 'month_8', 'month_9', 'month_10'],\n",
       "       dtype='object'),\n",
       " Index(['tavg', 'preciptotal', 'sealevel', 'resultspeed', 'resultdir',\n",
       "        'avgspeed', 'rel_hum', 'day', 'species_PIPIENS',\n",
       "        'species_PIPIENS/RESTUANS', 'species_RESTUANS', 'latitude', 'longitude',\n",
       "        'year_2010', 'year_2012', 'year_2014', 'year_2009', 'year_2011',\n",
       "        'year_2013', 'month_7', 'month_8', 'month_9', 'month_10'],\n",
       "       dtype='object'))"
      ]
     },
     "execution_count": 41,
     "metadata": {},
     "output_type": "execute_result"
    }
   ],
   "source": [
    "X_smt.columns, test_data.columns"
   ]
  },
  {
   "cell_type": "markdown",
   "metadata": {},
   "source": [
    "## 5.6.2 Prediction using Optimised AdaBoost Classifier <a id=\"5.6.2\"></a>"
   ]
  },
  {
   "cell_type": "markdown",
   "metadata": {},
   "source": [
    "##### <font color = blue> Shaun: </font>\n",
    "\n",
    "Using `predict_proba` because Kaggle wants it that way."
   ]
  },
  {
   "cell_type": "code",
   "execution_count": 42,
   "metadata": {},
   "outputs": [
    {
     "data": {
      "text/plain": [
       "array([[0.46030949, 0.53969051],\n",
       "       [0.47412123, 0.52587877],\n",
       "       [0.46346595, 0.53653405],\n",
       "       ...,\n",
       "       [0.57500883, 0.42499117],\n",
       "       [0.57500883, 0.42499117],\n",
       "       [0.57500883, 0.42499117]])"
      ]
     },
     "execution_count": 42,
     "metadata": {},
     "output_type": "execute_result"
    }
   ],
   "source": [
    "pred = ada_optimised.predict_proba(test_data)\n",
    "pred"
   ]
  },
  {
   "cell_type": "markdown",
   "metadata": {},
   "source": [
    "# 6. Kaggle Submission <a id=\"6\"></a>"
   ]
  },
  {
   "cell_type": "markdown",
   "metadata": {},
   "source": [
    "## 6.1 Preparing Dataset <a id=\"6.1\"></a>"
   ]
  },
  {
   "cell_type": "code",
   "execution_count": 43,
   "metadata": {},
   "outputs": [
    {
     "data": {
      "text/html": [
       "<div>\n",
       "<style scoped>\n",
       "    .dataframe tbody tr th:only-of-type {\n",
       "        vertical-align: middle;\n",
       "    }\n",
       "\n",
       "    .dataframe tbody tr th {\n",
       "        vertical-align: top;\n",
       "    }\n",
       "\n",
       "    .dataframe thead th {\n",
       "        text-align: right;\n",
       "    }\n",
       "</style>\n",
       "<table border=\"1\" class=\"dataframe\">\n",
       "  <thead>\n",
       "    <tr style=\"text-align: right;\">\n",
       "      <th></th>\n",
       "      <th>0</th>\n",
       "      <th>1</th>\n",
       "    </tr>\n",
       "  </thead>\n",
       "  <tbody>\n",
       "    <tr>\n",
       "      <th>0</th>\n",
       "      <td>0.460309</td>\n",
       "      <td>0.539691</td>\n",
       "    </tr>\n",
       "    <tr>\n",
       "      <th>1</th>\n",
       "      <td>0.474121</td>\n",
       "      <td>0.525879</td>\n",
       "    </tr>\n",
       "    <tr>\n",
       "      <th>2</th>\n",
       "      <td>0.463466</td>\n",
       "      <td>0.536534</td>\n",
       "    </tr>\n",
       "    <tr>\n",
       "      <th>3</th>\n",
       "      <td>0.455252</td>\n",
       "      <td>0.544748</td>\n",
       "    </tr>\n",
       "    <tr>\n",
       "      <th>4</th>\n",
       "      <td>0.455252</td>\n",
       "      <td>0.544748</td>\n",
       "    </tr>\n",
       "    <tr>\n",
       "      <th>...</th>\n",
       "      <td>...</td>\n",
       "      <td>...</td>\n",
       "    </tr>\n",
       "    <tr>\n",
       "      <th>116288</th>\n",
       "      <td>0.575009</td>\n",
       "      <td>0.424991</td>\n",
       "    </tr>\n",
       "    <tr>\n",
       "      <th>116289</th>\n",
       "      <td>0.575009</td>\n",
       "      <td>0.424991</td>\n",
       "    </tr>\n",
       "    <tr>\n",
       "      <th>116290</th>\n",
       "      <td>0.575009</td>\n",
       "      <td>0.424991</td>\n",
       "    </tr>\n",
       "    <tr>\n",
       "      <th>116291</th>\n",
       "      <td>0.575009</td>\n",
       "      <td>0.424991</td>\n",
       "    </tr>\n",
       "    <tr>\n",
       "      <th>116292</th>\n",
       "      <td>0.575009</td>\n",
       "      <td>0.424991</td>\n",
       "    </tr>\n",
       "  </tbody>\n",
       "</table>\n",
       "<p>116293 rows × 2 columns</p>\n",
       "</div>"
      ],
      "text/plain": [
       "               0         1\n",
       "0       0.460309  0.539691\n",
       "1       0.474121  0.525879\n",
       "2       0.463466  0.536534\n",
       "3       0.455252  0.544748\n",
       "4       0.455252  0.544748\n",
       "...          ...       ...\n",
       "116288  0.575009  0.424991\n",
       "116289  0.575009  0.424991\n",
       "116290  0.575009  0.424991\n",
       "116291  0.575009  0.424991\n",
       "116292  0.575009  0.424991\n",
       "\n",
       "[116293 rows x 2 columns]"
      ]
     },
     "execution_count": 43,
     "metadata": {},
     "output_type": "execute_result"
    }
   ],
   "source": [
    "pred_df = pd.DataFrame(pred)\n",
    "pred_df"
   ]
  },
  {
   "cell_type": "code",
   "execution_count": 44,
   "metadata": {},
   "outputs": [
    {
     "data": {
      "text/plain": [
       "0              1\n",
       "1              2\n",
       "2              3\n",
       "3              4\n",
       "4              5\n",
       "           ...  \n",
       "116288    116281\n",
       "116289    116282\n",
       "116290    116283\n",
       "116291    116284\n",
       "116292    116285\n",
       "Name: id, Length: 116293, dtype: int64"
      ]
     },
     "execution_count": 44,
     "metadata": {},
     "output_type": "execute_result"
    }
   ],
   "source": [
    "kaggle_id = test_df['id']\n",
    "kaggle_id"
   ]
  },
  {
   "cell_type": "code",
   "execution_count": 45,
   "metadata": {},
   "outputs": [],
   "source": [
    "pred_df = pd.concat([kaggle_id, pred_df], axis =1)"
   ]
  },
  {
   "cell_type": "markdown",
   "metadata": {},
   "source": [
    "##### Kaggle only wants `1`, changed to `wnvpresent`"
   ]
  },
  {
   "cell_type": "code",
   "execution_count": 46,
   "metadata": {},
   "outputs": [],
   "source": [
    "pred_df.drop(columns=0, inplace=True)"
   ]
  },
  {
   "cell_type": "code",
   "execution_count": 47,
   "metadata": {},
   "outputs": [],
   "source": [
    "pred_df.rename(columns={1:\"WnvPresent\"}, inplace=True)"
   ]
  },
  {
   "cell_type": "markdown",
   "metadata": {},
   "source": [
    "##### Final Look at Kaggle Submission"
   ]
  },
  {
   "cell_type": "code",
   "execution_count": 48,
   "metadata": {},
   "outputs": [
    {
     "data": {
      "text/html": [
       "<div>\n",
       "<style scoped>\n",
       "    .dataframe tbody tr th:only-of-type {\n",
       "        vertical-align: middle;\n",
       "    }\n",
       "\n",
       "    .dataframe tbody tr th {\n",
       "        vertical-align: top;\n",
       "    }\n",
       "\n",
       "    .dataframe thead th {\n",
       "        text-align: right;\n",
       "    }\n",
       "</style>\n",
       "<table border=\"1\" class=\"dataframe\">\n",
       "  <thead>\n",
       "    <tr style=\"text-align: right;\">\n",
       "      <th></th>\n",
       "      <th>id</th>\n",
       "      <th>WnvPresent</th>\n",
       "    </tr>\n",
       "  </thead>\n",
       "  <tbody>\n",
       "    <tr>\n",
       "      <th>0</th>\n",
       "      <td>1</td>\n",
       "      <td>0.539691</td>\n",
       "    </tr>\n",
       "    <tr>\n",
       "      <th>1</th>\n",
       "      <td>2</td>\n",
       "      <td>0.525879</td>\n",
       "    </tr>\n",
       "    <tr>\n",
       "      <th>2</th>\n",
       "      <td>3</td>\n",
       "      <td>0.536534</td>\n",
       "    </tr>\n",
       "    <tr>\n",
       "      <th>3</th>\n",
       "      <td>4</td>\n",
       "      <td>0.544748</td>\n",
       "    </tr>\n",
       "    <tr>\n",
       "      <th>4</th>\n",
       "      <td>5</td>\n",
       "      <td>0.544748</td>\n",
       "    </tr>\n",
       "    <tr>\n",
       "      <th>...</th>\n",
       "      <td>...</td>\n",
       "      <td>...</td>\n",
       "    </tr>\n",
       "    <tr>\n",
       "      <th>116288</th>\n",
       "      <td>116281</td>\n",
       "      <td>0.424991</td>\n",
       "    </tr>\n",
       "    <tr>\n",
       "      <th>116289</th>\n",
       "      <td>116282</td>\n",
       "      <td>0.424991</td>\n",
       "    </tr>\n",
       "    <tr>\n",
       "      <th>116290</th>\n",
       "      <td>116283</td>\n",
       "      <td>0.424991</td>\n",
       "    </tr>\n",
       "    <tr>\n",
       "      <th>116291</th>\n",
       "      <td>116284</td>\n",
       "      <td>0.424991</td>\n",
       "    </tr>\n",
       "    <tr>\n",
       "      <th>116292</th>\n",
       "      <td>116285</td>\n",
       "      <td>0.424991</td>\n",
       "    </tr>\n",
       "  </tbody>\n",
       "</table>\n",
       "<p>116293 rows × 2 columns</p>\n",
       "</div>"
      ],
      "text/plain": [
       "            id  WnvPresent\n",
       "0            1    0.539691\n",
       "1            2    0.525879\n",
       "2            3    0.536534\n",
       "3            4    0.544748\n",
       "4            5    0.544748\n",
       "...        ...         ...\n",
       "116288  116281    0.424991\n",
       "116289  116282    0.424991\n",
       "116290  116283    0.424991\n",
       "116291  116284    0.424991\n",
       "116292  116285    0.424991\n",
       "\n",
       "[116293 rows x 2 columns]"
      ]
     },
     "execution_count": 48,
     "metadata": {},
     "output_type": "execute_result"
    }
   ],
   "source": [
    "pred_df"
   ]
  },
  {
   "cell_type": "markdown",
   "metadata": {},
   "source": [
    "## 6.2 Exporting Kaggle Submission File <a id=\"6.2\"></a>"
   ]
  },
  {
   "cell_type": "code",
   "execution_count": 51,
   "metadata": {},
   "outputs": [],
   "source": [
    "pred_df.to_csv(\"./datasets/kaggle_submission.csv\", index=False)"
   ]
  },
  {
   "cell_type": "markdown",
   "metadata": {},
   "source": [
    "## 6.3 Kaggle Submission Score <a id=\"6.3\"></a>"
   ]
  },
  {
   "cell_type": "markdown",
   "metadata": {},
   "source": [
    "<img src=\"./images/dsi_13_sg_shaun_project_4_kaggle_submission_score.png\">"
   ]
  },
  {
   "cell_type": "code",
   "execution_count": 50,
   "metadata": {
    "scrolled": true
   },
   "outputs": [
    {
     "name": "stdout",
     "output_type": "stream",
     "text": [
      "Run complete, total time taken ≈ 172.78s\n"
     ]
    }
   ],
   "source": [
    "print(f\"Run complete, total time taken \\u2248 {time.time()-t0:.2f}s\")"
   ]
  }
 ],
 "metadata": {
  "kernelspec": {
   "display_name": "Python 3",
   "language": "python",
   "name": "python3"
  },
  "language_info": {
   "codemirror_mode": {
    "name": "ipython",
    "version": 3
   },
   "file_extension": ".py",
   "mimetype": "text/x-python",
   "name": "python",
   "nbconvert_exporter": "python",
   "pygments_lexer": "ipython3",
   "version": "3.7.6"
  }
 },
 "nbformat": 4,
 "nbformat_minor": 2
}
