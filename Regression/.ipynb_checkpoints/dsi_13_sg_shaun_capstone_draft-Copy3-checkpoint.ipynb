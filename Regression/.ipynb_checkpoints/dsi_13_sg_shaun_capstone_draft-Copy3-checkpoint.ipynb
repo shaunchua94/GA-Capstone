{
 "cells": [
  {
   "cell_type": "markdown",
   "metadata": {},
   "source": [
    "# Capstone: <font color = red> Think of witty title </font> \n",
    "> **Shaun Chua** \n",
    "<br>**(DSI-13)**\n",
    "\n",
    "---"
   ]
  },
  {
   "cell_type": "markdown",
   "metadata": {},
   "source": [
    "# Table of Contents: <a id=\"top\"></a>\n",
    "[**1. Problem Statement**](#1)\n",
    "<br> [**2. Importing Libraries**](#2)\n",
    "<br> [**3. Importing Datasets**](#3)\n",
    "<br> [**4. Data Cleaning**](#4)\n",
    "<br> &emsp; [4.01 Data Cleaning: Column Names](#4.01)\n",
    "<br> &emsp; [4.02 Data Cleaning: Dropping Unhelpful Features](#4.02)\n",
    "<br> &emsp; [4.03 Data Cleaning: Dropping Rows](#4.03)\n",
    "<br> &emsp; [4.04 Data Cleaning: `project_code`](#4.04)\n",
    "<br> &emsp; [4.05 Data Cleaning: `qty`, `unit_price`, and `total`](#4.05)\n",
    "<br> &emsp; [4.06 Data Cleaning: `entity` and `actual_entity`](#4.06)\n",
    "<br> &emsp; [4.07 Data Cleaning: `consultant_name`](#4.07)\n",
    "<br> &emsp; [4.08 Data Cleaning: `school` and `zone`](#4.08)\n",
    "<br> &emsp; [4.09 Data Cleaning: `programme_name`](#4.09)\n",
    "<br> &emsp; [4.10 Data Cleaning: `uom`](#4.10)\n",
    "<br> &emsp; [4.11 Data Cleaning: `service_consultant`](#4.11)\n",
    "<br> [**5. Preprocessing**](#5)\n",
    "<br> &emsp; [5.1 Dummy Variables](#5.1)\n",
    "<br> &emsp; [5.2 Defining Target and Features](#5.2)\n",
    "<br> &emsp; [5.3 Train_Test_Split](#5.3)\n",
    "<br> [**6. Modelling**](#6)\n",
    "<br> &emsp; [6.1 Modelling for Objective One](#6.1)\n",
    "<br> &emsp; [6.2 Modelling for Objective Two](#6.2)\n",
    "<br> &emsp; [6.3 Modelling for Objective Three](#6.3)\n",
    "<br> [**7. Limitations**](#7)\n",
    "<br> [**8. Future Directions**](#8)"
   ]
  },
  {
   "cell_type": "markdown",
   "metadata": {},
   "source": [
    "# 1. Problem Statement <a id=\"1\"></a>"
   ]
  },
  {
   "cell_type": "markdown",
   "metadata": {},
   "source": [
    "\n",
    "\n",
    "## Formulating your Problem Statement\n",
    "\n",
    "Your problem statement should the guiding principle for your project.  You can think about this as a \"SMART\" goal.\n",
    "\n",
    "## **Context:**  \n",
    "\n",
    "The inception of the Government Electronic Business Centre (GeBIZ) to standardise government tender and procurement, has significantly reduced <a href=\"https://opentextbc.ca/principlesofeconomics/chapter/16-1-the-problem-of-imperfect-information-and-asymmetric-information/\"> imperfect information and assymetric information</a>.\n",
    "\n",
    "As a result, education consultancies face the daunting challenge of balancing several tenets of business development, such as: \n",
    "* Outreach to educational institutions \n",
    "* Programme creation\n",
    "* Programme pricing\n",
    "\n",
    "<a id=\"objectives\"></a>\n",
    "## **Specific:** \n",
    "**What precisely do you plan to do?**\n",
    "<br> Obejctive 1: Identify business units/programmes that help/hurt saleprice most \n",
    "<br> Objective 2: Create a model that may help predict saleprice for a particular programme type\n",
    "<br> Objective 3: Market Basket Analysis\n",
    "\n",
    "Modelling will be done separately for [Objective 1](#6.1), [Objective 2](#6.2), and [Objective 3](#6.3).\n",
    "\n",
    "**What type of model will you need to develop?**\n",
    "<br> 1) Linear Regression with Regularisation (Ridge, Lasso, Elastic Net)\n",
    "<br> 2) Decision Tree Regressor\n",
    "<br> 3) Random Forest Regressor\n",
    "<br> 4) Support Vector Regressor\n",
    "<br> 5) Decision Tree Regressor with AdaBoost\n",
    "<br> 6) Random Forest Regressor with AdaBoost\n",
    "<br> 7) Gradient Boosting Regressor \n",
    "<br> 8) Extreme Gradient Boosting (XGBoost)\n",
    "\n",
    "## **Measurable:** \n",
    "**What metrics will you be using to assess performance?** \n",
    "* Objective 1: Coefficient of Determination ($R^2$)\n",
    "* Objective 2: RMSE or MSE\n",
    "* Objective 3: TBC\n",
    "\n",
    "## **Achievable:** \n",
    "**Is your project appropriately scoped?**\n",
    "<br> Yes. \n",
    "\n",
    "**Is it too aggressive? Too easy?**\n",
    "<br> Initially, felt that simply running Linear Regression was too \"simple\", so I decided to add more dimensions to it, and run more models.\n",
    "\n",
    "## **Relevant:**\n",
    "**Does anyone care about this?**\n",
    "<br> Education consultancies may find this insightful.\n",
    "\n",
    "**Why should people be interested in your results?**\n",
    "<br> Findings can assist an education consultancy in:\n",
    "* Allocating resources to business development efforts based on data\n",
    "* Predicting sale price for a particular programme\n",
    "* Potential Market Basket Analysis (TBC)\n",
    "\n",
    "**What value will the completion of your project be adding?**\n",
    "Education consultancies may make more targetted efforts at business development with the aid of insights from data.\n",
    "\n",
    "## **Time-bound**\n",
    "**What is your deadline?**\n",
    "* Personal Deadline: 13 Apr 2020\n",
    "* Official Deadline: 23 Apr 2020"
   ]
  },
  {
   "cell_type": "markdown",
   "metadata": {},
   "source": [
    "# 2. Importing Libraries <a id=\"2\"></a>"
   ]
  },
  {
   "cell_type": "code",
   "execution_count": 121,
   "metadata": {},
   "outputs": [],
   "source": [
    "import pandas as pd\n",
    "import numpy as np\n",
    "import matplotlib.pyplot as plt\n",
    "import seaborn as sns\n",
    "from datetime import datetime\n",
    "\n",
    "# RegEx\n",
    "import re\n",
    "\n",
    "import time\n",
    "\n",
    "# sklearn\n",
    "from sklearn.preprocessing import StandardScaler\n",
    "from sklearn.model_selection import  train_test_split, KFold, cross_val_score, GridSearchCV \n",
    "from sklearn.linear_model import LinearRegression, RidgeCV, LassoCV, ElasticNetCV\n",
    "from sklearn import tree\n",
    "from sklearn.tree import DecisionTreeClassifier\n",
    "from sklearn.ensemble import AdaBoostClassifier, GradientBoostingClassifier, RandomForestClassifier\n",
    "from sklearn.svm import SVC\n",
    "\n",
    "\n",
    "from sklearn.metrics import confusion_matrix, roc_auc_score\n",
    "\n",
    "# Print styles\n",
    "class color:\n",
    "   PURPLE = '\\033[95m'\n",
    "   CYAN = '\\033[96m'\n",
    "   DARKCYAN = '\\033[36m'\n",
    "   BLUE = '\\033[94m'\n",
    "   GREEN = '\\033[92m'\n",
    "   YELLOW = '\\033[93m'\n",
    "   RED = '\\033[91m'\n",
    "   BOLD = '\\033[1m'\n",
    "   UNDERLINE = '\\033[4m'\n",
    "   END = '\\033[0m'\n",
    "\n",
    "# Plot Style\n",
    "plt.style.use('fivethirtyeight')\n",
    "\n",
    "%matplotlib inline"
   ]
  },
  {
   "cell_type": "code",
   "execution_count": 2,
   "metadata": {},
   "outputs": [],
   "source": [
    "# Starting timer for notebook\n",
    "\n",
    "t0 = time.time()"
   ]
  },
  {
   "cell_type": "markdown",
   "metadata": {},
   "source": [
    "# 3. Importing Datasets <a id=\"3\"></a>"
   ]
  },
  {
   "cell_type": "code",
   "execution_count": 3,
   "metadata": {},
   "outputs": [],
   "source": [
    "sales2017_df = pd.read_csv(\"./datasets/GA Capstone Dataset 1.csv\")"
   ]
  },
  {
   "cell_type": "code",
   "execution_count": 4,
   "metadata": {},
   "outputs": [],
   "source": [
    "sales2018_df = pd.read_csv(\"./datasets/GA Capstone Dataset 2.csv\")"
   ]
  },
  {
   "cell_type": "markdown",
   "metadata": {},
   "source": [
    "# 4. Data Cleaning and EDA <a id=\"4\"></a>"
   ]
  },
  {
   "cell_type": "markdown",
   "metadata": {},
   "source": [
    "##### Defining a function to preview dataframes"
   ]
  },
  {
   "cell_type": "code",
   "execution_count": 5,
   "metadata": {},
   "outputs": [],
   "source": [
    "def preview(dataframe):\n",
    "    dataframe_name = [x for x in globals() if globals()[x] is dataframe][0]\n",
    "    print(f\"{dataframe_name} has shape: {dataframe.shape}.\")\n",
    "    \n",
    "    print(\"\")\n",
    "    print(f\"{dataframe_name} has the following columns: {dataframe.columns}\")\n",
    "    \n",
    "    print(\"\\n\")\n",
    "    print(f\"These are the top 5 rows of {dataframe_name}:\")\n",
    "    display(dataframe.head())\n",
    "\n",
    "    print(\"\\n\")\n",
    "    print(f\"These are the bottom 5 rows of {dataframe_name}:\")\n",
    "    display(dataframe.tail())\n",
    "    \n",
    "    print(\"\\n\")\n",
    "    nulls = dataframe.isnull().sum()\n",
    "    total_nulls = dataframe.isnull().sum().sum()\n",
    "    if total_nulls > 0:\n",
    "        print(f\"{dataframe_name} has a total {total_nulls} of nulls.\")\n",
    "        print(\"\\n\")\n",
    "        print(f\"The columns in {dataframe_name} with nulls are: {list(nulls[nulls>0].index)}\") \n",
    "      \n",
    "        print(\"\\n\")\n",
    "        print(f\"The variables with nulls in {dataframe_name} are:\")\n",
    "        display(nulls)\n",
    "\n",
    "        print(\"\\n\")\n",
    "        print(f\"The top 5 variables in {dataframe_name} with the highest percentage of missing values are:\")\n",
    "        display(dataframe.isnull().mean().sort_values(ascending=False)[:5])\n",
    "\n",
    "    else:\n",
    "        print(f\"{dataframe_name} does not contain nulls.\")"
   ]
  },
  {
   "cell_type": "code",
   "execution_count": 6,
   "metadata": {},
   "outputs": [
    {
     "name": "stdout",
     "output_type": "stream",
     "text": [
      "sales2017_df has shape: (3120, 36).\n",
      "\n",
      "sales2017_df has the following columns: Index(['Project Code', 'Invoice Number', 'Invoice Date', 'QTY', 'UNIT PRICE',\n",
      "       'TOTAL', 'Invoiced?\\n[Y / N]', 'Invoice \\nRemarks',\n",
      "       'Reason for \\nnot Invoicing', 'Entity', 'Actual Entity',\n",
      "       'Consultant Name', 'SCHOOL', 'Zone', 'Programme \\nName', 'UOM',\n",
      "       'Projected \\nAmount', 'January', 'February', 'March', 'March Hols',\n",
      "       'April', 'May', 'June Hols', 'July', 'August', 'September', 'Sep Hols',\n",
      "       'October', 'November', 'December', 'Payment \\nReference',\n",
      "       'Payment Date', 'Paid Amount', 'Outstanding\\nAmount',\n",
      "       'Service \\nConsultant'],\n",
      "      dtype='object')\n",
      "\n",
      "\n",
      "These are the top 5 rows of sales2017_df:\n"
     ]
    },
    {
     "data": {
      "text/html": [
       "<div>\n",
       "<style scoped>\n",
       "    .dataframe tbody tr th:only-of-type {\n",
       "        vertical-align: middle;\n",
       "    }\n",
       "\n",
       "    .dataframe tbody tr th {\n",
       "        vertical-align: top;\n",
       "    }\n",
       "\n",
       "    .dataframe thead th {\n",
       "        text-align: right;\n",
       "    }\n",
       "</style>\n",
       "<table border=\"1\" class=\"dataframe\">\n",
       "  <thead>\n",
       "    <tr style=\"text-align: right;\">\n",
       "      <th></th>\n",
       "      <th>Project Code</th>\n",
       "      <th>Invoice Number</th>\n",
       "      <th>Invoice Date</th>\n",
       "      <th>QTY</th>\n",
       "      <th>UNIT PRICE</th>\n",
       "      <th>TOTAL</th>\n",
       "      <th>Invoiced?\\n[Y / N]</th>\n",
       "      <th>Invoice \\nRemarks</th>\n",
       "      <th>Reason for \\nnot Invoicing</th>\n",
       "      <th>Entity</th>\n",
       "      <th>...</th>\n",
       "      <th>September</th>\n",
       "      <th>Sep Hols</th>\n",
       "      <th>October</th>\n",
       "      <th>November</th>\n",
       "      <th>December</th>\n",
       "      <th>Payment \\nReference</th>\n",
       "      <th>Payment Date</th>\n",
       "      <th>Paid Amount</th>\n",
       "      <th>Outstanding\\nAmount</th>\n",
       "      <th>Service \\nConsultant</th>\n",
       "    </tr>\n",
       "  </thead>\n",
       "  <tbody>\n",
       "    <tr>\n",
       "      <th>0</th>\n",
       "      <td>VARI17001</td>\n",
       "      <td>INVVARI1702001</td>\n",
       "      <td>16-Feb-17</td>\n",
       "      <td>4.5</td>\n",
       "      <td>$150.00</td>\n",
       "      <td>675</td>\n",
       "      <td>NaN</td>\n",
       "      <td>4.5X$150=$675</td>\n",
       "      <td>NaN</td>\n",
       "      <td>ARTELIER (INSTRUCTOR) PTE LTD</td>\n",
       "      <td>...</td>\n",
       "      <td>NaN</td>\n",
       "      <td>NaN</td>\n",
       "      <td>NaN</td>\n",
       "      <td>NaN</td>\n",
       "      <td>NaN</td>\n",
       "      <td>5003179999</td>\n",
       "      <td>07.03.17</td>\n",
       "      <td>$675.00</td>\n",
       "      <td>$0.00</td>\n",
       "      <td>NaN</td>\n",
       "    </tr>\n",
       "    <tr>\n",
       "      <th>1</th>\n",
       "      <td>VARI17001</td>\n",
       "      <td>INVVARI1703001</td>\n",
       "      <td>6-Mar-17</td>\n",
       "      <td>18</td>\n",
       "      <td>$150.00</td>\n",
       "      <td>2700</td>\n",
       "      <td>NaN</td>\n",
       "      <td>18 x $150=$2700</td>\n",
       "      <td>NaN</td>\n",
       "      <td>ARTELIER (INSTRUCTOR) PTE LTD</td>\n",
       "      <td>...</td>\n",
       "      <td>NaN</td>\n",
       "      <td>NaN</td>\n",
       "      <td>NaN</td>\n",
       "      <td>NaN</td>\n",
       "      <td>NaN</td>\n",
       "      <td>5003191063</td>\n",
       "      <td>23.03.17</td>\n",
       "      <td>$2,700.00</td>\n",
       "      <td>$0.00</td>\n",
       "      <td>NaN</td>\n",
       "    </tr>\n",
       "    <tr>\n",
       "      <th>2</th>\n",
       "      <td>VARI17001</td>\n",
       "      <td>INVVARI1705001</td>\n",
       "      <td>8-May-17</td>\n",
       "      <td>17.5</td>\n",
       "      <td>$150.00</td>\n",
       "      <td>2625</td>\n",
       "      <td>NaN</td>\n",
       "      <td>17.5 x 150=2625</td>\n",
       "      <td>NaN</td>\n",
       "      <td>ARTELIER (INSTRUCTOR) PTE LTD</td>\n",
       "      <td>...</td>\n",
       "      <td>NaN</td>\n",
       "      <td>NaN</td>\n",
       "      <td>NaN</td>\n",
       "      <td>NaN</td>\n",
       "      <td>NaN</td>\n",
       "      <td>5003220326</td>\n",
       "      <td>29.05.17</td>\n",
       "      <td>$2,625.00</td>\n",
       "      <td>$0.00</td>\n",
       "      <td>NaN</td>\n",
       "    </tr>\n",
       "    <tr>\n",
       "      <th>3</th>\n",
       "      <td>VARI17001</td>\n",
       "      <td>INVVARI1706001</td>\n",
       "      <td>14-Jun-17</td>\n",
       "      <td>4.5</td>\n",
       "      <td>$150.00</td>\n",
       "      <td>675</td>\n",
       "      <td>NaN</td>\n",
       "      <td>NaN</td>\n",
       "      <td>NaN</td>\n",
       "      <td>ARTELIER (INSTRUCTOR) PTE LTD</td>\n",
       "      <td>...</td>\n",
       "      <td>NaN</td>\n",
       "      <td>NaN</td>\n",
       "      <td>NaN</td>\n",
       "      <td>NaN</td>\n",
       "      <td>NaN</td>\n",
       "      <td>5003240231</td>\n",
       "      <td>10.07.17</td>\n",
       "      <td>$675.00</td>\n",
       "      <td>$0.00</td>\n",
       "      <td>NaN</td>\n",
       "    </tr>\n",
       "    <tr>\n",
       "      <th>4</th>\n",
       "      <td>VARI17002</td>\n",
       "      <td>BILLED UNDER PASSIONISTA</td>\n",
       "      <td>NaN</td>\n",
       "      <td>48</td>\n",
       "      <td>$85.00</td>\n",
       "      <td>0</td>\n",
       "      <td>NaN</td>\n",
       "      <td>NaN</td>\n",
       "      <td>NaN</td>\n",
       "      <td>ARTELIER (INSTRUCTOR) PTE LTD</td>\n",
       "      <td>...</td>\n",
       "      <td>NaN</td>\n",
       "      <td>NaN</td>\n",
       "      <td>NaN</td>\n",
       "      <td>NaN</td>\n",
       "      <td>NaN</td>\n",
       "      <td>NaN</td>\n",
       "      <td>NaN</td>\n",
       "      <td>NaN</td>\n",
       "      <td>$0.00</td>\n",
       "      <td>NaN</td>\n",
       "    </tr>\n",
       "  </tbody>\n",
       "</table>\n",
       "<p>5 rows × 36 columns</p>\n",
       "</div>"
      ],
      "text/plain": [
       "  Project Code            Invoice Number Invoice Date   QTY UNIT PRICE TOTAL  \\\n",
       "0    VARI17001            INVVARI1702001    16-Feb-17   4.5    $150.00   675   \n",
       "1    VARI17001            INVVARI1703001     6-Mar-17    18    $150.00  2700   \n",
       "2    VARI17001            INVVARI1705001     8-May-17  17.5    $150.00  2625   \n",
       "3    VARI17001            INVVARI1706001    14-Jun-17   4.5    $150.00   675   \n",
       "4    VARI17002  BILLED UNDER PASSIONISTA          NaN    48     $85.00     0   \n",
       "\n",
       "  Invoiced?\\n[Y / N] Invoice \\nRemarks Reason for \\nnot Invoicing  \\\n",
       "0                NaN     4.5X$150=$675                        NaN   \n",
       "1                NaN   18 x $150=$2700                        NaN   \n",
       "2                NaN   17.5 x 150=2625                        NaN   \n",
       "3                NaN               NaN                        NaN   \n",
       "4                NaN               NaN                        NaN   \n",
       "\n",
       "                          Entity  ... September Sep Hols October November  \\\n",
       "0  ARTELIER (INSTRUCTOR) PTE LTD  ...       NaN      NaN     NaN      NaN   \n",
       "1  ARTELIER (INSTRUCTOR) PTE LTD  ...       NaN      NaN     NaN      NaN   \n",
       "2  ARTELIER (INSTRUCTOR) PTE LTD  ...       NaN      NaN     NaN      NaN   \n",
       "3  ARTELIER (INSTRUCTOR) PTE LTD  ...       NaN      NaN     NaN      NaN   \n",
       "4  ARTELIER (INSTRUCTOR) PTE LTD  ...       NaN      NaN     NaN      NaN   \n",
       "\n",
       "  December Payment \\nReference Payment Date Paid Amount Outstanding\\nAmount  \\\n",
       "0      NaN          5003179999     07.03.17     $675.00               $0.00   \n",
       "1      NaN          5003191063     23.03.17   $2,700.00               $0.00   \n",
       "2      NaN          5003220326     29.05.17   $2,625.00               $0.00   \n",
       "3      NaN          5003240231     10.07.17     $675.00               $0.00   \n",
       "4      NaN                 NaN          NaN         NaN               $0.00   \n",
       "\n",
       "  Service \\nConsultant  \n",
       "0                  NaN  \n",
       "1                  NaN  \n",
       "2                  NaN  \n",
       "3                  NaN  \n",
       "4                  NaN  \n",
       "\n",
       "[5 rows x 36 columns]"
      ]
     },
     "metadata": {},
     "output_type": "display_data"
    },
    {
     "name": "stdout",
     "output_type": "stream",
     "text": [
      "\n",
      "\n",
      "These are the bottom 5 rows of sales2017_df:\n"
     ]
    },
    {
     "data": {
      "text/html": [
       "<div>\n",
       "<style scoped>\n",
       "    .dataframe tbody tr th:only-of-type {\n",
       "        vertical-align: middle;\n",
       "    }\n",
       "\n",
       "    .dataframe tbody tr th {\n",
       "        vertical-align: top;\n",
       "    }\n",
       "\n",
       "    .dataframe thead th {\n",
       "        text-align: right;\n",
       "    }\n",
       "</style>\n",
       "<table border=\"1\" class=\"dataframe\">\n",
       "  <thead>\n",
       "    <tr style=\"text-align: right;\">\n",
       "      <th></th>\n",
       "      <th>Project Code</th>\n",
       "      <th>Invoice Number</th>\n",
       "      <th>Invoice Date</th>\n",
       "      <th>QTY</th>\n",
       "      <th>UNIT PRICE</th>\n",
       "      <th>TOTAL</th>\n",
       "      <th>Invoiced?\\n[Y / N]</th>\n",
       "      <th>Invoice \\nRemarks</th>\n",
       "      <th>Reason for \\nnot Invoicing</th>\n",
       "      <th>Entity</th>\n",
       "      <th>...</th>\n",
       "      <th>September</th>\n",
       "      <th>Sep Hols</th>\n",
       "      <th>October</th>\n",
       "      <th>November</th>\n",
       "      <th>December</th>\n",
       "      <th>Payment \\nReference</th>\n",
       "      <th>Payment Date</th>\n",
       "      <th>Paid Amount</th>\n",
       "      <th>Outstanding\\nAmount</th>\n",
       "      <th>Service \\nConsultant</th>\n",
       "    </tr>\n",
       "  </thead>\n",
       "  <tbody>\n",
       "    <tr>\n",
       "      <th>3115</th>\n",
       "      <td>NaN</td>\n",
       "      <td>NaN</td>\n",
       "      <td>NaN</td>\n",
       "      <td>NaN</td>\n",
       "      <td>NaN</td>\n",
       "      <td>$0.00</td>\n",
       "      <td>NaN</td>\n",
       "      <td>NaN</td>\n",
       "      <td>NaN</td>\n",
       "      <td>NaN</td>\n",
       "      <td>...</td>\n",
       "      <td>NaN</td>\n",
       "      <td>NaN</td>\n",
       "      <td>NaN</td>\n",
       "      <td>NaN</td>\n",
       "      <td>NaN</td>\n",
       "      <td>NaN</td>\n",
       "      <td>NaN</td>\n",
       "      <td>NaN</td>\n",
       "      <td>$0.00</td>\n",
       "      <td>NaN</td>\n",
       "    </tr>\n",
       "    <tr>\n",
       "      <th>3116</th>\n",
       "      <td>NaN</td>\n",
       "      <td>NaN</td>\n",
       "      <td>NaN</td>\n",
       "      <td>NaN</td>\n",
       "      <td>NaN</td>\n",
       "      <td>$0.00</td>\n",
       "      <td>NaN</td>\n",
       "      <td>NaN</td>\n",
       "      <td>NaN</td>\n",
       "      <td>NaN</td>\n",
       "      <td>...</td>\n",
       "      <td>NaN</td>\n",
       "      <td>NaN</td>\n",
       "      <td>NaN</td>\n",
       "      <td>NaN</td>\n",
       "      <td>NaN</td>\n",
       "      <td>NaN</td>\n",
       "      <td>NaN</td>\n",
       "      <td>NaN</td>\n",
       "      <td>$0.00</td>\n",
       "      <td>NaN</td>\n",
       "    </tr>\n",
       "    <tr>\n",
       "      <th>3117</th>\n",
       "      <td>NaN</td>\n",
       "      <td>NaN</td>\n",
       "      <td>NaN</td>\n",
       "      <td>NaN</td>\n",
       "      <td>NaN</td>\n",
       "      <td>$0.00</td>\n",
       "      <td>NaN</td>\n",
       "      <td>NaN</td>\n",
       "      <td>NaN</td>\n",
       "      <td>NaN</td>\n",
       "      <td>...</td>\n",
       "      <td>NaN</td>\n",
       "      <td>NaN</td>\n",
       "      <td>NaN</td>\n",
       "      <td>NaN</td>\n",
       "      <td>NaN</td>\n",
       "      <td>NaN</td>\n",
       "      <td>NaN</td>\n",
       "      <td>NaN</td>\n",
       "      <td>$0.00</td>\n",
       "      <td>NaN</td>\n",
       "    </tr>\n",
       "    <tr>\n",
       "      <th>3118</th>\n",
       "      <td>NaN</td>\n",
       "      <td>NaN</td>\n",
       "      <td>NaN</td>\n",
       "      <td>NaN</td>\n",
       "      <td>NaN</td>\n",
       "      <td>$0.00</td>\n",
       "      <td>NaN</td>\n",
       "      <td>NaN</td>\n",
       "      <td>NaN</td>\n",
       "      <td>NaN</td>\n",
       "      <td>...</td>\n",
       "      <td>NaN</td>\n",
       "      <td>NaN</td>\n",
       "      <td>NaN</td>\n",
       "      <td>NaN</td>\n",
       "      <td>NaN</td>\n",
       "      <td>NaN</td>\n",
       "      <td>NaN</td>\n",
       "      <td>NaN</td>\n",
       "      <td>$0.00</td>\n",
       "      <td>NaN</td>\n",
       "    </tr>\n",
       "    <tr>\n",
       "      <th>3119</th>\n",
       "      <td>NaN</td>\n",
       "      <td>NaN</td>\n",
       "      <td>NaN</td>\n",
       "      <td>NaN</td>\n",
       "      <td>NaN</td>\n",
       "      <td>$0.00</td>\n",
       "      <td>NaN</td>\n",
       "      <td>NaN</td>\n",
       "      <td>NaN</td>\n",
       "      <td>NaN</td>\n",
       "      <td>...</td>\n",
       "      <td>NaN</td>\n",
       "      <td>NaN</td>\n",
       "      <td>NaN</td>\n",
       "      <td>NaN</td>\n",
       "      <td>NaN</td>\n",
       "      <td>NaN</td>\n",
       "      <td>NaN</td>\n",
       "      <td>NaN</td>\n",
       "      <td>$0.00</td>\n",
       "      <td>NaN</td>\n",
       "    </tr>\n",
       "  </tbody>\n",
       "</table>\n",
       "<p>5 rows × 36 columns</p>\n",
       "</div>"
      ],
      "text/plain": [
       "     Project Code Invoice Number Invoice Date  QTY UNIT PRICE  TOTAL  \\\n",
       "3115          NaN            NaN          NaN  NaN        NaN  $0.00   \n",
       "3116          NaN            NaN          NaN  NaN        NaN  $0.00   \n",
       "3117          NaN            NaN          NaN  NaN        NaN  $0.00   \n",
       "3118          NaN            NaN          NaN  NaN        NaN  $0.00   \n",
       "3119          NaN            NaN          NaN  NaN        NaN  $0.00   \n",
       "\n",
       "     Invoiced?\\n[Y / N] Invoice \\nRemarks Reason for \\nnot Invoicing Entity  \\\n",
       "3115                NaN               NaN                        NaN    NaN   \n",
       "3116                NaN               NaN                        NaN    NaN   \n",
       "3117                NaN               NaN                        NaN    NaN   \n",
       "3118                NaN               NaN                        NaN    NaN   \n",
       "3119                NaN               NaN                        NaN    NaN   \n",
       "\n",
       "      ... September Sep Hols October November December Payment \\nReference  \\\n",
       "3115  ...       NaN      NaN     NaN      NaN      NaN                 NaN   \n",
       "3116  ...       NaN      NaN     NaN      NaN      NaN                 NaN   \n",
       "3117  ...       NaN      NaN     NaN      NaN      NaN                 NaN   \n",
       "3118  ...       NaN      NaN     NaN      NaN      NaN                 NaN   \n",
       "3119  ...       NaN      NaN     NaN      NaN      NaN                 NaN   \n",
       "\n",
       "     Payment Date Paid Amount Outstanding\\nAmount Service \\nConsultant  \n",
       "3115          NaN         NaN               $0.00                  NaN  \n",
       "3116          NaN         NaN               $0.00                  NaN  \n",
       "3117          NaN         NaN               $0.00                  NaN  \n",
       "3118          NaN         NaN               $0.00                  NaN  \n",
       "3119          NaN         NaN               $0.00                  NaN  \n",
       "\n",
       "[5 rows x 36 columns]"
      ]
     },
     "metadata": {},
     "output_type": "display_data"
    },
    {
     "name": "stdout",
     "output_type": "stream",
     "text": [
      "\n",
      "\n",
      "sales2017_df has a total 93370 of nulls.\n",
      "\n",
      "\n",
      "The columns in sales2017_df with nulls are: ['Project Code', 'Invoice Number', 'Invoice Date', 'QTY', 'UNIT PRICE', 'TOTAL', 'Invoiced?\\n[Y / N]', 'Invoice \\nRemarks', 'Reason for \\nnot Invoicing', 'Entity', 'Actual Entity', 'Consultant Name', 'SCHOOL', 'Zone', 'Programme \\nName', 'UOM', 'Projected \\nAmount', 'January', 'February', 'March', 'March Hols', 'April', 'May', 'June Hols', 'July', 'August', 'September', 'Sep Hols', 'October', 'November', 'December', 'Payment \\nReference', 'Payment Date', 'Paid Amount', 'Outstanding\\nAmount', 'Service \\nConsultant']\n",
      "\n",
      "\n",
      "The variables with nulls in sales2017_df are:\n"
     ]
    },
    {
     "data": {
      "text/plain": [
       "Project Code                   901\n",
       "Invoice Number                2793\n",
       "Invoice Date                  2818\n",
       "QTY                           2796\n",
       "UNIT PRICE                    2795\n",
       "TOTAL                           22\n",
       "Invoiced?\\n[Y / N]            2872\n",
       "Invoice \\nRemarks             3081\n",
       "Reason for \\nnot Invoicing    3099\n",
       "Entity                         908\n",
       "Actual Entity                 2782\n",
       "Consultant Name               2774\n",
       "SCHOOL                        2775\n",
       "Zone                          2782\n",
       "Programme \\nName              2775\n",
       "UOM                           2789\n",
       "Projected \\nAmount               7\n",
       "January                       3078\n",
       "February                      3067\n",
       "March                         3060\n",
       "March Hols                    3117\n",
       "April                         3073\n",
       "May                           3047\n",
       "June Hols                     3108\n",
       "July                          3059\n",
       "August                        3068\n",
       "September                     3081\n",
       "Sep Hols                      3118\n",
       "October                       3047\n",
       "November                      3086\n",
       "December                      3113\n",
       "Payment \\nReference           2814\n",
       "Payment Date                  2800\n",
       "Paid Amount                   2800\n",
       "Outstanding\\nAmount              2\n",
       "Service \\nConsultant          3063\n",
       "dtype: int64"
      ]
     },
     "metadata": {},
     "output_type": "display_data"
    },
    {
     "name": "stdout",
     "output_type": "stream",
     "text": [
      "\n",
      "\n",
      "The top 5 variables in sales2017_df with the highest percentage of missing values are:\n"
     ]
    },
    {
     "data": {
      "text/plain": [
       "Sep Hols                      0.999359\n",
       "March Hols                    0.999038\n",
       "December                      0.997756\n",
       "June Hols                     0.996154\n",
       "Reason for \\nnot Invoicing    0.993269\n",
       "dtype: float64"
      ]
     },
     "metadata": {},
     "output_type": "display_data"
    }
   ],
   "source": [
    "# Previewing sales2017_df\n",
    "\n",
    "preview(sales2017_df)"
   ]
  },
  {
   "cell_type": "code",
   "execution_count": 7,
   "metadata": {},
   "outputs": [
    {
     "name": "stdout",
     "output_type": "stream",
     "text": [
      "sales2018_df has shape: (3798, 36).\n",
      "\n",
      "sales2018_df has the following columns: Index(['Project Code', 'Invoice Number', 'Invoice Date', 'QTY', 'UNIT PRICE',\n",
      "       'TOTAL', 'Invoiced?\\n[Y / N]', 'Invoice \\nRemarks',\n",
      "       'Reason for \\nnot Invoicing', 'Entity', 'Actual Entity',\n",
      "       'Consultant Name', 'SCHOOL', 'Zone', 'Programme \\nName', 'UOM',\n",
      "       'Projected \\nAmount', 'January', 'February', 'March', 'March Hols',\n",
      "       'April', 'May', 'June Hols', 'July', 'August', 'September', 'Sep Hols',\n",
      "       'October', 'November', 'December', 'Payment \\nReference',\n",
      "       'Payment Date', 'Paid Amount', 'Outstanding\\nAmount',\n",
      "       'Service \\nConsultant'],\n",
      "      dtype='object')\n",
      "\n",
      "\n",
      "These are the top 5 rows of sales2018_df:\n"
     ]
    },
    {
     "data": {
      "text/html": [
       "<div>\n",
       "<style scoped>\n",
       "    .dataframe tbody tr th:only-of-type {\n",
       "        vertical-align: middle;\n",
       "    }\n",
       "\n",
       "    .dataframe tbody tr th {\n",
       "        vertical-align: top;\n",
       "    }\n",
       "\n",
       "    .dataframe thead th {\n",
       "        text-align: right;\n",
       "    }\n",
       "</style>\n",
       "<table border=\"1\" class=\"dataframe\">\n",
       "  <thead>\n",
       "    <tr style=\"text-align: right;\">\n",
       "      <th></th>\n",
       "      <th>Project Code</th>\n",
       "      <th>Invoice Number</th>\n",
       "      <th>Invoice Date</th>\n",
       "      <th>QTY</th>\n",
       "      <th>UNIT PRICE</th>\n",
       "      <th>TOTAL</th>\n",
       "      <th>Invoiced?\\n[Y / N]</th>\n",
       "      <th>Invoice \\nRemarks</th>\n",
       "      <th>Reason for \\nnot Invoicing</th>\n",
       "      <th>Entity</th>\n",
       "      <th>...</th>\n",
       "      <th>September</th>\n",
       "      <th>Sep Hols</th>\n",
       "      <th>October</th>\n",
       "      <th>November</th>\n",
       "      <th>December</th>\n",
       "      <th>Payment \\nReference</th>\n",
       "      <th>Payment Date</th>\n",
       "      <th>Paid Amount</th>\n",
       "      <th>Outstanding\\nAmount</th>\n",
       "      <th>Service \\nConsultant</th>\n",
       "    </tr>\n",
       "  </thead>\n",
       "  <tbody>\n",
       "    <tr>\n",
       "      <th>0</th>\n",
       "      <td>VARI18001</td>\n",
       "      <td>NaN</td>\n",
       "      <td>NaN</td>\n",
       "      <td>NaN</td>\n",
       "      <td>NaN</td>\n",
       "      <td>$0.00</td>\n",
       "      <td>NaN</td>\n",
       "      <td>NaN</td>\n",
       "      <td>NaN</td>\n",
       "      <td>ARTELIER (INSTRUCTOR) PTE LTD</td>\n",
       "      <td>...</td>\n",
       "      <td>NaN</td>\n",
       "      <td>NaN</td>\n",
       "      <td>NaN</td>\n",
       "      <td>NaN</td>\n",
       "      <td>NaN</td>\n",
       "      <td>NaN</td>\n",
       "      <td>NaN</td>\n",
       "      <td>NaN</td>\n",
       "      <td>$0.00</td>\n",
       "      <td>NaN</td>\n",
       "    </tr>\n",
       "    <tr>\n",
       "      <th>1</th>\n",
       "      <td>VARI18002</td>\n",
       "      <td>NaN</td>\n",
       "      <td>NaN</td>\n",
       "      <td>NaN</td>\n",
       "      <td>NaN</td>\n",
       "      <td>$0.00</td>\n",
       "      <td>NaN</td>\n",
       "      <td>NaN</td>\n",
       "      <td>NaN</td>\n",
       "      <td>ARTELIER (INSTRUCTOR) PTE LTD</td>\n",
       "      <td>...</td>\n",
       "      <td>NaN</td>\n",
       "      <td>NaN</td>\n",
       "      <td>NaN</td>\n",
       "      <td>NaN</td>\n",
       "      <td>NaN</td>\n",
       "      <td>NaN</td>\n",
       "      <td>NaN</td>\n",
       "      <td>NaN</td>\n",
       "      <td>$0.00</td>\n",
       "      <td>NaN</td>\n",
       "    </tr>\n",
       "    <tr>\n",
       "      <th>2</th>\n",
       "      <td>VARI18003</td>\n",
       "      <td>NaN</td>\n",
       "      <td>NaN</td>\n",
       "      <td>NaN</td>\n",
       "      <td>NaN</td>\n",
       "      <td>$0.00</td>\n",
       "      <td>NaN</td>\n",
       "      <td>NaN</td>\n",
       "      <td>NaN</td>\n",
       "      <td>ARTELIER (INSTRUCTOR) PTE LTD</td>\n",
       "      <td>...</td>\n",
       "      <td>NaN</td>\n",
       "      <td>NaN</td>\n",
       "      <td>NaN</td>\n",
       "      <td>NaN</td>\n",
       "      <td>NaN</td>\n",
       "      <td>NaN</td>\n",
       "      <td>NaN</td>\n",
       "      <td>NaN</td>\n",
       "      <td>$0.00</td>\n",
       "      <td>NaN</td>\n",
       "    </tr>\n",
       "    <tr>\n",
       "      <th>3</th>\n",
       "      <td>VARI18004</td>\n",
       "      <td>NaN</td>\n",
       "      <td>NaN</td>\n",
       "      <td>NaN</td>\n",
       "      <td>NaN</td>\n",
       "      <td>$0.00</td>\n",
       "      <td>NaN</td>\n",
       "      <td>NaN</td>\n",
       "      <td>NaN</td>\n",
       "      <td>ARTELIER (INSTRUCTOR) PTE LTD</td>\n",
       "      <td>...</td>\n",
       "      <td>NaN</td>\n",
       "      <td>NaN</td>\n",
       "      <td>NaN</td>\n",
       "      <td>NaN</td>\n",
       "      <td>NaN</td>\n",
       "      <td>NaN</td>\n",
       "      <td>NaN</td>\n",
       "      <td>NaN</td>\n",
       "      <td>$0.00</td>\n",
       "      <td>NaN</td>\n",
       "    </tr>\n",
       "    <tr>\n",
       "      <th>4</th>\n",
       "      <td>VARI18005</td>\n",
       "      <td>NaN</td>\n",
       "      <td>NaN</td>\n",
       "      <td>NaN</td>\n",
       "      <td>NaN</td>\n",
       "      <td>$0.00</td>\n",
       "      <td>NaN</td>\n",
       "      <td>NaN</td>\n",
       "      <td>NaN</td>\n",
       "      <td>ARTELIER (INSTRUCTOR) PTE LTD</td>\n",
       "      <td>...</td>\n",
       "      <td>NaN</td>\n",
       "      <td>NaN</td>\n",
       "      <td>NaN</td>\n",
       "      <td>NaN</td>\n",
       "      <td>NaN</td>\n",
       "      <td>NaN</td>\n",
       "      <td>NaN</td>\n",
       "      <td>NaN</td>\n",
       "      <td>$0.00</td>\n",
       "      <td>NaN</td>\n",
       "    </tr>\n",
       "  </tbody>\n",
       "</table>\n",
       "<p>5 rows × 36 columns</p>\n",
       "</div>"
      ],
      "text/plain": [
       "  Project Code Invoice Number Invoice Date  QTY UNIT PRICE  TOTAL  \\\n",
       "0    VARI18001            NaN          NaN  NaN        NaN  $0.00   \n",
       "1    VARI18002            NaN          NaN  NaN        NaN  $0.00   \n",
       "2    VARI18003            NaN          NaN  NaN        NaN  $0.00   \n",
       "3    VARI18004            NaN          NaN  NaN        NaN  $0.00   \n",
       "4    VARI18005            NaN          NaN  NaN        NaN  $0.00   \n",
       "\n",
       "  Invoiced?\\n[Y / N] Invoice \\nRemarks Reason for \\nnot Invoicing  \\\n",
       "0                NaN               NaN                        NaN   \n",
       "1                NaN               NaN                        NaN   \n",
       "2                NaN               NaN                        NaN   \n",
       "3                NaN               NaN                        NaN   \n",
       "4                NaN               NaN                        NaN   \n",
       "\n",
       "                          Entity  ... September Sep Hols October November  \\\n",
       "0  ARTELIER (INSTRUCTOR) PTE LTD  ...       NaN      NaN     NaN      NaN   \n",
       "1  ARTELIER (INSTRUCTOR) PTE LTD  ...       NaN      NaN     NaN      NaN   \n",
       "2  ARTELIER (INSTRUCTOR) PTE LTD  ...       NaN      NaN     NaN      NaN   \n",
       "3  ARTELIER (INSTRUCTOR) PTE LTD  ...       NaN      NaN     NaN      NaN   \n",
       "4  ARTELIER (INSTRUCTOR) PTE LTD  ...       NaN      NaN     NaN      NaN   \n",
       "\n",
       "  December Payment \\nReference Payment Date Paid Amount Outstanding\\nAmount  \\\n",
       "0      NaN                 NaN          NaN         NaN               $0.00   \n",
       "1      NaN                 NaN          NaN         NaN               $0.00   \n",
       "2      NaN                 NaN          NaN         NaN               $0.00   \n",
       "3      NaN                 NaN          NaN         NaN               $0.00   \n",
       "4      NaN                 NaN          NaN         NaN               $0.00   \n",
       "\n",
       "  Service \\nConsultant  \n",
       "0                  NaN  \n",
       "1                  NaN  \n",
       "2                  NaN  \n",
       "3                  NaN  \n",
       "4                  NaN  \n",
       "\n",
       "[5 rows x 36 columns]"
      ]
     },
     "metadata": {},
     "output_type": "display_data"
    },
    {
     "name": "stdout",
     "output_type": "stream",
     "text": [
      "\n",
      "\n",
      "These are the bottom 5 rows of sales2018_df:\n"
     ]
    },
    {
     "data": {
      "text/html": [
       "<div>\n",
       "<style scoped>\n",
       "    .dataframe tbody tr th:only-of-type {\n",
       "        vertical-align: middle;\n",
       "    }\n",
       "\n",
       "    .dataframe tbody tr th {\n",
       "        vertical-align: top;\n",
       "    }\n",
       "\n",
       "    .dataframe thead th {\n",
       "        text-align: right;\n",
       "    }\n",
       "</style>\n",
       "<table border=\"1\" class=\"dataframe\">\n",
       "  <thead>\n",
       "    <tr style=\"text-align: right;\">\n",
       "      <th></th>\n",
       "      <th>Project Code</th>\n",
       "      <th>Invoice Number</th>\n",
       "      <th>Invoice Date</th>\n",
       "      <th>QTY</th>\n",
       "      <th>UNIT PRICE</th>\n",
       "      <th>TOTAL</th>\n",
       "      <th>Invoiced?\\n[Y / N]</th>\n",
       "      <th>Invoice \\nRemarks</th>\n",
       "      <th>Reason for \\nnot Invoicing</th>\n",
       "      <th>Entity</th>\n",
       "      <th>...</th>\n",
       "      <th>September</th>\n",
       "      <th>Sep Hols</th>\n",
       "      <th>October</th>\n",
       "      <th>November</th>\n",
       "      <th>December</th>\n",
       "      <th>Payment \\nReference</th>\n",
       "      <th>Payment Date</th>\n",
       "      <th>Paid Amount</th>\n",
       "      <th>Outstanding\\nAmount</th>\n",
       "      <th>Service \\nConsultant</th>\n",
       "    </tr>\n",
       "  </thead>\n",
       "  <tbody>\n",
       "    <tr>\n",
       "      <th>3793</th>\n",
       "      <td>TL18198</td>\n",
       "      <td>NaN</td>\n",
       "      <td>NaN</td>\n",
       "      <td>NaN</td>\n",
       "      <td>NaN</td>\n",
       "      <td>NaN</td>\n",
       "      <td>NaN</td>\n",
       "      <td>NaN</td>\n",
       "      <td>NaN</td>\n",
       "      <td>NaN</td>\n",
       "      <td>...</td>\n",
       "      <td>NaN</td>\n",
       "      <td>NaN</td>\n",
       "      <td>NaN</td>\n",
       "      <td>NaN</td>\n",
       "      <td>NaN</td>\n",
       "      <td>NaN</td>\n",
       "      <td>NaN</td>\n",
       "      <td>NaN</td>\n",
       "      <td>NaN</td>\n",
       "      <td>NaN</td>\n",
       "    </tr>\n",
       "    <tr>\n",
       "      <th>3794</th>\n",
       "      <td>TL18199</td>\n",
       "      <td>NaN</td>\n",
       "      <td>NaN</td>\n",
       "      <td>NaN</td>\n",
       "      <td>NaN</td>\n",
       "      <td>NaN</td>\n",
       "      <td>NaN</td>\n",
       "      <td>NaN</td>\n",
       "      <td>NaN</td>\n",
       "      <td>NaN</td>\n",
       "      <td>...</td>\n",
       "      <td>NaN</td>\n",
       "      <td>NaN</td>\n",
       "      <td>NaN</td>\n",
       "      <td>NaN</td>\n",
       "      <td>NaN</td>\n",
       "      <td>NaN</td>\n",
       "      <td>NaN</td>\n",
       "      <td>NaN</td>\n",
       "      <td>NaN</td>\n",
       "      <td>NaN</td>\n",
       "    </tr>\n",
       "    <tr>\n",
       "      <th>3795</th>\n",
       "      <td>TL18200</td>\n",
       "      <td>NaN</td>\n",
       "      <td>NaN</td>\n",
       "      <td>NaN</td>\n",
       "      <td>NaN</td>\n",
       "      <td>NaN</td>\n",
       "      <td>NaN</td>\n",
       "      <td>NaN</td>\n",
       "      <td>NaN</td>\n",
       "      <td>NaN</td>\n",
       "      <td>...</td>\n",
       "      <td>NaN</td>\n",
       "      <td>NaN</td>\n",
       "      <td>NaN</td>\n",
       "      <td>NaN</td>\n",
       "      <td>NaN</td>\n",
       "      <td>NaN</td>\n",
       "      <td>NaN</td>\n",
       "      <td>NaN</td>\n",
       "      <td>NaN</td>\n",
       "      <td>NaN</td>\n",
       "    </tr>\n",
       "    <tr>\n",
       "      <th>3796</th>\n",
       "      <td>VART18015</td>\n",
       "      <td>NaN</td>\n",
       "      <td>NaN</td>\n",
       "      <td>84.0</td>\n",
       "      <td>$108.00</td>\n",
       "      <td>$9,072.00</td>\n",
       "      <td>NaN</td>\n",
       "      <td>NaN</td>\n",
       "      <td>NaN</td>\n",
       "      <td>ARTELIER PTE LTD</td>\n",
       "      <td>...</td>\n",
       "      <td>NaN</td>\n",
       "      <td>NaN</td>\n",
       "      <td>NaN</td>\n",
       "      <td>NaN</td>\n",
       "      <td>NaN</td>\n",
       "      <td>NaN</td>\n",
       "      <td>NaN</td>\n",
       "      <td>NaN</td>\n",
       "      <td>NaN</td>\n",
       "      <td>NaN</td>\n",
       "    </tr>\n",
       "    <tr>\n",
       "      <th>3797</th>\n",
       "      <td>TL18014</td>\n",
       "      <td>NaN</td>\n",
       "      <td>NaN</td>\n",
       "      <td>2.0</td>\n",
       "      <td>$1,000.00</td>\n",
       "      <td>NaN</td>\n",
       "      <td>NaN</td>\n",
       "      <td>NaN</td>\n",
       "      <td>NaN</td>\n",
       "      <td>NaN</td>\n",
       "      <td>...</td>\n",
       "      <td>NaN</td>\n",
       "      <td>NaN</td>\n",
       "      <td>NaN</td>\n",
       "      <td>NaN</td>\n",
       "      <td>NaN</td>\n",
       "      <td>NaN</td>\n",
       "      <td>NaN</td>\n",
       "      <td>NaN</td>\n",
       "      <td>NaN</td>\n",
       "      <td>NaN</td>\n",
       "    </tr>\n",
       "  </tbody>\n",
       "</table>\n",
       "<p>5 rows × 36 columns</p>\n",
       "</div>"
      ],
      "text/plain": [
       "     Project Code Invoice Number Invoice Date   QTY UNIT PRICE      TOTAL  \\\n",
       "3793      TL18198            NaN          NaN   NaN        NaN        NaN   \n",
       "3794      TL18199            NaN          NaN   NaN        NaN        NaN   \n",
       "3795      TL18200            NaN          NaN   NaN        NaN        NaN   \n",
       "3796    VART18015            NaN          NaN  84.0    $108.00  $9,072.00   \n",
       "3797      TL18014            NaN          NaN   2.0  $1,000.00        NaN   \n",
       "\n",
       "     Invoiced?\\n[Y / N] Invoice \\nRemarks Reason for \\nnot Invoicing  \\\n",
       "3793                NaN               NaN                        NaN   \n",
       "3794                NaN               NaN                        NaN   \n",
       "3795                NaN               NaN                        NaN   \n",
       "3796                NaN               NaN                        NaN   \n",
       "3797                NaN               NaN                        NaN   \n",
       "\n",
       "                Entity  ... September Sep Hols October November December  \\\n",
       "3793               NaN  ...       NaN      NaN     NaN      NaN      NaN   \n",
       "3794               NaN  ...       NaN      NaN     NaN      NaN      NaN   \n",
       "3795               NaN  ...       NaN      NaN     NaN      NaN      NaN   \n",
       "3796  ARTELIER PTE LTD  ...       NaN      NaN     NaN      NaN      NaN   \n",
       "3797               NaN  ...       NaN      NaN     NaN      NaN      NaN   \n",
       "\n",
       "     Payment \\nReference Payment Date Paid Amount Outstanding\\nAmount  \\\n",
       "3793                 NaN          NaN         NaN                 NaN   \n",
       "3794                 NaN          NaN         NaN                 NaN   \n",
       "3795                 NaN          NaN         NaN                 NaN   \n",
       "3796                 NaN          NaN         NaN                 NaN   \n",
       "3797                 NaN          NaN         NaN                 NaN   \n",
       "\n",
       "     Service \\nConsultant  \n",
       "3793                  NaN  \n",
       "3794                  NaN  \n",
       "3795                  NaN  \n",
       "3796                  NaN  \n",
       "3797                  NaN  \n",
       "\n",
       "[5 rows x 36 columns]"
      ]
     },
     "metadata": {},
     "output_type": "display_data"
    },
    {
     "name": "stdout",
     "output_type": "stream",
     "text": [
      "\n",
      "\n",
      "sales2018_df has a total 109756 of nulls.\n",
      "\n",
      "\n",
      "The columns in sales2018_df with nulls are: ['Project Code', 'Invoice Number', 'Invoice Date', 'QTY', 'UNIT PRICE', 'TOTAL', 'Invoiced?\\n[Y / N]', 'Invoice \\nRemarks', 'Reason for \\nnot Invoicing', 'Entity', 'Actual Entity', 'Consultant Name', 'SCHOOL', 'Zone', 'Programme \\nName', 'UOM', 'Projected \\nAmount', 'January', 'February', 'March', 'March Hols', 'April', 'May', 'June Hols', 'July', 'August', 'September', 'Sep Hols', 'October', 'November', 'December', 'Payment \\nReference', 'Payment Date', 'Paid Amount', 'Outstanding\\nAmount', 'Service \\nConsultant']\n",
      "\n",
      "\n",
      "The variables with nulls in sales2018_df are:\n"
     ]
    },
    {
     "data": {
      "text/plain": [
       "Project Code                     3\n",
       "Invoice Number                3236\n",
       "Invoice Date                  3247\n",
       "QTY                           3238\n",
       "UNIT PRICE                    3238\n",
       "TOTAL                          111\n",
       "Invoiced?\\n[Y / N]            3471\n",
       "Invoice \\nRemarks             3741\n",
       "Reason for \\nnot Invoicing    3772\n",
       "Entity                         190\n",
       "Actual Entity                 3256\n",
       "Consultant Name               3210\n",
       "SCHOOL                        3222\n",
       "Zone                          3239\n",
       "Programme \\nName              3224\n",
       "UOM                           3276\n",
       "Projected \\nAmount             107\n",
       "January                       3738\n",
       "February                      3730\n",
       "March                         3704\n",
       "March Hols                    3795\n",
       "April                         3738\n",
       "May                           3708\n",
       "June Hols                     3772\n",
       "July                          3722\n",
       "August                        3735\n",
       "September                     3745\n",
       "Sep Hols                      3793\n",
       "October                       3613\n",
       "November                      3713\n",
       "December                      3792\n",
       "Payment \\nReference           3249\n",
       "Payment Date                  3251\n",
       "Paid Amount                   3249\n",
       "Outstanding\\nAmount            192\n",
       "Service \\nConsultant          3736\n",
       "dtype: int64"
      ]
     },
     "metadata": {},
     "output_type": "display_data"
    },
    {
     "name": "stdout",
     "output_type": "stream",
     "text": [
      "\n",
      "\n",
      "The top 5 variables in sales2018_df with the highest percentage of missing values are:\n"
     ]
    },
    {
     "data": {
      "text/plain": [
       "March Hols                    0.999210\n",
       "Sep Hols                      0.998684\n",
       "December                      0.998420\n",
       "Reason for \\nnot Invoicing    0.993154\n",
       "June Hols                     0.993154\n",
       "dtype: float64"
      ]
     },
     "metadata": {},
     "output_type": "display_data"
    }
   ],
   "source": [
    "# Previewing sales2018_df\n",
    "\n",
    "preview(sales2018_df)"
   ]
  },
  {
   "cell_type": "code",
   "execution_count": 8,
   "metadata": {},
   "outputs": [],
   "source": [
    "# Combining sales2017_df and sales2018_df\n",
    "\n",
    "combined_df = pd.concat([sales2017_df, sales2018_df], ignore_index=True)"
   ]
  },
  {
   "cell_type": "code",
   "execution_count": 9,
   "metadata": {},
   "outputs": [
    {
     "name": "stdout",
     "output_type": "stream",
     "text": [
      "combined_df has shape: (6918, 36).\n",
      "\n",
      "combined_df has the following columns: Index(['Project Code', 'Invoice Number', 'Invoice Date', 'QTY', 'UNIT PRICE',\n",
      "       'TOTAL', 'Invoiced?\\n[Y / N]', 'Invoice \\nRemarks',\n",
      "       'Reason for \\nnot Invoicing', 'Entity', 'Actual Entity',\n",
      "       'Consultant Name', 'SCHOOL', 'Zone', 'Programme \\nName', 'UOM',\n",
      "       'Projected \\nAmount', 'January', 'February', 'March', 'March Hols',\n",
      "       'April', 'May', 'June Hols', 'July', 'August', 'September', 'Sep Hols',\n",
      "       'October', 'November', 'December', 'Payment \\nReference',\n",
      "       'Payment Date', 'Paid Amount', 'Outstanding\\nAmount',\n",
      "       'Service \\nConsultant'],\n",
      "      dtype='object')\n",
      "\n",
      "\n",
      "These are the top 5 rows of combined_df:\n"
     ]
    },
    {
     "data": {
      "text/html": [
       "<div>\n",
       "<style scoped>\n",
       "    .dataframe tbody tr th:only-of-type {\n",
       "        vertical-align: middle;\n",
       "    }\n",
       "\n",
       "    .dataframe tbody tr th {\n",
       "        vertical-align: top;\n",
       "    }\n",
       "\n",
       "    .dataframe thead th {\n",
       "        text-align: right;\n",
       "    }\n",
       "</style>\n",
       "<table border=\"1\" class=\"dataframe\">\n",
       "  <thead>\n",
       "    <tr style=\"text-align: right;\">\n",
       "      <th></th>\n",
       "      <th>Project Code</th>\n",
       "      <th>Invoice Number</th>\n",
       "      <th>Invoice Date</th>\n",
       "      <th>QTY</th>\n",
       "      <th>UNIT PRICE</th>\n",
       "      <th>TOTAL</th>\n",
       "      <th>Invoiced?\\n[Y / N]</th>\n",
       "      <th>Invoice \\nRemarks</th>\n",
       "      <th>Reason for \\nnot Invoicing</th>\n",
       "      <th>Entity</th>\n",
       "      <th>...</th>\n",
       "      <th>September</th>\n",
       "      <th>Sep Hols</th>\n",
       "      <th>October</th>\n",
       "      <th>November</th>\n",
       "      <th>December</th>\n",
       "      <th>Payment \\nReference</th>\n",
       "      <th>Payment Date</th>\n",
       "      <th>Paid Amount</th>\n",
       "      <th>Outstanding\\nAmount</th>\n",
       "      <th>Service \\nConsultant</th>\n",
       "    </tr>\n",
       "  </thead>\n",
       "  <tbody>\n",
       "    <tr>\n",
       "      <th>0</th>\n",
       "      <td>VARI17001</td>\n",
       "      <td>INVVARI1702001</td>\n",
       "      <td>16-Feb-17</td>\n",
       "      <td>4.5</td>\n",
       "      <td>$150.00</td>\n",
       "      <td>675</td>\n",
       "      <td>NaN</td>\n",
       "      <td>4.5X$150=$675</td>\n",
       "      <td>NaN</td>\n",
       "      <td>ARTELIER (INSTRUCTOR) PTE LTD</td>\n",
       "      <td>...</td>\n",
       "      <td>NaN</td>\n",
       "      <td>NaN</td>\n",
       "      <td>NaN</td>\n",
       "      <td>NaN</td>\n",
       "      <td>NaN</td>\n",
       "      <td>5003179999</td>\n",
       "      <td>07.03.17</td>\n",
       "      <td>$675.00</td>\n",
       "      <td>$0.00</td>\n",
       "      <td>NaN</td>\n",
       "    </tr>\n",
       "    <tr>\n",
       "      <th>1</th>\n",
       "      <td>VARI17001</td>\n",
       "      <td>INVVARI1703001</td>\n",
       "      <td>6-Mar-17</td>\n",
       "      <td>18</td>\n",
       "      <td>$150.00</td>\n",
       "      <td>2700</td>\n",
       "      <td>NaN</td>\n",
       "      <td>18 x $150=$2700</td>\n",
       "      <td>NaN</td>\n",
       "      <td>ARTELIER (INSTRUCTOR) PTE LTD</td>\n",
       "      <td>...</td>\n",
       "      <td>NaN</td>\n",
       "      <td>NaN</td>\n",
       "      <td>NaN</td>\n",
       "      <td>NaN</td>\n",
       "      <td>NaN</td>\n",
       "      <td>5003191063</td>\n",
       "      <td>23.03.17</td>\n",
       "      <td>$2,700.00</td>\n",
       "      <td>$0.00</td>\n",
       "      <td>NaN</td>\n",
       "    </tr>\n",
       "    <tr>\n",
       "      <th>2</th>\n",
       "      <td>VARI17001</td>\n",
       "      <td>INVVARI1705001</td>\n",
       "      <td>8-May-17</td>\n",
       "      <td>17.5</td>\n",
       "      <td>$150.00</td>\n",
       "      <td>2625</td>\n",
       "      <td>NaN</td>\n",
       "      <td>17.5 x 150=2625</td>\n",
       "      <td>NaN</td>\n",
       "      <td>ARTELIER (INSTRUCTOR) PTE LTD</td>\n",
       "      <td>...</td>\n",
       "      <td>NaN</td>\n",
       "      <td>NaN</td>\n",
       "      <td>NaN</td>\n",
       "      <td>NaN</td>\n",
       "      <td>NaN</td>\n",
       "      <td>5003220326</td>\n",
       "      <td>29.05.17</td>\n",
       "      <td>$2,625.00</td>\n",
       "      <td>$0.00</td>\n",
       "      <td>NaN</td>\n",
       "    </tr>\n",
       "    <tr>\n",
       "      <th>3</th>\n",
       "      <td>VARI17001</td>\n",
       "      <td>INVVARI1706001</td>\n",
       "      <td>14-Jun-17</td>\n",
       "      <td>4.5</td>\n",
       "      <td>$150.00</td>\n",
       "      <td>675</td>\n",
       "      <td>NaN</td>\n",
       "      <td>NaN</td>\n",
       "      <td>NaN</td>\n",
       "      <td>ARTELIER (INSTRUCTOR) PTE LTD</td>\n",
       "      <td>...</td>\n",
       "      <td>NaN</td>\n",
       "      <td>NaN</td>\n",
       "      <td>NaN</td>\n",
       "      <td>NaN</td>\n",
       "      <td>NaN</td>\n",
       "      <td>5003240231</td>\n",
       "      <td>10.07.17</td>\n",
       "      <td>$675.00</td>\n",
       "      <td>$0.00</td>\n",
       "      <td>NaN</td>\n",
       "    </tr>\n",
       "    <tr>\n",
       "      <th>4</th>\n",
       "      <td>VARI17002</td>\n",
       "      <td>BILLED UNDER PASSIONISTA</td>\n",
       "      <td>NaN</td>\n",
       "      <td>48</td>\n",
       "      <td>$85.00</td>\n",
       "      <td>0</td>\n",
       "      <td>NaN</td>\n",
       "      <td>NaN</td>\n",
       "      <td>NaN</td>\n",
       "      <td>ARTELIER (INSTRUCTOR) PTE LTD</td>\n",
       "      <td>...</td>\n",
       "      <td>NaN</td>\n",
       "      <td>NaN</td>\n",
       "      <td>NaN</td>\n",
       "      <td>NaN</td>\n",
       "      <td>NaN</td>\n",
       "      <td>NaN</td>\n",
       "      <td>NaN</td>\n",
       "      <td>NaN</td>\n",
       "      <td>$0.00</td>\n",
       "      <td>NaN</td>\n",
       "    </tr>\n",
       "  </tbody>\n",
       "</table>\n",
       "<p>5 rows × 36 columns</p>\n",
       "</div>"
      ],
      "text/plain": [
       "  Project Code            Invoice Number Invoice Date   QTY UNIT PRICE TOTAL  \\\n",
       "0    VARI17001            INVVARI1702001    16-Feb-17   4.5    $150.00   675   \n",
       "1    VARI17001            INVVARI1703001     6-Mar-17    18    $150.00  2700   \n",
       "2    VARI17001            INVVARI1705001     8-May-17  17.5    $150.00  2625   \n",
       "3    VARI17001            INVVARI1706001    14-Jun-17   4.5    $150.00   675   \n",
       "4    VARI17002  BILLED UNDER PASSIONISTA          NaN    48     $85.00     0   \n",
       "\n",
       "  Invoiced?\\n[Y / N] Invoice \\nRemarks Reason for \\nnot Invoicing  \\\n",
       "0                NaN     4.5X$150=$675                        NaN   \n",
       "1                NaN   18 x $150=$2700                        NaN   \n",
       "2                NaN   17.5 x 150=2625                        NaN   \n",
       "3                NaN               NaN                        NaN   \n",
       "4                NaN               NaN                        NaN   \n",
       "\n",
       "                          Entity  ... September Sep Hols October November  \\\n",
       "0  ARTELIER (INSTRUCTOR) PTE LTD  ...       NaN      NaN     NaN      NaN   \n",
       "1  ARTELIER (INSTRUCTOR) PTE LTD  ...       NaN      NaN     NaN      NaN   \n",
       "2  ARTELIER (INSTRUCTOR) PTE LTD  ...       NaN      NaN     NaN      NaN   \n",
       "3  ARTELIER (INSTRUCTOR) PTE LTD  ...       NaN      NaN     NaN      NaN   \n",
       "4  ARTELIER (INSTRUCTOR) PTE LTD  ...       NaN      NaN     NaN      NaN   \n",
       "\n",
       "  December Payment \\nReference Payment Date Paid Amount Outstanding\\nAmount  \\\n",
       "0      NaN          5003179999     07.03.17     $675.00               $0.00   \n",
       "1      NaN          5003191063     23.03.17   $2,700.00               $0.00   \n",
       "2      NaN          5003220326     29.05.17   $2,625.00               $0.00   \n",
       "3      NaN          5003240231     10.07.17     $675.00               $0.00   \n",
       "4      NaN                 NaN          NaN         NaN               $0.00   \n",
       "\n",
       "  Service \\nConsultant  \n",
       "0                  NaN  \n",
       "1                  NaN  \n",
       "2                  NaN  \n",
       "3                  NaN  \n",
       "4                  NaN  \n",
       "\n",
       "[5 rows x 36 columns]"
      ]
     },
     "metadata": {},
     "output_type": "display_data"
    },
    {
     "name": "stdout",
     "output_type": "stream",
     "text": [
      "\n",
      "\n",
      "These are the bottom 5 rows of combined_df:\n"
     ]
    },
    {
     "data": {
      "text/html": [
       "<div>\n",
       "<style scoped>\n",
       "    .dataframe tbody tr th:only-of-type {\n",
       "        vertical-align: middle;\n",
       "    }\n",
       "\n",
       "    .dataframe tbody tr th {\n",
       "        vertical-align: top;\n",
       "    }\n",
       "\n",
       "    .dataframe thead th {\n",
       "        text-align: right;\n",
       "    }\n",
       "</style>\n",
       "<table border=\"1\" class=\"dataframe\">\n",
       "  <thead>\n",
       "    <tr style=\"text-align: right;\">\n",
       "      <th></th>\n",
       "      <th>Project Code</th>\n",
       "      <th>Invoice Number</th>\n",
       "      <th>Invoice Date</th>\n",
       "      <th>QTY</th>\n",
       "      <th>UNIT PRICE</th>\n",
       "      <th>TOTAL</th>\n",
       "      <th>Invoiced?\\n[Y / N]</th>\n",
       "      <th>Invoice \\nRemarks</th>\n",
       "      <th>Reason for \\nnot Invoicing</th>\n",
       "      <th>Entity</th>\n",
       "      <th>...</th>\n",
       "      <th>September</th>\n",
       "      <th>Sep Hols</th>\n",
       "      <th>October</th>\n",
       "      <th>November</th>\n",
       "      <th>December</th>\n",
       "      <th>Payment \\nReference</th>\n",
       "      <th>Payment Date</th>\n",
       "      <th>Paid Amount</th>\n",
       "      <th>Outstanding\\nAmount</th>\n",
       "      <th>Service \\nConsultant</th>\n",
       "    </tr>\n",
       "  </thead>\n",
       "  <tbody>\n",
       "    <tr>\n",
       "      <th>6913</th>\n",
       "      <td>TL18198</td>\n",
       "      <td>NaN</td>\n",
       "      <td>NaN</td>\n",
       "      <td>NaN</td>\n",
       "      <td>NaN</td>\n",
       "      <td>NaN</td>\n",
       "      <td>NaN</td>\n",
       "      <td>NaN</td>\n",
       "      <td>NaN</td>\n",
       "      <td>NaN</td>\n",
       "      <td>...</td>\n",
       "      <td>NaN</td>\n",
       "      <td>NaN</td>\n",
       "      <td>NaN</td>\n",
       "      <td>NaN</td>\n",
       "      <td>NaN</td>\n",
       "      <td>NaN</td>\n",
       "      <td>NaN</td>\n",
       "      <td>NaN</td>\n",
       "      <td>NaN</td>\n",
       "      <td>NaN</td>\n",
       "    </tr>\n",
       "    <tr>\n",
       "      <th>6914</th>\n",
       "      <td>TL18199</td>\n",
       "      <td>NaN</td>\n",
       "      <td>NaN</td>\n",
       "      <td>NaN</td>\n",
       "      <td>NaN</td>\n",
       "      <td>NaN</td>\n",
       "      <td>NaN</td>\n",
       "      <td>NaN</td>\n",
       "      <td>NaN</td>\n",
       "      <td>NaN</td>\n",
       "      <td>...</td>\n",
       "      <td>NaN</td>\n",
       "      <td>NaN</td>\n",
       "      <td>NaN</td>\n",
       "      <td>NaN</td>\n",
       "      <td>NaN</td>\n",
       "      <td>NaN</td>\n",
       "      <td>NaN</td>\n",
       "      <td>NaN</td>\n",
       "      <td>NaN</td>\n",
       "      <td>NaN</td>\n",
       "    </tr>\n",
       "    <tr>\n",
       "      <th>6915</th>\n",
       "      <td>TL18200</td>\n",
       "      <td>NaN</td>\n",
       "      <td>NaN</td>\n",
       "      <td>NaN</td>\n",
       "      <td>NaN</td>\n",
       "      <td>NaN</td>\n",
       "      <td>NaN</td>\n",
       "      <td>NaN</td>\n",
       "      <td>NaN</td>\n",
       "      <td>NaN</td>\n",
       "      <td>...</td>\n",
       "      <td>NaN</td>\n",
       "      <td>NaN</td>\n",
       "      <td>NaN</td>\n",
       "      <td>NaN</td>\n",
       "      <td>NaN</td>\n",
       "      <td>NaN</td>\n",
       "      <td>NaN</td>\n",
       "      <td>NaN</td>\n",
       "      <td>NaN</td>\n",
       "      <td>NaN</td>\n",
       "    </tr>\n",
       "    <tr>\n",
       "      <th>6916</th>\n",
       "      <td>VART18015</td>\n",
       "      <td>NaN</td>\n",
       "      <td>NaN</td>\n",
       "      <td>84</td>\n",
       "      <td>$108.00</td>\n",
       "      <td>$9,072.00</td>\n",
       "      <td>NaN</td>\n",
       "      <td>NaN</td>\n",
       "      <td>NaN</td>\n",
       "      <td>ARTELIER PTE LTD</td>\n",
       "      <td>...</td>\n",
       "      <td>NaN</td>\n",
       "      <td>NaN</td>\n",
       "      <td>NaN</td>\n",
       "      <td>NaN</td>\n",
       "      <td>NaN</td>\n",
       "      <td>NaN</td>\n",
       "      <td>NaN</td>\n",
       "      <td>NaN</td>\n",
       "      <td>NaN</td>\n",
       "      <td>NaN</td>\n",
       "    </tr>\n",
       "    <tr>\n",
       "      <th>6917</th>\n",
       "      <td>TL18014</td>\n",
       "      <td>NaN</td>\n",
       "      <td>NaN</td>\n",
       "      <td>2</td>\n",
       "      <td>$1,000.00</td>\n",
       "      <td>NaN</td>\n",
       "      <td>NaN</td>\n",
       "      <td>NaN</td>\n",
       "      <td>NaN</td>\n",
       "      <td>NaN</td>\n",
       "      <td>...</td>\n",
       "      <td>NaN</td>\n",
       "      <td>NaN</td>\n",
       "      <td>NaN</td>\n",
       "      <td>NaN</td>\n",
       "      <td>NaN</td>\n",
       "      <td>NaN</td>\n",
       "      <td>NaN</td>\n",
       "      <td>NaN</td>\n",
       "      <td>NaN</td>\n",
       "      <td>NaN</td>\n",
       "    </tr>\n",
       "  </tbody>\n",
       "</table>\n",
       "<p>5 rows × 36 columns</p>\n",
       "</div>"
      ],
      "text/plain": [
       "     Project Code Invoice Number Invoice Date  QTY UNIT PRICE      TOTAL  \\\n",
       "6913      TL18198            NaN          NaN  NaN        NaN        NaN   \n",
       "6914      TL18199            NaN          NaN  NaN        NaN        NaN   \n",
       "6915      TL18200            NaN          NaN  NaN        NaN        NaN   \n",
       "6916    VART18015            NaN          NaN   84    $108.00  $9,072.00   \n",
       "6917      TL18014            NaN          NaN    2  $1,000.00        NaN   \n",
       "\n",
       "     Invoiced?\\n[Y / N] Invoice \\nRemarks Reason for \\nnot Invoicing  \\\n",
       "6913                NaN               NaN                        NaN   \n",
       "6914                NaN               NaN                        NaN   \n",
       "6915                NaN               NaN                        NaN   \n",
       "6916                NaN               NaN                        NaN   \n",
       "6917                NaN               NaN                        NaN   \n",
       "\n",
       "                Entity  ... September Sep Hols October November December  \\\n",
       "6913               NaN  ...       NaN      NaN     NaN      NaN      NaN   \n",
       "6914               NaN  ...       NaN      NaN     NaN      NaN      NaN   \n",
       "6915               NaN  ...       NaN      NaN     NaN      NaN      NaN   \n",
       "6916  ARTELIER PTE LTD  ...       NaN      NaN     NaN      NaN      NaN   \n",
       "6917               NaN  ...       NaN      NaN     NaN      NaN      NaN   \n",
       "\n",
       "     Payment \\nReference Payment Date Paid Amount Outstanding\\nAmount  \\\n",
       "6913                 NaN          NaN         NaN                 NaN   \n",
       "6914                 NaN          NaN         NaN                 NaN   \n",
       "6915                 NaN          NaN         NaN                 NaN   \n",
       "6916                 NaN          NaN         NaN                 NaN   \n",
       "6917                 NaN          NaN         NaN                 NaN   \n",
       "\n",
       "     Service \\nConsultant  \n",
       "6913                  NaN  \n",
       "6914                  NaN  \n",
       "6915                  NaN  \n",
       "6916                  NaN  \n",
       "6917                  NaN  \n",
       "\n",
       "[5 rows x 36 columns]"
      ]
     },
     "metadata": {},
     "output_type": "display_data"
    },
    {
     "name": "stdout",
     "output_type": "stream",
     "text": [
      "\n",
      "\n",
      "combined_df has a total 203126 of nulls.\n",
      "\n",
      "\n",
      "The columns in combined_df with nulls are: ['Project Code', 'Invoice Number', 'Invoice Date', 'QTY', 'UNIT PRICE', 'TOTAL', 'Invoiced?\\n[Y / N]', 'Invoice \\nRemarks', 'Reason for \\nnot Invoicing', 'Entity', 'Actual Entity', 'Consultant Name', 'SCHOOL', 'Zone', 'Programme \\nName', 'UOM', 'Projected \\nAmount', 'January', 'February', 'March', 'March Hols', 'April', 'May', 'June Hols', 'July', 'August', 'September', 'Sep Hols', 'October', 'November', 'December', 'Payment \\nReference', 'Payment Date', 'Paid Amount', 'Outstanding\\nAmount', 'Service \\nConsultant']\n",
      "\n",
      "\n",
      "The variables with nulls in combined_df are:\n"
     ]
    },
    {
     "data": {
      "text/plain": [
       "Project Code                   904\n",
       "Invoice Number                6029\n",
       "Invoice Date                  6065\n",
       "QTY                           6034\n",
       "UNIT PRICE                    6033\n",
       "TOTAL                          133\n",
       "Invoiced?\\n[Y / N]            6343\n",
       "Invoice \\nRemarks             6822\n",
       "Reason for \\nnot Invoicing    6871\n",
       "Entity                        1098\n",
       "Actual Entity                 6038\n",
       "Consultant Name               5984\n",
       "SCHOOL                        5997\n",
       "Zone                          6021\n",
       "Programme \\nName              5999\n",
       "UOM                           6065\n",
       "Projected \\nAmount             114\n",
       "January                       6816\n",
       "February                      6797\n",
       "March                         6764\n",
       "March Hols                    6912\n",
       "April                         6811\n",
       "May                           6755\n",
       "June Hols                     6880\n",
       "July                          6781\n",
       "August                        6803\n",
       "September                     6826\n",
       "Sep Hols                      6911\n",
       "October                       6660\n",
       "November                      6799\n",
       "December                      6905\n",
       "Payment \\nReference           6063\n",
       "Payment Date                  6051\n",
       "Paid Amount                   6049\n",
       "Outstanding\\nAmount            194\n",
       "Service \\nConsultant          6799\n",
       "dtype: int64"
      ]
     },
     "metadata": {},
     "output_type": "display_data"
    },
    {
     "name": "stdout",
     "output_type": "stream",
     "text": [
      "\n",
      "\n",
      "The top 5 variables in combined_df with the highest percentage of missing values are:\n"
     ]
    },
    {
     "data": {
      "text/plain": [
       "March Hols                    0.999133\n",
       "Sep Hols                      0.998988\n",
       "December                      0.998121\n",
       "June Hols                     0.994507\n",
       "Reason for \\nnot Invoicing    0.993206\n",
       "dtype: float64"
      ]
     },
     "metadata": {},
     "output_type": "display_data"
    }
   ],
   "source": [
    "# Previewing combined_df\n",
    "\n",
    "preview(combined_df)"
   ]
  },
  {
   "cell_type": "code",
   "execution_count": 10,
   "metadata": {},
   "outputs": [
    {
     "name": "stdout",
     "output_type": "stream",
     "text": [
      "<class 'pandas.core.frame.DataFrame'>\n",
      "RangeIndex: 6918 entries, 0 to 6917\n",
      "Data columns (total 36 columns):\n",
      " #   Column                     Non-Null Count  Dtype \n",
      "---  ------                     --------------  ----- \n",
      " 0   Project Code               6014 non-null   object\n",
      " 1   Invoice Number             889 non-null    object\n",
      " 2   Invoice Date               853 non-null    object\n",
      " 3   QTY                        884 non-null    object\n",
      " 4   UNIT PRICE                 885 non-null    object\n",
      " 5   TOTAL                      6785 non-null   object\n",
      " 6   Invoiced?\n",
      "[Y / N]          575 non-null    object\n",
      " 7   Invoice \n",
      "Remarks           96 non-null     object\n",
      " 8   Reason for \n",
      "not Invoicing  47 non-null     object\n",
      " 9   Entity                     5820 non-null   object\n",
      " 10  Actual Entity              880 non-null    object\n",
      " 11  Consultant Name            934 non-null    object\n",
      " 12  SCHOOL                     921 non-null    object\n",
      " 13  Zone                       897 non-null    object\n",
      " 14  Programme \n",
      "Name            919 non-null    object\n",
      " 15  UOM                        853 non-null    object\n",
      " 16  Projected \n",
      "Amount          6804 non-null   object\n",
      " 17  January                    102 non-null    object\n",
      " 18  February                   121 non-null    object\n",
      " 19  March                      154 non-null    object\n",
      " 20  March Hols                 6 non-null      object\n",
      " 21  April                      107 non-null    object\n",
      " 22  May                        163 non-null    object\n",
      " 23  June Hols                  38 non-null     object\n",
      " 24  July                       137 non-null    object\n",
      " 25  August                     115 non-null    object\n",
      " 26  September                  92 non-null     object\n",
      " 27  Sep Hols                   7 non-null      object\n",
      " 28  October                    258 non-null    object\n",
      " 29  November                   119 non-null    object\n",
      " 30  December                   13 non-null     object\n",
      " 31  Payment \n",
      "Reference         855 non-null    object\n",
      " 32  Payment Date               867 non-null    object\n",
      " 33  Paid Amount                869 non-null    object\n",
      " 34  Outstanding\n",
      "Amount         6724 non-null   object\n",
      " 35  Service \n",
      "Consultant        119 non-null    object\n",
      "dtypes: object(36)\n",
      "memory usage: 1.9+ MB\n"
     ]
    }
   ],
   "source": [
    "# Checking dtypes of combined_df\n",
    "\n",
    "combined_df.info()"
   ]
  },
  {
   "cell_type": "markdown",
   "metadata": {},
   "source": [
    "##### Observations:\n",
    "* Columns names should be converted to snake case\n",
    "\n",
    "* dtypes seem to be incorrect for some features\n",
    "\n",
    "* There seems to be a lot of missing values. Before dropping anything, I will investigate each feature individually, and determine which features are likely to provide insight, and which features are less likely to be helpful. "
   ]
  },
  {
   "cell_type": "markdown",
   "metadata": {},
   "source": [
    "## 4.01 Data Cleaning: Column Names <a id=\"4.01\"></a>"
   ]
  },
  {
   "cell_type": "markdown",
   "metadata": {},
   "source": [
    "##### Defining a function to clean column names"
   ]
  },
  {
   "cell_type": "code",
   "execution_count": 11,
   "metadata": {},
   "outputs": [],
   "source": [
    "def clean_column_names(df):\n",
    "    df.columns = df.columns.str.lower()\n",
    "    df.columns = df.columns.str.replace(\" \",\"_\")\n",
    "    df.columns = df.columns.str.replace(\"-\",\"_\")\n",
    "    df.columns = df.columns.str.replace(\"/\",\"_\")\n",
    "    \n",
    "    return df"
   ]
  },
  {
   "cell_type": "code",
   "execution_count": 12,
   "metadata": {},
   "outputs": [
    {
     "data": {
      "text/html": [
       "<div>\n",
       "<style scoped>\n",
       "    .dataframe tbody tr th:only-of-type {\n",
       "        vertical-align: middle;\n",
       "    }\n",
       "\n",
       "    .dataframe tbody tr th {\n",
       "        vertical-align: top;\n",
       "    }\n",
       "\n",
       "    .dataframe thead th {\n",
       "        text-align: right;\n",
       "    }\n",
       "</style>\n",
       "<table border=\"1\" class=\"dataframe\">\n",
       "  <thead>\n",
       "    <tr style=\"text-align: right;\">\n",
       "      <th></th>\n",
       "      <th>project_code</th>\n",
       "      <th>invoice_number</th>\n",
       "      <th>invoice_date</th>\n",
       "      <th>qty</th>\n",
       "      <th>unit_price</th>\n",
       "      <th>total</th>\n",
       "      <th>invoiced?\\n[y___n]</th>\n",
       "      <th>invoice_\\nremarks</th>\n",
       "      <th>reason_for_\\nnot_invoicing</th>\n",
       "      <th>entity</th>\n",
       "      <th>...</th>\n",
       "      <th>september</th>\n",
       "      <th>sep_hols</th>\n",
       "      <th>october</th>\n",
       "      <th>november</th>\n",
       "      <th>december</th>\n",
       "      <th>payment_\\nreference</th>\n",
       "      <th>payment_date</th>\n",
       "      <th>paid_amount</th>\n",
       "      <th>outstanding\\namount</th>\n",
       "      <th>service_\\nconsultant</th>\n",
       "    </tr>\n",
       "  </thead>\n",
       "  <tbody>\n",
       "    <tr>\n",
       "      <th>0</th>\n",
       "      <td>VARI17001</td>\n",
       "      <td>INVVARI1702001</td>\n",
       "      <td>16-Feb-17</td>\n",
       "      <td>4.5</td>\n",
       "      <td>$150.00</td>\n",
       "      <td>675</td>\n",
       "      <td>NaN</td>\n",
       "      <td>4.5X$150=$675</td>\n",
       "      <td>NaN</td>\n",
       "      <td>ARTELIER (INSTRUCTOR) PTE LTD</td>\n",
       "      <td>...</td>\n",
       "      <td>NaN</td>\n",
       "      <td>NaN</td>\n",
       "      <td>NaN</td>\n",
       "      <td>NaN</td>\n",
       "      <td>NaN</td>\n",
       "      <td>5003179999</td>\n",
       "      <td>07.03.17</td>\n",
       "      <td>$675.00</td>\n",
       "      <td>$0.00</td>\n",
       "      <td>NaN</td>\n",
       "    </tr>\n",
       "    <tr>\n",
       "      <th>1</th>\n",
       "      <td>VARI17001</td>\n",
       "      <td>INVVARI1703001</td>\n",
       "      <td>6-Mar-17</td>\n",
       "      <td>18</td>\n",
       "      <td>$150.00</td>\n",
       "      <td>2700</td>\n",
       "      <td>NaN</td>\n",
       "      <td>18 x $150=$2700</td>\n",
       "      <td>NaN</td>\n",
       "      <td>ARTELIER (INSTRUCTOR) PTE LTD</td>\n",
       "      <td>...</td>\n",
       "      <td>NaN</td>\n",
       "      <td>NaN</td>\n",
       "      <td>NaN</td>\n",
       "      <td>NaN</td>\n",
       "      <td>NaN</td>\n",
       "      <td>5003191063</td>\n",
       "      <td>23.03.17</td>\n",
       "      <td>$2,700.00</td>\n",
       "      <td>$0.00</td>\n",
       "      <td>NaN</td>\n",
       "    </tr>\n",
       "    <tr>\n",
       "      <th>2</th>\n",
       "      <td>VARI17001</td>\n",
       "      <td>INVVARI1705001</td>\n",
       "      <td>8-May-17</td>\n",
       "      <td>17.5</td>\n",
       "      <td>$150.00</td>\n",
       "      <td>2625</td>\n",
       "      <td>NaN</td>\n",
       "      <td>17.5 x 150=2625</td>\n",
       "      <td>NaN</td>\n",
       "      <td>ARTELIER (INSTRUCTOR) PTE LTD</td>\n",
       "      <td>...</td>\n",
       "      <td>NaN</td>\n",
       "      <td>NaN</td>\n",
       "      <td>NaN</td>\n",
       "      <td>NaN</td>\n",
       "      <td>NaN</td>\n",
       "      <td>5003220326</td>\n",
       "      <td>29.05.17</td>\n",
       "      <td>$2,625.00</td>\n",
       "      <td>$0.00</td>\n",
       "      <td>NaN</td>\n",
       "    </tr>\n",
       "    <tr>\n",
       "      <th>3</th>\n",
       "      <td>VARI17001</td>\n",
       "      <td>INVVARI1706001</td>\n",
       "      <td>14-Jun-17</td>\n",
       "      <td>4.5</td>\n",
       "      <td>$150.00</td>\n",
       "      <td>675</td>\n",
       "      <td>NaN</td>\n",
       "      <td>NaN</td>\n",
       "      <td>NaN</td>\n",
       "      <td>ARTELIER (INSTRUCTOR) PTE LTD</td>\n",
       "      <td>...</td>\n",
       "      <td>NaN</td>\n",
       "      <td>NaN</td>\n",
       "      <td>NaN</td>\n",
       "      <td>NaN</td>\n",
       "      <td>NaN</td>\n",
       "      <td>5003240231</td>\n",
       "      <td>10.07.17</td>\n",
       "      <td>$675.00</td>\n",
       "      <td>$0.00</td>\n",
       "      <td>NaN</td>\n",
       "    </tr>\n",
       "    <tr>\n",
       "      <th>4</th>\n",
       "      <td>VARI17002</td>\n",
       "      <td>BILLED UNDER PASSIONISTA</td>\n",
       "      <td>NaN</td>\n",
       "      <td>48</td>\n",
       "      <td>$85.00</td>\n",
       "      <td>0</td>\n",
       "      <td>NaN</td>\n",
       "      <td>NaN</td>\n",
       "      <td>NaN</td>\n",
       "      <td>ARTELIER (INSTRUCTOR) PTE LTD</td>\n",
       "      <td>...</td>\n",
       "      <td>NaN</td>\n",
       "      <td>NaN</td>\n",
       "      <td>NaN</td>\n",
       "      <td>NaN</td>\n",
       "      <td>NaN</td>\n",
       "      <td>NaN</td>\n",
       "      <td>NaN</td>\n",
       "      <td>NaN</td>\n",
       "      <td>$0.00</td>\n",
       "      <td>NaN</td>\n",
       "    </tr>\n",
       "    <tr>\n",
       "      <th>...</th>\n",
       "      <td>...</td>\n",
       "      <td>...</td>\n",
       "      <td>...</td>\n",
       "      <td>...</td>\n",
       "      <td>...</td>\n",
       "      <td>...</td>\n",
       "      <td>...</td>\n",
       "      <td>...</td>\n",
       "      <td>...</td>\n",
       "      <td>...</td>\n",
       "      <td>...</td>\n",
       "      <td>...</td>\n",
       "      <td>...</td>\n",
       "      <td>...</td>\n",
       "      <td>...</td>\n",
       "      <td>...</td>\n",
       "      <td>...</td>\n",
       "      <td>...</td>\n",
       "      <td>...</td>\n",
       "      <td>...</td>\n",
       "      <td>...</td>\n",
       "    </tr>\n",
       "    <tr>\n",
       "      <th>6913</th>\n",
       "      <td>TL18198</td>\n",
       "      <td>NaN</td>\n",
       "      <td>NaN</td>\n",
       "      <td>NaN</td>\n",
       "      <td>NaN</td>\n",
       "      <td>NaN</td>\n",
       "      <td>NaN</td>\n",
       "      <td>NaN</td>\n",
       "      <td>NaN</td>\n",
       "      <td>NaN</td>\n",
       "      <td>...</td>\n",
       "      <td>NaN</td>\n",
       "      <td>NaN</td>\n",
       "      <td>NaN</td>\n",
       "      <td>NaN</td>\n",
       "      <td>NaN</td>\n",
       "      <td>NaN</td>\n",
       "      <td>NaN</td>\n",
       "      <td>NaN</td>\n",
       "      <td>NaN</td>\n",
       "      <td>NaN</td>\n",
       "    </tr>\n",
       "    <tr>\n",
       "      <th>6914</th>\n",
       "      <td>TL18199</td>\n",
       "      <td>NaN</td>\n",
       "      <td>NaN</td>\n",
       "      <td>NaN</td>\n",
       "      <td>NaN</td>\n",
       "      <td>NaN</td>\n",
       "      <td>NaN</td>\n",
       "      <td>NaN</td>\n",
       "      <td>NaN</td>\n",
       "      <td>NaN</td>\n",
       "      <td>...</td>\n",
       "      <td>NaN</td>\n",
       "      <td>NaN</td>\n",
       "      <td>NaN</td>\n",
       "      <td>NaN</td>\n",
       "      <td>NaN</td>\n",
       "      <td>NaN</td>\n",
       "      <td>NaN</td>\n",
       "      <td>NaN</td>\n",
       "      <td>NaN</td>\n",
       "      <td>NaN</td>\n",
       "    </tr>\n",
       "    <tr>\n",
       "      <th>6915</th>\n",
       "      <td>TL18200</td>\n",
       "      <td>NaN</td>\n",
       "      <td>NaN</td>\n",
       "      <td>NaN</td>\n",
       "      <td>NaN</td>\n",
       "      <td>NaN</td>\n",
       "      <td>NaN</td>\n",
       "      <td>NaN</td>\n",
       "      <td>NaN</td>\n",
       "      <td>NaN</td>\n",
       "      <td>...</td>\n",
       "      <td>NaN</td>\n",
       "      <td>NaN</td>\n",
       "      <td>NaN</td>\n",
       "      <td>NaN</td>\n",
       "      <td>NaN</td>\n",
       "      <td>NaN</td>\n",
       "      <td>NaN</td>\n",
       "      <td>NaN</td>\n",
       "      <td>NaN</td>\n",
       "      <td>NaN</td>\n",
       "    </tr>\n",
       "    <tr>\n",
       "      <th>6916</th>\n",
       "      <td>VART18015</td>\n",
       "      <td>NaN</td>\n",
       "      <td>NaN</td>\n",
       "      <td>84</td>\n",
       "      <td>$108.00</td>\n",
       "      <td>$9,072.00</td>\n",
       "      <td>NaN</td>\n",
       "      <td>NaN</td>\n",
       "      <td>NaN</td>\n",
       "      <td>ARTELIER PTE LTD</td>\n",
       "      <td>...</td>\n",
       "      <td>NaN</td>\n",
       "      <td>NaN</td>\n",
       "      <td>NaN</td>\n",
       "      <td>NaN</td>\n",
       "      <td>NaN</td>\n",
       "      <td>NaN</td>\n",
       "      <td>NaN</td>\n",
       "      <td>NaN</td>\n",
       "      <td>NaN</td>\n",
       "      <td>NaN</td>\n",
       "    </tr>\n",
       "    <tr>\n",
       "      <th>6917</th>\n",
       "      <td>TL18014</td>\n",
       "      <td>NaN</td>\n",
       "      <td>NaN</td>\n",
       "      <td>2</td>\n",
       "      <td>$1,000.00</td>\n",
       "      <td>NaN</td>\n",
       "      <td>NaN</td>\n",
       "      <td>NaN</td>\n",
       "      <td>NaN</td>\n",
       "      <td>NaN</td>\n",
       "      <td>...</td>\n",
       "      <td>NaN</td>\n",
       "      <td>NaN</td>\n",
       "      <td>NaN</td>\n",
       "      <td>NaN</td>\n",
       "      <td>NaN</td>\n",
       "      <td>NaN</td>\n",
       "      <td>NaN</td>\n",
       "      <td>NaN</td>\n",
       "      <td>NaN</td>\n",
       "      <td>NaN</td>\n",
       "    </tr>\n",
       "  </tbody>\n",
       "</table>\n",
       "<p>6918 rows × 36 columns</p>\n",
       "</div>"
      ],
      "text/plain": [
       "     project_code            invoice_number invoice_date   qty unit_price  \\\n",
       "0       VARI17001            INVVARI1702001    16-Feb-17   4.5    $150.00   \n",
       "1       VARI17001            INVVARI1703001     6-Mar-17    18    $150.00   \n",
       "2       VARI17001            INVVARI1705001     8-May-17  17.5    $150.00   \n",
       "3       VARI17001            INVVARI1706001    14-Jun-17   4.5    $150.00   \n",
       "4       VARI17002  BILLED UNDER PASSIONISTA          NaN    48     $85.00   \n",
       "...           ...                       ...          ...   ...        ...   \n",
       "6913      TL18198                       NaN          NaN   NaN        NaN   \n",
       "6914      TL18199                       NaN          NaN   NaN        NaN   \n",
       "6915      TL18200                       NaN          NaN   NaN        NaN   \n",
       "6916    VART18015                       NaN          NaN    84    $108.00   \n",
       "6917      TL18014                       NaN          NaN     2  $1,000.00   \n",
       "\n",
       "          total invoiced?\\n[y___n] invoice_\\nremarks  \\\n",
       "0           675                NaN     4.5X$150=$675   \n",
       "1          2700                NaN   18 x $150=$2700   \n",
       "2          2625                NaN   17.5 x 150=2625   \n",
       "3           675                NaN               NaN   \n",
       "4             0                NaN               NaN   \n",
       "...         ...                ...               ...   \n",
       "6913        NaN                NaN               NaN   \n",
       "6914        NaN                NaN               NaN   \n",
       "6915        NaN                NaN               NaN   \n",
       "6916  $9,072.00                NaN               NaN   \n",
       "6917        NaN                NaN               NaN   \n",
       "\n",
       "     reason_for_\\nnot_invoicing                         entity  ... september  \\\n",
       "0                           NaN  ARTELIER (INSTRUCTOR) PTE LTD  ...       NaN   \n",
       "1                           NaN  ARTELIER (INSTRUCTOR) PTE LTD  ...       NaN   \n",
       "2                           NaN  ARTELIER (INSTRUCTOR) PTE LTD  ...       NaN   \n",
       "3                           NaN  ARTELIER (INSTRUCTOR) PTE LTD  ...       NaN   \n",
       "4                           NaN  ARTELIER (INSTRUCTOR) PTE LTD  ...       NaN   \n",
       "...                         ...                            ...  ...       ...   \n",
       "6913                        NaN                            NaN  ...       NaN   \n",
       "6914                        NaN                            NaN  ...       NaN   \n",
       "6915                        NaN                            NaN  ...       NaN   \n",
       "6916                        NaN               ARTELIER PTE LTD  ...       NaN   \n",
       "6917                        NaN                            NaN  ...       NaN   \n",
       "\n",
       "     sep_hols october november december payment_\\nreference payment_date  \\\n",
       "0         NaN     NaN      NaN      NaN          5003179999     07.03.17   \n",
       "1         NaN     NaN      NaN      NaN          5003191063     23.03.17   \n",
       "2         NaN     NaN      NaN      NaN          5003220326     29.05.17   \n",
       "3         NaN     NaN      NaN      NaN          5003240231     10.07.17   \n",
       "4         NaN     NaN      NaN      NaN                 NaN          NaN   \n",
       "...       ...     ...      ...      ...                 ...          ...   \n",
       "6913      NaN     NaN      NaN      NaN                 NaN          NaN   \n",
       "6914      NaN     NaN      NaN      NaN                 NaN          NaN   \n",
       "6915      NaN     NaN      NaN      NaN                 NaN          NaN   \n",
       "6916      NaN     NaN      NaN      NaN                 NaN          NaN   \n",
       "6917      NaN     NaN      NaN      NaN                 NaN          NaN   \n",
       "\n",
       "     paid_amount outstanding\\namount service_\\nconsultant  \n",
       "0        $675.00               $0.00                  NaN  \n",
       "1      $2,700.00               $0.00                  NaN  \n",
       "2      $2,625.00               $0.00                  NaN  \n",
       "3        $675.00               $0.00                  NaN  \n",
       "4            NaN               $0.00                  NaN  \n",
       "...          ...                 ...                  ...  \n",
       "6913         NaN                 NaN                  NaN  \n",
       "6914         NaN                 NaN                  NaN  \n",
       "6915         NaN                 NaN                  NaN  \n",
       "6916         NaN                 NaN                  NaN  \n",
       "6917         NaN                 NaN                  NaN  \n",
       "\n",
       "[6918 rows x 36 columns]"
      ]
     },
     "execution_count": 12,
     "metadata": {},
     "output_type": "execute_result"
    }
   ],
   "source": [
    "# Applying clean_column_names to combined_df\n",
    "\n",
    "clean_column_names(combined_df)"
   ]
  },
  {
   "cell_type": "code",
   "execution_count": 13,
   "metadata": {},
   "outputs": [
    {
     "data": {
      "text/plain": [
       "Index(['project_code', 'invoice_number', 'invoice_date', 'qty', 'unit_price',\n",
       "       'total', 'invoiced?\\n[y___n]', 'invoice_\\nremarks',\n",
       "       'reason_for_\\nnot_invoicing', 'entity', 'actual_entity',\n",
       "       'consultant_name', 'school', 'zone', 'programme_\\nname', 'uom',\n",
       "       'projected_\\namount', 'january', 'february', 'march', 'march_hols',\n",
       "       'april', 'may', 'june_hols', 'july', 'august', 'september', 'sep_hols',\n",
       "       'october', 'november', 'december', 'payment_\\nreference',\n",
       "       'payment_date', 'paid_amount', 'outstanding\\namount',\n",
       "       'service_\\nconsultant'],\n",
       "      dtype='object')"
      ]
     },
     "execution_count": 13,
     "metadata": {},
     "output_type": "execute_result"
    }
   ],
   "source": [
    "# Checking columns names again\n",
    "\n",
    "combined_df.columns"
   ]
  },
  {
   "cell_type": "markdown",
   "metadata": {},
   "source": [
    "##### Observations:\n",
    "Most columns names have been cleaned, with the exception of:\n",
    "* invoiced?\\n[y___n]\n",
    "* invoice_\\nremarks\n",
    "* reason_for_\\nnot_invoicing\n",
    "* programme_\\nname\n",
    "* projected_\\namount\n",
    "* payment_\\nreference\n",
    "* outstanding\\namount\n",
    "* service_\\nconsultant\n",
    "\n",
    "`\\n` probably means that during data entry, a linebreak was present. I will manually clean these column names. "
   ]
  },
  {
   "cell_type": "code",
   "execution_count": 14,
   "metadata": {},
   "outputs": [],
   "source": [
    "# Cleaning remaining columns\n",
    "\n",
    "combined_df = combined_df.rename(columns={\"invoiced?\\n[y___n]\": \"invoice_status\",\n",
    "                                          \"invoice_\\nremarks\": \"invoice_remarks\",\n",
    "                                          \"reason_for_\\nnot_invoicing\": \"reason_for_not_invoicing\",\n",
    "                                          \"programme_\\nname\": \"programme_name\",\n",
    "                                          \"projected_\\namount\": \"projected_amount\",\n",
    "                                          \"payment_\\nreference\": \"payment_reference\",\n",
    "                                          \"outstanding\\namount\": \"outstanding_amount\",\n",
    "                                          \"service_\\nconsultant\": \"service_consultant\"}\n",
    "                                )"
   ]
  },
  {
   "cell_type": "code",
   "execution_count": 15,
   "metadata": {},
   "outputs": [
    {
     "data": {
      "text/plain": [
       "Index(['project_code', 'invoice_number', 'invoice_date', 'qty', 'unit_price',\n",
       "       'total', 'invoice_status', 'invoice_remarks',\n",
       "       'reason_for_not_invoicing', 'entity', 'actual_entity',\n",
       "       'consultant_name', 'school', 'zone', 'programme_name', 'uom',\n",
       "       'projected_amount', 'january', 'february', 'march', 'march_hols',\n",
       "       'april', 'may', 'june_hols', 'july', 'august', 'september', 'sep_hols',\n",
       "       'october', 'november', 'december', 'payment_reference', 'payment_date',\n",
       "       'paid_amount', 'outstanding_amount', 'service_consultant'],\n",
       "      dtype='object')"
      ]
     },
     "execution_count": 15,
     "metadata": {},
     "output_type": "execute_result"
    }
   ],
   "source": [
    "# Checking combined_df column names again\n",
    "\n",
    "combined_df.columns"
   ]
  },
  {
   "cell_type": "code",
   "execution_count": 16,
   "metadata": {},
   "outputs": [
    {
     "data": {
      "text/plain": [
       "(6918, 36)"
      ]
     },
     "execution_count": 16,
     "metadata": {},
     "output_type": "execute_result"
    }
   ],
   "source": [
    "combined_df.shape"
   ]
  },
  {
   "cell_type": "code",
   "execution_count": 17,
   "metadata": {},
   "outputs": [
    {
     "name": "stdout",
     "output_type": "stream",
     "text": [
      "<class 'pandas.core.frame.DataFrame'>\n",
      "RangeIndex: 6918 entries, 0 to 6917\n",
      "Data columns (total 36 columns):\n",
      " #   Column                    Non-Null Count  Dtype \n",
      "---  ------                    --------------  ----- \n",
      " 0   project_code              6014 non-null   object\n",
      " 1   invoice_number            889 non-null    object\n",
      " 2   invoice_date              853 non-null    object\n",
      " 3   qty                       884 non-null    object\n",
      " 4   unit_price                885 non-null    object\n",
      " 5   total                     6785 non-null   object\n",
      " 6   invoice_status            575 non-null    object\n",
      " 7   invoice_remarks           96 non-null     object\n",
      " 8   reason_for_not_invoicing  47 non-null     object\n",
      " 9   entity                    5820 non-null   object\n",
      " 10  actual_entity             880 non-null    object\n",
      " 11  consultant_name           934 non-null    object\n",
      " 12  school                    921 non-null    object\n",
      " 13  zone                      897 non-null    object\n",
      " 14  programme_name            919 non-null    object\n",
      " 15  uom                       853 non-null    object\n",
      " 16  projected_amount          6804 non-null   object\n",
      " 17  january                   102 non-null    object\n",
      " 18  february                  121 non-null    object\n",
      " 19  march                     154 non-null    object\n",
      " 20  march_hols                6 non-null      object\n",
      " 21  april                     107 non-null    object\n",
      " 22  may                       163 non-null    object\n",
      " 23  june_hols                 38 non-null     object\n",
      " 24  july                      137 non-null    object\n",
      " 25  august                    115 non-null    object\n",
      " 26  september                 92 non-null     object\n",
      " 27  sep_hols                  7 non-null      object\n",
      " 28  october                   258 non-null    object\n",
      " 29  november                  119 non-null    object\n",
      " 30  december                  13 non-null     object\n",
      " 31  payment_reference         855 non-null    object\n",
      " 32  payment_date              867 non-null    object\n",
      " 33  paid_amount               869 non-null    object\n",
      " 34  outstanding_amount        6724 non-null   object\n",
      " 35  service_consultant        119 non-null    object\n",
      "dtypes: object(36)\n",
      "memory usage: 1.9+ MB\n"
     ]
    }
   ],
   "source": [
    "# Taking a look at combined_df\n",
    "\n",
    "combined_df.info()"
   ]
  },
  {
   "cell_type": "markdown",
   "metadata": {},
   "source": [
    "##### Observation\n",
    "\n",
    "Upon discussion with a company representative, out of the 36 features, it would appear that most of them are not helpful in achieving either of the [3 objectives](#objectives).\n",
    "\n",
    "The features that are helpful are:\n",
    "* project_code\n",
    "* qty\n",
    "* unit_price\n",
    "* total\n",
    "* entity\n",
    "* actual_entity\n",
    "* consultant_name\n",
    "* school\n",
    "* zone\n",
    "* programme_name\n",
    "* uom\n",
    "* service_consultant\n",
    "\n",
    "Some of these features will be used to create dummy variables. Nonetheless, I will still go through each column and explain why some features are irrelevant. \n"
   ]
  },
  {
   "cell_type": "markdown",
   "metadata": {},
   "source": [
    "## 4.02 Data Cleaning: Dropping Unhelpful Features <a id=\"4.02\"></a>"
   ]
  },
  {
   "cell_type": "markdown",
   "metadata": {},
   "source": [
    "`invoice_number`\n",
    "* This feature is a way for the company to keep track of project sales. Dropping this because it is already captured in `project_code`.\n",
    "\n",
    "`invoice_date`\n",
    "* If invoice date consistently reflects when the programme was sold, then it would be useful. Based on the company rep, it is as good as random because payments come in unpredictably.  \n",
    "\n",
    "`invoice_status`\n",
    "* This just tells us whether the invoice was sent out or not, not very insightful.\n",
    "\n",
    "`invoice_remarks`\n",
    "* Conprises miscellaneous information about invoicing, which is often an overlap with other features, such as `total` and `invoice_date` which is not helpful to begin with. \n",
    "\n",
    "`reason_for_not_invoicing`\n",
    "* More for the company to understand its consultants, does not help with any of the objectives. \n",
    "\n",
    "`project_amount`\n",
    "* Almost always equal to `total`, hence dropping. \n",
    "\n",
    "**Month Features (january, february, march, march_hols, april, may, june_hols, july, august, september, sep_hols, october, november, december)**\n",
    "* Tracks which month payment comes in, whether as a one-time payment or in batches. Not helpful for any of the objectives. More for company administration. \n",
    "\n",
    "`payment_reference` and `payment_date`\n",
    "* Again, for company reference, not useful for either objectives\n",
    "\n",
    "`paid_amount`and `outstanding_amount`\n",
    "* Almost always equal to total, outstanding amounts are often absorbed by the company, or traded for in-kind services. Hence, dropping this.\n"
   ]
  },
  {
   "cell_type": "code",
   "execution_count": 18,
   "metadata": {},
   "outputs": [],
   "source": [
    "# Removing unhelpful features from combined_df\n",
    "\n",
    "combined_df = combined_df[[\"project_code\",\n",
    "                          \"qty\",\n",
    "                          \"unit_price\",\n",
    "                          \"total\",\n",
    "                          \"entity\",\n",
    "                          \"actual_entity\",\n",
    "                          \"consultant_name\",\n",
    "                          \"school\",\n",
    "                          \"zone\",\n",
    "                          \"programme_name\",\n",
    "                          \"uom\",\n",
    "                          \"service_consultant\"]]"
   ]
  },
  {
   "cell_type": "code",
   "execution_count": 19,
   "metadata": {},
   "outputs": [
    {
     "data": {
      "text/plain": [
       "Index(['project_code', 'qty', 'unit_price', 'total', 'entity', 'actual_entity',\n",
       "       'consultant_name', 'school', 'zone', 'programme_name', 'uom',\n",
       "       'service_consultant'],\n",
       "      dtype='object')"
      ]
     },
     "execution_count": 19,
     "metadata": {},
     "output_type": "execute_result"
    }
   ],
   "source": [
    "combined_df.columns"
   ]
  },
  {
   "cell_type": "code",
   "execution_count": 20,
   "metadata": {},
   "outputs": [
    {
     "data": {
      "text/plain": [
       "(6918, 12)"
      ]
     },
     "execution_count": 20,
     "metadata": {},
     "output_type": "execute_result"
    }
   ],
   "source": [
    "combined_df.shape"
   ]
  },
  {
   "cell_type": "markdown",
   "metadata": {},
   "source": [
    "## 4.03 Data Cleaning: Dropping Rows <a id=\"4.03\"></a>"
   ]
  },
  {
   "cell_type": "markdown",
   "metadata": {},
   "source": [
    "##### Observation:\n",
    "\n",
    "Upon clarification with a company rep, out of the 12 selected features, `project_code` will always have a default value.\n",
    "\n",
    "Due to company procedure, `actual_entity`, `uom`, and `service_consultant` are unfilled at times, but these rows are still valuable.\n",
    "\n",
    "On rare occassion, `total` will also be empty, but can be calculated from `qty` and `unit_price`.\n",
    "\n",
    "If rows contain more `NaNs` apart from the above columns, I will drop them because it will be difficult to impute values as the information I have does not provide me with handles to impute."
   ]
  },
  {
   "cell_type": "code",
   "execution_count": 21,
   "metadata": {},
   "outputs": [],
   "source": [
    "# Dropping rows with NaN for columns apart from those mentioned\n",
    "# Selecting thresh=8, because 4 columns are permissible to have NaNs\n",
    "# If other columns turn out to have NaNs, I will deal with them separately\n",
    "\n",
    "combined_df.dropna(axis=0, thresh=8, inplace=True)"
   ]
  },
  {
   "cell_type": "code",
   "execution_count": 22,
   "metadata": {},
   "outputs": [
    {
     "data": {
      "text/plain": [
       "(919, 12)"
      ]
     },
     "execution_count": 22,
     "metadata": {},
     "output_type": "execute_result"
    }
   ],
   "source": [
    "combined_df.shape"
   ]
  },
  {
   "cell_type": "code",
   "execution_count": 23,
   "metadata": {},
   "outputs": [
    {
     "data": {
      "text/plain": [
       "Index(['project_code', 'qty', 'unit_price', 'total', 'entity', 'actual_entity',\n",
       "       'consultant_name', 'school', 'zone', 'programme_name', 'uom',\n",
       "       'service_consultant'],\n",
       "      dtype='object')"
      ]
     },
     "execution_count": 23,
     "metadata": {},
     "output_type": "execute_result"
    }
   ],
   "source": [
    "combined_df.columns"
   ]
  },
  {
   "cell_type": "markdown",
   "metadata": {},
   "source": [
    "## 4.04 Data Cleaning: `project_code` <a id=\"4.04\"></a>"
   ]
  },
  {
   "cell_type": "code",
   "execution_count": 24,
   "metadata": {},
   "outputs": [
    {
     "data": {
      "text/plain": [
       "(919, 12)"
      ]
     },
     "execution_count": 24,
     "metadata": {},
     "output_type": "execute_result"
    }
   ],
   "source": [
    "# Checking shape\n",
    "\n",
    "combined_df.shape"
   ]
  },
  {
   "cell_type": "code",
   "execution_count": 25,
   "metadata": {},
   "outputs": [
    {
     "data": {
      "text/plain": [
       "project_code    2\n",
       "dtype: int64"
      ]
     },
     "execution_count": 25,
     "metadata": {},
     "output_type": "execute_result"
    }
   ],
   "source": [
    "# Checking for NaNs\n",
    "\n",
    "combined_df[[\"project_code\"]].isnull().sum()"
   ]
  },
  {
   "cell_type": "code",
   "execution_count": 26,
   "metadata": {},
   "outputs": [],
   "source": [
    "# Dropping the 2 rows with NaNs, because there's no way I will know what the actual project code is\n",
    "\n",
    "combined_df.dropna(subset=[\"project_code\"], inplace=True)"
   ]
  },
  {
   "cell_type": "code",
   "execution_count": 27,
   "metadata": {},
   "outputs": [],
   "source": [
    "# An alternative way, just take the null NaN rows\n",
    "# https://stackoverflow.com/questions/13413590/how-to-drop-rows-of-pandas-dataframe-whose-value-in-a-certain-column-is-nan\n",
    "\n",
    "#combined_df = combined_df[combined_df[\"project_code\"].notna()]"
   ]
  },
  {
   "cell_type": "code",
   "execution_count": 28,
   "metadata": {},
   "outputs": [
    {
     "data": {
      "text/plain": [
       "(917, 12)"
      ]
     },
     "execution_count": 28,
     "metadata": {},
     "output_type": "execute_result"
    }
   ],
   "source": [
    "# Checking shape after drop\n",
    "\n",
    "combined_df.shape"
   ]
  },
  {
   "cell_type": "code",
   "execution_count": 29,
   "metadata": {},
   "outputs": [
    {
     "data": {
      "text/plain": [
       "dtype('O')"
      ]
     },
     "execution_count": 29,
     "metadata": {},
     "output_type": "execute_result"
    }
   ],
   "source": [
    "# Checking dtype\n",
    "\n",
    "combined_df[\"project_code\"].dtype"
   ]
  },
  {
   "cell_type": "code",
   "execution_count": 30,
   "metadata": {},
   "outputs": [
    {
     "data": {
      "text/plain": [
       "823"
      ]
     },
     "execution_count": 30,
     "metadata": {},
     "output_type": "execute_result"
    }
   ],
   "source": [
    "# Checking for unique values for project_code\n",
    "\n",
    "len(combined_df[\"project_code\"].unique())"
   ]
  },
  {
   "cell_type": "markdown",
   "metadata": {},
   "source": [
    "##### Observation:\n",
    "\n",
    "Initially, I had wanted to include `project_code` as features after dummying them. However, 823 features with only 917 observations is not best practice for modelling. \n",
    "\n",
    "Therefore, I will have to do without `project_code`, and instead go with `entity` or `actual_entity` which captures just the business unit that sold the programme, instead of both the business unit and the project_code under it. "
   ]
  },
  {
   "cell_type": "code",
   "execution_count": 31,
   "metadata": {},
   "outputs": [],
   "source": [
    "# Dropping project_code\n",
    "\n",
    "combined_df = combined_df.drop(columns=[\"project_code\"])"
   ]
  },
  {
   "cell_type": "code",
   "execution_count": 32,
   "metadata": {},
   "outputs": [
    {
     "data": {
      "text/plain": [
       "Index(['qty', 'unit_price', 'total', 'entity', 'actual_entity',\n",
       "       'consultant_name', 'school', 'zone', 'programme_name', 'uom',\n",
       "       'service_consultant'],\n",
       "      dtype='object')"
      ]
     },
     "execution_count": 32,
     "metadata": {},
     "output_type": "execute_result"
    }
   ],
   "source": [
    "# Checking that drop was successful\n",
    "\n",
    "combined_df.columns"
   ]
  },
  {
   "cell_type": "code",
   "execution_count": 33,
   "metadata": {},
   "outputs": [
    {
     "data": {
      "text/plain": [
       "(917, 11)"
      ]
     },
     "execution_count": 33,
     "metadata": {},
     "output_type": "execute_result"
    }
   ],
   "source": [
    "# Checking shape\n",
    "combined_df.shape"
   ]
  },
  {
   "cell_type": "markdown",
   "metadata": {},
   "source": [
    "## 4.05 Data Cleaning: `qty`, `unit_price`, `total` <a id=\"4.05\"></a>"
   ]
  },
  {
   "cell_type": "code",
   "execution_count": 34,
   "metadata": {},
   "outputs": [
    {
     "data": {
      "text/plain": [
       "(917, 11)"
      ]
     },
     "execution_count": 34,
     "metadata": {},
     "output_type": "execute_result"
    }
   ],
   "source": [
    "combined_df.shape"
   ]
  },
  {
   "cell_type": "code",
   "execution_count": 35,
   "metadata": {},
   "outputs": [
    {
     "name": "stdout",
     "output_type": "stream",
     "text": [
      "nulls for qty: 51 \n",
      "nulls for unit_price: 50 \n",
      "nulls for total: 15\n"
     ]
    }
   ],
   "source": [
    "print(f\"nulls for qty: {combined_df.qty.isnull().sum()}\",\n",
    "      \"\\n\"\n",
    "      f\"nulls for unit_price: {combined_df.unit_price.isnull().sum()}\",\n",
    "      \"\\n\"\n",
    "      f\"nulls for total: {combined_df.total.isnull().sum()}\")"
   ]
  },
  {
   "cell_type": "code",
   "execution_count": 36,
   "metadata": {},
   "outputs": [],
   "source": [
    "# Dropping nulls\n",
    "\n",
    "combined_df.dropna(subset=[\"total\", \"unit_price\", \"qty\"], inplace=True)"
   ]
  },
  {
   "cell_type": "code",
   "execution_count": 37,
   "metadata": {},
   "outputs": [
    {
     "name": "stdout",
     "output_type": "stream",
     "text": [
      "nulls for qty: 0 \n",
      "nulls for unit_price: 0 \n",
      "nulls for total: 0\n"
     ]
    }
   ],
   "source": [
    "# Checking if the drop was successful\n",
    "\n",
    "print(f\"nulls for qty: {combined_df.qty.isnull().sum()}\",\n",
    "      \"\\n\"\n",
    "      f\"nulls for unit_price: {combined_df.unit_price.isnull().sum()}\",\n",
    "      \"\\n\"\n",
    "      f\"nulls for total: {combined_df.total.isnull().sum()}\")"
   ]
  },
  {
   "cell_type": "code",
   "execution_count": 38,
   "metadata": {},
   "outputs": [
    {
     "data": {
      "text/plain": [
       "(859, 11)"
      ]
     },
     "execution_count": 38,
     "metadata": {},
     "output_type": "execute_result"
    }
   ],
   "source": [
    "# Checking shape of combined_df \n",
    "\n",
    "combined_df.shape"
   ]
  },
  {
   "cell_type": "code",
   "execution_count": 39,
   "metadata": {},
   "outputs": [],
   "source": [
    "# Resetting index\n",
    "\n",
    "combined_df = combined_df.reset_index(drop=True)"
   ]
  },
  {
   "cell_type": "code",
   "execution_count": 40,
   "metadata": {},
   "outputs": [
    {
     "name": "stdout",
     "output_type": "stream",
     "text": [
      "dtype for qty: object \n",
      "dtype for unit_price: object \n",
      "dtype for total: object\n"
     ]
    }
   ],
   "source": [
    "# Checking dtypes\n",
    "\n",
    "print(f\"dtype for qty: {combined_df.qty.dtype}\",\n",
    "      \"\\n\"\n",
    "      f\"dtype for unit_price: {combined_df.unit_price.dtype}\",\n",
    "      \"\\n\"\n",
    "      f\"dtype for total: {combined_df.total.dtype}\")"
   ]
  },
  {
   "cell_type": "code",
   "execution_count": 41,
   "metadata": {
    "scrolled": false
   },
   "outputs": [],
   "source": [
    "# Converting qty to float dtype\n",
    "\n",
    "combined_df[\"qty\"] = combined_df[\"qty\"].replace({\"-\" : \"0\"}, regex=True)\n",
    "\n",
    "combined_df[\"qty\"] = combined_df[\"qty\"].astype(float)"
   ]
  },
  {
   "cell_type": "code",
   "execution_count": 42,
   "metadata": {},
   "outputs": [],
   "source": [
    "# Converting unit_price to float dtype\n",
    "\n",
    "combined_df[\"unit_price\"] = combined_df[\"unit_price\"].replace({\",\" : \"\", \"\\$\": \"\"}, regex=True)\n",
    "\n",
    "combined_df[\"unit_price\"] = combined_df[\"unit_price\"].astype(float)"
   ]
  },
  {
   "cell_type": "code",
   "execution_count": 43,
   "metadata": {},
   "outputs": [],
   "source": [
    "# Converting total to float dtype\n",
    "\n",
    "combined_df[\"total\"] = combined_df[\"total\"].replace({\",\" : \"\", \"\\$\": \"\"}, regex=True)\n",
    "\n",
    "combined_df[\"total\"] = combined_df[\"total\"].astype(float)"
   ]
  },
  {
   "cell_type": "code",
   "execution_count": 44,
   "metadata": {},
   "outputs": [
    {
     "name": "stdout",
     "output_type": "stream",
     "text": [
      "<class 'pandas.core.frame.DataFrame'>\n",
      "RangeIndex: 859 entries, 0 to 858\n",
      "Data columns (total 11 columns):\n",
      " #   Column              Non-Null Count  Dtype  \n",
      "---  ------              --------------  -----  \n",
      " 0   qty                 859 non-null    float64\n",
      " 1   unit_price          859 non-null    float64\n",
      " 2   total               859 non-null    float64\n",
      " 3   entity              858 non-null    object \n",
      " 4   actual_entity       806 non-null    object \n",
      " 5   consultant_name     859 non-null    object \n",
      " 6   school              857 non-null    object \n",
      " 7   zone                837 non-null    object \n",
      " 8   programme_name      849 non-null    object \n",
      " 9   uom                 795 non-null    object \n",
      " 10  service_consultant  115 non-null    object \n",
      "dtypes: float64(3), object(8)\n",
      "memory usage: 73.9+ KB\n"
     ]
    }
   ],
   "source": [
    "# Checking that dtypes were changed succesfully\n",
    "\n",
    "combined_df.info()"
   ]
  },
  {
   "cell_type": "code",
   "execution_count": 45,
   "metadata": {},
   "outputs": [
    {
     "data": {
      "text/plain": [
       "0       675.0\n",
       "1      2700.0\n",
       "2      2625.0\n",
       "3       675.0\n",
       "4      4080.0\n",
       "        ...  \n",
       "854    3000.0\n",
       "855    3178.0\n",
       "856    1600.0\n",
       "857    3750.0\n",
       "858    5060.0\n",
       "Name: total, Length: 859, dtype: float64"
      ]
     },
     "execution_count": 45,
     "metadata": {},
     "output_type": "execute_result"
    }
   ],
   "source": [
    "# Multiplying qty and unit_price, to get total (some values for total were not filled in)\n",
    "\n",
    "combined_df[\"total\"] = combined_df[\"qty\"] * combined_df[\"unit_price\"]\n",
    "\n",
    "combined_df[\"total\"]"
   ]
  },
  {
   "cell_type": "code",
   "execution_count": 46,
   "metadata": {},
   "outputs": [],
   "source": [
    "# Dropping qty and price, since total reflects them\n",
    "\n",
    "combined_df.drop(columns=[\"qty\", \"unit_price\"], inplace=True)"
   ]
  },
  {
   "cell_type": "code",
   "execution_count": 47,
   "metadata": {},
   "outputs": [
    {
     "data": {
      "text/html": [
       "<div>\n",
       "<style scoped>\n",
       "    .dataframe tbody tr th:only-of-type {\n",
       "        vertical-align: middle;\n",
       "    }\n",
       "\n",
       "    .dataframe tbody tr th {\n",
       "        vertical-align: top;\n",
       "    }\n",
       "\n",
       "    .dataframe thead th {\n",
       "        text-align: right;\n",
       "    }\n",
       "</style>\n",
       "<table border=\"1\" class=\"dataframe\">\n",
       "  <thead>\n",
       "    <tr style=\"text-align: right;\">\n",
       "      <th></th>\n",
       "      <th>total</th>\n",
       "      <th>entity</th>\n",
       "      <th>actual_entity</th>\n",
       "      <th>consultant_name</th>\n",
       "      <th>school</th>\n",
       "      <th>zone</th>\n",
       "      <th>programme_name</th>\n",
       "      <th>uom</th>\n",
       "      <th>service_consultant</th>\n",
       "    </tr>\n",
       "  </thead>\n",
       "  <tbody>\n",
       "    <tr>\n",
       "      <th>0</th>\n",
       "      <td>675.0</td>\n",
       "      <td>ARTELIER (INSTRUCTOR) PTE LTD</td>\n",
       "      <td>NaN</td>\n",
       "      <td>LINDEN LOKE</td>\n",
       "      <td>JUNYUAN PRI</td>\n",
       "      <td>EAST</td>\n",
       "      <td>Art Club CCA</td>\n",
       "      <td>PER HR</td>\n",
       "      <td>NaN</td>\n",
       "    </tr>\n",
       "    <tr>\n",
       "      <th>1</th>\n",
       "      <td>2700.0</td>\n",
       "      <td>ARTELIER (INSTRUCTOR) PTE LTD</td>\n",
       "      <td>NaN</td>\n",
       "      <td>LINDEN LOKE</td>\n",
       "      <td>JUNYUAN PRI</td>\n",
       "      <td>NaN</td>\n",
       "      <td>Art Club CCA</td>\n",
       "      <td>NaN</td>\n",
       "      <td>NaN</td>\n",
       "    </tr>\n",
       "    <tr>\n",
       "      <th>2</th>\n",
       "      <td>2625.0</td>\n",
       "      <td>ARTELIER (INSTRUCTOR) PTE LTD</td>\n",
       "      <td>NaN</td>\n",
       "      <td>LINDEN LOKE</td>\n",
       "      <td>JUNYUAN PRI</td>\n",
       "      <td>NaN</td>\n",
       "      <td>Art Club CCA</td>\n",
       "      <td>NaN</td>\n",
       "      <td>NaN</td>\n",
       "    </tr>\n",
       "    <tr>\n",
       "      <th>3</th>\n",
       "      <td>675.0</td>\n",
       "      <td>ARTELIER (INSTRUCTOR) PTE LTD</td>\n",
       "      <td>NaN</td>\n",
       "      <td>LINDEN LOKE</td>\n",
       "      <td>JUNYUAN PRI</td>\n",
       "      <td>NaN</td>\n",
       "      <td>Art Club CCA</td>\n",
       "      <td>NaN</td>\n",
       "      <td>NaN</td>\n",
       "    </tr>\n",
       "    <tr>\n",
       "      <th>4</th>\n",
       "      <td>4080.0</td>\n",
       "      <td>ARTELIER (INSTRUCTOR) PTE LTD</td>\n",
       "      <td>NaN</td>\n",
       "      <td>MARTIN LOCK</td>\n",
       "      <td>SEMBAWANG PR</td>\n",
       "      <td>NORTH</td>\n",
       "      <td>Ceramics</td>\n",
       "      <td>PER PAX</td>\n",
       "      <td>NaN</td>\n",
       "    </tr>\n",
       "    <tr>\n",
       "      <th>...</th>\n",
       "      <td>...</td>\n",
       "      <td>...</td>\n",
       "      <td>...</td>\n",
       "      <td>...</td>\n",
       "      <td>...</td>\n",
       "      <td>...</td>\n",
       "      <td>...</td>\n",
       "      <td>...</td>\n",
       "      <td>...</td>\n",
       "    </tr>\n",
       "    <tr>\n",
       "      <th>854</th>\n",
       "      <td>3000.0</td>\n",
       "      <td>TRAVELEARN</td>\n",
       "      <td>TRAVELEARN</td>\n",
       "      <td>JOHNNY</td>\n",
       "      <td>Singbiz travel</td>\n",
       "      <td>NON MOE</td>\n",
       "      <td>Mandrain Leadership workshop</td>\n",
       "      <td>PACKAGE - PAX</td>\n",
       "      <td>NaN</td>\n",
       "    </tr>\n",
       "    <tr>\n",
       "      <th>855</th>\n",
       "      <td>3178.0</td>\n",
       "      <td>TRAVELEARN</td>\n",
       "      <td>TRAVELEARN</td>\n",
       "      <td>JOHNNY</td>\n",
       "      <td>Singbiz Travel</td>\n",
       "      <td>NON MOE</td>\n",
       "      <td>Ochestra workshop</td>\n",
       "      <td>PACKAGE - HR</td>\n",
       "      <td>NaN</td>\n",
       "    </tr>\n",
       "    <tr>\n",
       "      <th>856</th>\n",
       "      <td>1600.0</td>\n",
       "      <td>TRAVELEARN</td>\n",
       "      <td>TRAVELEARN</td>\n",
       "      <td>JOHNNY</td>\n",
       "      <td>Singbiz travel</td>\n",
       "      <td>NON MOE</td>\n",
       "      <td>Drama and dance workshop</td>\n",
       "      <td>PACKAGE - HR</td>\n",
       "      <td>NaN</td>\n",
       "    </tr>\n",
       "    <tr>\n",
       "      <th>857</th>\n",
       "      <td>3750.0</td>\n",
       "      <td>TRAVELEARN</td>\n",
       "      <td>PASSIONISTA PTE LTD</td>\n",
       "      <td>MARTIN LOCK</td>\n",
       "      <td>Woodlands Ring Sec</td>\n",
       "      <td>NORTH</td>\n",
       "      <td>Hospitality</td>\n",
       "      <td>PER PAX</td>\n",
       "      <td>NaN</td>\n",
       "    </tr>\n",
       "    <tr>\n",
       "      <th>858</th>\n",
       "      <td>5060.0</td>\n",
       "      <td>TRAVELEARN</td>\n",
       "      <td>PASSIONISTA PTE LTD</td>\n",
       "      <td>MARTIN LOCK</td>\n",
       "      <td>Marsiling Sec</td>\n",
       "      <td>NORTH</td>\n",
       "      <td>Tourism</td>\n",
       "      <td>PER PAX</td>\n",
       "      <td>NaN</td>\n",
       "    </tr>\n",
       "  </tbody>\n",
       "</table>\n",
       "<p>859 rows × 9 columns</p>\n",
       "</div>"
      ],
      "text/plain": [
       "      total                         entity        actual_entity  \\\n",
       "0     675.0  ARTELIER (INSTRUCTOR) PTE LTD                  NaN   \n",
       "1    2700.0  ARTELIER (INSTRUCTOR) PTE LTD                  NaN   \n",
       "2    2625.0  ARTELIER (INSTRUCTOR) PTE LTD                  NaN   \n",
       "3     675.0  ARTELIER (INSTRUCTOR) PTE LTD                  NaN   \n",
       "4    4080.0  ARTELIER (INSTRUCTOR) PTE LTD                  NaN   \n",
       "..      ...                            ...                  ...   \n",
       "854  3000.0                     TRAVELEARN           TRAVELEARN   \n",
       "855  3178.0                     TRAVELEARN           TRAVELEARN   \n",
       "856  1600.0                     TRAVELEARN           TRAVELEARN   \n",
       "857  3750.0                     TRAVELEARN  PASSIONISTA PTE LTD   \n",
       "858  5060.0                     TRAVELEARN  PASSIONISTA PTE LTD   \n",
       "\n",
       "    consultant_name              school     zone  \\\n",
       "0       LINDEN LOKE         JUNYUAN PRI     EAST   \n",
       "1       LINDEN LOKE         JUNYUAN PRI      NaN   \n",
       "2       LINDEN LOKE         JUNYUAN PRI      NaN   \n",
       "3       LINDEN LOKE         JUNYUAN PRI      NaN   \n",
       "4       MARTIN LOCK        SEMBAWANG PR    NORTH   \n",
       "..              ...                 ...      ...   \n",
       "854          JOHNNY      Singbiz travel  NON MOE   \n",
       "855          JOHNNY      Singbiz Travel  NON MOE   \n",
       "856          JOHNNY      Singbiz travel  NON MOE   \n",
       "857     MARTIN LOCK  Woodlands Ring Sec    NORTH   \n",
       "858     MARTIN LOCK       Marsiling Sec    NORTH   \n",
       "\n",
       "                   programme_name            uom service_consultant  \n",
       "0                    Art Club CCA         PER HR                NaN  \n",
       "1                    Art Club CCA            NaN                NaN  \n",
       "2                    Art Club CCA            NaN                NaN  \n",
       "3                    Art Club CCA            NaN                NaN  \n",
       "4                        Ceramics        PER PAX                NaN  \n",
       "..                            ...            ...                ...  \n",
       "854  Mandrain Leadership workshop  PACKAGE - PAX                NaN  \n",
       "855             Ochestra workshop   PACKAGE - HR                NaN  \n",
       "856      Drama and dance workshop   PACKAGE - HR                NaN  \n",
       "857                   Hospitality        PER PAX                NaN  \n",
       "858                       Tourism        PER PAX                NaN  \n",
       "\n",
       "[859 rows x 9 columns]"
      ]
     },
     "execution_count": 47,
     "metadata": {},
     "output_type": "execute_result"
    }
   ],
   "source": [
    "# Resetting index\n",
    "\n",
    "combined_df = combined_df.reset_index(drop=True)\n",
    "\n",
    "combined_df"
   ]
  },
  {
   "cell_type": "code",
   "execution_count": 48,
   "metadata": {},
   "outputs": [
    {
     "data": {
      "text/plain": [
       "(859, 9)"
      ]
     },
     "execution_count": 48,
     "metadata": {},
     "output_type": "execute_result"
    }
   ],
   "source": [
    "# Checking shape\n",
    "\n",
    "combined_df.shape"
   ]
  },
  {
   "cell_type": "code",
   "execution_count": 49,
   "metadata": {},
   "outputs": [
    {
     "data": {
      "text/plain": [
       "<matplotlib.axes._subplots.AxesSubplot at 0x22917b91588>"
      ]
     },
     "execution_count": 49,
     "metadata": {},
     "output_type": "execute_result"
    },
    {
     "data": {
      "image/png": "[encoded data removed]",
      "text/plain": [
       "<Figure size 576x432 with 1 Axes>"
      ]
     },
     "metadata": {},
     "output_type": "display_data"
    }
   ],
   "source": [
    "# Visualising the distribution of total\n",
    "\n",
    "fig = plt.figure(figsize=(8,6), facecolor=\"white\", edgecolor=None, frameon=True)\n",
    "sns.distplot(combined_df[\"total\"])"
   ]
  },
  {
   "cell_type": "code",
   "execution_count": 50,
   "metadata": {},
   "outputs": [
    {
     "data": {
      "text/plain": [
       "5          0.0\n",
       "405        0.0\n",
       "580      100.0\n",
       "784      120.0\n",
       "794      120.0\n",
       "        ...   \n",
       "365    32888.0\n",
       "539    33840.0\n",
       "195    34080.0\n",
       "202    41900.0\n",
       "283    44460.0\n",
       "Name: total, Length: 859, dtype: float64"
      ]
     },
     "execution_count": 50,
     "metadata": {},
     "output_type": "execute_result"
    }
   ],
   "source": [
    "combined_df[\"total\"].sort_values(ascending=True)"
   ]
  },
  {
   "cell_type": "markdown",
   "metadata": {},
   "source": [
    "## 4.06 Data Cleaning: `entity` and `actual_entity` <a id=\"4.06\"></a>"
   ]
  },
  {
   "cell_type": "markdown",
   "metadata": {},
   "source": [
    "##### Note:\n",
    "\n",
    "`entity` refers to the business unit that the programme was sold under.\n",
    "\n",
    "`actual_entity` refers to the business unit that the revenue was credited to. \n",
    "\n",
    "This occurs because programmes are sometimes mixed, as per school requirements, and one business entity may not capture the full scope of the requested programme. \n",
    "\n",
    "For the purpose of analysis, we will only consider `actual_entity`, since that is where the revenue actually goes to.\n",
    "\n",
    "But before that, I will proceed to clean these 2 features."
   ]
  },
  {
   "cell_type": "code",
   "execution_count": 51,
   "metadata": {},
   "outputs": [
    {
     "data": {
      "text/plain": [
       "A'CROSS ARTS PTE LTD                12\n",
       "A'CROSS DANCE PTE LTD               14\n",
       "A'CROSS DRAMA PTE LTD               12\n",
       "A'CROSS MEDIA PTE LTD               43\n",
       "A'CROSS MUSIC PTE LTD                3\n",
       "A'CROSS SPORTS PTE LTD              38\n",
       "ARTELIER (INSTRUCTOR) PTE LTD        5\n",
       "ARTELIER PTE LTD                    92\n",
       "DANCE ATELIER PTE LTD               21\n",
       "DRAMAESTRO PTE LTD                   3\n",
       "EPITOMEDIA (INSTRUCTOR) PTE LTD      1\n",
       "EPITOMEDIA PTE LTD                  60\n",
       "ETERNATIONAL EVENTS                  4\n",
       "FENG HUA ZHAN PTE LTD               46\n",
       "FUTURASIA                            1\n",
       "LIFE CHAMPS PTE LTD                 26\n",
       "MUSICON (INSTRUCTOR) PTE LTD        15\n",
       "MUSICON PTE LTD                     43\n",
       "OUTSTANDOR PTE LTD                   9\n",
       "PASSIONISTA PTE LTD                125\n",
       "SPORTS FIRST PTE LTD                23\n",
       "STUDIO WU INTERNATIONAL PTE LTD     40\n",
       "TRAVELEARN                          15\n",
       "VIVARCH ENRICHMENT PTE LTD         207\n",
       "Name: entity, dtype: int64"
      ]
     },
     "execution_count": 51,
     "metadata": {},
     "output_type": "execute_result"
    }
   ],
   "source": [
    "# Checking to see what business entities are in entity\n",
    "\n",
    "combined_df[\"entity\"].value_counts().sort_index()"
   ]
  },
  {
   "cell_type": "code",
   "execution_count": 52,
   "metadata": {},
   "outputs": [
    {
     "data": {
      "text/plain": [
       "A'CROSS ARTS PTE LTD                 2\n",
       "A'CROSS DANCE PTE LTD               14\n",
       "A'CROSS DRAMA PTE LTD               12\n",
       "A'CROSS MEDIA PTE LTD               29\n",
       "A'CROSS MUSIC PTE LTD                3\n",
       "A'CROSS SPORTS PTE LTD              29\n",
       "ARTELIER (INSTRUCTOR) PTE LTD        3\n",
       "ARTELIER PTE LTD                   101\n",
       "DANCE ATELIER PTE LTD               87\n",
       "DRAMAESTRO PTE LTD                   3\n",
       "EPITOMEDIA (INSTRUCTOR) PTE LTD      2\n",
       "EPITOMEDIA PTE LTD                  69\n",
       "FENG HUA ZHAN PTE LTD               47\n",
       "FUTURASIA                            1\n",
       "LIFE CHAMPS PTE LTD                 20\n",
       "MUSICON (INSTRUCTOR) PTE LTD        18\n",
       "MUSICON PTE LTD                     49\n",
       "OUTSTANDOR PTE LTD                   6\n",
       "PASSIONISTA PTE LTD                176\n",
       "SPORTS FIRST PTE LTD                26\n",
       "STUDIO WU INTERNATIONAL PTE LTD     41\n",
       "STUDIO WU PTE LTD                    3\n",
       "TRAVELEARN                           5\n",
       "VIVARCH ENRICHMENT PTE LTD          60\n",
       "Name: actual_entity, dtype: int64"
      ]
     },
     "execution_count": 52,
     "metadata": {},
     "output_type": "execute_result"
    }
   ],
   "source": [
    "# Checking to see what business entities are in actual_entity\n",
    "\n",
    "combined_df[\"actual_entity\"].value_counts().sort_index()"
   ]
  },
  {
   "cell_type": "markdown",
   "metadata": {},
   "source": [
    "##### Observation:\n",
    "\n",
    "A'Cross is an affiliated partner, but not exactly part of the company. Therefore, for the purposes of conducting analysis for the company, I will be removing all A'Cross entries. "
   ]
  },
  {
   "cell_type": "code",
   "execution_count": 53,
   "metadata": {},
   "outputs": [],
   "source": [
    "# Dropping A'Cross entries\n",
    "\n",
    "# https://stackoverflow.com/questions/28679930/how-to-drop-rows-from-pandas-data-frame-that-contains-a-particular-string-in-a-p\n",
    "# https://stackoverflow.com/questions/52297740/typeerror-bad-operand-type-for-unary-float\n",
    "\n",
    "combined_df = combined_df[~combined_df[\"entity\"].str.contains(\"A'CROSS\", na=False)]\n",
    "combined_df = combined_df[~combined_df[\"actual_entity\"].str.contains(\"A'CROSS\", na=False)]"
   ]
  },
  {
   "cell_type": "code",
   "execution_count": 54,
   "metadata": {},
   "outputs": [
    {
     "data": {
      "text/plain": [
       "ARTELIER (INSTRUCTOR) PTE LTD        5\n",
       "ARTELIER PTE LTD                    92\n",
       "DANCE ATELIER PTE LTD               21\n",
       "DRAMAESTRO PTE LTD                   3\n",
       "EPITOMEDIA (INSTRUCTOR) PTE LTD      1\n",
       "EPITOMEDIA PTE LTD                  60\n",
       "ETERNATIONAL EVENTS                  4\n",
       "FENG HUA ZHAN PTE LTD               46\n",
       "FUTURASIA                            1\n",
       "LIFE CHAMPS PTE LTD                 26\n",
       "MUSICON (INSTRUCTOR) PTE LTD        15\n",
       "MUSICON PTE LTD                     43\n",
       "OUTSTANDOR PTE LTD                   9\n",
       "PASSIONISTA PTE LTD                125\n",
       "SPORTS FIRST PTE LTD                22\n",
       "STUDIO WU INTERNATIONAL PTE LTD     40\n",
       "TRAVELEARN                          15\n",
       "VIVARCH ENRICHMENT PTE LTD         207\n",
       "Name: entity, dtype: int64"
      ]
     },
     "execution_count": 54,
     "metadata": {},
     "output_type": "execute_result"
    }
   ],
   "source": [
    "# Checking to see if they were dropped entity\n",
    "\n",
    "combined_df[\"entity\"].value_counts().sort_index()"
   ]
  },
  {
   "cell_type": "code",
   "execution_count": 55,
   "metadata": {},
   "outputs": [
    {
     "data": {
      "text/plain": [
       "ARTELIER (INSTRUCTOR) PTE LTD        3\n",
       "ARTELIER PTE LTD                   101\n",
       "DANCE ATELIER PTE LTD               87\n",
       "DRAMAESTRO PTE LTD                   3\n",
       "EPITOMEDIA (INSTRUCTOR) PTE LTD      2\n",
       "EPITOMEDIA PTE LTD                  68\n",
       "FENG HUA ZHAN PTE LTD               47\n",
       "FUTURASIA                            1\n",
       "LIFE CHAMPS PTE LTD                 20\n",
       "MUSICON (INSTRUCTOR) PTE LTD        18\n",
       "MUSICON PTE LTD                     49\n",
       "OUTSTANDOR PTE LTD                   6\n",
       "PASSIONISTA PTE LTD                172\n",
       "SPORTS FIRST PTE LTD                25\n",
       "STUDIO WU INTERNATIONAL PTE LTD     41\n",
       "STUDIO WU PTE LTD                    3\n",
       "TRAVELEARN                           5\n",
       "VIVARCH ENRICHMENT PTE LTD          60\n",
       "Name: actual_entity, dtype: int64"
      ]
     },
     "execution_count": 55,
     "metadata": {},
     "output_type": "execute_result"
    }
   ],
   "source": [
    "# Checking to see if they were dropped for actual_entity\n",
    "\n",
    "combined_df[\"actual_entity\"].value_counts().sort_index()"
   ]
  },
  {
   "cell_type": "code",
   "execution_count": 56,
   "metadata": {},
   "outputs": [
    {
     "data": {
      "text/plain": [
       "(736, 9)"
      ]
     },
     "execution_count": 56,
     "metadata": {},
     "output_type": "execute_result"
    }
   ],
   "source": [
    "# Checking shape\n",
    "\n",
    "combined_df.shape"
   ]
  },
  {
   "cell_type": "code",
   "execution_count": 57,
   "metadata": {},
   "outputs": [
    {
     "name": "stdout",
     "output_type": "stream",
     "text": [
      "nulls for entity: 1 \n",
      "nulls for actual_entity: 25\n"
     ]
    }
   ],
   "source": [
    "# Checking for nulls: \n",
    "\n",
    "print(f\"nulls for entity: {combined_df.entity.isnull().sum()}\",\n",
    "      \"\\n\"\n",
    "      f\"nulls for actual_entity: {combined_df.actual_entity.isnull().sum()}\")"
   ]
  },
  {
   "cell_type": "code",
   "execution_count": 58,
   "metadata": {},
   "outputs": [],
   "source": [
    "# Dropping nulls\n",
    "\n",
    "combined_df.dropna(subset=[\"entity\", \"actual_entity\"], inplace=True)"
   ]
  },
  {
   "cell_type": "code",
   "execution_count": 59,
   "metadata": {},
   "outputs": [
    {
     "name": "stdout",
     "output_type": "stream",
     "text": [
      "nulls for entity: 0 \n",
      "nulls for actual_entity: 0\n"
     ]
    }
   ],
   "source": [
    "# Checking if drop was successful: \n",
    "\n",
    "print(f\"nulls for entity: {combined_df.entity.isnull().sum()}\",\n",
    "      \"\\n\"\n",
    "      f\"nulls for actual_entity: {combined_df.actual_entity.isnull().sum()}\")"
   ]
  },
  {
   "cell_type": "code",
   "execution_count": 60,
   "metadata": {},
   "outputs": [
    {
     "data": {
      "text/plain": [
       "(710, 9)"
      ]
     },
     "execution_count": 60,
     "metadata": {},
     "output_type": "execute_result"
    }
   ],
   "source": [
    "# Checking shape\n",
    "\n",
    "combined_df.shape"
   ]
  },
  {
   "cell_type": "code",
   "execution_count": 61,
   "metadata": {},
   "outputs": [
    {
     "name": "stdout",
     "output_type": "stream",
     "text": [
      "Unique business units recorded in entity: 17 \n",
      "Unique business units recorded in actual_entity: 18\n"
     ]
    }
   ],
   "source": [
    "# Checking number of business units for entity and actual entity\n",
    "\n",
    "print(f\"Unique business units recorded in entity: {len(combined_df.entity.unique())}\",\n",
    "      \"\\n\"\n",
    "      f\"Unique business units recorded in actual_entity: {len(combined_df.actual_entity.unique())}\")"
   ]
  },
  {
   "cell_type": "code",
   "execution_count": 62,
   "metadata": {},
   "outputs": [],
   "source": [
    "# Note to Self: When using f-strings, be sure to use different \"\" '' if needed\n",
    "# Checking number of business units for entity and actual entity\n",
    "\n",
    "# print(f\"Unique business units recorded in entity: {len(combined_df[\"entity\"].unique())}\",\n",
    "#       \"\\n\"\n",
    "#       f\"Unique business units recorded in actual_entity: {len(combined_df[\"actual_entity\"].unique())}\")"
   ]
  },
  {
   "cell_type": "markdown",
   "metadata": {},
   "source": [
    "##### Observation:\n",
    "\n",
    "The discrepancy comes from two business units: Studio Wu Pte Ltd, and Studio Wu International Pte Ltd.\n",
    "\n",
    "While different entities, they sell very similar programmes. For the purpose of analysis, I will still retain each entity as separate entities instead of combining them. \n",
    "\n",
    "I will now drop `entity`, because `actual_entity` captures the insight I am looking for."
   ]
  },
  {
   "cell_type": "code",
   "execution_count": 63,
   "metadata": {},
   "outputs": [],
   "source": [
    "# Dropping entity\n",
    "\n",
    "combined_df.drop(columns=[\"entity\"], inplace=True)"
   ]
  },
  {
   "cell_type": "code",
   "execution_count": 64,
   "metadata": {},
   "outputs": [
    {
     "data": {
      "text/plain": [
       "Index(['total', 'actual_entity', 'consultant_name', 'school', 'zone',\n",
       "       'programme_name', 'uom', 'service_consultant'],\n",
       "      dtype='object')"
      ]
     },
     "execution_count": 64,
     "metadata": {},
     "output_type": "execute_result"
    }
   ],
   "source": [
    "# Checking if drop was successful\n",
    "\n",
    "combined_df.columns"
   ]
  },
  {
   "cell_type": "code",
   "execution_count": 65,
   "metadata": {},
   "outputs": [
    {
     "data": {
      "text/plain": [
       "passionista_pte_ltd                172\n",
       "artelier_pte_ltd                   101\n",
       "dance_atelier_pte_ltd               87\n",
       "epitomedia_pte_ltd                  68\n",
       "vivarch_enrichment_pte_ltd          60\n",
       "musicon_pte_ltd                     49\n",
       "feng_hua_zhan_pte_ltd               46\n",
       "studio_wu_international_pte_ltd     41\n",
       "sports_first_pte_ltd                25\n",
       "life_champs_pte_ltd                 20\n",
       "musicon_(instructor)_pte_ltd        18\n",
       "outstandor_pte_ltd                   6\n",
       "travelearn                           5\n",
       "dramaestro_pte_ltd                   3\n",
       "artelier_(instructor)_pte_ltd        3\n",
       "studio_wu_pte_ltd                    3\n",
       "epitomedia_(instructor)_pte_ltd      2\n",
       "futurasia                            1\n",
       "Name: actual_entity, dtype: int64"
      ]
     },
     "execution_count": 65,
     "metadata": {},
     "output_type": "execute_result"
    }
   ],
   "source": [
    "# Converting to lowercase and snake_case\n",
    "\n",
    "combined_df[\"actual_entity\"] = combined_df[\"actual_entity\"].str.lower()\n",
    "combined_df[\"actual_entity\"] = combined_df[\"actual_entity\"].str.replace(\" \", \"_\")\n",
    "\n",
    "combined_df[\"actual_entity\"].value_counts()"
   ]
  },
  {
   "cell_type": "code",
   "execution_count": 66,
   "metadata": {},
   "outputs": [],
   "source": [
    "# Resetting Index\n",
    "\n",
    "combined_df = combined_df.reset_index(drop=True)"
   ]
  },
  {
   "cell_type": "code",
   "execution_count": 67,
   "metadata": {},
   "outputs": [
    {
     "data": {
      "text/plain": [
       "(710, 8)"
      ]
     },
     "execution_count": 67,
     "metadata": {},
     "output_type": "execute_result"
    }
   ],
   "source": [
    "# Checking shape\n",
    "\n",
    "combined_df.shape"
   ]
  },
  {
   "cell_type": "code",
   "execution_count": 68,
   "metadata": {},
   "outputs": [
    {
     "data": {
      "text/plain": [
       "<matplotlib.axes._subplots.AxesSubplot at 0x22917b3b308>"
      ]
     },
     "execution_count": 68,
     "metadata": {},
     "output_type": "execute_result"
    },
    {
     "data": {
      "image/png": "[encoded data removed]",
      "text/plain": [
       "<Figure size 576x432 with 1 Axes>"
      ]
     },
     "metadata": {
      "needs_background": "light"
     },
     "output_type": "display_data"
    }
   ],
   "source": [
    "# Visualising actual_entity\n",
    "# https://stackoverflow.com/questions/46623583/seaborn-countplot-order-categories-by-count\n",
    "\n",
    "fig = plt.figure(figsize=(8,6))\n",
    "\n",
    "sns.countplot(data=combined_df, \n",
    "              y=\"actual_entity\", \n",
    "              order=combined_df[\"actual_entity\"].value_counts().index)"
   ]
  },
  {
   "cell_type": "markdown",
   "metadata": {},
   "source": [
    "##### Observations\n",
    "\n",
    "It seems that Passionista Pte Ltd sells the most programmes, but we'll see if it brings in the most revenue later."
   ]
  },
  {
   "cell_type": "markdown",
   "metadata": {},
   "source": [
    "## 4.07 Data Cleaning: `consultant_name` <a id=\"4.07\"></a>"
   ]
  },
  {
   "cell_type": "code",
   "execution_count": 69,
   "metadata": {},
   "outputs": [
    {
     "data": {
      "text/plain": [
       "HARJINDER SINGH    121\n",
       "MARTIN LOCK        121\n",
       "RAMESH             111\n",
       "NORAIN             101\n",
       "IZWAN               40\n",
       "SHAWN               38\n",
       "POOJA               31\n",
       "NORISMAN            28\n",
       "LINDEN LOKE         26\n",
       "FAIZAL              21\n",
       "CHRISTINE           19\n",
       "JOHNNY              17\n",
       "KRISTEN             10\n",
       "DYLAN HUANG          9\n",
       "TERENCE              5\n",
       "FAZMI                5\n",
       "LOUIS                2\n",
       "IAN CHIA             2\n",
       "RUSYDI               1\n",
       "NICHOLAS             1\n",
       "Norain               1\n",
       "Name: consultant_name, dtype: int64"
      ]
     },
     "execution_count": 69,
     "metadata": {},
     "output_type": "execute_result"
    }
   ],
   "source": [
    "# Taking a look at consultant_name\n",
    "\n",
    "combined_df[\"consultant_name\"].value_counts()"
   ]
  },
  {
   "cell_type": "code",
   "execution_count": 70,
   "metadata": {},
   "outputs": [
    {
     "name": "stdout",
     "output_type": "stream",
     "text": [
      "nulls for consultant_name: 0\n"
     ]
    }
   ],
   "source": [
    "# Checking for nulls: \n",
    "\n",
    "print(f\"nulls for consultant_name: {combined_df.consultant_name.isnull().sum()}\")"
   ]
  },
  {
   "cell_type": "code",
   "execution_count": 71,
   "metadata": {},
   "outputs": [
    {
     "data": {
      "text/plain": [
       "martin_lock        121\n",
       "harjinder_singh    121\n",
       "ramesh             111\n",
       "norain             102\n",
       "izwan               40\n",
       "shawn               38\n",
       "pooja               31\n",
       "norisman            28\n",
       "linden_loke         26\n",
       "faizal              21\n",
       "christine           19\n",
       "johnny              17\n",
       "kristen             10\n",
       "dylan_huang          9\n",
       "fazmi                5\n",
       "terence              5\n",
       "louis                2\n",
       "ian_chia             2\n",
       "nicholas             1\n",
       "rusydi               1\n",
       "Name: consultant_name, dtype: int64"
      ]
     },
     "execution_count": 71,
     "metadata": {},
     "output_type": "execute_result"
    }
   ],
   "source": [
    "# Converting to lowercase and snake_case\n",
    "\n",
    "combined_df[\"consultant_name\"] = combined_df[\"consultant_name\"].str.lower()\n",
    "combined_df[\"consultant_name\"] = combined_df[\"consultant_name\"].str.replace(\" \", \"_\")\n",
    "\n",
    "combined_df[\"consultant_name\"].value_counts()"
   ]
  },
  {
   "cell_type": "code",
   "execution_count": 72,
   "metadata": {},
   "outputs": [
    {
     "data": {
      "text/plain": [
       "<matplotlib.axes._subplots.AxesSubplot at 0x2291888e9c8>"
      ]
     },
     "execution_count": 72,
     "metadata": {},
     "output_type": "execute_result"
    },
    {
     "data": {
      "image/png": "[encoded data removed]",
      "text/plain": [
       "<Figure size 576x432 with 1 Axes>"
      ]
     },
     "metadata": {
      "needs_background": "light"
     },
     "output_type": "display_data"
    }
   ],
   "source": [
    "# Visualising consultant_name\n",
    "\n",
    "fig = plt.figure(figsize=(8,6))\n",
    "\n",
    "sns.countplot(data=combined_df, \n",
    "              y=\"consultant_name\", \n",
    "              order=combined_df[\"consultant_name\"].value_counts().index)"
   ]
  },
  {
   "cell_type": "markdown",
   "metadata": {},
   "source": [
    "## 4.08 Data Cleaning: `school` and `zone` <a id=\"4.08\"></a>"
   ]
  },
  {
   "cell_type": "code",
   "execution_count": 73,
   "metadata": {},
   "outputs": [
    {
     "data": {
      "text/plain": [
       "346"
      ]
     },
     "execution_count": 73,
     "metadata": {},
     "output_type": "execute_result"
    }
   ],
   "source": [
    "# Checking for unique values for school\n",
    "\n",
    "len(combined_df[\"school\"].unique())"
   ]
  },
  {
   "cell_type": "code",
   "execution_count": 74,
   "metadata": {},
   "outputs": [
    {
     "data": {
      "text/plain": [
       "array(['EAST', 'WEST', 'NORTH', 'SOUTH', nan, 'East', 'NON MOE'],\n",
       "      dtype=object)"
      ]
     },
     "execution_count": 74,
     "metadata": {},
     "output_type": "execute_result"
    }
   ],
   "source": [
    "# Checking for unique values for zone\n",
    "\n",
    "combined_df[\"zone\"].unique()"
   ]
  },
  {
   "cell_type": "code",
   "execution_count": 75,
   "metadata": {},
   "outputs": [
    {
     "name": "stdout",
     "output_type": "stream",
     "text": [
      "nulls in zone: 10\n"
     ]
    }
   ],
   "source": [
    "# Checking for nulls in zone\n",
    "\n",
    "print(f\"nulls in zone: {combined_df['zone'].isnull().sum()}\")"
   ]
  },
  {
   "cell_type": "code",
   "execution_count": 76,
   "metadata": {},
   "outputs": [
    {
     "data": {
      "text/html": [
       "<div>\n",
       "<style scoped>\n",
       "    .dataframe tbody tr th:only-of-type {\n",
       "        vertical-align: middle;\n",
       "    }\n",
       "\n",
       "    .dataframe tbody tr th {\n",
       "        vertical-align: top;\n",
       "    }\n",
       "\n",
       "    .dataframe thead th {\n",
       "        text-align: right;\n",
       "    }\n",
       "</style>\n",
       "<table border=\"1\" class=\"dataframe\">\n",
       "  <thead>\n",
       "    <tr style=\"text-align: right;\">\n",
       "      <th></th>\n",
       "      <th>total</th>\n",
       "      <th>actual_entity</th>\n",
       "      <th>consultant_name</th>\n",
       "      <th>school</th>\n",
       "      <th>zone</th>\n",
       "      <th>programme_name</th>\n",
       "      <th>uom</th>\n",
       "      <th>service_consultant</th>\n",
       "    </tr>\n",
       "  </thead>\n",
       "  <tbody>\n",
       "    <tr>\n",
       "      <th>189</th>\n",
       "      <td>4560.0</td>\n",
       "      <td>passionista_pte_ltd</td>\n",
       "      <td>harjinder_singh</td>\n",
       "      <td>Queenstown Secondary</td>\n",
       "      <td>NaN</td>\n",
       "      <td>Culinary - Baking &amp; Pastry</td>\n",
       "      <td>NaN</td>\n",
       "      <td>NaN</td>\n",
       "    </tr>\n",
       "    <tr>\n",
       "      <th>218</th>\n",
       "      <td>3500.0</td>\n",
       "      <td>studio_wu_international_pte_ltd</td>\n",
       "      <td>norain</td>\n",
       "      <td>DAZHONG PRIMARY SCHOOL</td>\n",
       "      <td>NaN</td>\n",
       "      <td>P1-P3 NAC DANCE</td>\n",
       "      <td>PER HR</td>\n",
       "      <td>NaN</td>\n",
       "    </tr>\n",
       "    <tr>\n",
       "      <th>351</th>\n",
       "      <td>3920.0</td>\n",
       "      <td>artelier_pte_ltd</td>\n",
       "      <td>harjinder_singh</td>\n",
       "      <td>FIRST TOA PAYOH PRI</td>\n",
       "      <td>NaN</td>\n",
       "      <td>AMIS Paper Qulling and Metal Tooling</td>\n",
       "      <td>NaN</td>\n",
       "      <td>NaN</td>\n",
       "    </tr>\n",
       "    <tr>\n",
       "      <th>526</th>\n",
       "      <td>33840.0</td>\n",
       "      <td>passionista_pte_ltd</td>\n",
       "      <td>norisman</td>\n",
       "      <td>Swiss Cottage Sec</td>\n",
       "      <td>NaN</td>\n",
       "      <td>Hospitality EM</td>\n",
       "      <td>NaN</td>\n",
       "      <td>NaN</td>\n",
       "    </tr>\n",
       "    <tr>\n",
       "      <th>541</th>\n",
       "      <td>1026.0</td>\n",
       "      <td>passionista_pte_ltd</td>\n",
       "      <td>norisman</td>\n",
       "      <td>Holy Innocence High</td>\n",
       "      <td>NaN</td>\n",
       "      <td>Magic/Illusion Program</td>\n",
       "      <td>NaN</td>\n",
       "      <td>NaN</td>\n",
       "    </tr>\n",
       "    <tr>\n",
       "      <th>555</th>\n",
       "      <td>5500.0</td>\n",
       "      <td>sports_first_pte_ltd</td>\n",
       "      <td>harjinder_singh</td>\n",
       "      <td>Queenstown Secondary School</td>\n",
       "      <td>NaN</td>\n",
       "      <td>QUEENSTOWN EM-F1 IN SCHOOLS</td>\n",
       "      <td>NaN</td>\n",
       "      <td>ISMAN</td>\n",
       "    </tr>\n",
       "    <tr>\n",
       "      <th>571</th>\n",
       "      <td>850.0</td>\n",
       "      <td>studio_wu_international_pte_ltd</td>\n",
       "      <td>norain</td>\n",
       "      <td>Zhenghua Primary School</td>\n",
       "      <td>NaN</td>\n",
       "      <td>Cluster Dance-syposium</td>\n",
       "      <td>NaN</td>\n",
       "      <td>NaN</td>\n",
       "    </tr>\n",
       "    <tr>\n",
       "      <th>572</th>\n",
       "      <td>1150.0</td>\n",
       "      <td>studio_wu_international_pte_ltd</td>\n",
       "      <td>norain</td>\n",
       "      <td>Zhenghua Primary School</td>\n",
       "      <td>NaN</td>\n",
       "      <td>Deepavali Dance</td>\n",
       "      <td>NaN</td>\n",
       "      <td>NaN</td>\n",
       "    </tr>\n",
       "    <tr>\n",
       "      <th>579</th>\n",
       "      <td>2200.0</td>\n",
       "      <td>studio_wu_international_pte_ltd</td>\n",
       "      <td>terence</td>\n",
       "      <td>tampines north primary</td>\n",
       "      <td>NaN</td>\n",
       "      <td>Dance Camp</td>\n",
       "      <td>NaN</td>\n",
       "      <td>NaN</td>\n",
       "    </tr>\n",
       "    <tr>\n",
       "      <th>580</th>\n",
       "      <td>3000.0</td>\n",
       "      <td>studio_wu_international_pte_ltd</td>\n",
       "      <td>harjinder_singh</td>\n",
       "      <td>Tampines Sec</td>\n",
       "      <td>NaN</td>\n",
       "      <td>Percussive Movement/KPOP</td>\n",
       "      <td>NaN</td>\n",
       "      <td>NaN</td>\n",
       "    </tr>\n",
       "  </tbody>\n",
       "</table>\n",
       "</div>"
      ],
      "text/plain": [
       "       total                    actual_entity  consultant_name  \\\n",
       "189   4560.0              passionista_pte_ltd  harjinder_singh   \n",
       "218   3500.0  studio_wu_international_pte_ltd           norain   \n",
       "351   3920.0                 artelier_pte_ltd  harjinder_singh   \n",
       "526  33840.0              passionista_pte_ltd         norisman   \n",
       "541   1026.0              passionista_pte_ltd         norisman   \n",
       "555   5500.0             sports_first_pte_ltd  harjinder_singh   \n",
       "571    850.0  studio_wu_international_pte_ltd           norain   \n",
       "572   1150.0  studio_wu_international_pte_ltd           norain   \n",
       "579   2200.0  studio_wu_international_pte_ltd          terence   \n",
       "580   3000.0  studio_wu_international_pte_ltd  harjinder_singh   \n",
       "\n",
       "                          school zone                        programme_name  \\\n",
       "189        Queenstown Secondary   NaN            Culinary - Baking & Pastry   \n",
       "218       DAZHONG PRIMARY SCHOOL  NaN                       P1-P3 NAC DANCE   \n",
       "351          FIRST TOA PAYOH PRI  NaN  AMIS Paper Qulling and Metal Tooling   \n",
       "526            Swiss Cottage Sec  NaN                        Hospitality EM   \n",
       "541         Holy Innocence High   NaN                Magic/Illusion Program   \n",
       "555  Queenstown Secondary School  NaN           QUEENSTOWN EM-F1 IN SCHOOLS   \n",
       "571      Zhenghua Primary School  NaN                Cluster Dance-syposium   \n",
       "572      Zhenghua Primary School  NaN                       Deepavali Dance   \n",
       "579       tampines north primary  NaN                            Dance Camp   \n",
       "580                 Tampines Sec  NaN              Percussive Movement/KPOP   \n",
       "\n",
       "        uom service_consultant  \n",
       "189     NaN                NaN  \n",
       "218  PER HR                NaN  \n",
       "351     NaN                NaN  \n",
       "526     NaN                NaN  \n",
       "541     NaN                NaN  \n",
       "555     NaN              ISMAN  \n",
       "571     NaN                NaN  \n",
       "572     NaN                NaN  \n",
       "579     NaN                NaN  \n",
       "580     NaN                NaN  "
      ]
     },
     "execution_count": 76,
     "metadata": {},
     "output_type": "execute_result"
    }
   ],
   "source": [
    "# Looking at the rows with nulls for zone\n",
    "# https://intellipaat.com/community/27165/how-to-select-rows-with-nan-in-particular-column\n",
    "\n",
    "combined_df[combined_df[\"zone\"].isnull()]"
   ]
  },
  {
   "cell_type": "markdown",
   "metadata": {},
   "source": [
    "##### Observations\n",
    "\n",
    "It may be wiser to go with `zone` instead of `school`, because 346 features for school with only 710 observations is not likely to work well for modelling. \n",
    "\n",
    "Eitherway, `zone` is a summation of schools located within a particular area of Singapore. In this sense, not all insights of `schools` is lost. \n",
    "\n",
    "Before dropping `school`, I will use `school` to try and deduce appropriate imputation for nulls in `zone`. Since there are only 10 missing values, I will **manually** impute the appropriate zone by refering to the corresponding `school` in the same row, to determine which zone it is likely located in."
   ]
  },
  {
   "cell_type": "code",
   "execution_count": 77,
   "metadata": {},
   "outputs": [
    {
     "name": "stderr",
     "output_type": "stream",
     "text": [
      "C:\\Users\\Shaun\\anaconda3\\lib\\site-packages\\pandas\\core\\indexing.py:670: SettingWithCopyWarning: \n",
      "A value is trying to be set on a copy of a slice from a DataFrame\n",
      "\n",
      "See the caveats in the documentation: https://pandas.pydata.org/pandas-docs/stable/user_guide/indexing.html#returning-a-view-versus-a-copy\n",
      "  self._setitem_with_indexer(indexer, value)\n"
     ]
    }
   ],
   "source": [
    "# Imputing values for Zone\n",
    "# Zone information: https://sis.moe.gov.sg/Medias/PDFs/School_Clusters_2014.pdf\n",
    "\n",
    "\n",
    "combined_df[\"zone\"].iloc[189] = combined_df[\"zone\"].iloc[189] = \"south\"\n",
    "combined_df[\"zone\"].iloc[218] = combined_df[\"zone\"].iloc[281] = \"west\"\n",
    "combined_df[\"zone\"].iloc[351] = combined_df[\"zone\"].iloc[351] = \"south\"\n",
    "combined_df[\"zone\"].iloc[526] = combined_df[\"zone\"].iloc[526] = \"west\"\n",
    "combined_df[\"zone\"].iloc[541] = combined_df[\"zone\"].iloc[541] = \"south\"\n",
    "combined_df[\"zone\"].iloc[555] = combined_df[\"zone\"].iloc[555] = \"south\"\n",
    "combined_df[\"zone\"].iloc[571] = combined_df[\"zone\"].iloc[571] = \"north\"\n",
    "combined_df[\"zone\"].iloc[572] = combined_df[\"zone\"].iloc[572] = \"north\"\n",
    "combined_df[\"zone\"].iloc[579] = combined_df[\"zone\"].iloc[579] = \"east\"\n",
    "combined_df[\"zone\"].iloc[580] = combined_df[\"zone\"].iloc[580] = \"east\""
   ]
  },
  {
   "cell_type": "code",
   "execution_count": 78,
   "metadata": {},
   "outputs": [
    {
     "data": {
      "text/plain": [
       "0"
      ]
     },
     "execution_count": 78,
     "metadata": {},
     "output_type": "execute_result"
    }
   ],
   "source": [
    "# Checking to see if imputation was successful\n",
    "\n",
    "combined_df[\"zone\"].isnull().sum()"
   ]
  },
  {
   "cell_type": "code",
   "execution_count": 79,
   "metadata": {},
   "outputs": [
    {
     "data": {
      "text/plain": [
       "north      231\n",
       "south      195\n",
       "west       157\n",
       "east       119\n",
       "non_moe      8\n",
       "Name: zone, dtype: int64"
      ]
     },
     "execution_count": 79,
     "metadata": {},
     "output_type": "execute_result"
    }
   ],
   "source": [
    "# Converting to lowercase and snake_case\n",
    "\n",
    "combined_df[\"zone\"] = combined_df[\"zone\"].str.lower()\n",
    "combined_df[\"zone\"] = combined_df[\"zone\"].str.replace(\" \", \"_\")\n",
    "\n",
    "combined_df[\"zone\"].value_counts()"
   ]
  },
  {
   "cell_type": "code",
   "execution_count": 80,
   "metadata": {},
   "outputs": [],
   "source": [
    "# Dropping schools now that imputation is done\n",
    "\n",
    "combined_df.drop(columns=[\"school\"], inplace=True)"
   ]
  },
  {
   "cell_type": "code",
   "execution_count": 81,
   "metadata": {},
   "outputs": [
    {
     "data": {
      "text/plain": [
       "Index(['total', 'actual_entity', 'consultant_name', 'zone', 'programme_name',\n",
       "       'uom', 'service_consultant'],\n",
       "      dtype='object')"
      ]
     },
     "execution_count": 81,
     "metadata": {},
     "output_type": "execute_result"
    }
   ],
   "source": [
    "# Checking that drop was successful\n",
    "\n",
    "combined_df.columns"
   ]
  },
  {
   "cell_type": "code",
   "execution_count": 82,
   "metadata": {},
   "outputs": [],
   "source": [
    "# Dropping school\n",
    "\n",
    "# combined_df.drop(columns=[\"school\"], inplace=True)"
   ]
  },
  {
   "cell_type": "code",
   "execution_count": 83,
   "metadata": {},
   "outputs": [
    {
     "data": {
      "text/plain": [
       "Index(['total', 'actual_entity', 'consultant_name', 'zone', 'programme_name',\n",
       "       'uom', 'service_consultant'],\n",
       "      dtype='object')"
      ]
     },
     "execution_count": 83,
     "metadata": {},
     "output_type": "execute_result"
    }
   ],
   "source": [
    "# Checking if drop was successful\n",
    "\n",
    "combined_df.columns"
   ]
  },
  {
   "cell_type": "code",
   "execution_count": 84,
   "metadata": {},
   "outputs": [
    {
     "data": {
      "text/plain": [
       "<matplotlib.axes._subplots.AxesSubplot at 0x2291897b048>"
      ]
     },
     "execution_count": 84,
     "metadata": {},
     "output_type": "execute_result"
    },
    {
     "data": {
      "image/png": "[encoded data removed]",
      "text/plain": [
       "<Figure size 576x432 with 1 Axes>"
      ]
     },
     "metadata": {
      "needs_background": "light"
     },
     "output_type": "display_data"
    }
   ],
   "source": [
    "# Visualising zone\n",
    "\n",
    "fig=plt.figure(figsize=(8,6))\n",
    "\n",
    "sns.countplot(data=combined_df,\n",
    "              y=\"zone\",\n",
    "              order=combined_df[\"zone\"].value_counts().index)"
   ]
  },
  {
   "cell_type": "markdown",
   "metadata": {},
   "source": [
    "## 4.09 Data Cleaning: `programme_name` <a id=\"4.09\"></a>"
   ]
  },
  {
   "cell_type": "code",
   "execution_count": 85,
   "metadata": {},
   "outputs": [
    {
     "data": {
      "text/plain": [
       "Junior Dance (Dance CCA) (continue from 2017)    11\n",
       "Culinary                                          6\n",
       "TRACK & FIELDS                                    6\n",
       "EM                                                5\n",
       "Digital Manga                                     5\n",
       "                                                 ..\n",
       "Secondary Run @ River Valley High School          1\n",
       "JUnior Career Fair 2018 - \\n1.Virtual Reality     1\n",
       "EM - hospitality                                  1\n",
       "Videography for 2NT                               1\n",
       "Sec 2 Jacob's Ladder Lifeskills program           1\n",
       "Name: programme_name, Length: 618, dtype: int64"
      ]
     },
     "execution_count": 85,
     "metadata": {},
     "output_type": "execute_result"
    }
   ],
   "source": [
    "combined_df[\"programme_name\"].value_counts()"
   ]
  },
  {
   "cell_type": "markdown",
   "metadata": {},
   "source": [
    "##### Observation\n",
    "\n",
    "Similar to before, 618 features with just 710 observations is not good practice for modelling. \n",
    "\n",
    "Will drop `programme_name`"
   ]
  },
  {
   "cell_type": "code",
   "execution_count": 86,
   "metadata": {},
   "outputs": [],
   "source": [
    "# Dropping programme_name\n",
    "\n",
    "combined_df.drop(columns=[\"programme_name\"], inplace=True)"
   ]
  },
  {
   "cell_type": "code",
   "execution_count": 87,
   "metadata": {},
   "outputs": [
    {
     "data": {
      "text/plain": [
       "Index(['total', 'actual_entity', 'consultant_name', 'zone', 'uom',\n",
       "       'service_consultant'],\n",
       "      dtype='object')"
      ]
     },
     "execution_count": 87,
     "metadata": {},
     "output_type": "execute_result"
    }
   ],
   "source": [
    "# Checking if drop was sucessful\n",
    "\n",
    "combined_df.columns"
   ]
  },
  {
   "cell_type": "markdown",
   "metadata": {},
   "source": [
    "## 4.10 Data Cleaning: `uom` <a id=\"4.10\"></a>"
   ]
  },
  {
   "cell_type": "code",
   "execution_count": 88,
   "metadata": {},
   "outputs": [
    {
     "data": {
      "text/plain": [
       "PER PAX          250\n",
       "PER HR           216\n",
       "PACKAGE - PAX    112\n",
       "PACKAGE - HR      96\n",
       "Per Pax            1\n",
       "Name: uom, dtype: int64"
      ]
     },
     "execution_count": 88,
     "metadata": {},
     "output_type": "execute_result"
    }
   ],
   "source": [
    "combined_df[\"uom\"].value_counts()"
   ]
  },
  {
   "cell_type": "code",
   "execution_count": 89,
   "metadata": {},
   "outputs": [
    {
     "name": "stdout",
     "output_type": "stream",
     "text": [
      "nulls in uom:35\n"
     ]
    }
   ],
   "source": [
    "# Checking for nulls in uom\n",
    "\n",
    "print(f\"nulls in uom:{combined_df['uom'].isnull().sum()}\")"
   ]
  },
  {
   "cell_type": "code",
   "execution_count": 90,
   "metadata": {},
   "outputs": [
    {
     "data": {
      "text/html": [
       "<div>\n",
       "<style scoped>\n",
       "    .dataframe tbody tr th:only-of-type {\n",
       "        vertical-align: middle;\n",
       "    }\n",
       "\n",
       "    .dataframe tbody tr th {\n",
       "        vertical-align: top;\n",
       "    }\n",
       "\n",
       "    .dataframe thead th {\n",
       "        text-align: right;\n",
       "    }\n",
       "</style>\n",
       "<table border=\"1\" class=\"dataframe\">\n",
       "  <thead>\n",
       "    <tr style=\"text-align: right;\">\n",
       "      <th></th>\n",
       "      <th>total</th>\n",
       "      <th>actual_entity</th>\n",
       "      <th>consultant_name</th>\n",
       "      <th>zone</th>\n",
       "      <th>uom</th>\n",
       "      <th>service_consultant</th>\n",
       "    </tr>\n",
       "  </thead>\n",
       "  <tbody>\n",
       "    <tr>\n",
       "      <th>98</th>\n",
       "      <td>1900.0</td>\n",
       "      <td>feng_hua_zhan_pte_ltd</td>\n",
       "      <td>harjinder_singh</td>\n",
       "      <td>south</td>\n",
       "      <td>NaN</td>\n",
       "      <td>NaN</td>\n",
       "    </tr>\n",
       "    <tr>\n",
       "      <th>126</th>\n",
       "      <td>4080.0</td>\n",
       "      <td>passionista_pte_ltd</td>\n",
       "      <td>harjinder_singh</td>\n",
       "      <td>south</td>\n",
       "      <td>NaN</td>\n",
       "      <td>RAMESH</td>\n",
       "    </tr>\n",
       "    <tr>\n",
       "      <th>129</th>\n",
       "      <td>3800.0</td>\n",
       "      <td>life_champs_pte_ltd</td>\n",
       "      <td>harjinder_singh</td>\n",
       "      <td>south</td>\n",
       "      <td>NaN</td>\n",
       "      <td>RAMESH</td>\n",
       "    </tr>\n",
       "    <tr>\n",
       "      <th>152</th>\n",
       "      <td>2340.0</td>\n",
       "      <td>musicon_pte_ltd</td>\n",
       "      <td>harjinder_singh</td>\n",
       "      <td>south</td>\n",
       "      <td>NaN</td>\n",
       "      <td>RAMESH</td>\n",
       "    </tr>\n",
       "    <tr>\n",
       "      <th>176</th>\n",
       "      <td>25200.0</td>\n",
       "      <td>passionista_pte_ltd</td>\n",
       "      <td>harjinder_singh</td>\n",
       "      <td>south</td>\n",
       "      <td>NaN</td>\n",
       "      <td>RAMESH</td>\n",
       "    </tr>\n",
       "    <tr>\n",
       "      <th>180</th>\n",
       "      <td>1200.0</td>\n",
       "      <td>passionista_pte_ltd</td>\n",
       "      <td>pooja</td>\n",
       "      <td>east</td>\n",
       "      <td>NaN</td>\n",
       "      <td>NaN</td>\n",
       "    </tr>\n",
       "    <tr>\n",
       "      <th>188</th>\n",
       "      <td>34080.0</td>\n",
       "      <td>passionista_pte_ltd</td>\n",
       "      <td>harjinder_singh</td>\n",
       "      <td>west</td>\n",
       "      <td>NaN</td>\n",
       "      <td>RAMESH</td>\n",
       "    </tr>\n",
       "    <tr>\n",
       "      <th>189</th>\n",
       "      <td>4560.0</td>\n",
       "      <td>passionista_pte_ltd</td>\n",
       "      <td>harjinder_singh</td>\n",
       "      <td>south</td>\n",
       "      <td>NaN</td>\n",
       "      <td>NaN</td>\n",
       "    </tr>\n",
       "    <tr>\n",
       "      <th>287</th>\n",
       "      <td>770.0</td>\n",
       "      <td>vivarch_enrichment_pte_ltd</td>\n",
       "      <td>pooja</td>\n",
       "      <td>east</td>\n",
       "      <td>NaN</td>\n",
       "      <td>NaN</td>\n",
       "    </tr>\n",
       "    <tr>\n",
       "      <th>321</th>\n",
       "      <td>5040.0</td>\n",
       "      <td>artelier_pte_ltd</td>\n",
       "      <td>harjinder_singh</td>\n",
       "      <td>south</td>\n",
       "      <td>NaN</td>\n",
       "      <td>ISMAN</td>\n",
       "    </tr>\n",
       "    <tr>\n",
       "      <th>322</th>\n",
       "      <td>5880.0</td>\n",
       "      <td>artelier_pte_ltd</td>\n",
       "      <td>harjinder_singh</td>\n",
       "      <td>south</td>\n",
       "      <td>NaN</td>\n",
       "      <td>ISMAN</td>\n",
       "    </tr>\n",
       "    <tr>\n",
       "      <th>350</th>\n",
       "      <td>5405.0</td>\n",
       "      <td>artelier_pte_ltd</td>\n",
       "      <td>harjinder_singh</td>\n",
       "      <td>south</td>\n",
       "      <td>NaN</td>\n",
       "      <td>ISMAN</td>\n",
       "    </tr>\n",
       "    <tr>\n",
       "      <th>351</th>\n",
       "      <td>3920.0</td>\n",
       "      <td>artelier_pte_ltd</td>\n",
       "      <td>harjinder_singh</td>\n",
       "      <td>south</td>\n",
       "      <td>NaN</td>\n",
       "      <td>NaN</td>\n",
       "    </tr>\n",
       "    <tr>\n",
       "      <th>352</th>\n",
       "      <td>1243.5</td>\n",
       "      <td>artelier_pte_ltd</td>\n",
       "      <td>norisman</td>\n",
       "      <td>east</td>\n",
       "      <td>NaN</td>\n",
       "      <td>NaN</td>\n",
       "    </tr>\n",
       "    <tr>\n",
       "      <th>353</th>\n",
       "      <td>2160.0</td>\n",
       "      <td>artelier_pte_ltd</td>\n",
       "      <td>pooja</td>\n",
       "      <td>east</td>\n",
       "      <td>NaN</td>\n",
       "      <td>NaN</td>\n",
       "    </tr>\n",
       "    <tr>\n",
       "      <th>360</th>\n",
       "      <td>3000.0</td>\n",
       "      <td>dance_atelier_pte_ltd</td>\n",
       "      <td>harjinder_singh</td>\n",
       "      <td>east</td>\n",
       "      <td>NaN</td>\n",
       "      <td>ISMAN</td>\n",
       "    </tr>\n",
       "    <tr>\n",
       "      <th>409</th>\n",
       "      <td>5170.0</td>\n",
       "      <td>futurasia</td>\n",
       "      <td>harjinder_singh</td>\n",
       "      <td>south</td>\n",
       "      <td>NaN</td>\n",
       "      <td>ISMAN</td>\n",
       "    </tr>\n",
       "    <tr>\n",
       "      <th>425</th>\n",
       "      <td>2050.0</td>\n",
       "      <td>life_champs_pte_ltd</td>\n",
       "      <td>norisman</td>\n",
       "      <td>west</td>\n",
       "      <td>NaN</td>\n",
       "      <td>NaN</td>\n",
       "    </tr>\n",
       "    <tr>\n",
       "      <th>475</th>\n",
       "      <td>4480.0</td>\n",
       "      <td>musicon_pte_ltd</td>\n",
       "      <td>harjinder_singh</td>\n",
       "      <td>south</td>\n",
       "      <td>NaN</td>\n",
       "      <td>ISMAN</td>\n",
       "    </tr>\n",
       "    <tr>\n",
       "      <th>483</th>\n",
       "      <td>7260.0</td>\n",
       "      <td>epitomedia_pte_ltd</td>\n",
       "      <td>harjinder_singh</td>\n",
       "      <td>south</td>\n",
       "      <td>NaN</td>\n",
       "      <td>NaN</td>\n",
       "    </tr>\n",
       "    <tr>\n",
       "      <th>526</th>\n",
       "      <td>33840.0</td>\n",
       "      <td>passionista_pte_ltd</td>\n",
       "      <td>norisman</td>\n",
       "      <td>west</td>\n",
       "      <td>NaN</td>\n",
       "      <td>NaN</td>\n",
       "    </tr>\n",
       "    <tr>\n",
       "      <th>541</th>\n",
       "      <td>1026.0</td>\n",
       "      <td>passionista_pte_ltd</td>\n",
       "      <td>norisman</td>\n",
       "      <td>south</td>\n",
       "      <td>NaN</td>\n",
       "      <td>NaN</td>\n",
       "    </tr>\n",
       "    <tr>\n",
       "      <th>549</th>\n",
       "      <td>5973.0</td>\n",
       "      <td>sports_first_pte_ltd</td>\n",
       "      <td>shawn</td>\n",
       "      <td>north</td>\n",
       "      <td>NaN</td>\n",
       "      <td>NaN</td>\n",
       "    </tr>\n",
       "    <tr>\n",
       "      <th>555</th>\n",
       "      <td>5500.0</td>\n",
       "      <td>sports_first_pte_ltd</td>\n",
       "      <td>harjinder_singh</td>\n",
       "      <td>south</td>\n",
       "      <td>NaN</td>\n",
       "      <td>ISMAN</td>\n",
       "    </tr>\n",
       "    <tr>\n",
       "      <th>571</th>\n",
       "      <td>850.0</td>\n",
       "      <td>studio_wu_international_pte_ltd</td>\n",
       "      <td>norain</td>\n",
       "      <td>north</td>\n",
       "      <td>NaN</td>\n",
       "      <td>NaN</td>\n",
       "    </tr>\n",
       "    <tr>\n",
       "      <th>572</th>\n",
       "      <td>1150.0</td>\n",
       "      <td>studio_wu_international_pte_ltd</td>\n",
       "      <td>norain</td>\n",
       "      <td>north</td>\n",
       "      <td>NaN</td>\n",
       "      <td>NaN</td>\n",
       "    </tr>\n",
       "    <tr>\n",
       "      <th>573</th>\n",
       "      <td>720.0</td>\n",
       "      <td>studio_wu_international_pte_ltd</td>\n",
       "      <td>norain</td>\n",
       "      <td>west</td>\n",
       "      <td>NaN</td>\n",
       "      <td>NaN</td>\n",
       "    </tr>\n",
       "    <tr>\n",
       "      <th>575</th>\n",
       "      <td>1645.0</td>\n",
       "      <td>studio_wu_international_pte_ltd</td>\n",
       "      <td>shawn</td>\n",
       "      <td>east</td>\n",
       "      <td>NaN</td>\n",
       "      <td>NaN</td>\n",
       "    </tr>\n",
       "    <tr>\n",
       "      <th>579</th>\n",
       "      <td>2200.0</td>\n",
       "      <td>studio_wu_international_pte_ltd</td>\n",
       "      <td>terence</td>\n",
       "      <td>east</td>\n",
       "      <td>NaN</td>\n",
       "      <td>NaN</td>\n",
       "    </tr>\n",
       "    <tr>\n",
       "      <th>580</th>\n",
       "      <td>3000.0</td>\n",
       "      <td>studio_wu_international_pte_ltd</td>\n",
       "      <td>harjinder_singh</td>\n",
       "      <td>east</td>\n",
       "      <td>NaN</td>\n",
       "      <td>NaN</td>\n",
       "    </tr>\n",
       "    <tr>\n",
       "      <th>657</th>\n",
       "      <td>2150.0</td>\n",
       "      <td>vivarch_enrichment_pte_ltd</td>\n",
       "      <td>harjinder_singh</td>\n",
       "      <td>south</td>\n",
       "      <td>NaN</td>\n",
       "      <td>NaN</td>\n",
       "    </tr>\n",
       "    <tr>\n",
       "      <th>666</th>\n",
       "      <td>5478.0</td>\n",
       "      <td>vivarch_enrichment_pte_ltd</td>\n",
       "      <td>norain</td>\n",
       "      <td>west</td>\n",
       "      <td>NaN</td>\n",
       "      <td>NaN</td>\n",
       "    </tr>\n",
       "    <tr>\n",
       "      <th>680</th>\n",
       "      <td>12190.0</td>\n",
       "      <td>vivarch_enrichment_pte_ltd</td>\n",
       "      <td>norain</td>\n",
       "      <td>west</td>\n",
       "      <td>NaN</td>\n",
       "      <td>NaN</td>\n",
       "    </tr>\n",
       "    <tr>\n",
       "      <th>681</th>\n",
       "      <td>20700.0</td>\n",
       "      <td>vivarch_enrichment_pte_ltd</td>\n",
       "      <td>norain</td>\n",
       "      <td>west</td>\n",
       "      <td>NaN</td>\n",
       "      <td>NaN</td>\n",
       "    </tr>\n",
       "    <tr>\n",
       "      <th>690</th>\n",
       "      <td>2548.0</td>\n",
       "      <td>vivarch_enrichment_pte_ltd</td>\n",
       "      <td>harjinder_singh</td>\n",
       "      <td>south</td>\n",
       "      <td>NaN</td>\n",
       "      <td>ISMAN</td>\n",
       "    </tr>\n",
       "  </tbody>\n",
       "</table>\n",
       "</div>"
      ],
      "text/plain": [
       "       total                    actual_entity  consultant_name   zone  uom  \\\n",
       "98    1900.0            feng_hua_zhan_pte_ltd  harjinder_singh  south  NaN   \n",
       "126   4080.0              passionista_pte_ltd  harjinder_singh  south  NaN   \n",
       "129   3800.0              life_champs_pte_ltd  harjinder_singh  south  NaN   \n",
       "152   2340.0                  musicon_pte_ltd  harjinder_singh  south  NaN   \n",
       "176  25200.0              passionista_pte_ltd  harjinder_singh  south  NaN   \n",
       "180   1200.0              passionista_pte_ltd            pooja   east  NaN   \n",
       "188  34080.0              passionista_pte_ltd  harjinder_singh   west  NaN   \n",
       "189   4560.0              passionista_pte_ltd  harjinder_singh  south  NaN   \n",
       "287    770.0       vivarch_enrichment_pte_ltd            pooja   east  NaN   \n",
       "321   5040.0                 artelier_pte_ltd  harjinder_singh  south  NaN   \n",
       "322   5880.0                 artelier_pte_ltd  harjinder_singh  south  NaN   \n",
       "350   5405.0                 artelier_pte_ltd  harjinder_singh  south  NaN   \n",
       "351   3920.0                 artelier_pte_ltd  harjinder_singh  south  NaN   \n",
       "352   1243.5                 artelier_pte_ltd         norisman   east  NaN   \n",
       "353   2160.0                 artelier_pte_ltd            pooja   east  NaN   \n",
       "360   3000.0            dance_atelier_pte_ltd  harjinder_singh   east  NaN   \n",
       "409   5170.0                        futurasia  harjinder_singh  south  NaN   \n",
       "425   2050.0              life_champs_pte_ltd         norisman   west  NaN   \n",
       "475   4480.0                  musicon_pte_ltd  harjinder_singh  south  NaN   \n",
       "483   7260.0               epitomedia_pte_ltd  harjinder_singh  south  NaN   \n",
       "526  33840.0              passionista_pte_ltd         norisman   west  NaN   \n",
       "541   1026.0              passionista_pte_ltd         norisman  south  NaN   \n",
       "549   5973.0             sports_first_pte_ltd            shawn  north  NaN   \n",
       "555   5500.0             sports_first_pte_ltd  harjinder_singh  south  NaN   \n",
       "571    850.0  studio_wu_international_pte_ltd           norain  north  NaN   \n",
       "572   1150.0  studio_wu_international_pte_ltd           norain  north  NaN   \n",
       "573    720.0  studio_wu_international_pte_ltd           norain   west  NaN   \n",
       "575   1645.0  studio_wu_international_pte_ltd            shawn   east  NaN   \n",
       "579   2200.0  studio_wu_international_pte_ltd          terence   east  NaN   \n",
       "580   3000.0  studio_wu_international_pte_ltd  harjinder_singh   east  NaN   \n",
       "657   2150.0       vivarch_enrichment_pte_ltd  harjinder_singh  south  NaN   \n",
       "666   5478.0       vivarch_enrichment_pte_ltd           norain   west  NaN   \n",
       "680  12190.0       vivarch_enrichment_pte_ltd           norain   west  NaN   \n",
       "681  20700.0       vivarch_enrichment_pte_ltd           norain   west  NaN   \n",
       "690   2548.0       vivarch_enrichment_pte_ltd  harjinder_singh  south  NaN   \n",
       "\n",
       "    service_consultant  \n",
       "98                 NaN  \n",
       "126             RAMESH  \n",
       "129             RAMESH  \n",
       "152             RAMESH  \n",
       "176             RAMESH  \n",
       "180                NaN  \n",
       "188             RAMESH  \n",
       "189                NaN  \n",
       "287                NaN  \n",
       "321              ISMAN  \n",
       "322              ISMAN  \n",
       "350              ISMAN  \n",
       "351                NaN  \n",
       "352                NaN  \n",
       "353                NaN  \n",
       "360              ISMAN  \n",
       "409              ISMAN  \n",
       "425                NaN  \n",
       "475              ISMAN  \n",
       "483                NaN  \n",
       "526                NaN  \n",
       "541                NaN  \n",
       "549                NaN  \n",
       "555              ISMAN  \n",
       "571                NaN  \n",
       "572                NaN  \n",
       "573                NaN  \n",
       "575                NaN  \n",
       "579                NaN  \n",
       "580                NaN  \n",
       "657                NaN  \n",
       "666                NaN  \n",
       "680                NaN  \n",
       "681                NaN  \n",
       "690              ISMAN  "
      ]
     },
     "execution_count": 90,
     "metadata": {},
     "output_type": "execute_result"
    }
   ],
   "source": [
    "combined_df[combined_df[\"uom\"].isnull()]"
   ]
  },
  {
   "cell_type": "markdown",
   "metadata": {},
   "source": [
    "##### Observations\n",
    "\n",
    "It seems that `uom` (Unit of Measure) is either per hour, or per pax. There are some overlaps in spelling, which I will replace. \n",
    "\n",
    "35 missing values are present, which I will have to drop, since the data does not provide me with handles for imputation. "
   ]
  },
  {
   "cell_type": "code",
   "execution_count": 91,
   "metadata": {},
   "outputs": [
    {
     "data": {
      "text/plain": [
       "(710, 6)"
      ]
     },
     "execution_count": 91,
     "metadata": {},
     "output_type": "execute_result"
    }
   ],
   "source": [
    "# Checking shape before drop\n",
    "\n",
    "combined_df.shape"
   ]
  },
  {
   "cell_type": "code",
   "execution_count": 92,
   "metadata": {},
   "outputs": [],
   "source": [
    "# Note to Self: This doesn't work, find out why\n",
    "# Dropping null values for uom\n",
    "\n",
    "# combined_df[\"uom\"].dropna(axis=0, inplace=True)"
   ]
  },
  {
   "cell_type": "code",
   "execution_count": 93,
   "metadata": {},
   "outputs": [],
   "source": [
    "# Dropping nulls for uom\n",
    "\n",
    "combined_df.dropna(subset=[\"uom\"], inplace=True)"
   ]
  },
  {
   "cell_type": "code",
   "execution_count": 94,
   "metadata": {},
   "outputs": [
    {
     "name": "stdout",
     "output_type": "stream",
     "text": [
      "nulls in uom: 0\n"
     ]
    }
   ],
   "source": [
    "# Checking if drop was successful\n",
    "\n",
    "print(f\"nulls in uom: {combined_df['uom'].isnull().sum()}\")"
   ]
  },
  {
   "cell_type": "code",
   "execution_count": 95,
   "metadata": {},
   "outputs": [
    {
     "data": {
      "text/plain": [
       "(675, 6)"
      ]
     },
     "execution_count": 95,
     "metadata": {},
     "output_type": "execute_result"
    }
   ],
   "source": [
    "# Checking shape after drop\n",
    "\n",
    "combined_df.shape"
   ]
  },
  {
   "cell_type": "code",
   "execution_count": 96,
   "metadata": {},
   "outputs": [
    {
     "data": {
      "text/html": [
       "<div>\n",
       "<style scoped>\n",
       "    .dataframe tbody tr th:only-of-type {\n",
       "        vertical-align: middle;\n",
       "    }\n",
       "\n",
       "    .dataframe tbody tr th {\n",
       "        vertical-align: top;\n",
       "    }\n",
       "\n",
       "    .dataframe thead th {\n",
       "        text-align: right;\n",
       "    }\n",
       "</style>\n",
       "<table border=\"1\" class=\"dataframe\">\n",
       "  <thead>\n",
       "    <tr style=\"text-align: right;\">\n",
       "      <th></th>\n",
       "      <th>total</th>\n",
       "      <th>actual_entity</th>\n",
       "      <th>consultant_name</th>\n",
       "      <th>zone</th>\n",
       "      <th>uom</th>\n",
       "      <th>service_consultant</th>\n",
       "    </tr>\n",
       "  </thead>\n",
       "  <tbody>\n",
       "    <tr>\n",
       "      <th>0</th>\n",
       "      <td>0.0</td>\n",
       "      <td>artelier_pte_ltd</td>\n",
       "      <td>faizal</td>\n",
       "      <td>east</td>\n",
       "      <td>PER HR</td>\n",
       "      <td>NaN</td>\n",
       "    </tr>\n",
       "    <tr>\n",
       "      <th>1</th>\n",
       "      <td>4830.0</td>\n",
       "      <td>artelier_pte_ltd</td>\n",
       "      <td>norain</td>\n",
       "      <td>west</td>\n",
       "      <td>PER HR</td>\n",
       "      <td>NaN</td>\n",
       "    </tr>\n",
       "    <tr>\n",
       "      <th>2</th>\n",
       "      <td>7808.0</td>\n",
       "      <td>artelier_pte_ltd</td>\n",
       "      <td>faizal</td>\n",
       "      <td>east</td>\n",
       "      <td>PER PAX</td>\n",
       "      <td>NaN</td>\n",
       "    </tr>\n",
       "    <tr>\n",
       "      <th>3</th>\n",
       "      <td>26130.0</td>\n",
       "      <td>artelier_pte_ltd</td>\n",
       "      <td>linden_loke</td>\n",
       "      <td>east</td>\n",
       "      <td>PER PAX</td>\n",
       "      <td>NaN</td>\n",
       "    </tr>\n",
       "    <tr>\n",
       "      <th>4</th>\n",
       "      <td>9600.0</td>\n",
       "      <td>artelier_pte_ltd</td>\n",
       "      <td>norain</td>\n",
       "      <td>west</td>\n",
       "      <td>PER HR</td>\n",
       "      <td>NaN</td>\n",
       "    </tr>\n",
       "    <tr>\n",
       "      <th>...</th>\n",
       "      <td>...</td>\n",
       "      <td>...</td>\n",
       "      <td>...</td>\n",
       "      <td>...</td>\n",
       "      <td>...</td>\n",
       "      <td>...</td>\n",
       "    </tr>\n",
       "    <tr>\n",
       "      <th>705</th>\n",
       "      <td>3000.0</td>\n",
       "      <td>travelearn</td>\n",
       "      <td>johnny</td>\n",
       "      <td>non_moe</td>\n",
       "      <td>PACKAGE - PAX</td>\n",
       "      <td>NaN</td>\n",
       "    </tr>\n",
       "    <tr>\n",
       "      <th>706</th>\n",
       "      <td>3178.0</td>\n",
       "      <td>travelearn</td>\n",
       "      <td>johnny</td>\n",
       "      <td>non_moe</td>\n",
       "      <td>PACKAGE - HR</td>\n",
       "      <td>NaN</td>\n",
       "    </tr>\n",
       "    <tr>\n",
       "      <th>707</th>\n",
       "      <td>1600.0</td>\n",
       "      <td>travelearn</td>\n",
       "      <td>johnny</td>\n",
       "      <td>non_moe</td>\n",
       "      <td>PACKAGE - HR</td>\n",
       "      <td>NaN</td>\n",
       "    </tr>\n",
       "    <tr>\n",
       "      <th>708</th>\n",
       "      <td>3750.0</td>\n",
       "      <td>passionista_pte_ltd</td>\n",
       "      <td>martin_lock</td>\n",
       "      <td>north</td>\n",
       "      <td>PER PAX</td>\n",
       "      <td>NaN</td>\n",
       "    </tr>\n",
       "    <tr>\n",
       "      <th>709</th>\n",
       "      <td>5060.0</td>\n",
       "      <td>passionista_pte_ltd</td>\n",
       "      <td>martin_lock</td>\n",
       "      <td>north</td>\n",
       "      <td>PER PAX</td>\n",
       "      <td>NaN</td>\n",
       "    </tr>\n",
       "  </tbody>\n",
       "</table>\n",
       "<p>675 rows × 6 columns</p>\n",
       "</div>"
      ],
      "text/plain": [
       "       total        actual_entity consultant_name     zone            uom  \\\n",
       "0        0.0     artelier_pte_ltd          faizal     east         PER HR   \n",
       "1     4830.0     artelier_pte_ltd          norain     west         PER HR   \n",
       "2     7808.0     artelier_pte_ltd          faizal     east        PER PAX   \n",
       "3    26130.0     artelier_pte_ltd     linden_loke     east        PER PAX   \n",
       "4     9600.0     artelier_pte_ltd          norain     west         PER HR   \n",
       "..       ...                  ...             ...      ...            ...   \n",
       "705   3000.0           travelearn          johnny  non_moe  PACKAGE - PAX   \n",
       "706   3178.0           travelearn          johnny  non_moe   PACKAGE - HR   \n",
       "707   1600.0           travelearn          johnny  non_moe   PACKAGE - HR   \n",
       "708   3750.0  passionista_pte_ltd     martin_lock    north        PER PAX   \n",
       "709   5060.0  passionista_pte_ltd     martin_lock    north        PER PAX   \n",
       "\n",
       "    service_consultant  \n",
       "0                  NaN  \n",
       "1                  NaN  \n",
       "2                  NaN  \n",
       "3                  NaN  \n",
       "4                  NaN  \n",
       "..                 ...  \n",
       "705                NaN  \n",
       "706                NaN  \n",
       "707                NaN  \n",
       "708                NaN  \n",
       "709                NaN  \n",
       "\n",
       "[675 rows x 6 columns]"
      ]
     },
     "execution_count": 96,
     "metadata": {},
     "output_type": "execute_result"
    }
   ],
   "source": [
    "combined_df"
   ]
  },
  {
   "cell_type": "code",
   "execution_count": 97,
   "metadata": {},
   "outputs": [
    {
     "data": {
      "text/plain": [
       "per_pax          251\n",
       "per_hr           216\n",
       "package_-_pax    112\n",
       "package_-_hr      96\n",
       "Name: uom, dtype: int64"
      ]
     },
     "execution_count": 97,
     "metadata": {},
     "output_type": "execute_result"
    }
   ],
   "source": [
    "# Converting to lowercase and snake_case\n",
    "\n",
    "combined_df[\"uom\"] = combined_df[\"uom\"].str.lower()\n",
    "combined_df[\"uom\"] = combined_df[\"uom\"].str.replace(\" \", \"_\")\n",
    "\n",
    "combined_df[\"uom\"].value_counts()"
   ]
  },
  {
   "cell_type": "code",
   "execution_count": 98,
   "metadata": {},
   "outputs": [
    {
     "data": {
      "text/plain": [
       "per_pax    363\n",
       "per_hr     312\n",
       "Name: uom, dtype: int64"
      ]
     },
     "execution_count": 98,
     "metadata": {},
     "output_type": "execute_result"
    }
   ],
   "source": [
    "# # Standardising uom entries \n",
    "\n",
    "combined_df[\"uom\"] = combined_df[\"uom\"].str.replace(\"package_-_pax\", \"per_pax\")\n",
    "combined_df[\"uom\"] = combined_df[\"uom\"].str.replace(\"package_-_hr\", \"per_hr\")\n",
    "\n",
    "combined_df[\"uom\"].value_counts()"
   ]
  },
  {
   "cell_type": "markdown",
   "metadata": {},
   "source": [
    "## 4.11 Data Cleaning: `service_consultant` <a id=\"4.11\"></a>"
   ]
  },
  {
   "cell_type": "code",
   "execution_count": 99,
   "metadata": {},
   "outputs": [
    {
     "name": "stdout",
     "output_type": "stream",
     "text": [
      "nulls in service_consultant: 578\n"
     ]
    }
   ],
   "source": [
    "# Checking for nulls in service_consultant\n",
    "\n",
    "print(f\"nulls in service_consultant: {combined_df['service_consultant'].isnull().sum()}\")"
   ]
  },
  {
   "cell_type": "code",
   "execution_count": 100,
   "metadata": {},
   "outputs": [
    {
     "data": {
      "text/plain": [
       "array([nan, 'RAMESH', 'KRISTEN', 'ISMAN'], dtype=object)"
      ]
     },
     "execution_count": 100,
     "metadata": {},
     "output_type": "execute_result"
    }
   ],
   "source": [
    "# Checking for unique values\n",
    "\n",
    "combined_df[\"service_consultant\"].unique()"
   ]
  },
  {
   "cell_type": "markdown",
   "metadata": {},
   "source": [
    "##### Observations\n",
    "\n",
    "Here, nulls do not imply that values are missing. It more likely implies that the project did not enlist the help of another consultant, called a **Service Consultant**. \n",
    "\n",
    "Thus, for nulls, I will impute `\"no_service_consultant\"` for verbosity. "
   ]
  },
  {
   "cell_type": "code",
   "execution_count": 101,
   "metadata": {},
   "outputs": [],
   "source": [
    "combined_df[\"service_consultant\"].fillna(\"no_service_consultant\", inplace=True)"
   ]
  },
  {
   "cell_type": "code",
   "execution_count": 102,
   "metadata": {},
   "outputs": [
    {
     "name": "stdout",
     "output_type": "stream",
     "text": [
      "nulls in service_consultant: 0\n"
     ]
    }
   ],
   "source": [
    "# Checking for nulls in service_consultant after imputation\n",
    "\n",
    "print(f\"nulls in service_consultant: {combined_df['service_consultant'].isnull().sum()}\")"
   ]
  },
  {
   "cell_type": "code",
   "execution_count": 103,
   "metadata": {},
   "outputs": [
    {
     "data": {
      "text/plain": [
       "array(['no_service_consultant', 'RAMESH', 'KRISTEN', 'ISMAN'],\n",
       "      dtype=object)"
      ]
     },
     "execution_count": 103,
     "metadata": {},
     "output_type": "execute_result"
    }
   ],
   "source": [
    "# Checking for unique values after imputation\n",
    "\n",
    "combined_df[\"service_consultant\"].unique()"
   ]
  },
  {
   "cell_type": "code",
   "execution_count": 104,
   "metadata": {},
   "outputs": [
    {
     "data": {
      "text/plain": [
       "0      no_service_consultant\n",
       "1      no_service_consultant\n",
       "2      no_service_consultant\n",
       "3      no_service_consultant\n",
       "4      no_service_consultant\n",
       "               ...          \n",
       "705    no_service_consultant\n",
       "706    no_service_consultant\n",
       "707    no_service_consultant\n",
       "708    no_service_consultant\n",
       "709    no_service_consultant\n",
       "Name: service_consultant, Length: 675, dtype: object"
      ]
     },
     "execution_count": 104,
     "metadata": {},
     "output_type": "execute_result"
    }
   ],
   "source": [
    "# Applying lowercase to service_consultant\n",
    "\n",
    "combined_df[\"service_consultant\"] = combined_df[\"service_consultant\"].str.lower()\n",
    "\n",
    "combined_df[\"service_consultant\"]"
   ]
  },
  {
   "cell_type": "code",
   "execution_count": 105,
   "metadata": {},
   "outputs": [
    {
     "data": {
      "text/html": [
       "<div>\n",
       "<style scoped>\n",
       "    .dataframe tbody tr th:only-of-type {\n",
       "        vertical-align: middle;\n",
       "    }\n",
       "\n",
       "    .dataframe tbody tr th {\n",
       "        vertical-align: top;\n",
       "    }\n",
       "\n",
       "    .dataframe thead th {\n",
       "        text-align: right;\n",
       "    }\n",
       "</style>\n",
       "<table border=\"1\" class=\"dataframe\">\n",
       "  <thead>\n",
       "    <tr style=\"text-align: right;\">\n",
       "      <th></th>\n",
       "      <th>total</th>\n",
       "      <th>actual_entity</th>\n",
       "      <th>consultant_name</th>\n",
       "      <th>zone</th>\n",
       "      <th>uom</th>\n",
       "      <th>service_consultant</th>\n",
       "    </tr>\n",
       "  </thead>\n",
       "  <tbody>\n",
       "    <tr>\n",
       "      <th>0</th>\n",
       "      <td>0.0</td>\n",
       "      <td>artelier_pte_ltd</td>\n",
       "      <td>faizal</td>\n",
       "      <td>east</td>\n",
       "      <td>per_hr</td>\n",
       "      <td>no_service_consultant</td>\n",
       "    </tr>\n",
       "    <tr>\n",
       "      <th>1</th>\n",
       "      <td>4830.0</td>\n",
       "      <td>artelier_pte_ltd</td>\n",
       "      <td>norain</td>\n",
       "      <td>west</td>\n",
       "      <td>per_hr</td>\n",
       "      <td>no_service_consultant</td>\n",
       "    </tr>\n",
       "    <tr>\n",
       "      <th>2</th>\n",
       "      <td>7808.0</td>\n",
       "      <td>artelier_pte_ltd</td>\n",
       "      <td>faizal</td>\n",
       "      <td>east</td>\n",
       "      <td>per_pax</td>\n",
       "      <td>no_service_consultant</td>\n",
       "    </tr>\n",
       "    <tr>\n",
       "      <th>3</th>\n",
       "      <td>26130.0</td>\n",
       "      <td>artelier_pte_ltd</td>\n",
       "      <td>linden_loke</td>\n",
       "      <td>east</td>\n",
       "      <td>per_pax</td>\n",
       "      <td>no_service_consultant</td>\n",
       "    </tr>\n",
       "    <tr>\n",
       "      <th>4</th>\n",
       "      <td>9600.0</td>\n",
       "      <td>artelier_pte_ltd</td>\n",
       "      <td>norain</td>\n",
       "      <td>west</td>\n",
       "      <td>per_hr</td>\n",
       "      <td>no_service_consultant</td>\n",
       "    </tr>\n",
       "    <tr>\n",
       "      <th>...</th>\n",
       "      <td>...</td>\n",
       "      <td>...</td>\n",
       "      <td>...</td>\n",
       "      <td>...</td>\n",
       "      <td>...</td>\n",
       "      <td>...</td>\n",
       "    </tr>\n",
       "    <tr>\n",
       "      <th>670</th>\n",
       "      <td>3000.0</td>\n",
       "      <td>travelearn</td>\n",
       "      <td>johnny</td>\n",
       "      <td>non_moe</td>\n",
       "      <td>per_pax</td>\n",
       "      <td>no_service_consultant</td>\n",
       "    </tr>\n",
       "    <tr>\n",
       "      <th>671</th>\n",
       "      <td>3178.0</td>\n",
       "      <td>travelearn</td>\n",
       "      <td>johnny</td>\n",
       "      <td>non_moe</td>\n",
       "      <td>per_hr</td>\n",
       "      <td>no_service_consultant</td>\n",
       "    </tr>\n",
       "    <tr>\n",
       "      <th>672</th>\n",
       "      <td>1600.0</td>\n",
       "      <td>travelearn</td>\n",
       "      <td>johnny</td>\n",
       "      <td>non_moe</td>\n",
       "      <td>per_hr</td>\n",
       "      <td>no_service_consultant</td>\n",
       "    </tr>\n",
       "    <tr>\n",
       "      <th>673</th>\n",
       "      <td>3750.0</td>\n",
       "      <td>passionista_pte_ltd</td>\n",
       "      <td>martin_lock</td>\n",
       "      <td>north</td>\n",
       "      <td>per_pax</td>\n",
       "      <td>no_service_consultant</td>\n",
       "    </tr>\n",
       "    <tr>\n",
       "      <th>674</th>\n",
       "      <td>5060.0</td>\n",
       "      <td>passionista_pte_ltd</td>\n",
       "      <td>martin_lock</td>\n",
       "      <td>north</td>\n",
       "      <td>per_pax</td>\n",
       "      <td>no_service_consultant</td>\n",
       "    </tr>\n",
       "  </tbody>\n",
       "</table>\n",
       "<p>675 rows × 6 columns</p>\n",
       "</div>"
      ],
      "text/plain": [
       "       total        actual_entity consultant_name     zone      uom  \\\n",
       "0        0.0     artelier_pte_ltd          faizal     east   per_hr   \n",
       "1     4830.0     artelier_pte_ltd          norain     west   per_hr   \n",
       "2     7808.0     artelier_pte_ltd          faizal     east  per_pax   \n",
       "3    26130.0     artelier_pte_ltd     linden_loke     east  per_pax   \n",
       "4     9600.0     artelier_pte_ltd          norain     west   per_hr   \n",
       "..       ...                  ...             ...      ...      ...   \n",
       "670   3000.0           travelearn          johnny  non_moe  per_pax   \n",
       "671   3178.0           travelearn          johnny  non_moe   per_hr   \n",
       "672   1600.0           travelearn          johnny  non_moe   per_hr   \n",
       "673   3750.0  passionista_pte_ltd     martin_lock    north  per_pax   \n",
       "674   5060.0  passionista_pte_ltd     martin_lock    north  per_pax   \n",
       "\n",
       "        service_consultant  \n",
       "0    no_service_consultant  \n",
       "1    no_service_consultant  \n",
       "2    no_service_consultant  \n",
       "3    no_service_consultant  \n",
       "4    no_service_consultant  \n",
       "..                     ...  \n",
       "670  no_service_consultant  \n",
       "671  no_service_consultant  \n",
       "672  no_service_consultant  \n",
       "673  no_service_consultant  \n",
       "674  no_service_consultant  \n",
       "\n",
       "[675 rows x 6 columns]"
      ]
     },
     "execution_count": 105,
     "metadata": {},
     "output_type": "execute_result"
    }
   ],
   "source": [
    "# Resetting index\n",
    "\n",
    "combined_df.reset_index(drop=True)"
   ]
  },
  {
   "cell_type": "markdown",
   "metadata": {},
   "source": [
    "# 5. Preprocessing <a id=\"5\"></a>"
   ]
  },
  {
   "cell_type": "markdown",
   "metadata": {},
   "source": [
    "## 5.1 Dummy Variables <a id=\"5.1\"></a>"
   ]
  },
  {
   "cell_type": "code",
   "execution_count": 106,
   "metadata": {},
   "outputs": [
    {
     "data": {
      "text/html": [
       "<div>\n",
       "<style scoped>\n",
       "    .dataframe tbody tr th:only-of-type {\n",
       "        vertical-align: middle;\n",
       "    }\n",
       "\n",
       "    .dataframe tbody tr th {\n",
       "        vertical-align: top;\n",
       "    }\n",
       "\n",
       "    .dataframe thead th {\n",
       "        text-align: right;\n",
       "    }\n",
       "</style>\n",
       "<table border=\"1\" class=\"dataframe\">\n",
       "  <thead>\n",
       "    <tr style=\"text-align: right;\">\n",
       "      <th></th>\n",
       "      <th>total</th>\n",
       "      <th>actual_entity_artelier_pte_ltd</th>\n",
       "      <th>actual_entity_dance_atelier_pte_ltd</th>\n",
       "      <th>actual_entity_dramaestro_pte_ltd</th>\n",
       "      <th>actual_entity_epitomedia_(instructor)_pte_ltd</th>\n",
       "      <th>actual_entity_epitomedia_pte_ltd</th>\n",
       "      <th>actual_entity_feng_hua_zhan_pte_ltd</th>\n",
       "      <th>actual_entity_life_champs_pte_ltd</th>\n",
       "      <th>actual_entity_musicon_(instructor)_pte_ltd</th>\n",
       "      <th>actual_entity_musicon_pte_ltd</th>\n",
       "      <th>...</th>\n",
       "      <th>consultant_name_shawn</th>\n",
       "      <th>consultant_name_terence</th>\n",
       "      <th>zone_non_moe</th>\n",
       "      <th>zone_north</th>\n",
       "      <th>zone_south</th>\n",
       "      <th>zone_west</th>\n",
       "      <th>uom_per_pax</th>\n",
       "      <th>service_consultant_kristen</th>\n",
       "      <th>service_consultant_no_service_consultant</th>\n",
       "      <th>service_consultant_ramesh</th>\n",
       "    </tr>\n",
       "  </thead>\n",
       "  <tbody>\n",
       "    <tr>\n",
       "      <th>0</th>\n",
       "      <td>0.0</td>\n",
       "      <td>1</td>\n",
       "      <td>0</td>\n",
       "      <td>0</td>\n",
       "      <td>0</td>\n",
       "      <td>0</td>\n",
       "      <td>0</td>\n",
       "      <td>0</td>\n",
       "      <td>0</td>\n",
       "      <td>0</td>\n",
       "      <td>...</td>\n",
       "      <td>0</td>\n",
       "      <td>0</td>\n",
       "      <td>0</td>\n",
       "      <td>0</td>\n",
       "      <td>0</td>\n",
       "      <td>0</td>\n",
       "      <td>0</td>\n",
       "      <td>0</td>\n",
       "      <td>1</td>\n",
       "      <td>0</td>\n",
       "    </tr>\n",
       "    <tr>\n",
       "      <th>1</th>\n",
       "      <td>4830.0</td>\n",
       "      <td>1</td>\n",
       "      <td>0</td>\n",
       "      <td>0</td>\n",
       "      <td>0</td>\n",
       "      <td>0</td>\n",
       "      <td>0</td>\n",
       "      <td>0</td>\n",
       "      <td>0</td>\n",
       "      <td>0</td>\n",
       "      <td>...</td>\n",
       "      <td>0</td>\n",
       "      <td>0</td>\n",
       "      <td>0</td>\n",
       "      <td>0</td>\n",
       "      <td>0</td>\n",
       "      <td>1</td>\n",
       "      <td>0</td>\n",
       "      <td>0</td>\n",
       "      <td>1</td>\n",
       "      <td>0</td>\n",
       "    </tr>\n",
       "    <tr>\n",
       "      <th>2</th>\n",
       "      <td>7808.0</td>\n",
       "      <td>1</td>\n",
       "      <td>0</td>\n",
       "      <td>0</td>\n",
       "      <td>0</td>\n",
       "      <td>0</td>\n",
       "      <td>0</td>\n",
       "      <td>0</td>\n",
       "      <td>0</td>\n",
       "      <td>0</td>\n",
       "      <td>...</td>\n",
       "      <td>0</td>\n",
       "      <td>0</td>\n",
       "      <td>0</td>\n",
       "      <td>0</td>\n",
       "      <td>0</td>\n",
       "      <td>0</td>\n",
       "      <td>1</td>\n",
       "      <td>0</td>\n",
       "      <td>1</td>\n",
       "      <td>0</td>\n",
       "    </tr>\n",
       "    <tr>\n",
       "      <th>3</th>\n",
       "      <td>26130.0</td>\n",
       "      <td>1</td>\n",
       "      <td>0</td>\n",
       "      <td>0</td>\n",
       "      <td>0</td>\n",
       "      <td>0</td>\n",
       "      <td>0</td>\n",
       "      <td>0</td>\n",
       "      <td>0</td>\n",
       "      <td>0</td>\n",
       "      <td>...</td>\n",
       "      <td>0</td>\n",
       "      <td>0</td>\n",
       "      <td>0</td>\n",
       "      <td>0</td>\n",
       "      <td>0</td>\n",
       "      <td>0</td>\n",
       "      <td>1</td>\n",
       "      <td>0</td>\n",
       "      <td>1</td>\n",
       "      <td>0</td>\n",
       "    </tr>\n",
       "    <tr>\n",
       "      <th>4</th>\n",
       "      <td>9600.0</td>\n",
       "      <td>1</td>\n",
       "      <td>0</td>\n",
       "      <td>0</td>\n",
       "      <td>0</td>\n",
       "      <td>0</td>\n",
       "      <td>0</td>\n",
       "      <td>0</td>\n",
       "      <td>0</td>\n",
       "      <td>0</td>\n",
       "      <td>...</td>\n",
       "      <td>0</td>\n",
       "      <td>0</td>\n",
       "      <td>0</td>\n",
       "      <td>0</td>\n",
       "      <td>0</td>\n",
       "      <td>1</td>\n",
       "      <td>0</td>\n",
       "      <td>0</td>\n",
       "      <td>1</td>\n",
       "      <td>0</td>\n",
       "    </tr>\n",
       "    <tr>\n",
       "      <th>...</th>\n",
       "      <td>...</td>\n",
       "      <td>...</td>\n",
       "      <td>...</td>\n",
       "      <td>...</td>\n",
       "      <td>...</td>\n",
       "      <td>...</td>\n",
       "      <td>...</td>\n",
       "      <td>...</td>\n",
       "      <td>...</td>\n",
       "      <td>...</td>\n",
       "      <td>...</td>\n",
       "      <td>...</td>\n",
       "      <td>...</td>\n",
       "      <td>...</td>\n",
       "      <td>...</td>\n",
       "      <td>...</td>\n",
       "      <td>...</td>\n",
       "      <td>...</td>\n",
       "      <td>...</td>\n",
       "      <td>...</td>\n",
       "      <td>...</td>\n",
       "    </tr>\n",
       "    <tr>\n",
       "      <th>705</th>\n",
       "      <td>3000.0</td>\n",
       "      <td>0</td>\n",
       "      <td>0</td>\n",
       "      <td>0</td>\n",
       "      <td>0</td>\n",
       "      <td>0</td>\n",
       "      <td>0</td>\n",
       "      <td>0</td>\n",
       "      <td>0</td>\n",
       "      <td>0</td>\n",
       "      <td>...</td>\n",
       "      <td>0</td>\n",
       "      <td>0</td>\n",
       "      <td>1</td>\n",
       "      <td>0</td>\n",
       "      <td>0</td>\n",
       "      <td>0</td>\n",
       "      <td>1</td>\n",
       "      <td>0</td>\n",
       "      <td>1</td>\n",
       "      <td>0</td>\n",
       "    </tr>\n",
       "    <tr>\n",
       "      <th>706</th>\n",
       "      <td>3178.0</td>\n",
       "      <td>0</td>\n",
       "      <td>0</td>\n",
       "      <td>0</td>\n",
       "      <td>0</td>\n",
       "      <td>0</td>\n",
       "      <td>0</td>\n",
       "      <td>0</td>\n",
       "      <td>0</td>\n",
       "      <td>0</td>\n",
       "      <td>...</td>\n",
       "      <td>0</td>\n",
       "      <td>0</td>\n",
       "      <td>1</td>\n",
       "      <td>0</td>\n",
       "      <td>0</td>\n",
       "      <td>0</td>\n",
       "      <td>0</td>\n",
       "      <td>0</td>\n",
       "      <td>1</td>\n",
       "      <td>0</td>\n",
       "    </tr>\n",
       "    <tr>\n",
       "      <th>707</th>\n",
       "      <td>1600.0</td>\n",
       "      <td>0</td>\n",
       "      <td>0</td>\n",
       "      <td>0</td>\n",
       "      <td>0</td>\n",
       "      <td>0</td>\n",
       "      <td>0</td>\n",
       "      <td>0</td>\n",
       "      <td>0</td>\n",
       "      <td>0</td>\n",
       "      <td>...</td>\n",
       "      <td>0</td>\n",
       "      <td>0</td>\n",
       "      <td>1</td>\n",
       "      <td>0</td>\n",
       "      <td>0</td>\n",
       "      <td>0</td>\n",
       "      <td>0</td>\n",
       "      <td>0</td>\n",
       "      <td>1</td>\n",
       "      <td>0</td>\n",
       "    </tr>\n",
       "    <tr>\n",
       "      <th>708</th>\n",
       "      <td>3750.0</td>\n",
       "      <td>0</td>\n",
       "      <td>0</td>\n",
       "      <td>0</td>\n",
       "      <td>0</td>\n",
       "      <td>0</td>\n",
       "      <td>0</td>\n",
       "      <td>0</td>\n",
       "      <td>0</td>\n",
       "      <td>0</td>\n",
       "      <td>...</td>\n",
       "      <td>0</td>\n",
       "      <td>0</td>\n",
       "      <td>0</td>\n",
       "      <td>1</td>\n",
       "      <td>0</td>\n",
       "      <td>0</td>\n",
       "      <td>1</td>\n",
       "      <td>0</td>\n",
       "      <td>1</td>\n",
       "      <td>0</td>\n",
       "    </tr>\n",
       "    <tr>\n",
       "      <th>709</th>\n",
       "      <td>5060.0</td>\n",
       "      <td>0</td>\n",
       "      <td>0</td>\n",
       "      <td>0</td>\n",
       "      <td>0</td>\n",
       "      <td>0</td>\n",
       "      <td>0</td>\n",
       "      <td>0</td>\n",
       "      <td>0</td>\n",
       "      <td>0</td>\n",
       "      <td>...</td>\n",
       "      <td>0</td>\n",
       "      <td>0</td>\n",
       "      <td>0</td>\n",
       "      <td>1</td>\n",
       "      <td>0</td>\n",
       "      <td>0</td>\n",
       "      <td>1</td>\n",
       "      <td>0</td>\n",
       "      <td>1</td>\n",
       "      <td>0</td>\n",
       "    </tr>\n",
       "  </tbody>\n",
       "</table>\n",
       "<p>675 rows × 44 columns</p>\n",
       "</div>"
      ],
      "text/plain": [
       "       total  actual_entity_artelier_pte_ltd  \\\n",
       "0        0.0                               1   \n",
       "1     4830.0                               1   \n",
       "2     7808.0                               1   \n",
       "3    26130.0                               1   \n",
       "4     9600.0                               1   \n",
       "..       ...                             ...   \n",
       "705   3000.0                               0   \n",
       "706   3178.0                               0   \n",
       "707   1600.0                               0   \n",
       "708   3750.0                               0   \n",
       "709   5060.0                               0   \n",
       "\n",
       "     actual_entity_dance_atelier_pte_ltd  actual_entity_dramaestro_pte_ltd  \\\n",
       "0                                      0                                 0   \n",
       "1                                      0                                 0   \n",
       "2                                      0                                 0   \n",
       "3                                      0                                 0   \n",
       "4                                      0                                 0   \n",
       "..                                   ...                               ...   \n",
       "705                                    0                                 0   \n",
       "706                                    0                                 0   \n",
       "707                                    0                                 0   \n",
       "708                                    0                                 0   \n",
       "709                                    0                                 0   \n",
       "\n",
       "     actual_entity_epitomedia_(instructor)_pte_ltd  \\\n",
       "0                                                0   \n",
       "1                                                0   \n",
       "2                                                0   \n",
       "3                                                0   \n",
       "4                                                0   \n",
       "..                                             ...   \n",
       "705                                              0   \n",
       "706                                              0   \n",
       "707                                              0   \n",
       "708                                              0   \n",
       "709                                              0   \n",
       "\n",
       "     actual_entity_epitomedia_pte_ltd  actual_entity_feng_hua_zhan_pte_ltd  \\\n",
       "0                                   0                                    0   \n",
       "1                                   0                                    0   \n",
       "2                                   0                                    0   \n",
       "3                                   0                                    0   \n",
       "4                                   0                                    0   \n",
       "..                                ...                                  ...   \n",
       "705                                 0                                    0   \n",
       "706                                 0                                    0   \n",
       "707                                 0                                    0   \n",
       "708                                 0                                    0   \n",
       "709                                 0                                    0   \n",
       "\n",
       "     actual_entity_life_champs_pte_ltd  \\\n",
       "0                                    0   \n",
       "1                                    0   \n",
       "2                                    0   \n",
       "3                                    0   \n",
       "4                                    0   \n",
       "..                                 ...   \n",
       "705                                  0   \n",
       "706                                  0   \n",
       "707                                  0   \n",
       "708                                  0   \n",
       "709                                  0   \n",
       "\n",
       "     actual_entity_musicon_(instructor)_pte_ltd  \\\n",
       "0                                             0   \n",
       "1                                             0   \n",
       "2                                             0   \n",
       "3                                             0   \n",
       "4                                             0   \n",
       "..                                          ...   \n",
       "705                                           0   \n",
       "706                                           0   \n",
       "707                                           0   \n",
       "708                                           0   \n",
       "709                                           0   \n",
       "\n",
       "     actual_entity_musicon_pte_ltd  ...  consultant_name_shawn  \\\n",
       "0                                0  ...                      0   \n",
       "1                                0  ...                      0   \n",
       "2                                0  ...                      0   \n",
       "3                                0  ...                      0   \n",
       "4                                0  ...                      0   \n",
       "..                             ...  ...                    ...   \n",
       "705                              0  ...                      0   \n",
       "706                              0  ...                      0   \n",
       "707                              0  ...                      0   \n",
       "708                              0  ...                      0   \n",
       "709                              0  ...                      0   \n",
       "\n",
       "     consultant_name_terence  zone_non_moe  zone_north  zone_south  zone_west  \\\n",
       "0                          0             0           0           0          0   \n",
       "1                          0             0           0           0          1   \n",
       "2                          0             0           0           0          0   \n",
       "3                          0             0           0           0          0   \n",
       "4                          0             0           0           0          1   \n",
       "..                       ...           ...         ...         ...        ...   \n",
       "705                        0             1           0           0          0   \n",
       "706                        0             1           0           0          0   \n",
       "707                        0             1           0           0          0   \n",
       "708                        0             0           1           0          0   \n",
       "709                        0             0           1           0          0   \n",
       "\n",
       "     uom_per_pax  service_consultant_kristen  \\\n",
       "0              0                           0   \n",
       "1              0                           0   \n",
       "2              1                           0   \n",
       "3              1                           0   \n",
       "4              0                           0   \n",
       "..           ...                         ...   \n",
       "705            1                           0   \n",
       "706            0                           0   \n",
       "707            0                           0   \n",
       "708            1                           0   \n",
       "709            1                           0   \n",
       "\n",
       "     service_consultant_no_service_consultant  service_consultant_ramesh  \n",
       "0                                           1                          0  \n",
       "1                                           1                          0  \n",
       "2                                           1                          0  \n",
       "3                                           1                          0  \n",
       "4                                           1                          0  \n",
       "..                                        ...                        ...  \n",
       "705                                         1                          0  \n",
       "706                                         1                          0  \n",
       "707                                         1                          0  \n",
       "708                                         1                          0  \n",
       "709                                         1                          0  \n",
       "\n",
       "[675 rows x 44 columns]"
      ]
     },
     "execution_count": 106,
     "metadata": {},
     "output_type": "execute_result"
    }
   ],
   "source": [
    "# Using Pandas' get_dummies to encode nominal categorical variables\n",
    "\n",
    "combined_df_final = pd.get_dummies(combined_df, columns = [\"actual_entity\",\n",
    "                                       \"consultant_name\",\n",
    "                                       \"zone\",\n",
    "                                       \"uom\",\n",
    "                                       \"service_consultant\"], drop_first=True)\n",
    "\n",
    "combined_df_final"
   ]
  },
  {
   "cell_type": "code",
   "execution_count": 107,
   "metadata": {},
   "outputs": [],
   "source": [
    "# Saving finalised dataset\n",
    "\n",
    "combined_df_final.to_csv(\"./datasets/combined_df_final.csv\", index=False)"
   ]
  },
  {
   "cell_type": "markdown",
   "metadata": {},
   "source": [
    "## 5.2 Defining Target and Features <a id=\"5.2\"></a>"
   ]
  },
  {
   "cell_type": "code",
   "execution_count": 112,
   "metadata": {},
   "outputs": [],
   "source": [
    "# Defining X and y\n",
    "\n",
    "features = [x for x in combined_df_final.columns if x not in [\"total\"]]\n",
    "target = [\"total\"]\n",
    "\n",
    "X = combined_df_final[features]\n",
    "y = combined_df_final[target]"
   ]
  },
  {
   "cell_type": "markdown",
   "metadata": {},
   "source": [
    "## 5.3 Train-Test-Split <a id=\"5.3\"></a>"
   ]
  },
  {
   "cell_type": "code",
   "execution_count": 113,
   "metadata": {},
   "outputs": [],
   "source": [
    "# train_test_split\n",
    "\n",
    "X_train, X_val, y_train, y_val = train_test_split(X, y, test_size = 0.2, random_state= 42)"
   ]
  },
  {
   "cell_type": "markdown",
   "metadata": {},
   "source": [
    "# 6. Modelling <a id=\"6\"></a>"
   ]
  },
  {
   "cell_type": "markdown",
   "metadata": {},
   "source": [
    "## 6.1 Modelling for [Objective One](#objectives) <a id=\"6.1\"></a>"
   ]
  },
  {
   "cell_type": "markdown",
   "metadata": {},
   "source": [
    "##### LInear Regression"
   ]
  },
  {
   "cell_type": "code",
   "execution_count": 116,
   "metadata": {},
   "outputs": [],
   "source": [
    "# Instantiating Linear Regression Model\n",
    "\n",
    "lr = LinearRegression()"
   ]
  },
  {
   "cell_type": "code",
   "execution_count": 120,
   "metadata": {},
   "outputs": [
    {
     "name": "stdout",
     "output_type": "stream",
     "text": [
      "train score: 0.2509328010419354 \n",
      "test score: 0.15289257204071094\n"
     ]
    }
   ],
   "source": [
    "# Getting Baseline Score\n",
    "\n",
    "lr = LinearRegression()\n",
    "lr.fit(X_train, y_train)\n",
    "\n",
    "print(f\"train score: {lr.score(X_train, y_train)}\",\n",
    "      \"\\n\"\n",
    "      f\"test score: {lr.score(X_val, y_val)}\")"
   ]
  },
  {
   "cell_type": "code",
   "execution_count": 125,
   "metadata": {},
   "outputs": [
    {
     "name": "stdout",
     "output_type": "stream",
     "text": [
      "train score: 0.10860296261019409 \n",
      "test score: -1.302876918223991e+24\n"
     ]
    }
   ],
   "source": [
    "# Using Cross Validation for Linear Regression\n",
    "\n",
    "print(f\"train score: {cross_val_score(lr, X_train, y_train).mean()}\",\n",
    "      \"\\n\"\n",
    "      f\"test score: {cross_val_score(lr, X_val, y_val).mean()}\")"
   ]
  },
  {
   "cell_type": "markdown",
   "metadata": {},
   "source": [
    "## 6.2 Modelling for [Objective Two](#objectives) <a id=\"6.2\"></a>"
   ]
  },
  {
   "cell_type": "code",
   "execution_count": null,
   "metadata": {},
   "outputs": [],
   "source": []
  },
  {
   "cell_type": "code",
   "execution_count": null,
   "metadata": {},
   "outputs": [],
   "source": []
  },
  {
   "cell_type": "markdown",
   "metadata": {},
   "source": [
    "## 6.3 Modelling for [Objective Three](#objectives) <a id=\"6.3\"></a>"
   ]
  },
  {
   "cell_type": "code",
   "execution_count": null,
   "metadata": {},
   "outputs": [],
   "source": []
  },
  {
   "cell_type": "code",
   "execution_count": null,
   "metadata": {},
   "outputs": [],
   "source": []
  },
  {
   "cell_type": "code",
   "execution_count": 108,
   "metadata": {},
   "outputs": [
    {
     "name": "stdout",
     "output_type": "stream",
     "text": [
      "Run complete, total time taken ≈ 1.70s\n"
     ]
    }
   ],
   "source": [
    "print(f\"Run complete, total time taken \\u2248 {time.time()-t0:.2f}s\")"
   ]
  },
  {
   "cell_type": "markdown",
   "metadata": {},
   "source": []
  },
  {
   "cell_type": "code",
   "execution_count": 109,
   "metadata": {},
   "outputs": [],
   "source": [
    "# Getting dummies for actual_entity\n",
    "\n",
    "# testing = pd.get_dummies(combined_df, columns = ['actual_entity'], drop_first = True)"
   ]
  }
 ],
 "metadata": {
  "kernelspec": {
   "display_name": "Python 3",
   "language": "python",
   "name": "python3"
  },
  "language_info": {
   "codemirror_mode": {
    "name": "ipython",
    "version": 3
   },
   "file_extension": ".py",
   "mimetype": "text/x-python",
   "name": "python",
   "nbconvert_exporter": "python",
   "pygments_lexer": "ipython3",
   "version": "3.7.6"
  }
 },
 "nbformat": 4,
 "nbformat_minor": 4
}
