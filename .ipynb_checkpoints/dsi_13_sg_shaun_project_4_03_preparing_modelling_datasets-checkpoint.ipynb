{
 "cells": [
  {
   "cell_type": "markdown",
   "metadata": {},
   "source": [
    "<img src=\"./images/dsi_13_sg_shaun_project_4_banner.jpg\" width=1000>"
   ]
  },
  {
   "cell_type": "markdown",
   "metadata": {},
   "source": [
    "# Project 4: West Nile Virus Prediction (Preparing Modelling Datasets)\n",
    "**<font color = blue> Shaun Chua \n",
    "<br> (DSI-13) </font>**\n",
    "\n",
    "---"
   ]
  },
  {
   "cell_type": "markdown",
   "metadata": {},
   "source": [
    "# Table of Contents: <a id=\"top\"></a>\n",
    "<br> [**1. Importing Libraries**](#1)\n",
    "<br> [**2. Importing Datasets**](#2)\n",
    "<br> [**3. Merging weather_df with train_df and test_df**](#3)\n",
    "<br> &emsp; [3.01 Cleaning: Adding `station` to train_df and test_df](#3.01)\n",
    "<br> &emsp; [3.02 Cleaning: Merging `weather_df` on `station` and `date`](#3.02)\n",
    "<br> &emsp; [3.03 Cleaning: Dropping `longitude` and `latitude`](#3.03)\n",
    "<br> &emsp; [3.04 Cleaning: Dropping `index`](#3.04)\n",
    "<br> &emsp; [3.05 Cleaning: Getting Dummies for `year`](#3.05)\n",
    "<br> &emsp; [3.06 Cleaning: Getting Dummies for `month`](#3.06)\n",
    "<br> [**4. Exporting Cleaned Datasets**](#4)"
   ]
  },
  {
   "cell_type": "markdown",
   "metadata": {},
   "source": [
    "# 1. Importing Libraries <a id=\"1\"></a>"
   ]
  },
  {
   "cell_type": "code",
   "execution_count": 1,
   "metadata": {},
   "outputs": [],
   "source": [
    "# Standard Libraries\n",
    "import pandas as pd\n",
    "import numpy as np\n",
    "import matplotlib.pyplot as plt\n",
    "import seaborn as sns\n",
    "from datetime import datetime\n",
    "import time\n",
    "%matplotlib inline"
   ]
  },
  {
   "cell_type": "code",
   "execution_count": 2,
   "metadata": {},
   "outputs": [],
   "source": [
    "# Starting timer for notebook \n",
    "\n",
    "t0 = time.time()"
   ]
  },
  {
   "cell_type": "markdown",
   "metadata": {},
   "source": [
    "# 2. Importing Datasets <a id=\"2\"></a>"
   ]
  },
  {
   "cell_type": "code",
   "execution_count": 3,
   "metadata": {},
   "outputs": [],
   "source": [
    "train_df = pd.read_csv(\"./datasets/train_cleaned.csv\")\n",
    "test_df = pd.read_csv(\"./datasets/test_cleaned.csv\")\n",
    "weather_df = pd.read_csv(\"./datasets/weather_cleaned.csv\")"
   ]
  },
  {
   "cell_type": "markdown",
   "metadata": {},
   "source": [
    "##### <font color = blue> Shaun: </font>\n",
    "\n",
    "For continuity, I will lowercase features weather_df since I did it for the datsets."
   ]
  },
  {
   "cell_type": "markdown",
   "metadata": {},
   "source": [
    "##### Applying `.lower()` to weather_df.columns"
   ]
  },
  {
   "cell_type": "code",
   "execution_count": 4,
   "metadata": {},
   "outputs": [],
   "source": [
    "weather_df.columns = weather_df.columns.map(lambda x: x.lower())"
   ]
  },
  {
   "cell_type": "code",
   "execution_count": 5,
   "metadata": {
    "scrolled": false
   },
   "outputs": [
    {
     "data": {
      "text/html": [
       "<div>\n",
       "<style scoped>\n",
       "    .dataframe tbody tr th:only-of-type {\n",
       "        vertical-align: middle;\n",
       "    }\n",
       "\n",
       "    .dataframe tbody tr th {\n",
       "        vertical-align: top;\n",
       "    }\n",
       "\n",
       "    .dataframe thead th {\n",
       "        text-align: right;\n",
       "    }\n",
       "</style>\n",
       "<table border=\"1\" class=\"dataframe\">\n",
       "  <thead>\n",
       "    <tr style=\"text-align: right;\">\n",
       "      <th></th>\n",
       "      <th>date</th>\n",
       "      <th>trap</th>\n",
       "      <th>latitude</th>\n",
       "      <th>longitude</th>\n",
       "      <th>nummosquitos</th>\n",
       "      <th>wnvpresent</th>\n",
       "      <th>year</th>\n",
       "      <th>month</th>\n",
       "      <th>day</th>\n",
       "      <th>tot_mos_species</th>\n",
       "      <th>species_PIPIENS</th>\n",
       "      <th>species_PIPIENS/RESTUANS</th>\n",
       "      <th>species_RESTUANS</th>\n",
       "    </tr>\n",
       "  </thead>\n",
       "  <tbody>\n",
       "    <tr>\n",
       "      <th>0</th>\n",
       "      <td>2007-05-29</td>\n",
       "      <td>T002</td>\n",
       "      <td>41.954690</td>\n",
       "      <td>-87.800991</td>\n",
       "      <td>1</td>\n",
       "      <td>0</td>\n",
       "      <td>2007</td>\n",
       "      <td>5</td>\n",
       "      <td>29</td>\n",
       "      <td>1</td>\n",
       "      <td>0</td>\n",
       "      <td>1</td>\n",
       "      <td>0</td>\n",
       "    </tr>\n",
       "    <tr>\n",
       "      <th>1</th>\n",
       "      <td>2007-05-29</td>\n",
       "      <td>T002</td>\n",
       "      <td>41.954690</td>\n",
       "      <td>-87.800991</td>\n",
       "      <td>1</td>\n",
       "      <td>0</td>\n",
       "      <td>2007</td>\n",
       "      <td>5</td>\n",
       "      <td>29</td>\n",
       "      <td>1</td>\n",
       "      <td>0</td>\n",
       "      <td>0</td>\n",
       "      <td>1</td>\n",
       "    </tr>\n",
       "    <tr>\n",
       "      <th>2</th>\n",
       "      <td>2007-05-29</td>\n",
       "      <td>T007</td>\n",
       "      <td>41.994991</td>\n",
       "      <td>-87.769279</td>\n",
       "      <td>1</td>\n",
       "      <td>0</td>\n",
       "      <td>2007</td>\n",
       "      <td>5</td>\n",
       "      <td>29</td>\n",
       "      <td>1</td>\n",
       "      <td>0</td>\n",
       "      <td>0</td>\n",
       "      <td>1</td>\n",
       "    </tr>\n",
       "    <tr>\n",
       "      <th>3</th>\n",
       "      <td>2007-05-29</td>\n",
       "      <td>T015</td>\n",
       "      <td>41.974089</td>\n",
       "      <td>-87.824812</td>\n",
       "      <td>1</td>\n",
       "      <td>0</td>\n",
       "      <td>2007</td>\n",
       "      <td>5</td>\n",
       "      <td>29</td>\n",
       "      <td>1</td>\n",
       "      <td>0</td>\n",
       "      <td>1</td>\n",
       "      <td>0</td>\n",
       "    </tr>\n",
       "    <tr>\n",
       "      <th>4</th>\n",
       "      <td>2007-05-29</td>\n",
       "      <td>T015</td>\n",
       "      <td>41.974089</td>\n",
       "      <td>-87.824812</td>\n",
       "      <td>4</td>\n",
       "      <td>0</td>\n",
       "      <td>2007</td>\n",
       "      <td>5</td>\n",
       "      <td>29</td>\n",
       "      <td>4</td>\n",
       "      <td>0</td>\n",
       "      <td>0</td>\n",
       "      <td>1</td>\n",
       "    </tr>\n",
       "  </tbody>\n",
       "</table>\n",
       "</div>"
      ],
      "text/plain": [
       "         date  trap   latitude  longitude  nummosquitos  wnvpresent  year  \\\n",
       "0  2007-05-29  T002  41.954690 -87.800991             1           0  2007   \n",
       "1  2007-05-29  T002  41.954690 -87.800991             1           0  2007   \n",
       "2  2007-05-29  T007  41.994991 -87.769279             1           0  2007   \n",
       "3  2007-05-29  T015  41.974089 -87.824812             1           0  2007   \n",
       "4  2007-05-29  T015  41.974089 -87.824812             4           0  2007   \n",
       "\n",
       "   month  day  tot_mos_species  species_PIPIENS  species_PIPIENS/RESTUANS  \\\n",
       "0      5   29                1                0                         1   \n",
       "1      5   29                1                0                         0   \n",
       "2      5   29                1                0                         0   \n",
       "3      5   29                1                0                         1   \n",
       "4      5   29                4                0                         0   \n",
       "\n",
       "   species_RESTUANS  \n",
       "0                 0  \n",
       "1                 1  \n",
       "2                 1  \n",
       "3                 0  \n",
       "4                 1  "
      ]
     },
     "metadata": {},
     "output_type": "display_data"
    },
    {
     "data": {
      "text/plain": [
       "(8585, 13)"
      ]
     },
     "metadata": {},
     "output_type": "display_data"
    },
    {
     "data": {
      "text/html": [
       "<div>\n",
       "<style scoped>\n",
       "    .dataframe tbody tr th:only-of-type {\n",
       "        vertical-align: middle;\n",
       "    }\n",
       "\n",
       "    .dataframe tbody tr th {\n",
       "        vertical-align: top;\n",
       "    }\n",
       "\n",
       "    .dataframe thead th {\n",
       "        text-align: right;\n",
       "    }\n",
       "</style>\n",
       "<table border=\"1\" class=\"dataframe\">\n",
       "  <thead>\n",
       "    <tr style=\"text-align: right;\">\n",
       "      <th></th>\n",
       "      <th>id</th>\n",
       "      <th>date</th>\n",
       "      <th>trap</th>\n",
       "      <th>latitude</th>\n",
       "      <th>longitude</th>\n",
       "      <th>year</th>\n",
       "      <th>month</th>\n",
       "      <th>day</th>\n",
       "      <th>species_PIPIENS</th>\n",
       "      <th>species_PIPIENS/RESTUANS</th>\n",
       "      <th>species_RESTUANS</th>\n",
       "    </tr>\n",
       "  </thead>\n",
       "  <tbody>\n",
       "    <tr>\n",
       "      <th>0</th>\n",
       "      <td>1</td>\n",
       "      <td>2008-06-11</td>\n",
       "      <td>T002</td>\n",
       "      <td>41.95469</td>\n",
       "      <td>-87.800991</td>\n",
       "      <td>2008</td>\n",
       "      <td>6</td>\n",
       "      <td>11</td>\n",
       "      <td>0</td>\n",
       "      <td>1</td>\n",
       "      <td>0</td>\n",
       "    </tr>\n",
       "    <tr>\n",
       "      <th>1</th>\n",
       "      <td>2</td>\n",
       "      <td>2008-06-11</td>\n",
       "      <td>T002</td>\n",
       "      <td>41.95469</td>\n",
       "      <td>-87.800991</td>\n",
       "      <td>2008</td>\n",
       "      <td>6</td>\n",
       "      <td>11</td>\n",
       "      <td>0</td>\n",
       "      <td>0</td>\n",
       "      <td>1</td>\n",
       "    </tr>\n",
       "    <tr>\n",
       "      <th>2</th>\n",
       "      <td>3</td>\n",
       "      <td>2008-06-11</td>\n",
       "      <td>T002</td>\n",
       "      <td>41.95469</td>\n",
       "      <td>-87.800991</td>\n",
       "      <td>2008</td>\n",
       "      <td>6</td>\n",
       "      <td>11</td>\n",
       "      <td>1</td>\n",
       "      <td>0</td>\n",
       "      <td>0</td>\n",
       "    </tr>\n",
       "    <tr>\n",
       "      <th>3</th>\n",
       "      <td>4</td>\n",
       "      <td>2008-06-11</td>\n",
       "      <td>T002</td>\n",
       "      <td>41.95469</td>\n",
       "      <td>-87.800991</td>\n",
       "      <td>2008</td>\n",
       "      <td>6</td>\n",
       "      <td>11</td>\n",
       "      <td>0</td>\n",
       "      <td>0</td>\n",
       "      <td>0</td>\n",
       "    </tr>\n",
       "    <tr>\n",
       "      <th>4</th>\n",
       "      <td>5</td>\n",
       "      <td>2008-06-11</td>\n",
       "      <td>T002</td>\n",
       "      <td>41.95469</td>\n",
       "      <td>-87.800991</td>\n",
       "      <td>2008</td>\n",
       "      <td>6</td>\n",
       "      <td>11</td>\n",
       "      <td>0</td>\n",
       "      <td>0</td>\n",
       "      <td>0</td>\n",
       "    </tr>\n",
       "  </tbody>\n",
       "</table>\n",
       "</div>"
      ],
      "text/plain": [
       "   id        date  trap  latitude  longitude  year  month  day  \\\n",
       "0   1  2008-06-11  T002  41.95469 -87.800991  2008      6   11   \n",
       "1   2  2008-06-11  T002  41.95469 -87.800991  2008      6   11   \n",
       "2   3  2008-06-11  T002  41.95469 -87.800991  2008      6   11   \n",
       "3   4  2008-06-11  T002  41.95469 -87.800991  2008      6   11   \n",
       "4   5  2008-06-11  T002  41.95469 -87.800991  2008      6   11   \n",
       "\n",
       "   species_PIPIENS  species_PIPIENS/RESTUANS  species_RESTUANS  \n",
       "0                0                         1                 0  \n",
       "1                0                         0                 1  \n",
       "2                1                         0                 0  \n",
       "3                0                         0                 0  \n",
       "4                0                         0                 0  "
      ]
     },
     "metadata": {},
     "output_type": "display_data"
    },
    {
     "data": {
      "text/plain": [
       "(116293, 11)"
      ]
     },
     "metadata": {},
     "output_type": "display_data"
    },
    {
     "data": {
      "text/html": [
       "<div>\n",
       "<style scoped>\n",
       "    .dataframe tbody tr th:only-of-type {\n",
       "        vertical-align: middle;\n",
       "    }\n",
       "\n",
       "    .dataframe tbody tr th {\n",
       "        vertical-align: top;\n",
       "    }\n",
       "\n",
       "    .dataframe thead th {\n",
       "        text-align: right;\n",
       "    }\n",
       "</style>\n",
       "<table border=\"1\" class=\"dataframe\">\n",
       "  <thead>\n",
       "    <tr style=\"text-align: right;\">\n",
       "      <th></th>\n",
       "      <th>index</th>\n",
       "      <th>station</th>\n",
       "      <th>date</th>\n",
       "      <th>tavg</th>\n",
       "      <th>preciptotal</th>\n",
       "      <th>sealevel</th>\n",
       "      <th>resultspeed</th>\n",
       "      <th>resultdir</th>\n",
       "      <th>avgspeed</th>\n",
       "      <th>rel_hum</th>\n",
       "      <th>latitude</th>\n",
       "      <th>longitude</th>\n",
       "    </tr>\n",
       "  </thead>\n",
       "  <tbody>\n",
       "    <tr>\n",
       "      <th>0</th>\n",
       "      <td>0</td>\n",
       "      <td>1</td>\n",
       "      <td>2007-05-01</td>\n",
       "      <td>67.0</td>\n",
       "      <td>0.0</td>\n",
       "      <td>29.82</td>\n",
       "      <td>1.7</td>\n",
       "      <td>27</td>\n",
       "      <td>9.2</td>\n",
       "      <td>57.039444</td>\n",
       "      <td>41.995</td>\n",
       "      <td>-87.933</td>\n",
       "    </tr>\n",
       "    <tr>\n",
       "      <th>1</th>\n",
       "      <td>1</td>\n",
       "      <td>2</td>\n",
       "      <td>2007-05-01</td>\n",
       "      <td>68.0</td>\n",
       "      <td>0.0</td>\n",
       "      <td>29.82</td>\n",
       "      <td>2.7</td>\n",
       "      <td>25</td>\n",
       "      <td>9.6</td>\n",
       "      <td>55.134977</td>\n",
       "      <td>41.786</td>\n",
       "      <td>-87.752</td>\n",
       "    </tr>\n",
       "    <tr>\n",
       "      <th>2</th>\n",
       "      <td>2</td>\n",
       "      <td>1</td>\n",
       "      <td>2007-05-02</td>\n",
       "      <td>51.0</td>\n",
       "      <td>0.0</td>\n",
       "      <td>30.09</td>\n",
       "      <td>13.0</td>\n",
       "      <td>4</td>\n",
       "      <td>13.4</td>\n",
       "      <td>71.781719</td>\n",
       "      <td>41.995</td>\n",
       "      <td>-87.933</td>\n",
       "    </tr>\n",
       "    <tr>\n",
       "      <th>3</th>\n",
       "      <td>3</td>\n",
       "      <td>2</td>\n",
       "      <td>2007-05-02</td>\n",
       "      <td>52.0</td>\n",
       "      <td>0.0</td>\n",
       "      <td>30.08</td>\n",
       "      <td>13.3</td>\n",
       "      <td>2</td>\n",
       "      <td>13.4</td>\n",
       "      <td>69.235378</td>\n",
       "      <td>41.786</td>\n",
       "      <td>-87.752</td>\n",
       "    </tr>\n",
       "    <tr>\n",
       "      <th>4</th>\n",
       "      <td>4</td>\n",
       "      <td>1</td>\n",
       "      <td>2007-05-03</td>\n",
       "      <td>56.0</td>\n",
       "      <td>0.0</td>\n",
       "      <td>30.12</td>\n",
       "      <td>11.7</td>\n",
       "      <td>7</td>\n",
       "      <td>11.9</td>\n",
       "      <td>55.653432</td>\n",
       "      <td>41.995</td>\n",
       "      <td>-87.933</td>\n",
       "    </tr>\n",
       "  </tbody>\n",
       "</table>\n",
       "</div>"
      ],
      "text/plain": [
       "   index  station        date  tavg  preciptotal  sealevel  resultspeed  \\\n",
       "0      0        1  2007-05-01  67.0          0.0     29.82          1.7   \n",
       "1      1        2  2007-05-01  68.0          0.0     29.82          2.7   \n",
       "2      2        1  2007-05-02  51.0          0.0     30.09         13.0   \n",
       "3      3        2  2007-05-02  52.0          0.0     30.08         13.3   \n",
       "4      4        1  2007-05-03  56.0          0.0     30.12         11.7   \n",
       "\n",
       "   resultdir  avgspeed    rel_hum  latitude  longitude  \n",
       "0         27       9.2  57.039444    41.995    -87.933  \n",
       "1         25       9.6  55.134977    41.786    -87.752  \n",
       "2          4      13.4  71.781719    41.995    -87.933  \n",
       "3          2      13.4  69.235378    41.786    -87.752  \n",
       "4          7      11.9  55.653432    41.995    -87.933  "
      ]
     },
     "metadata": {},
     "output_type": "display_data"
    },
    {
     "data": {
      "text/plain": [
       "(2919, 12)"
      ]
     },
     "metadata": {},
     "output_type": "display_data"
    }
   ],
   "source": [
    "# Viewing all datasets again\n",
    "\n",
    "display(train_df.head(), train_df.shape,\n",
    "        test_df.head(), test_df.shape,\n",
    "        weather_df.head(), weather_df.shape)"
   ]
  },
  {
   "cell_type": "markdown",
   "metadata": {},
   "source": [
    "##### <font color = blue> Shaun: </font>\n",
    "\n",
    "Since `weather_df` may contain features that will influence our target variable `wnvpresent`, I will add them to the training and test datasets, to make the model more robust. "
   ]
  },
  {
   "cell_type": "markdown",
   "metadata": {},
   "source": [
    "# 3. Merging weather_df with train_df and test_df <a id=\"3\"></a>"
   ]
  },
  {
   "cell_type": "markdown",
   "metadata": {},
   "source": [
    "## 3.01 Adding `station` to train_df and test_df <a id=\"3.01\"></a>"
   ]
  },
  {
   "cell_type": "markdown",
   "metadata": {},
   "source": [
    "##### <font color = blue> Shaun: </font>\n",
    "\n",
    "Okay, so I'm gonna try and add the weather data to `train_df` and `test_df`. \n",
    "\n",
    "I'm gonna allocate the station to the trap first, by referring to the `latitude` feature. I could probably also use `longitude`, but I went with `latitude` since it was positive floats, didn't know if I'd run into any errors, so yeah. \n",
    "\n",
    "From the <a href=\"https://www.kaggle.com/c/predict-west-nile-virus/data\">data description</a> on Kaggle, we are told that there are **two** weather stations, each with a specific coordinate. \n",
    "\n",
    "For train_df and test_df, we also have the coordinates of each trap. \n",
    "\n",
    "Therefore, I will try to assign a station to each trap, and take the corresponding weather data, and it had better help the model because this took me forever to think about."
   ]
  },
  {
   "cell_type": "code",
   "execution_count": 6,
   "metadata": {},
   "outputs": [
    {
     "name": "stdout",
     "output_type": "stream",
     "text": [
      "train_df latitude min/max: (41.644612, 42.01743)\n",
      "test_df latitude min/max: (41.644612, 42.01743)\n",
      "weather_df latitude min/max: (41.786, 41.995)\n"
     ]
    }
   ],
   "source": [
    "# Finding out min/max latitude\n",
    "\n",
    "print(f\"train_df latitude min/max: {(train_df.latitude.min(), train_df.latitude.max())}\")\n",
    "print(f\"test_df latitude min/max: {(test_df.latitude.min(), test_df.latitude.max())}\")\n",
    "print(f\"weather_df latitude min/max: {(weather_df.latitude.min(), weather_df.latitude.max())}\") "
   ]
  },
  {
   "cell_type": "code",
   "execution_count": 7,
   "metadata": {},
   "outputs": [
    {
     "name": "stdout",
     "output_type": "stream",
     "text": [
      "train_df longitude min/max: (-87.930995, -87.531635)\n",
      "test_df longitude min/max: (-87.930995, -87.531635)\n",
      "weather_df longitude min/max: (-87.93299999999999, -87.75200000000001)\n"
     ]
    }
   ],
   "source": [
    "# Finding out min/max longitude\n",
    "\n",
    "print(f\"train_df longitude min/max: {(train_df.longitude.min(), train_df.longitude.max())}\")\n",
    "print(f\"test_df longitude min/max: {(test_df.longitude.min(), test_df.longitude.max())}\")\n",
    "print(f\"weather_df longitude min/max: {(weather_df.longitude.min(), weather_df.longitude.max())}\") "
   ]
  },
  {
   "cell_type": "markdown",
   "metadata": {},
   "source": [
    "##### <font color = blue> Shaun: </font>\n",
    "\n",
    "From the cell above, to 3 d.p.,\n",
    "\n",
    "\n",
    "|Dataset|Latitude Range|Longitude Range|\n",
    "|:--|:---|:---|\n",
    "|**train_df**|41.644 to 42.017|-87.931 to -87.532 \n",
    "|**test_df**|41.644 to 42.017|-87.931 to -87.532\n",
    "|**weather_df**|41.786 to 41.995|-87.932 to -87.752\n",
    "\n",
    "<br> Therfore, we can deduce that all traps fall somewhat within the range of the weather stations.\n",
    "\n",
    "I'll assign weather data to the traps based on which station it is closer to, the cutoff will be the midpoint between the 2 stations measured by latitude:\n",
    "\n",
    "**Cut Off (Latitude)**\n",
    "\n",
    "$\\frac{41.786 + 41.995}{2}$ = 41.8905 $\\approx\\$ 41.891 (3 d.p.)"
   ]
  },
  {
   "cell_type": "markdown",
   "metadata": {},
   "source": [
    "##### Assigning `station` to `train_df`"
   ]
  },
  {
   "cell_type": "code",
   "execution_count": 8,
   "metadata": {},
   "outputs": [],
   "source": [
    "# Creating a Station Column, and assigning it:\n",
    "# 1 if latitude > 41.8905, because its closer to Station 1 (41.995)\n",
    "# 2 if latitude < 41.8905, since its closer to Station 2 (41.786)\n",
    "\n",
    "train_df[\"station\"] = [1 if lat >= 41.8905 else 2 for lat in train_df[\"latitude\"]]\n"
   ]
  },
  {
   "cell_type": "code",
   "execution_count": 9,
   "metadata": {},
   "outputs": [
    {
     "data": {
      "text/plain": [
       "2    4875\n",
       "1    3710\n",
       "Name: station, dtype: int64"
      ]
     },
     "execution_count": 9,
     "metadata": {},
     "output_type": "execute_result"
    }
   ],
   "source": [
    "# Checking to see if assigned correctly\n",
    "\n",
    "train_df.station.value_counts()"
   ]
  },
  {
   "cell_type": "code",
   "execution_count": 10,
   "metadata": {},
   "outputs": [
    {
     "data": {
      "text/html": [
       "<div>\n",
       "<style scoped>\n",
       "    .dataframe tbody tr th:only-of-type {\n",
       "        vertical-align: middle;\n",
       "    }\n",
       "\n",
       "    .dataframe tbody tr th {\n",
       "        vertical-align: top;\n",
       "    }\n",
       "\n",
       "    .dataframe thead th {\n",
       "        text-align: right;\n",
       "    }\n",
       "</style>\n",
       "<table border=\"1\" class=\"dataframe\">\n",
       "  <thead>\n",
       "    <tr style=\"text-align: right;\">\n",
       "      <th></th>\n",
       "      <th>date</th>\n",
       "      <th>trap</th>\n",
       "      <th>latitude</th>\n",
       "      <th>longitude</th>\n",
       "      <th>nummosquitos</th>\n",
       "      <th>wnvpresent</th>\n",
       "      <th>year</th>\n",
       "      <th>month</th>\n",
       "      <th>day</th>\n",
       "      <th>tot_mos_species</th>\n",
       "      <th>species_PIPIENS</th>\n",
       "      <th>species_PIPIENS/RESTUANS</th>\n",
       "      <th>species_RESTUANS</th>\n",
       "      <th>station</th>\n",
       "    </tr>\n",
       "  </thead>\n",
       "  <tbody>\n",
       "    <tr>\n",
       "      <th>0</th>\n",
       "      <td>2007-05-29</td>\n",
       "      <td>T002</td>\n",
       "      <td>41.954690</td>\n",
       "      <td>-87.800991</td>\n",
       "      <td>1</td>\n",
       "      <td>0</td>\n",
       "      <td>2007</td>\n",
       "      <td>5</td>\n",
       "      <td>29</td>\n",
       "      <td>1</td>\n",
       "      <td>0</td>\n",
       "      <td>1</td>\n",
       "      <td>0</td>\n",
       "      <td>1</td>\n",
       "    </tr>\n",
       "    <tr>\n",
       "      <th>1</th>\n",
       "      <td>2007-05-29</td>\n",
       "      <td>T002</td>\n",
       "      <td>41.954690</td>\n",
       "      <td>-87.800991</td>\n",
       "      <td>1</td>\n",
       "      <td>0</td>\n",
       "      <td>2007</td>\n",
       "      <td>5</td>\n",
       "      <td>29</td>\n",
       "      <td>1</td>\n",
       "      <td>0</td>\n",
       "      <td>0</td>\n",
       "      <td>1</td>\n",
       "      <td>1</td>\n",
       "    </tr>\n",
       "    <tr>\n",
       "      <th>2</th>\n",
       "      <td>2007-05-29</td>\n",
       "      <td>T007</td>\n",
       "      <td>41.994991</td>\n",
       "      <td>-87.769279</td>\n",
       "      <td>1</td>\n",
       "      <td>0</td>\n",
       "      <td>2007</td>\n",
       "      <td>5</td>\n",
       "      <td>29</td>\n",
       "      <td>1</td>\n",
       "      <td>0</td>\n",
       "      <td>0</td>\n",
       "      <td>1</td>\n",
       "      <td>1</td>\n",
       "    </tr>\n",
       "    <tr>\n",
       "      <th>3</th>\n",
       "      <td>2007-05-29</td>\n",
       "      <td>T015</td>\n",
       "      <td>41.974089</td>\n",
       "      <td>-87.824812</td>\n",
       "      <td>1</td>\n",
       "      <td>0</td>\n",
       "      <td>2007</td>\n",
       "      <td>5</td>\n",
       "      <td>29</td>\n",
       "      <td>1</td>\n",
       "      <td>0</td>\n",
       "      <td>1</td>\n",
       "      <td>0</td>\n",
       "      <td>1</td>\n",
       "    </tr>\n",
       "    <tr>\n",
       "      <th>4</th>\n",
       "      <td>2007-05-29</td>\n",
       "      <td>T015</td>\n",
       "      <td>41.974089</td>\n",
       "      <td>-87.824812</td>\n",
       "      <td>4</td>\n",
       "      <td>0</td>\n",
       "      <td>2007</td>\n",
       "      <td>5</td>\n",
       "      <td>29</td>\n",
       "      <td>4</td>\n",
       "      <td>0</td>\n",
       "      <td>0</td>\n",
       "      <td>1</td>\n",
       "      <td>1</td>\n",
       "    </tr>\n",
       "  </tbody>\n",
       "</table>\n",
       "</div>"
      ],
      "text/plain": [
       "         date  trap   latitude  longitude  nummosquitos  wnvpresent  year  \\\n",
       "0  2007-05-29  T002  41.954690 -87.800991             1           0  2007   \n",
       "1  2007-05-29  T002  41.954690 -87.800991             1           0  2007   \n",
       "2  2007-05-29  T007  41.994991 -87.769279             1           0  2007   \n",
       "3  2007-05-29  T015  41.974089 -87.824812             1           0  2007   \n",
       "4  2007-05-29  T015  41.974089 -87.824812             4           0  2007   \n",
       "\n",
       "   month  day  tot_mos_species  species_PIPIENS  species_PIPIENS/RESTUANS  \\\n",
       "0      5   29                1                0                         1   \n",
       "1      5   29                1                0                         0   \n",
       "2      5   29                1                0                         0   \n",
       "3      5   29                1                0                         1   \n",
       "4      5   29                4                0                         0   \n",
       "\n",
       "   species_RESTUANS  station  \n",
       "0                 0        1  \n",
       "1                 1        1  \n",
       "2                 1        1  \n",
       "3                 0        1  \n",
       "4                 1        1  "
      ]
     },
     "execution_count": 10,
     "metadata": {},
     "output_type": "execute_result"
    }
   ],
   "source": [
    "train_df.head()"
   ]
  },
  {
   "cell_type": "markdown",
   "metadata": {},
   "source": [
    "##### Assigning `station` to `test_df`"
   ]
  },
  {
   "cell_type": "code",
   "execution_count": 11,
   "metadata": {},
   "outputs": [],
   "source": [
    "test_df[\"station\"] = [1 if lat >= 41.8905 else 2 for lat in test_df[\"latitude\"]]"
   ]
  },
  {
   "cell_type": "code",
   "execution_count": 12,
   "metadata": {},
   "outputs": [
    {
     "data": {
      "text/plain": [
       "2    64865\n",
       "1    51428\n",
       "Name: station, dtype: int64"
      ]
     },
     "execution_count": 12,
     "metadata": {},
     "output_type": "execute_result"
    }
   ],
   "source": [
    "# Checking to see if assigned correctly\n",
    "\n",
    "test_df.station.value_counts()"
   ]
  },
  {
   "cell_type": "code",
   "execution_count": 13,
   "metadata": {},
   "outputs": [
    {
     "data": {
      "text/html": [
       "<div>\n",
       "<style scoped>\n",
       "    .dataframe tbody tr th:only-of-type {\n",
       "        vertical-align: middle;\n",
       "    }\n",
       "\n",
       "    .dataframe tbody tr th {\n",
       "        vertical-align: top;\n",
       "    }\n",
       "\n",
       "    .dataframe thead th {\n",
       "        text-align: right;\n",
       "    }\n",
       "</style>\n",
       "<table border=\"1\" class=\"dataframe\">\n",
       "  <thead>\n",
       "    <tr style=\"text-align: right;\">\n",
       "      <th></th>\n",
       "      <th>id</th>\n",
       "      <th>date</th>\n",
       "      <th>trap</th>\n",
       "      <th>latitude</th>\n",
       "      <th>longitude</th>\n",
       "      <th>year</th>\n",
       "      <th>month</th>\n",
       "      <th>day</th>\n",
       "      <th>species_PIPIENS</th>\n",
       "      <th>species_PIPIENS/RESTUANS</th>\n",
       "      <th>species_RESTUANS</th>\n",
       "      <th>station</th>\n",
       "    </tr>\n",
       "  </thead>\n",
       "  <tbody>\n",
       "    <tr>\n",
       "      <th>0</th>\n",
       "      <td>1</td>\n",
       "      <td>2008-06-11</td>\n",
       "      <td>T002</td>\n",
       "      <td>41.95469</td>\n",
       "      <td>-87.800991</td>\n",
       "      <td>2008</td>\n",
       "      <td>6</td>\n",
       "      <td>11</td>\n",
       "      <td>0</td>\n",
       "      <td>1</td>\n",
       "      <td>0</td>\n",
       "      <td>1</td>\n",
       "    </tr>\n",
       "    <tr>\n",
       "      <th>1</th>\n",
       "      <td>2</td>\n",
       "      <td>2008-06-11</td>\n",
       "      <td>T002</td>\n",
       "      <td>41.95469</td>\n",
       "      <td>-87.800991</td>\n",
       "      <td>2008</td>\n",
       "      <td>6</td>\n",
       "      <td>11</td>\n",
       "      <td>0</td>\n",
       "      <td>0</td>\n",
       "      <td>1</td>\n",
       "      <td>1</td>\n",
       "    </tr>\n",
       "    <tr>\n",
       "      <th>2</th>\n",
       "      <td>3</td>\n",
       "      <td>2008-06-11</td>\n",
       "      <td>T002</td>\n",
       "      <td>41.95469</td>\n",
       "      <td>-87.800991</td>\n",
       "      <td>2008</td>\n",
       "      <td>6</td>\n",
       "      <td>11</td>\n",
       "      <td>1</td>\n",
       "      <td>0</td>\n",
       "      <td>0</td>\n",
       "      <td>1</td>\n",
       "    </tr>\n",
       "    <tr>\n",
       "      <th>3</th>\n",
       "      <td>4</td>\n",
       "      <td>2008-06-11</td>\n",
       "      <td>T002</td>\n",
       "      <td>41.95469</td>\n",
       "      <td>-87.800991</td>\n",
       "      <td>2008</td>\n",
       "      <td>6</td>\n",
       "      <td>11</td>\n",
       "      <td>0</td>\n",
       "      <td>0</td>\n",
       "      <td>0</td>\n",
       "      <td>1</td>\n",
       "    </tr>\n",
       "    <tr>\n",
       "      <th>4</th>\n",
       "      <td>5</td>\n",
       "      <td>2008-06-11</td>\n",
       "      <td>T002</td>\n",
       "      <td>41.95469</td>\n",
       "      <td>-87.800991</td>\n",
       "      <td>2008</td>\n",
       "      <td>6</td>\n",
       "      <td>11</td>\n",
       "      <td>0</td>\n",
       "      <td>0</td>\n",
       "      <td>0</td>\n",
       "      <td>1</td>\n",
       "    </tr>\n",
       "  </tbody>\n",
       "</table>\n",
       "</div>"
      ],
      "text/plain": [
       "   id        date  trap  latitude  longitude  year  month  day  \\\n",
       "0   1  2008-06-11  T002  41.95469 -87.800991  2008      6   11   \n",
       "1   2  2008-06-11  T002  41.95469 -87.800991  2008      6   11   \n",
       "2   3  2008-06-11  T002  41.95469 -87.800991  2008      6   11   \n",
       "3   4  2008-06-11  T002  41.95469 -87.800991  2008      6   11   \n",
       "4   5  2008-06-11  T002  41.95469 -87.800991  2008      6   11   \n",
       "\n",
       "   species_PIPIENS  species_PIPIENS/RESTUANS  species_RESTUANS  station  \n",
       "0                0                         1                 0        1  \n",
       "1                0                         0                 1        1  \n",
       "2                1                         0                 0        1  \n",
       "3                0                         0                 0        1  \n",
       "4                0                         0                 0        1  "
      ]
     },
     "execution_count": 13,
     "metadata": {},
     "output_type": "execute_result"
    }
   ],
   "source": [
    "test_df.head()"
   ]
  },
  {
   "cell_type": "markdown",
   "metadata": {},
   "source": [
    "## 3.02 Merging `weather_df` on `station` and `date` <a id=\"3.02\"></a>"
   ]
  },
  {
   "cell_type": "code",
   "execution_count": 14,
   "metadata": {},
   "outputs": [],
   "source": [
    "# https://stackoverflow.com/questions/46386402/how-to-properly-understand-pandas-dataframe-merge-how-left-on-right-on"
   ]
  },
  {
   "cell_type": "code",
   "execution_count": 15,
   "metadata": {},
   "outputs": [],
   "source": [
    "train_df_cleaned_final = pd.merge(weather_df, train_df,  how='inner', left_on=['date','station'], right_on = ['date','station'])"
   ]
  },
  {
   "cell_type": "code",
   "execution_count": 16,
   "metadata": {},
   "outputs": [
    {
     "data": {
      "text/html": [
       "<div>\n",
       "<style scoped>\n",
       "    .dataframe tbody tr th:only-of-type {\n",
       "        vertical-align: middle;\n",
       "    }\n",
       "\n",
       "    .dataframe tbody tr th {\n",
       "        vertical-align: top;\n",
       "    }\n",
       "\n",
       "    .dataframe thead th {\n",
       "        text-align: right;\n",
       "    }\n",
       "</style>\n",
       "<table border=\"1\" class=\"dataframe\">\n",
       "  <thead>\n",
       "    <tr style=\"text-align: right;\">\n",
       "      <th></th>\n",
       "      <th>index</th>\n",
       "      <th>station</th>\n",
       "      <th>date</th>\n",
       "      <th>tavg</th>\n",
       "      <th>preciptotal</th>\n",
       "      <th>sealevel</th>\n",
       "      <th>resultspeed</th>\n",
       "      <th>resultdir</th>\n",
       "      <th>avgspeed</th>\n",
       "      <th>rel_hum</th>\n",
       "      <th>...</th>\n",
       "      <th>longitude_y</th>\n",
       "      <th>nummosquitos</th>\n",
       "      <th>wnvpresent</th>\n",
       "      <th>year</th>\n",
       "      <th>month</th>\n",
       "      <th>day</th>\n",
       "      <th>tot_mos_species</th>\n",
       "      <th>species_PIPIENS</th>\n",
       "      <th>species_PIPIENS/RESTUANS</th>\n",
       "      <th>species_RESTUANS</th>\n",
       "    </tr>\n",
       "  </thead>\n",
       "  <tbody>\n",
       "    <tr>\n",
       "      <th>0</th>\n",
       "      <td>56</td>\n",
       "      <td>1</td>\n",
       "      <td>2007-05-29</td>\n",
       "      <td>74.0</td>\n",
       "      <td>0.0</td>\n",
       "      <td>30.11</td>\n",
       "      <td>5.8</td>\n",
       "      <td>18</td>\n",
       "      <td>6.5</td>\n",
       "      <td>57.893159</td>\n",
       "      <td>...</td>\n",
       "      <td>-87.800991</td>\n",
       "      <td>1</td>\n",
       "      <td>0</td>\n",
       "      <td>2007</td>\n",
       "      <td>5</td>\n",
       "      <td>29</td>\n",
       "      <td>1</td>\n",
       "      <td>0</td>\n",
       "      <td>1</td>\n",
       "      <td>0</td>\n",
       "    </tr>\n",
       "    <tr>\n",
       "      <th>1</th>\n",
       "      <td>56</td>\n",
       "      <td>1</td>\n",
       "      <td>2007-05-29</td>\n",
       "      <td>74.0</td>\n",
       "      <td>0.0</td>\n",
       "      <td>30.11</td>\n",
       "      <td>5.8</td>\n",
       "      <td>18</td>\n",
       "      <td>6.5</td>\n",
       "      <td>57.893159</td>\n",
       "      <td>...</td>\n",
       "      <td>-87.800991</td>\n",
       "      <td>1</td>\n",
       "      <td>0</td>\n",
       "      <td>2007</td>\n",
       "      <td>5</td>\n",
       "      <td>29</td>\n",
       "      <td>1</td>\n",
       "      <td>0</td>\n",
       "      <td>0</td>\n",
       "      <td>1</td>\n",
       "    </tr>\n",
       "    <tr>\n",
       "      <th>2</th>\n",
       "      <td>56</td>\n",
       "      <td>1</td>\n",
       "      <td>2007-05-29</td>\n",
       "      <td>74.0</td>\n",
       "      <td>0.0</td>\n",
       "      <td>30.11</td>\n",
       "      <td>5.8</td>\n",
       "      <td>18</td>\n",
       "      <td>6.5</td>\n",
       "      <td>57.893159</td>\n",
       "      <td>...</td>\n",
       "      <td>-87.769279</td>\n",
       "      <td>1</td>\n",
       "      <td>0</td>\n",
       "      <td>2007</td>\n",
       "      <td>5</td>\n",
       "      <td>29</td>\n",
       "      <td>1</td>\n",
       "      <td>0</td>\n",
       "      <td>0</td>\n",
       "      <td>1</td>\n",
       "    </tr>\n",
       "    <tr>\n",
       "      <th>3</th>\n",
       "      <td>56</td>\n",
       "      <td>1</td>\n",
       "      <td>2007-05-29</td>\n",
       "      <td>74.0</td>\n",
       "      <td>0.0</td>\n",
       "      <td>30.11</td>\n",
       "      <td>5.8</td>\n",
       "      <td>18</td>\n",
       "      <td>6.5</td>\n",
       "      <td>57.893159</td>\n",
       "      <td>...</td>\n",
       "      <td>-87.824812</td>\n",
       "      <td>1</td>\n",
       "      <td>0</td>\n",
       "      <td>2007</td>\n",
       "      <td>5</td>\n",
       "      <td>29</td>\n",
       "      <td>1</td>\n",
       "      <td>0</td>\n",
       "      <td>1</td>\n",
       "      <td>0</td>\n",
       "    </tr>\n",
       "    <tr>\n",
       "      <th>4</th>\n",
       "      <td>56</td>\n",
       "      <td>1</td>\n",
       "      <td>2007-05-29</td>\n",
       "      <td>74.0</td>\n",
       "      <td>0.0</td>\n",
       "      <td>30.11</td>\n",
       "      <td>5.8</td>\n",
       "      <td>18</td>\n",
       "      <td>6.5</td>\n",
       "      <td>57.893159</td>\n",
       "      <td>...</td>\n",
       "      <td>-87.824812</td>\n",
       "      <td>4</td>\n",
       "      <td>0</td>\n",
       "      <td>2007</td>\n",
       "      <td>5</td>\n",
       "      <td>29</td>\n",
       "      <td>4</td>\n",
       "      <td>0</td>\n",
       "      <td>0</td>\n",
       "      <td>1</td>\n",
       "    </tr>\n",
       "    <tr>\n",
       "      <th>...</th>\n",
       "      <td>...</td>\n",
       "      <td>...</td>\n",
       "      <td>...</td>\n",
       "      <td>...</td>\n",
       "      <td>...</td>\n",
       "      <td>...</td>\n",
       "      <td>...</td>\n",
       "      <td>...</td>\n",
       "      <td>...</td>\n",
       "      <td>...</td>\n",
       "      <td>...</td>\n",
       "      <td>...</td>\n",
       "      <td>...</td>\n",
       "      <td>...</td>\n",
       "      <td>...</td>\n",
       "      <td>...</td>\n",
       "      <td>...</td>\n",
       "      <td>...</td>\n",
       "      <td>...</td>\n",
       "      <td>...</td>\n",
       "      <td>...</td>\n",
       "    </tr>\n",
       "    <tr>\n",
       "      <th>8518</th>\n",
       "      <td>2505</td>\n",
       "      <td>2</td>\n",
       "      <td>2013-09-26</td>\n",
       "      <td>65.0</td>\n",
       "      <td>0.0</td>\n",
       "      <td>30.04</td>\n",
       "      <td>4.1</td>\n",
       "      <td>9</td>\n",
       "      <td>4.6</td>\n",
       "      <td>63.317812</td>\n",
       "      <td>...</td>\n",
       "      <td>-87.600963</td>\n",
       "      <td>7</td>\n",
       "      <td>0</td>\n",
       "      <td>2013</td>\n",
       "      <td>9</td>\n",
       "      <td>26</td>\n",
       "      <td>7</td>\n",
       "      <td>0</td>\n",
       "      <td>1</td>\n",
       "      <td>0</td>\n",
       "    </tr>\n",
       "    <tr>\n",
       "      <th>8519</th>\n",
       "      <td>2505</td>\n",
       "      <td>2</td>\n",
       "      <td>2013-09-26</td>\n",
       "      <td>65.0</td>\n",
       "      <td>0.0</td>\n",
       "      <td>30.04</td>\n",
       "      <td>4.1</td>\n",
       "      <td>9</td>\n",
       "      <td>4.6</td>\n",
       "      <td>63.317812</td>\n",
       "      <td>...</td>\n",
       "      <td>-87.600963</td>\n",
       "      <td>1</td>\n",
       "      <td>0</td>\n",
       "      <td>2013</td>\n",
       "      <td>9</td>\n",
       "      <td>26</td>\n",
       "      <td>1</td>\n",
       "      <td>1</td>\n",
       "      <td>0</td>\n",
       "      <td>0</td>\n",
       "    </tr>\n",
       "    <tr>\n",
       "      <th>8520</th>\n",
       "      <td>2505</td>\n",
       "      <td>2</td>\n",
       "      <td>2013-09-26</td>\n",
       "      <td>65.0</td>\n",
       "      <td>0.0</td>\n",
       "      <td>30.04</td>\n",
       "      <td>4.1</td>\n",
       "      <td>9</td>\n",
       "      <td>4.6</td>\n",
       "      <td>63.317812</td>\n",
       "      <td>...</td>\n",
       "      <td>-87.654234</td>\n",
       "      <td>8</td>\n",
       "      <td>0</td>\n",
       "      <td>2013</td>\n",
       "      <td>9</td>\n",
       "      <td>26</td>\n",
       "      <td>8</td>\n",
       "      <td>0</td>\n",
       "      <td>1</td>\n",
       "      <td>0</td>\n",
       "    </tr>\n",
       "    <tr>\n",
       "      <th>8521</th>\n",
       "      <td>2505</td>\n",
       "      <td>2</td>\n",
       "      <td>2013-09-26</td>\n",
       "      <td>65.0</td>\n",
       "      <td>0.0</td>\n",
       "      <td>30.04</td>\n",
       "      <td>4.1</td>\n",
       "      <td>9</td>\n",
       "      <td>4.6</td>\n",
       "      <td>63.317812</td>\n",
       "      <td>...</td>\n",
       "      <td>-87.742302</td>\n",
       "      <td>6</td>\n",
       "      <td>1</td>\n",
       "      <td>2013</td>\n",
       "      <td>9</td>\n",
       "      <td>26</td>\n",
       "      <td>6</td>\n",
       "      <td>0</td>\n",
       "      <td>1</td>\n",
       "      <td>0</td>\n",
       "    </tr>\n",
       "    <tr>\n",
       "      <th>8522</th>\n",
       "      <td>2505</td>\n",
       "      <td>2</td>\n",
       "      <td>2013-09-26</td>\n",
       "      <td>65.0</td>\n",
       "      <td>0.0</td>\n",
       "      <td>30.04</td>\n",
       "      <td>4.1</td>\n",
       "      <td>9</td>\n",
       "      <td>4.6</td>\n",
       "      <td>63.317812</td>\n",
       "      <td>...</td>\n",
       "      <td>-87.627096</td>\n",
       "      <td>1</td>\n",
       "      <td>0</td>\n",
       "      <td>2013</td>\n",
       "      <td>9</td>\n",
       "      <td>26</td>\n",
       "      <td>1</td>\n",
       "      <td>0</td>\n",
       "      <td>1</td>\n",
       "      <td>0</td>\n",
       "    </tr>\n",
       "  </tbody>\n",
       "</table>\n",
       "<p>8523 rows × 24 columns</p>\n",
       "</div>"
      ],
      "text/plain": [
       "      index  station        date  tavg  preciptotal  sealevel  resultspeed  \\\n",
       "0        56        1  2007-05-29  74.0          0.0     30.11          5.8   \n",
       "1        56        1  2007-05-29  74.0          0.0     30.11          5.8   \n",
       "2        56        1  2007-05-29  74.0          0.0     30.11          5.8   \n",
       "3        56        1  2007-05-29  74.0          0.0     30.11          5.8   \n",
       "4        56        1  2007-05-29  74.0          0.0     30.11          5.8   \n",
       "...     ...      ...         ...   ...          ...       ...          ...   \n",
       "8518   2505        2  2013-09-26  65.0          0.0     30.04          4.1   \n",
       "8519   2505        2  2013-09-26  65.0          0.0     30.04          4.1   \n",
       "8520   2505        2  2013-09-26  65.0          0.0     30.04          4.1   \n",
       "8521   2505        2  2013-09-26  65.0          0.0     30.04          4.1   \n",
       "8522   2505        2  2013-09-26  65.0          0.0     30.04          4.1   \n",
       "\n",
       "      resultdir  avgspeed    rel_hum  ...  longitude_y  nummosquitos  \\\n",
       "0            18       6.5  57.893159  ...   -87.800991             1   \n",
       "1            18       6.5  57.893159  ...   -87.800991             1   \n",
       "2            18       6.5  57.893159  ...   -87.769279             1   \n",
       "3            18       6.5  57.893159  ...   -87.824812             1   \n",
       "4            18       6.5  57.893159  ...   -87.824812             4   \n",
       "...         ...       ...        ...  ...          ...           ...   \n",
       "8518          9       4.6  63.317812  ...   -87.600963             7   \n",
       "8519          9       4.6  63.317812  ...   -87.600963             1   \n",
       "8520          9       4.6  63.317812  ...   -87.654234             8   \n",
       "8521          9       4.6  63.317812  ...   -87.742302             6   \n",
       "8522          9       4.6  63.317812  ...   -87.627096             1   \n",
       "\n",
       "     wnvpresent  year  month  day  tot_mos_species  species_PIPIENS  \\\n",
       "0             0  2007      5   29                1                0   \n",
       "1             0  2007      5   29                1                0   \n",
       "2             0  2007      5   29                1                0   \n",
       "3             0  2007      5   29                1                0   \n",
       "4             0  2007      5   29                4                0   \n",
       "...         ...   ...    ...  ...              ...              ...   \n",
       "8518          0  2013      9   26                7                0   \n",
       "8519          0  2013      9   26                1                1   \n",
       "8520          0  2013      9   26                8                0   \n",
       "8521          1  2013      9   26                6                0   \n",
       "8522          0  2013      9   26                1                0   \n",
       "\n",
       "      species_PIPIENS/RESTUANS  species_RESTUANS  \n",
       "0                            1                 0  \n",
       "1                            0                 1  \n",
       "2                            0                 1  \n",
       "3                            1                 0  \n",
       "4                            0                 1  \n",
       "...                        ...               ...  \n",
       "8518                         1                 0  \n",
       "8519                         0                 0  \n",
       "8520                         1                 0  \n",
       "8521                         1                 0  \n",
       "8522                         1                 0  \n",
       "\n",
       "[8523 rows x 24 columns]"
      ]
     },
     "execution_count": 16,
     "metadata": {},
     "output_type": "execute_result"
    }
   ],
   "source": [
    "train_df_cleaned_final"
   ]
  },
  {
   "cell_type": "code",
   "execution_count": 17,
   "metadata": {},
   "outputs": [],
   "source": [
    "test_df_cleaned_final = pd.merge(weather_df, test_df,  how='inner', left_on=['date','station'], right_on = ['date','station'])"
   ]
  },
  {
   "cell_type": "code",
   "execution_count": 18,
   "metadata": {},
   "outputs": [
    {
     "data": {
      "text/html": [
       "<div>\n",
       "<style scoped>\n",
       "    .dataframe tbody tr th:only-of-type {\n",
       "        vertical-align: middle;\n",
       "    }\n",
       "\n",
       "    .dataframe tbody tr th {\n",
       "        vertical-align: top;\n",
       "    }\n",
       "\n",
       "    .dataframe thead th {\n",
       "        text-align: right;\n",
       "    }\n",
       "</style>\n",
       "<table border=\"1\" class=\"dataframe\">\n",
       "  <thead>\n",
       "    <tr style=\"text-align: right;\">\n",
       "      <th></th>\n",
       "      <th>index</th>\n",
       "      <th>station</th>\n",
       "      <th>date</th>\n",
       "      <th>tavg</th>\n",
       "      <th>preciptotal</th>\n",
       "      <th>sealevel</th>\n",
       "      <th>resultspeed</th>\n",
       "      <th>resultdir</th>\n",
       "      <th>avgspeed</th>\n",
       "      <th>rel_hum</th>\n",
       "      <th>...</th>\n",
       "      <th>id</th>\n",
       "      <th>trap</th>\n",
       "      <th>latitude_y</th>\n",
       "      <th>longitude_y</th>\n",
       "      <th>year</th>\n",
       "      <th>month</th>\n",
       "      <th>day</th>\n",
       "      <th>species_PIPIENS</th>\n",
       "      <th>species_PIPIENS/RESTUANS</th>\n",
       "      <th>species_RESTUANS</th>\n",
       "    </tr>\n",
       "  </thead>\n",
       "  <tbody>\n",
       "    <tr>\n",
       "      <th>0</th>\n",
       "      <td>450</td>\n",
       "      <td>1</td>\n",
       "      <td>2008-06-11</td>\n",
       "      <td>74.0</td>\n",
       "      <td>0.00</td>\n",
       "      <td>29.99</td>\n",
       "      <td>8.9</td>\n",
       "      <td>18</td>\n",
       "      <td>10.0</td>\n",
       "      <td>53.941117</td>\n",
       "      <td>...</td>\n",
       "      <td>1</td>\n",
       "      <td>T002</td>\n",
       "      <td>41.95469</td>\n",
       "      <td>-87.800991</td>\n",
       "      <td>2008</td>\n",
       "      <td>6</td>\n",
       "      <td>11</td>\n",
       "      <td>0</td>\n",
       "      <td>1</td>\n",
       "      <td>0</td>\n",
       "    </tr>\n",
       "    <tr>\n",
       "      <th>1</th>\n",
       "      <td>450</td>\n",
       "      <td>1</td>\n",
       "      <td>2008-06-11</td>\n",
       "      <td>74.0</td>\n",
       "      <td>0.00</td>\n",
       "      <td>29.99</td>\n",
       "      <td>8.9</td>\n",
       "      <td>18</td>\n",
       "      <td>10.0</td>\n",
       "      <td>53.941117</td>\n",
       "      <td>...</td>\n",
       "      <td>2</td>\n",
       "      <td>T002</td>\n",
       "      <td>41.95469</td>\n",
       "      <td>-87.800991</td>\n",
       "      <td>2008</td>\n",
       "      <td>6</td>\n",
       "      <td>11</td>\n",
       "      <td>0</td>\n",
       "      <td>0</td>\n",
       "      <td>1</td>\n",
       "    </tr>\n",
       "    <tr>\n",
       "      <th>2</th>\n",
       "      <td>450</td>\n",
       "      <td>1</td>\n",
       "      <td>2008-06-11</td>\n",
       "      <td>74.0</td>\n",
       "      <td>0.00</td>\n",
       "      <td>29.99</td>\n",
       "      <td>8.9</td>\n",
       "      <td>18</td>\n",
       "      <td>10.0</td>\n",
       "      <td>53.941117</td>\n",
       "      <td>...</td>\n",
       "      <td>3</td>\n",
       "      <td>T002</td>\n",
       "      <td>41.95469</td>\n",
       "      <td>-87.800991</td>\n",
       "      <td>2008</td>\n",
       "      <td>6</td>\n",
       "      <td>11</td>\n",
       "      <td>1</td>\n",
       "      <td>0</td>\n",
       "      <td>0</td>\n",
       "    </tr>\n",
       "    <tr>\n",
       "      <th>3</th>\n",
       "      <td>450</td>\n",
       "      <td>1</td>\n",
       "      <td>2008-06-11</td>\n",
       "      <td>74.0</td>\n",
       "      <td>0.00</td>\n",
       "      <td>29.99</td>\n",
       "      <td>8.9</td>\n",
       "      <td>18</td>\n",
       "      <td>10.0</td>\n",
       "      <td>53.941117</td>\n",
       "      <td>...</td>\n",
       "      <td>4</td>\n",
       "      <td>T002</td>\n",
       "      <td>41.95469</td>\n",
       "      <td>-87.800991</td>\n",
       "      <td>2008</td>\n",
       "      <td>6</td>\n",
       "      <td>11</td>\n",
       "      <td>0</td>\n",
       "      <td>0</td>\n",
       "      <td>0</td>\n",
       "    </tr>\n",
       "    <tr>\n",
       "      <th>4</th>\n",
       "      <td>450</td>\n",
       "      <td>1</td>\n",
       "      <td>2008-06-11</td>\n",
       "      <td>74.0</td>\n",
       "      <td>0.00</td>\n",
       "      <td>29.99</td>\n",
       "      <td>8.9</td>\n",
       "      <td>18</td>\n",
       "      <td>10.0</td>\n",
       "      <td>53.941117</td>\n",
       "      <td>...</td>\n",
       "      <td>5</td>\n",
       "      <td>T002</td>\n",
       "      <td>41.95469</td>\n",
       "      <td>-87.800991</td>\n",
       "      <td>2008</td>\n",
       "      <td>6</td>\n",
       "      <td>11</td>\n",
       "      <td>0</td>\n",
       "      <td>0</td>\n",
       "      <td>0</td>\n",
       "    </tr>\n",
       "    <tr>\n",
       "      <th>...</th>\n",
       "      <td>...</td>\n",
       "      <td>...</td>\n",
       "      <td>...</td>\n",
       "      <td>...</td>\n",
       "      <td>...</td>\n",
       "      <td>...</td>\n",
       "      <td>...</td>\n",
       "      <td>...</td>\n",
       "      <td>...</td>\n",
       "      <td>...</td>\n",
       "      <td>...</td>\n",
       "      <td>...</td>\n",
       "      <td>...</td>\n",
       "      <td>...</td>\n",
       "      <td>...</td>\n",
       "      <td>...</td>\n",
       "      <td>...</td>\n",
       "      <td>...</td>\n",
       "      <td>...</td>\n",
       "      <td>...</td>\n",
       "      <td>...</td>\n",
       "    </tr>\n",
       "    <tr>\n",
       "      <th>116288</th>\n",
       "      <td>2885</td>\n",
       "      <td>2</td>\n",
       "      <td>2014-10-02</td>\n",
       "      <td>71.0</td>\n",
       "      <td>0.72</td>\n",
       "      <td>29.78</td>\n",
       "      <td>7.2</td>\n",
       "      <td>17</td>\n",
       "      <td>7.9</td>\n",
       "      <td>76.170089</td>\n",
       "      <td>...</td>\n",
       "      <td>116281</td>\n",
       "      <td>T094</td>\n",
       "      <td>41.71914</td>\n",
       "      <td>-87.669539</td>\n",
       "      <td>2014</td>\n",
       "      <td>10</td>\n",
       "      <td>2</td>\n",
       "      <td>0</td>\n",
       "      <td>0</td>\n",
       "      <td>0</td>\n",
       "    </tr>\n",
       "    <tr>\n",
       "      <th>116289</th>\n",
       "      <td>2885</td>\n",
       "      <td>2</td>\n",
       "      <td>2014-10-02</td>\n",
       "      <td>71.0</td>\n",
       "      <td>0.72</td>\n",
       "      <td>29.78</td>\n",
       "      <td>7.2</td>\n",
       "      <td>17</td>\n",
       "      <td>7.9</td>\n",
       "      <td>76.170089</td>\n",
       "      <td>...</td>\n",
       "      <td>116282</td>\n",
       "      <td>T094</td>\n",
       "      <td>41.71914</td>\n",
       "      <td>-87.669539</td>\n",
       "      <td>2014</td>\n",
       "      <td>10</td>\n",
       "      <td>2</td>\n",
       "      <td>0</td>\n",
       "      <td>0</td>\n",
       "      <td>0</td>\n",
       "    </tr>\n",
       "    <tr>\n",
       "      <th>116290</th>\n",
       "      <td>2885</td>\n",
       "      <td>2</td>\n",
       "      <td>2014-10-02</td>\n",
       "      <td>71.0</td>\n",
       "      <td>0.72</td>\n",
       "      <td>29.78</td>\n",
       "      <td>7.2</td>\n",
       "      <td>17</td>\n",
       "      <td>7.9</td>\n",
       "      <td>76.170089</td>\n",
       "      <td>...</td>\n",
       "      <td>116283</td>\n",
       "      <td>T094</td>\n",
       "      <td>41.71914</td>\n",
       "      <td>-87.669539</td>\n",
       "      <td>2014</td>\n",
       "      <td>10</td>\n",
       "      <td>2</td>\n",
       "      <td>0</td>\n",
       "      <td>0</td>\n",
       "      <td>0</td>\n",
       "    </tr>\n",
       "    <tr>\n",
       "      <th>116291</th>\n",
       "      <td>2885</td>\n",
       "      <td>2</td>\n",
       "      <td>2014-10-02</td>\n",
       "      <td>71.0</td>\n",
       "      <td>0.72</td>\n",
       "      <td>29.78</td>\n",
       "      <td>7.2</td>\n",
       "      <td>17</td>\n",
       "      <td>7.9</td>\n",
       "      <td>76.170089</td>\n",
       "      <td>...</td>\n",
       "      <td>116284</td>\n",
       "      <td>T094</td>\n",
       "      <td>41.71914</td>\n",
       "      <td>-87.669539</td>\n",
       "      <td>2014</td>\n",
       "      <td>10</td>\n",
       "      <td>2</td>\n",
       "      <td>0</td>\n",
       "      <td>0</td>\n",
       "      <td>0</td>\n",
       "    </tr>\n",
       "    <tr>\n",
       "      <th>116292</th>\n",
       "      <td>2885</td>\n",
       "      <td>2</td>\n",
       "      <td>2014-10-02</td>\n",
       "      <td>71.0</td>\n",
       "      <td>0.72</td>\n",
       "      <td>29.78</td>\n",
       "      <td>7.2</td>\n",
       "      <td>17</td>\n",
       "      <td>7.9</td>\n",
       "      <td>76.170089</td>\n",
       "      <td>...</td>\n",
       "      <td>116285</td>\n",
       "      <td>T094</td>\n",
       "      <td>41.71914</td>\n",
       "      <td>-87.669539</td>\n",
       "      <td>2014</td>\n",
       "      <td>10</td>\n",
       "      <td>2</td>\n",
       "      <td>0</td>\n",
       "      <td>0</td>\n",
       "      <td>0</td>\n",
       "    </tr>\n",
       "  </tbody>\n",
       "</table>\n",
       "<p>116293 rows × 22 columns</p>\n",
       "</div>"
      ],
      "text/plain": [
       "        index  station        date  tavg  preciptotal  sealevel  resultspeed  \\\n",
       "0         450        1  2008-06-11  74.0         0.00     29.99          8.9   \n",
       "1         450        1  2008-06-11  74.0         0.00     29.99          8.9   \n",
       "2         450        1  2008-06-11  74.0         0.00     29.99          8.9   \n",
       "3         450        1  2008-06-11  74.0         0.00     29.99          8.9   \n",
       "4         450        1  2008-06-11  74.0         0.00     29.99          8.9   \n",
       "...       ...      ...         ...   ...          ...       ...          ...   \n",
       "116288   2885        2  2014-10-02  71.0         0.72     29.78          7.2   \n",
       "116289   2885        2  2014-10-02  71.0         0.72     29.78          7.2   \n",
       "116290   2885        2  2014-10-02  71.0         0.72     29.78          7.2   \n",
       "116291   2885        2  2014-10-02  71.0         0.72     29.78          7.2   \n",
       "116292   2885        2  2014-10-02  71.0         0.72     29.78          7.2   \n",
       "\n",
       "        resultdir  avgspeed    rel_hum  ...      id  trap  latitude_y  \\\n",
       "0              18      10.0  53.941117  ...       1  T002    41.95469   \n",
       "1              18      10.0  53.941117  ...       2  T002    41.95469   \n",
       "2              18      10.0  53.941117  ...       3  T002    41.95469   \n",
       "3              18      10.0  53.941117  ...       4  T002    41.95469   \n",
       "4              18      10.0  53.941117  ...       5  T002    41.95469   \n",
       "...           ...       ...        ...  ...     ...   ...         ...   \n",
       "116288         17       7.9  76.170089  ...  116281  T094    41.71914   \n",
       "116289         17       7.9  76.170089  ...  116282  T094    41.71914   \n",
       "116290         17       7.9  76.170089  ...  116283  T094    41.71914   \n",
       "116291         17       7.9  76.170089  ...  116284  T094    41.71914   \n",
       "116292         17       7.9  76.170089  ...  116285  T094    41.71914   \n",
       "\n",
       "       longitude_y  year  month  day  species_PIPIENS  \\\n",
       "0       -87.800991  2008      6   11                0   \n",
       "1       -87.800991  2008      6   11                0   \n",
       "2       -87.800991  2008      6   11                1   \n",
       "3       -87.800991  2008      6   11                0   \n",
       "4       -87.800991  2008      6   11                0   \n",
       "...            ...   ...    ...  ...              ...   \n",
       "116288  -87.669539  2014     10    2                0   \n",
       "116289  -87.669539  2014     10    2                0   \n",
       "116290  -87.669539  2014     10    2                0   \n",
       "116291  -87.669539  2014     10    2                0   \n",
       "116292  -87.669539  2014     10    2                0   \n",
       "\n",
       "        species_PIPIENS/RESTUANS  species_RESTUANS  \n",
       "0                              1                 0  \n",
       "1                              0                 1  \n",
       "2                              0                 0  \n",
       "3                              0                 0  \n",
       "4                              0                 0  \n",
       "...                          ...               ...  \n",
       "116288                         0                 0  \n",
       "116289                         0                 0  \n",
       "116290                         0                 0  \n",
       "116291                         0                 0  \n",
       "116292                         0                 0  \n",
       "\n",
       "[116293 rows x 22 columns]"
      ]
     },
     "execution_count": 18,
     "metadata": {},
     "output_type": "execute_result"
    }
   ],
   "source": [
    "test_df_cleaned_final"
   ]
  },
  {
   "cell_type": "code",
   "execution_count": 19,
   "metadata": {
    "scrolled": true
   },
   "outputs": [
    {
     "name": "stdout",
     "output_type": "stream",
     "text": [
      "0 0\n"
     ]
    }
   ],
   "source": [
    "# Checking for nulls\n",
    "\n",
    "print(train_df_cleaned_final.isnull().sum().sum(), \n",
    "      test_df_cleaned_final.isnull().sum().sum())"
   ]
  },
  {
   "cell_type": "code",
   "execution_count": 20,
   "metadata": {
    "scrolled": true
   },
   "outputs": [
    {
     "name": "stdout",
     "output_type": "stream",
     "text": [
      "(8523, 24) (116293, 22)\n"
     ]
    }
   ],
   "source": [
    "# Checking shape\n",
    "\n",
    "print(train_df_cleaned_final.shape, test_df_cleaned_final.shape)"
   ]
  },
  {
   "cell_type": "markdown",
   "metadata": {},
   "source": [
    "## 3.03 Dropping `longitude` and `latitude`  <a id=\"3.03\"></a>\n",
    "\n",
    "##### <font color = blue> Shaun: </font>\n",
    "\n",
    "Now that `latitude` and `longitude` have served their purpose, I'm going to remove them since they don't help anymore. "
   ]
  },
  {
   "cell_type": "markdown",
   "metadata": {},
   "source": [
    "##### Removing `latitude` and `longitude` for train_df_cleaned_final"
   ]
  },
  {
   "cell_type": "code",
   "execution_count": 21,
   "metadata": {},
   "outputs": [
    {
     "data": {
      "text/plain": [
       "Index(['index', 'station', 'date', 'tavg', 'preciptotal', 'sealevel',\n",
       "       'resultspeed', 'resultdir', 'avgspeed', 'rel_hum', 'latitude_x',\n",
       "       'longitude_x', 'trap', 'latitude_y', 'longitude_y', 'nummosquitos',\n",
       "       'wnvpresent', 'year', 'month', 'day', 'tot_mos_species',\n",
       "       'species_PIPIENS', 'species_PIPIENS/RESTUANS', 'species_RESTUANS'],\n",
       "      dtype='object')"
      ]
     },
     "execution_count": 21,
     "metadata": {},
     "output_type": "execute_result"
    }
   ],
   "source": [
    "train_df_cleaned_final.columns"
   ]
  },
  {
   "cell_type": "code",
   "execution_count": 22,
   "metadata": {},
   "outputs": [],
   "source": [
    "train_df_cleaned_final.drop(\"latitude_x\", axis=1, inplace=True)\n",
    "train_df_cleaned_final.drop(\"longitude_x\", axis=1, inplace=True)\n",
    "\n",
    "train_df_cleaned_final[\"latitude\"] = train_df_cleaned_final[\"latitude_y\"]\n",
    "train_df_cleaned_final[\"longitude\"] = train_df_cleaned_final[\"longitude_y\"]\n",
    "\n",
    "train_df_cleaned_final.drop(\"latitude_y\", axis=1, inplace=True)\n",
    "train_df_cleaned_final.drop(\"longitude_y\", axis=1, inplace=True)"
   ]
  },
  {
   "cell_type": "markdown",
   "metadata": {},
   "source": [
    "##### Removing `latitude` and `longitude` for test_df_cleaned_final"
   ]
  },
  {
   "cell_type": "code",
   "execution_count": 23,
   "metadata": {},
   "outputs": [],
   "source": [
    "test_df_cleaned_final.drop(\"latitude_x\", axis=1, inplace=True)\n",
    "test_df_cleaned_final.drop(\"longitude_x\", axis=1, inplace=True)\n",
    "\n",
    "test_df_cleaned_final[\"latitude\"] = test_df_cleaned_final[\"latitude_y\"]\n",
    "test_df_cleaned_final[\"longitude\"] = test_df_cleaned_final[\"longitude_y\"]\n",
    "\n",
    "test_df_cleaned_final.drop(\"latitude_y\", axis=1, inplace=True)\n",
    "test_df_cleaned_final.drop(\"longitude_y\", axis=1, inplace=True)"
   ]
  },
  {
   "cell_type": "code",
   "execution_count": 24,
   "metadata": {},
   "outputs": [
    {
     "data": {
      "text/plain": [
       "Index(['index', 'station', 'date', 'tavg', 'preciptotal', 'sealevel',\n",
       "       'resultspeed', 'resultdir', 'avgspeed', 'rel_hum', 'trap',\n",
       "       'nummosquitos', 'wnvpresent', 'year', 'month', 'day', 'tot_mos_species',\n",
       "       'species_PIPIENS', 'species_PIPIENS/RESTUANS', 'species_RESTUANS',\n",
       "       'latitude', 'longitude'],\n",
       "      dtype='object')"
      ]
     },
     "metadata": {},
     "output_type": "display_data"
    },
    {
     "data": {
      "text/plain": [
       "Index(['index', 'station', 'date', 'tavg', 'preciptotal', 'sealevel',\n",
       "       'resultspeed', 'resultdir', 'avgspeed', 'rel_hum', 'id', 'trap', 'year',\n",
       "       'month', 'day', 'species_PIPIENS', 'species_PIPIENS/RESTUANS',\n",
       "       'species_RESTUANS', 'latitude', 'longitude'],\n",
       "      dtype='object')"
      ]
     },
     "metadata": {},
     "output_type": "display_data"
    }
   ],
   "source": [
    "display(train_df_cleaned_final.columns, test_df_cleaned_final.columns)"
   ]
  },
  {
   "cell_type": "code",
   "execution_count": 25,
   "metadata": {},
   "outputs": [
    {
     "name": "stdout",
     "output_type": "stream",
     "text": [
      "(8523, 22) (116293, 20)\n"
     ]
    }
   ],
   "source": [
    "print(train_df_cleaned_final.shape, test_df_cleaned_final.shape)"
   ]
  },
  {
   "cell_type": "markdown",
   "metadata": {},
   "source": [
    "## 3.04 Dropping `index`  <a id=\"3.04\"></a>"
   ]
  },
  {
   "cell_type": "code",
   "execution_count": 26,
   "metadata": {},
   "outputs": [],
   "source": [
    "train_df_cleaned_final.drop(\"index\", axis=1, inplace=True)"
   ]
  },
  {
   "cell_type": "code",
   "execution_count": 27,
   "metadata": {},
   "outputs": [],
   "source": [
    "test_df_cleaned_final.drop(\"index\", axis=1, inplace=True)"
   ]
  },
  {
   "cell_type": "code",
   "execution_count": 28,
   "metadata": {},
   "outputs": [
    {
     "data": {
      "text/plain": [
       "Index(['station', 'date', 'tavg', 'preciptotal', 'sealevel', 'resultspeed',\n",
       "       'resultdir', 'avgspeed', 'rel_hum', 'trap', 'nummosquitos',\n",
       "       'wnvpresent', 'year', 'month', 'day', 'tot_mos_species',\n",
       "       'species_PIPIENS', 'species_PIPIENS/RESTUANS', 'species_RESTUANS',\n",
       "       'latitude', 'longitude'],\n",
       "      dtype='object')"
      ]
     },
     "metadata": {},
     "output_type": "display_data"
    },
    {
     "data": {
      "text/plain": [
       "Index(['station', 'date', 'tavg', 'preciptotal', 'sealevel', 'resultspeed',\n",
       "       'resultdir', 'avgspeed', 'rel_hum', 'id', 'trap', 'year', 'month',\n",
       "       'day', 'species_PIPIENS', 'species_PIPIENS/RESTUANS',\n",
       "       'species_RESTUANS', 'latitude', 'longitude'],\n",
       "      dtype='object')"
      ]
     },
     "metadata": {},
     "output_type": "display_data"
    }
   ],
   "source": [
    "display(train_df_cleaned_final.columns, test_df_cleaned_final.columns)"
   ]
  },
  {
   "cell_type": "code",
   "execution_count": 29,
   "metadata": {},
   "outputs": [
    {
     "name": "stdout",
     "output_type": "stream",
     "text": [
      "(8523, 21) (116293, 19)\n"
     ]
    }
   ],
   "source": [
    "print(train_df_cleaned_final.shape, test_df_cleaned_final.shape)"
   ]
  },
  {
   "cell_type": "markdown",
   "metadata": {},
   "source": [
    "## 3.05 Getting Dummies for `year`  <a id=\"3.05\"></a>"
   ]
  },
  {
   "cell_type": "code",
   "execution_count": 30,
   "metadata": {},
   "outputs": [
    {
     "data": {
      "text/plain": [
       "array([2007, 2009, 2011, 2013], dtype=int64)"
      ]
     },
     "metadata": {},
     "output_type": "display_data"
    },
    {
     "data": {
      "text/plain": [
       "array([2008, 2010, 2012, 2014], dtype=int64)"
      ]
     },
     "metadata": {},
     "output_type": "display_data"
    }
   ],
   "source": [
    "display(train_df_cleaned_final.year.unique(), test_df_cleaned_final.year.unique())"
   ]
  },
  {
   "cell_type": "code",
   "execution_count": 31,
   "metadata": {},
   "outputs": [],
   "source": [
    "train_df_cleaned_final = pd.get_dummies(data=train_df_cleaned_final, prefix=[\"year\"], columns=[\"year\"], drop_first=True)\n",
    "test_df_cleaned_final = pd.get_dummies(data=test_df_cleaned_final, prefix=[\"year\"], columns=[\"year\"], drop_first=True)"
   ]
  },
  {
   "cell_type": "code",
   "execution_count": 32,
   "metadata": {},
   "outputs": [
    {
     "data": {
      "text/plain": [
       "Index(['station', 'date', 'tavg', 'preciptotal', 'sealevel', 'resultspeed',\n",
       "       'resultdir', 'avgspeed', 'rel_hum', 'trap', 'nummosquitos',\n",
       "       'wnvpresent', 'month', 'day', 'tot_mos_species', 'species_PIPIENS',\n",
       "       'species_PIPIENS/RESTUANS', 'species_RESTUANS', 'latitude', 'longitude',\n",
       "       'year_2009', 'year_2011', 'year_2013'],\n",
       "      dtype='object')"
      ]
     },
     "metadata": {},
     "output_type": "display_data"
    },
    {
     "data": {
      "text/plain": [
       "Index(['station', 'date', 'tavg', 'preciptotal', 'sealevel', 'resultspeed',\n",
       "       'resultdir', 'avgspeed', 'rel_hum', 'id', 'trap', 'month', 'day',\n",
       "       'species_PIPIENS', 'species_PIPIENS/RESTUANS', 'species_RESTUANS',\n",
       "       'latitude', 'longitude', 'year_2010', 'year_2012', 'year_2014'],\n",
       "      dtype='object')"
      ]
     },
     "metadata": {},
     "output_type": "display_data"
    }
   ],
   "source": [
    "display(train_df_cleaned_final.columns, test_df_cleaned_final.columns) "
   ]
  },
  {
   "cell_type": "markdown",
   "metadata": {},
   "source": [
    "##### Adding test_df years to train_df, vice versa"
   ]
  },
  {
   "cell_type": "code",
   "execution_count": 33,
   "metadata": {},
   "outputs": [],
   "source": [
    "train_df_cleaned_final[\"year_2010\"]=[0 for i in train_df_cleaned_final[\"station\"]]\n",
    "train_df_cleaned_final[\"year_2012\"]=[0 for i in train_df_cleaned_final[\"station\"]]\n",
    "train_df_cleaned_final[\"year_2014\"]=[0 for i in train_df_cleaned_final[\"station\"]]\n",
    "\n",
    "test_df_cleaned_final[\"year_2009\"]=[0 for i in test_df_cleaned_final[\"station\"]]\n",
    "test_df_cleaned_final[\"year_2011\"]=[0 for i in test_df_cleaned_final[\"station\"]]\n",
    "test_df_cleaned_final[\"year_2013\"]=[0 for i in test_df_cleaned_final[\"station\"]]"
   ]
  },
  {
   "cell_type": "code",
   "execution_count": 34,
   "metadata": {},
   "outputs": [
    {
     "name": "stdout",
     "output_type": "stream",
     "text": [
      "(8523, 26) (116293, 24)\n"
     ]
    }
   ],
   "source": [
    "print(train_df_cleaned_final.shape, test_df_cleaned_final.shape)"
   ]
  },
  {
   "cell_type": "code",
   "execution_count": 35,
   "metadata": {},
   "outputs": [
    {
     "name": "stdout",
     "output_type": "stream",
     "text": [
      "(8523, 26) (116293, 24)\n"
     ]
    }
   ],
   "source": [
    "print(train_df_cleaned_final.shape, test_df_cleaned_final.shape)"
   ]
  },
  {
   "cell_type": "markdown",
   "metadata": {},
   "source": [
    "## 3.06 Getting Dummies for `month`  <a id=\"3.06\"></a>"
   ]
  },
  {
   "cell_type": "code",
   "execution_count": 36,
   "metadata": {},
   "outputs": [
    {
     "data": {
      "text/plain": [
       "array([ 5,  6,  7,  8,  9, 10], dtype=int64)"
      ]
     },
     "metadata": {},
     "output_type": "display_data"
    },
    {
     "data": {
      "text/plain": [
       "array([ 6,  7,  8,  9, 10], dtype=int64)"
      ]
     },
     "metadata": {},
     "output_type": "display_data"
    }
   ],
   "source": [
    "display(train_df_cleaned_final.month.unique(), test_df_cleaned_final.month.unique())"
   ]
  },
  {
   "cell_type": "code",
   "execution_count": 37,
   "metadata": {},
   "outputs": [
    {
     "data": {
      "text/plain": [
       "Index(['station', 'date', 'tavg', 'preciptotal', 'sealevel', 'resultspeed',\n",
       "       'resultdir', 'avgspeed', 'rel_hum', 'trap', 'nummosquitos',\n",
       "       'wnvpresent', 'month', 'day', 'tot_mos_species', 'species_PIPIENS',\n",
       "       'species_PIPIENS/RESTUANS', 'species_RESTUANS', 'latitude', 'longitude',\n",
       "       'year_2009', 'year_2011', 'year_2013', 'year_2010', 'year_2012',\n",
       "       'year_2014'],\n",
       "      dtype='object')"
      ]
     },
     "metadata": {},
     "output_type": "display_data"
    },
    {
     "data": {
      "text/plain": [
       "Index(['station', 'date', 'tavg', 'preciptotal', 'sealevel', 'resultspeed',\n",
       "       'resultdir', 'avgspeed', 'rel_hum', 'id', 'trap', 'month', 'day',\n",
       "       'species_PIPIENS', 'species_PIPIENS/RESTUANS', 'species_RESTUANS',\n",
       "       'latitude', 'longitude', 'year_2010', 'year_2012', 'year_2014',\n",
       "       'year_2009', 'year_2011', 'year_2013'],\n",
       "      dtype='object')"
      ]
     },
     "metadata": {},
     "output_type": "display_data"
    }
   ],
   "source": [
    "display(train_df_cleaned_final.columns, test_df_cleaned_final.columns) "
   ]
  },
  {
   "cell_type": "code",
   "execution_count": 38,
   "metadata": {},
   "outputs": [],
   "source": [
    "train_df_cleaned_final = pd.get_dummies(data=train_df_cleaned_final, prefix=[\"month\"], columns=[\"month\"], drop_first=True)\n",
    "test_df_cleaned_final = pd.get_dummies(data=test_df_cleaned_final, prefix=[\"month\"], columns=[\"month\"], drop_first=True)"
   ]
  },
  {
   "cell_type": "code",
   "execution_count": 39,
   "metadata": {},
   "outputs": [
    {
     "data": {
      "text/plain": [
       "Index(['station', 'date', 'tavg', 'preciptotal', 'sealevel', 'resultspeed',\n",
       "       'resultdir', 'avgspeed', 'rel_hum', 'trap', 'nummosquitos',\n",
       "       'wnvpresent', 'day', 'tot_mos_species', 'species_PIPIENS',\n",
       "       'species_PIPIENS/RESTUANS', 'species_RESTUANS', 'latitude', 'longitude',\n",
       "       'year_2009', 'year_2011', 'year_2013', 'year_2010', 'year_2012',\n",
       "       'year_2014', 'month_6', 'month_7', 'month_8', 'month_9', 'month_10'],\n",
       "      dtype='object')"
      ]
     },
     "metadata": {},
     "output_type": "display_data"
    },
    {
     "data": {
      "text/plain": [
       "Index(['station', 'date', 'tavg', 'preciptotal', 'sealevel', 'resultspeed',\n",
       "       'resultdir', 'avgspeed', 'rel_hum', 'id', 'trap', 'day',\n",
       "       'species_PIPIENS', 'species_PIPIENS/RESTUANS', 'species_RESTUANS',\n",
       "       'latitude', 'longitude', 'year_2010', 'year_2012', 'year_2014',\n",
       "       'year_2009', 'year_2011', 'year_2013', 'month_7', 'month_8', 'month_9',\n",
       "       'month_10'],\n",
       "      dtype='object')"
      ]
     },
     "metadata": {},
     "output_type": "display_data"
    }
   ],
   "source": [
    "display(train_df_cleaned_final.columns, test_df_cleaned_final.columns) "
   ]
  },
  {
   "cell_type": "markdown",
   "metadata": {},
   "source": [
    "##### Dropping `month_6` since test set does not have it"
   ]
  },
  {
   "cell_type": "code",
   "execution_count": 40,
   "metadata": {},
   "outputs": [
    {
     "data": {
      "text/plain": [
       "(8523, 30)"
      ]
     },
     "execution_count": 40,
     "metadata": {},
     "output_type": "execute_result"
    }
   ],
   "source": [
    "train_df_cleaned_final.shape"
   ]
  },
  {
   "cell_type": "code",
   "execution_count": 41,
   "metadata": {},
   "outputs": [],
   "source": [
    "train_df_cleaned_final.drop(\"month_6\", axis=1, inplace=True)"
   ]
  },
  {
   "cell_type": "code",
   "execution_count": 42,
   "metadata": {},
   "outputs": [
    {
     "data": {
      "text/plain": [
       "(8523, 29)"
      ]
     },
     "execution_count": 42,
     "metadata": {},
     "output_type": "execute_result"
    }
   ],
   "source": [
    "train_df_cleaned_final.shape"
   ]
  },
  {
   "cell_type": "code",
   "execution_count": 43,
   "metadata": {},
   "outputs": [
    {
     "name": "stdout",
     "output_type": "stream",
     "text": [
      "(8523, 29) (116293, 27)\n"
     ]
    }
   ],
   "source": [
    "print(train_df_cleaned_final.shape, test_df_cleaned_final.shape)"
   ]
  },
  {
   "cell_type": "code",
   "execution_count": 44,
   "metadata": {},
   "outputs": [
    {
     "name": "stdout",
     "output_type": "stream",
     "text": [
      "0 0\n"
     ]
    }
   ],
   "source": [
    "print(train_df_cleaned_final.isnull().sum().sum(), test_df_cleaned_final.isnull().sum().sum())"
   ]
  },
  {
   "cell_type": "markdown",
   "metadata": {},
   "source": [
    "# 4. Exporting Cleaned Datasets <a id=\"4\"></a> "
   ]
  },
  {
   "cell_type": "code",
   "execution_count": 45,
   "metadata": {},
   "outputs": [],
   "source": [
    "train_df_cleaned_final.to_csv(\"./datasets/train_cleaned_final.csv\")"
   ]
  },
  {
   "cell_type": "code",
   "execution_count": 46,
   "metadata": {},
   "outputs": [],
   "source": [
    "test_df_cleaned_final.to_csv(\"./datasets/test_cleaned_final.csv\")"
   ]
  },
  {
   "cell_type": "code",
   "execution_count": 47,
   "metadata": {},
   "outputs": [
    {
     "name": "stdout",
     "output_type": "stream",
     "text": [
      "Run complete, total time taken ≈ 2.60s\n"
     ]
    }
   ],
   "source": [
    "print(f\"Run complete, total time taken \\u2248 {time.time()-t0:.2f}s\")"
   ]
  }
 ],
 "metadata": {
  "kernelspec": {
   "display_name": "Python 3",
   "language": "python",
   "name": "python3"
  },
  "language_info": {
   "codemirror_mode": {
    "name": "ipython",
    "version": 3
   },
   "file_extension": ".py",
   "mimetype": "text/x-python",
   "name": "python",
   "nbconvert_exporter": "python",
   "pygments_lexer": "ipython3",
   "version": "3.7.6"
  }
 },
 "nbformat": 4,
 "nbformat_minor": 2
}
